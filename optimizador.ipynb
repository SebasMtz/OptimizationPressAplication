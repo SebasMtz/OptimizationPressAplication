{
 "cells": [
  {
   "cell_type": "code",
   "execution_count": 13,
   "metadata": {},
   "outputs": [
    {
     "name": "stdout",
     "output_type": "stream",
     "text": [
      "\n",
      "Solution Log:\n",
      "Percent total items stored : 100.0000%\n",
      "Container: container-0 120x60\n",
      "\t[util%] : 7.2917%\n",
      "\n",
      "Remaining items : []\n",
      "\n",
      "Solution Log:\n",
      "Percent total items stored : 100.0000%\n",
      "Container: container-0 120x60\n",
      "\t[util%] : 14.5833%\n",
      "\n",
      "Remaining items : []\n",
      "\n",
      "Solution Log:\n",
      "Percent total items stored : 100.0000%\n",
      "Container: container-0 120x60\n",
      "\t[util%] : 21.8750%\n",
      "\n",
      "Remaining items : []\n",
      "\n",
      "Solution Log:\n",
      "Percent total items stored : 100.0000%\n",
      "Container: container-0 120x60\n",
      "\t[util%] : 29.1667%\n",
      "\n",
      "Remaining items : []\n",
      "\n",
      "Solution Log:\n",
      "Percent total items stored : 100.0000%\n",
      "Container: container-0 120x60\n",
      "\t[util%] : 36.4583%\n",
      "\n",
      "Remaining items : []\n",
      "\n",
      "Solution Log:\n",
      "Percent total items stored : 100.0000%\n",
      "Container: container-0 120x60\n",
      "\t[util%] : 43.7500%\n",
      "\n",
      "Remaining items : []\n",
      "\n",
      "Solution Log:\n",
      "Percent total items stored : 100.0000%\n",
      "Container: container-0 120x60\n",
      "\t[util%] : 51.0417%\n",
      "\n",
      "Remaining items : []\n",
      "\n",
      "Solution Log:\n",
      "Percent total items stored : 100.0000%\n",
      "Container: container-0 120x60\n",
      "\t[util%] : 58.3333%\n",
      "\n",
      "Remaining items : []\n",
      "\n",
      "Solution Log:\n",
      "Percent total items stored : 100.0000%\n",
      "Container: container-0 120x60\n",
      "\t[util%] : 65.6250%\n",
      "\n",
      "Remaining items : []\n",
      "\n",
      "Solution Log:\n",
      "Percent total items stored : 100.0000%\n",
      "Container: container-0 120x60\n",
      "\t[util%] : 72.9167%\n",
      "\n",
      "Remaining items : []\n",
      "\n",
      "Solution Log:\n",
      "Percent total items stored : 100.0000%\n",
      "Container: container-0 120x60\n",
      "\t[util%] : 80.2083%\n",
      "\n",
      "Remaining items : []\n",
      "\n",
      "Solution Log:\n",
      "Percent total items stored : 100.0000%\n",
      "Container: container-0 120x60\n",
      "\t[util%] : 87.5000%\n",
      "\n",
      "Remaining items : []\n",
      "\n",
      "Solution Log:\n",
      "Percent total items stored : 100.0000%\n",
      "Container: container-0 120x60\n",
      "\t[util%] : 94.7917%\n",
      "\n",
      "Remaining items : []\n",
      "\n",
      "Solution Log:\n",
      "Percent total items stored : 92.8571%\n",
      "Container: container-0 120x60\n",
      "\t[util%] : 97.9167%\n",
      "\n",
      "Remaining items : ['item-11', 'item-1']\n"
     ]
    },
    {
     "data": {
      "application/vnd.plotly.v1+json": {
       "config": {
        "plotlyServerURL": "https://plot.ly",
        "responsive": false
       },
       "data": [
        {
         "hoverinfo": "x+y",
         "showlegend": false,
         "type": "scatter",
         "x": [
          0,
          25,
          25,
          0
         ],
         "y": [
          0,
          0,
          15,
          15
         ]
        },
        {
         "hoverinfo": "x+y",
         "showlegend": false,
         "type": "scatter",
         "x": [
          0,
          25,
          25,
          0
         ],
         "y": [
          15,
          15,
          30,
          30
         ]
        },
        {
         "hoverinfo": "x+y",
         "showlegend": false,
         "type": "scatter",
         "x": [
          0,
          25,
          25,
          0
         ],
         "y": [
          30,
          30,
          45,
          45
         ]
        },
        {
         "hoverinfo": "x+y",
         "showlegend": false,
         "type": "scatter",
         "x": [
          0,
          25,
          25,
          0
         ],
         "y": [
          45,
          45,
          60,
          60
         ]
        },
        {
         "hoverinfo": "x+y",
         "showlegend": false,
         "type": "scatter",
         "x": [
          25,
          50,
          50,
          25
         ],
         "y": [
          0,
          0,
          15,
          15
         ]
        },
        {
         "hoverinfo": "x+y",
         "showlegend": false,
         "type": "scatter",
         "x": [
          25,
          50,
          50,
          25
         ],
         "y": [
          15,
          15,
          30,
          30
         ]
        },
        {
         "hoverinfo": "x+y",
         "showlegend": false,
         "type": "scatter",
         "x": [
          25,
          50,
          50,
          25
         ],
         "y": [
          30,
          30,
          45,
          45
         ]
        },
        {
         "hoverinfo": "x+y",
         "showlegend": false,
         "type": "scatter",
         "x": [
          25,
          50,
          50,
          25
         ],
         "y": [
          45,
          45,
          60,
          60
         ]
        },
        {
         "hoverinfo": "x+y",
         "showlegend": false,
         "type": "scatter",
         "x": [
          50,
          75,
          75,
          50
         ],
         "y": [
          0,
          0,
          15,
          15
         ]
        },
        {
         "hoverinfo": "x+y",
         "showlegend": false,
         "type": "scatter",
         "x": [
          50,
          75,
          75,
          50
         ],
         "y": [
          15,
          15,
          30,
          30
         ]
        },
        {
         "hoverinfo": "x+y",
         "showlegend": false,
         "type": "scatter",
         "x": [
          50,
          75,
          75,
          50
         ],
         "y": [
          30,
          30,
          45,
          45
         ]
        },
        {
         "hoverinfo": "x+y",
         "showlegend": false,
         "type": "scatter",
         "x": [
          50,
          75,
          75,
          50
         ],
         "y": [
          45,
          45,
          60,
          60
         ]
        },
        {
         "hoverinfo": "x+y",
         "showlegend": false,
         "type": "scatter",
         "x": [
          75,
          100,
          100,
          75
         ],
         "y": [
          0,
          0,
          15,
          15
         ]
        },
        {
         "hoverinfo": "x+y",
         "showlegend": false,
         "type": "scatter",
         "x": [
          75,
          90,
          90,
          75
         ],
         "y": [
          15,
          15,
          25,
          25
         ]
        },
        {
         "hoverinfo": "x+y",
         "showlegend": false,
         "type": "scatter",
         "x": [
          75,
          90,
          90,
          75
         ],
         "y": [
          25,
          25,
          35,
          35
         ]
        },
        {
         "hoverinfo": "x+y",
         "showlegend": false,
         "type": "scatter",
         "x": [
          75,
          90,
          90,
          75
         ],
         "y": [
          35,
          35,
          45,
          45
         ]
        },
        {
         "hoverinfo": "x+y",
         "showlegend": false,
         "type": "scatter",
         "x": [
          75,
          90,
          90,
          75
         ],
         "y": [
          45,
          45,
          55,
          55
         ]
        },
        {
         "hoverinfo": "x+y",
         "showlegend": false,
         "type": "scatter",
         "x": [
          100,
          115,
          115,
          100
         ],
         "y": [
          0,
          0,
          10,
          10
         ]
        },
        {
         "hoverinfo": "x+y",
         "showlegend": false,
         "type": "scatter",
         "x": [
          100,
          115,
          115,
          100
         ],
         "y": [
          10,
          10,
          20,
          20
         ]
        },
        {
         "hoverinfo": "x+y",
         "showlegend": false,
         "type": "scatter",
         "x": [
          90,
          100,
          100,
          90
         ],
         "y": [
          15,
          15,
          30,
          30
         ]
        },
        {
         "hoverinfo": "x+y",
         "showlegend": false,
         "type": "scatter",
         "x": [
          90,
          105,
          105,
          90
         ],
         "y": [
          30,
          30,
          40,
          40
         ]
        },
        {
         "hoverinfo": "x+y",
         "showlegend": false,
         "type": "scatter",
         "x": [
          90,
          105,
          105,
          90
         ],
         "y": [
          40,
          40,
          50,
          50
         ]
        },
        {
         "hoverinfo": "x+y",
         "showlegend": false,
         "type": "scatter",
         "x": [
          90,
          105,
          105,
          90
         ],
         "y": [
          50,
          50,
          60,
          60
         ]
        },
        {
         "hoverinfo": "x+y",
         "showlegend": false,
         "type": "scatter",
         "x": [
          100,
          115,
          115,
          100
         ],
         "y": [
          20,
          20,
          30,
          30
         ]
        },
        {
         "hoverinfo": "x+y",
         "showlegend": false,
         "type": "scatter",
         "x": [
          105,
          120,
          120,
          105
         ],
         "y": [
          30,
          30,
          40,
          40
         ]
        },
        {
         "hoverinfo": "x+y",
         "showlegend": false,
         "type": "scatter",
         "x": [
          105,
          120,
          120,
          105
         ],
         "y": [
          40,
          40,
          50,
          50
         ]
        }
       ],
       "layout": {
        "annotations": [
         {
          "font": {
           "color": "white",
           "size": 25
          },
          "showarrow": false,
          "text": "Powered by Hyperpack",
          "x": 0.5,
          "xref": "x domain",
          "y": 1,
          "yref": "y domain"
         }
        ],
        "shapes": [
         {
          "fillcolor": "#6c5ebd",
          "label": {
           "font": {
            "color": "white",
            "size": 12
           },
           "text": "item-8"
          },
          "line": {
           "color": "black"
          },
          "type": "rect",
          "x0": 0,
          "x1": 25,
          "y0": 0,
          "y1": 15
         },
         {
          "fillcolor": "#cd5836",
          "label": {
           "font": {
            "color": "white",
            "size": 12
           },
           "text": "item-6"
          },
          "line": {
           "color": "black"
          },
          "type": "rect",
          "x0": 0,
          "x1": 25,
          "y0": 15,
          "y1": 30
         },
         {
          "fillcolor": "#912b56",
          "label": {
           "font": {
            "color": "white",
            "size": 12
           },
           "text": "item-4"
          },
          "line": {
           "color": "black"
          },
          "type": "rect",
          "x0": 0,
          "x1": 25,
          "y0": 30,
          "y1": 45
         },
         {
          "fillcolor": "#18033c",
          "label": {
           "font": {
            "color": "white",
            "size": 12
           },
           "text": "item-24"
          },
          "line": {
           "color": "black"
          },
          "type": "rect",
          "x0": 0,
          "x1": 25,
          "y0": 45,
          "y1": 60
         },
         {
          "fillcolor": "#f5d647",
          "label": {
           "font": {
            "color": "white",
            "size": 12
           },
           "text": "item-22"
          },
          "line": {
           "color": "black"
          },
          "type": "rect",
          "x0": 25,
          "x1": 50,
          "y0": 0,
          "y1": 15
         },
         {
          "fillcolor": "#df6555",
          "label": {
           "font": {
            "color": "white",
            "size": 12
           },
           "text": "item-20"
          },
          "line": {
           "color": "black"
          },
          "type": "rect",
          "x0": 25,
          "x1": 50,
          "y0": 15,
          "y1": 30
         },
         {
          "fillcolor": "#d3b21a",
          "label": {
           "font": {
            "color": "white",
            "size": 12
           },
           "text": "item-2"
          },
          "line": {
           "color": "black"
          },
          "type": "rect",
          "x0": 25,
          "x1": 50,
          "y0": 30,
          "y1": 45
         },
         {
          "fillcolor": "#73432d",
          "label": {
           "font": {
            "color": "white",
            "size": 12
           },
           "text": "item-18"
          },
          "line": {
           "color": "black"
          },
          "type": "rect",
          "x0": 25,
          "x1": 50,
          "y0": 45,
          "y1": 60
         },
         {
          "fillcolor": "#cf0106",
          "label": {
           "font": {
            "color": "white",
            "size": 12
           },
           "text": "item-16"
          },
          "line": {
           "color": "black"
          },
          "type": "rect",
          "x0": 50,
          "x1": 75,
          "y0": 0,
          "y1": 15
         },
         {
          "fillcolor": "#f2a2a7",
          "label": {
           "font": {
            "color": "white",
            "size": 12
           },
           "text": "item-14"
          },
          "line": {
           "color": "black"
          },
          "type": "rect",
          "x0": 50,
          "x1": 75,
          "y0": 15,
          "y1": 30
         },
         {
          "fillcolor": "#46aaba",
          "label": {
           "font": {
            "color": "white",
            "size": 12
           },
           "text": "item-12"
          },
          "line": {
           "color": "black"
          },
          "type": "rect",
          "x0": 50,
          "x1": 75,
          "y0": 30,
          "y1": 45
         },
         {
          "fillcolor": "#96d502",
          "label": {
           "font": {
            "color": "white",
            "size": 12
           },
           "text": "item-10"
          },
          "line": {
           "color": "black"
          },
          "type": "rect",
          "x0": 50,
          "x1": 75,
          "y0": 45,
          "y1": 60
         },
         {
          "fillcolor": "#633332",
          "label": {
           "font": {
            "color": "white",
            "size": 12
           },
           "text": "item-0"
          },
          "line": {
           "color": "black"
          },
          "type": "rect",
          "x0": 75,
          "x1": 100,
          "y0": 0,
          "y1": 15
         },
         {
          "fillcolor": "#a0f268",
          "label": {
           "font": {
            "color": "white",
            "size": 12
           },
           "text": "item-9"
          },
          "line": {
           "color": "black"
          },
          "type": "rect",
          "x0": 75,
          "x1": 90,
          "y0": 15,
          "y1": 25
         },
         {
          "fillcolor": "#6f3955",
          "label": {
           "font": {
            "color": "white",
            "size": 12
           },
           "text": "item-7"
          },
          "line": {
           "color": "black"
          },
          "type": "rect",
          "x0": 75,
          "x1": 90,
          "y0": 25,
          "y1": 35
         },
         {
          "fillcolor": "#996d39",
          "label": {
           "font": {
            "color": "white",
            "size": 12
           },
           "text": "item-5"
          },
          "line": {
           "color": "black"
          },
          "type": "rect",
          "x0": 75,
          "x1": 90,
          "y0": 35,
          "y1": 45
         },
         {
          "fillcolor": "#dcc40e",
          "label": {
           "font": {
            "color": "white",
            "size": 12
           },
           "text": "item-3"
          },
          "line": {
           "color": "black"
          },
          "type": "rect",
          "x0": 75,
          "x1": 90,
          "y0": 45,
          "y1": 55
         },
         {
          "fillcolor": "#c81049",
          "label": {
           "font": {
            "color": "white",
            "size": 12
           },
           "text": "item-25"
          },
          "line": {
           "color": "black"
          },
          "type": "rect",
          "x0": 100,
          "x1": 115,
          "y0": 0,
          "y1": 10
         },
         {
          "fillcolor": "#490c2c",
          "label": {
           "font": {
            "color": "white",
            "size": 12
           },
           "text": "item-23"
          },
          "line": {
           "color": "black"
          },
          "type": "rect",
          "x0": 100,
          "x1": 115,
          "y0": 10,
          "y1": 20
         },
         {
          "fillcolor": "#c2dddb",
          "label": {
           "font": {
            "color": "white",
            "size": 12
           },
           "text": "item-21"
          },
          "line": {
           "color": "black"
          },
          "type": "rect",
          "x0": 90,
          "x1": 100,
          "y0": 15,
          "y1": 30
         },
         {
          "fillcolor": "#d61058",
          "label": {
           "font": {
            "color": "white",
            "size": 12
           },
           "text": "item-19"
          },
          "line": {
           "color": "black"
          },
          "type": "rect",
          "x0": 90,
          "x1": 105,
          "y0": 30,
          "y1": 40
         },
         {
          "fillcolor": "#312ff8",
          "label": {
           "font": {
            "color": "white",
            "size": 12
           },
           "text": "item-17"
          },
          "line": {
           "color": "black"
          },
          "type": "rect",
          "x0": 90,
          "x1": 105,
          "y0": 40,
          "y1": 50
         },
         {
          "fillcolor": "#353f7c",
          "label": {
           "font": {
            "color": "white",
            "size": 12
           },
           "text": "item-15"
          },
          "line": {
           "color": "black"
          },
          "type": "rect",
          "x0": 90,
          "x1": 105,
          "y0": 50,
          "y1": 60
         },
         {
          "fillcolor": "#b09c92",
          "label": {
           "font": {
            "color": "white",
            "size": 12
           },
           "text": "item-13"
          },
          "line": {
           "color": "black"
          },
          "type": "rect",
          "x0": 100,
          "x1": 115,
          "y0": 20,
          "y1": 30
         },
         {
          "fillcolor": "#717b36",
          "label": {
           "font": {
            "color": "white",
            "size": 12
           },
           "text": "item-11"
          },
          "line": {
           "color": "black"
          },
          "type": "rect",
          "x0": 105,
          "x1": 120,
          "y0": 30,
          "y1": 40
         },
         {
          "fillcolor": "#62555a",
          "label": {
           "font": {
            "color": "white",
            "size": 12
           },
           "text": "item-1"
          },
          "line": {
           "color": "black"
          },
          "type": "rect",
          "x0": 105,
          "x1": 120,
          "y0": 40,
          "y1": 50
         },
         {
          "line": {
           "color": "Black",
           "width": 2
          },
          "type": "rect",
          "x0": 0,
          "x1": 120,
          "y0": 0,
          "y1": 60
         }
        ],
        "template": {
         "data": {
          "bar": [
           {
            "error_x": {
             "color": "#2a3f5f"
            },
            "error_y": {
             "color": "#2a3f5f"
            },
            "marker": {
             "line": {
              "color": "#E5ECF6",
              "width": 0.5
             },
             "pattern": {
              "fillmode": "overlay",
              "size": 10,
              "solidity": 0.2
             }
            },
            "type": "bar"
           }
          ],
          "barpolar": [
           {
            "marker": {
             "line": {
              "color": "#E5ECF6",
              "width": 0.5
             },
             "pattern": {
              "fillmode": "overlay",
              "size": 10,
              "solidity": 0.2
             }
            },
            "type": "barpolar"
           }
          ],
          "carpet": [
           {
            "aaxis": {
             "endlinecolor": "#2a3f5f",
             "gridcolor": "white",
             "linecolor": "white",
             "minorgridcolor": "white",
             "startlinecolor": "#2a3f5f"
            },
            "baxis": {
             "endlinecolor": "#2a3f5f",
             "gridcolor": "white",
             "linecolor": "white",
             "minorgridcolor": "white",
             "startlinecolor": "#2a3f5f"
            },
            "type": "carpet"
           }
          ],
          "choropleth": [
           {
            "colorbar": {
             "outlinewidth": 0,
             "ticks": ""
            },
            "type": "choropleth"
           }
          ],
          "contour": [
           {
            "colorbar": {
             "outlinewidth": 0,
             "ticks": ""
            },
            "colorscale": [
             [
              0,
              "#0d0887"
             ],
             [
              0.1111111111111111,
              "#46039f"
             ],
             [
              0.2222222222222222,
              "#7201a8"
             ],
             [
              0.3333333333333333,
              "#9c179e"
             ],
             [
              0.4444444444444444,
              "#bd3786"
             ],
             [
              0.5555555555555556,
              "#d8576b"
             ],
             [
              0.6666666666666666,
              "#ed7953"
             ],
             [
              0.7777777777777778,
              "#fb9f3a"
             ],
             [
              0.8888888888888888,
              "#fdca26"
             ],
             [
              1,
              "#f0f921"
             ]
            ],
            "type": "contour"
           }
          ],
          "contourcarpet": [
           {
            "colorbar": {
             "outlinewidth": 0,
             "ticks": ""
            },
            "type": "contourcarpet"
           }
          ],
          "heatmap": [
           {
            "colorbar": {
             "outlinewidth": 0,
             "ticks": ""
            },
            "colorscale": [
             [
              0,
              "#0d0887"
             ],
             [
              0.1111111111111111,
              "#46039f"
             ],
             [
              0.2222222222222222,
              "#7201a8"
             ],
             [
              0.3333333333333333,
              "#9c179e"
             ],
             [
              0.4444444444444444,
              "#bd3786"
             ],
             [
              0.5555555555555556,
              "#d8576b"
             ],
             [
              0.6666666666666666,
              "#ed7953"
             ],
             [
              0.7777777777777778,
              "#fb9f3a"
             ],
             [
              0.8888888888888888,
              "#fdca26"
             ],
             [
              1,
              "#f0f921"
             ]
            ],
            "type": "heatmap"
           }
          ],
          "heatmapgl": [
           {
            "colorbar": {
             "outlinewidth": 0,
             "ticks": ""
            },
            "colorscale": [
             [
              0,
              "#0d0887"
             ],
             [
              0.1111111111111111,
              "#46039f"
             ],
             [
              0.2222222222222222,
              "#7201a8"
             ],
             [
              0.3333333333333333,
              "#9c179e"
             ],
             [
              0.4444444444444444,
              "#bd3786"
             ],
             [
              0.5555555555555556,
              "#d8576b"
             ],
             [
              0.6666666666666666,
              "#ed7953"
             ],
             [
              0.7777777777777778,
              "#fb9f3a"
             ],
             [
              0.8888888888888888,
              "#fdca26"
             ],
             [
              1,
              "#f0f921"
             ]
            ],
            "type": "heatmapgl"
           }
          ],
          "histogram": [
           {
            "marker": {
             "pattern": {
              "fillmode": "overlay",
              "size": 10,
              "solidity": 0.2
             }
            },
            "type": "histogram"
           }
          ],
          "histogram2d": [
           {
            "colorbar": {
             "outlinewidth": 0,
             "ticks": ""
            },
            "colorscale": [
             [
              0,
              "#0d0887"
             ],
             [
              0.1111111111111111,
              "#46039f"
             ],
             [
              0.2222222222222222,
              "#7201a8"
             ],
             [
              0.3333333333333333,
              "#9c179e"
             ],
             [
              0.4444444444444444,
              "#bd3786"
             ],
             [
              0.5555555555555556,
              "#d8576b"
             ],
             [
              0.6666666666666666,
              "#ed7953"
             ],
             [
              0.7777777777777778,
              "#fb9f3a"
             ],
             [
              0.8888888888888888,
              "#fdca26"
             ],
             [
              1,
              "#f0f921"
             ]
            ],
            "type": "histogram2d"
           }
          ],
          "histogram2dcontour": [
           {
            "colorbar": {
             "outlinewidth": 0,
             "ticks": ""
            },
            "colorscale": [
             [
              0,
              "#0d0887"
             ],
             [
              0.1111111111111111,
              "#46039f"
             ],
             [
              0.2222222222222222,
              "#7201a8"
             ],
             [
              0.3333333333333333,
              "#9c179e"
             ],
             [
              0.4444444444444444,
              "#bd3786"
             ],
             [
              0.5555555555555556,
              "#d8576b"
             ],
             [
              0.6666666666666666,
              "#ed7953"
             ],
             [
              0.7777777777777778,
              "#fb9f3a"
             ],
             [
              0.8888888888888888,
              "#fdca26"
             ],
             [
              1,
              "#f0f921"
             ]
            ],
            "type": "histogram2dcontour"
           }
          ],
          "mesh3d": [
           {
            "colorbar": {
             "outlinewidth": 0,
             "ticks": ""
            },
            "type": "mesh3d"
           }
          ],
          "parcoords": [
           {
            "line": {
             "colorbar": {
              "outlinewidth": 0,
              "ticks": ""
             }
            },
            "type": "parcoords"
           }
          ],
          "pie": [
           {
            "automargin": true,
            "type": "pie"
           }
          ],
          "scatter": [
           {
            "fillpattern": {
             "fillmode": "overlay",
             "size": 10,
             "solidity": 0.2
            },
            "type": "scatter"
           }
          ],
          "scatter3d": [
           {
            "line": {
             "colorbar": {
              "outlinewidth": 0,
              "ticks": ""
             }
            },
            "marker": {
             "colorbar": {
              "outlinewidth": 0,
              "ticks": ""
             }
            },
            "type": "scatter3d"
           }
          ],
          "scattercarpet": [
           {
            "marker": {
             "colorbar": {
              "outlinewidth": 0,
              "ticks": ""
             }
            },
            "type": "scattercarpet"
           }
          ],
          "scattergeo": [
           {
            "marker": {
             "colorbar": {
              "outlinewidth": 0,
              "ticks": ""
             }
            },
            "type": "scattergeo"
           }
          ],
          "scattergl": [
           {
            "marker": {
             "colorbar": {
              "outlinewidth": 0,
              "ticks": ""
             }
            },
            "type": "scattergl"
           }
          ],
          "scattermapbox": [
           {
            "marker": {
             "colorbar": {
              "outlinewidth": 0,
              "ticks": ""
             }
            },
            "type": "scattermapbox"
           }
          ],
          "scatterpolar": [
           {
            "marker": {
             "colorbar": {
              "outlinewidth": 0,
              "ticks": ""
             }
            },
            "type": "scatterpolar"
           }
          ],
          "scatterpolargl": [
           {
            "marker": {
             "colorbar": {
              "outlinewidth": 0,
              "ticks": ""
             }
            },
            "type": "scatterpolargl"
           }
          ],
          "scatterternary": [
           {
            "marker": {
             "colorbar": {
              "outlinewidth": 0,
              "ticks": ""
             }
            },
            "type": "scatterternary"
           }
          ],
          "surface": [
           {
            "colorbar": {
             "outlinewidth": 0,
             "ticks": ""
            },
            "colorscale": [
             [
              0,
              "#0d0887"
             ],
             [
              0.1111111111111111,
              "#46039f"
             ],
             [
              0.2222222222222222,
              "#7201a8"
             ],
             [
              0.3333333333333333,
              "#9c179e"
             ],
             [
              0.4444444444444444,
              "#bd3786"
             ],
             [
              0.5555555555555556,
              "#d8576b"
             ],
             [
              0.6666666666666666,
              "#ed7953"
             ],
             [
              0.7777777777777778,
              "#fb9f3a"
             ],
             [
              0.8888888888888888,
              "#fdca26"
             ],
             [
              1,
              "#f0f921"
             ]
            ],
            "type": "surface"
           }
          ],
          "table": [
           {
            "cells": {
             "fill": {
              "color": "#EBF0F8"
             },
             "line": {
              "color": "white"
             }
            },
            "header": {
             "fill": {
              "color": "#C8D4E3"
             },
             "line": {
              "color": "white"
             }
            },
            "type": "table"
           }
          ]
         },
         "layout": {
          "annotationdefaults": {
           "arrowcolor": "#2a3f5f",
           "arrowhead": 0,
           "arrowwidth": 1
          },
          "autotypenumbers": "strict",
          "coloraxis": {
           "colorbar": {
            "outlinewidth": 0,
            "ticks": ""
           }
          },
          "colorscale": {
           "diverging": [
            [
             0,
             "#8e0152"
            ],
            [
             0.1,
             "#c51b7d"
            ],
            [
             0.2,
             "#de77ae"
            ],
            [
             0.3,
             "#f1b6da"
            ],
            [
             0.4,
             "#fde0ef"
            ],
            [
             0.5,
             "#f7f7f7"
            ],
            [
             0.6,
             "#e6f5d0"
            ],
            [
             0.7,
             "#b8e186"
            ],
            [
             0.8,
             "#7fbc41"
            ],
            [
             0.9,
             "#4d9221"
            ],
            [
             1,
             "#276419"
            ]
           ],
           "sequential": [
            [
             0,
             "#0d0887"
            ],
            [
             0.1111111111111111,
             "#46039f"
            ],
            [
             0.2222222222222222,
             "#7201a8"
            ],
            [
             0.3333333333333333,
             "#9c179e"
            ],
            [
             0.4444444444444444,
             "#bd3786"
            ],
            [
             0.5555555555555556,
             "#d8576b"
            ],
            [
             0.6666666666666666,
             "#ed7953"
            ],
            [
             0.7777777777777778,
             "#fb9f3a"
            ],
            [
             0.8888888888888888,
             "#fdca26"
            ],
            [
             1,
             "#f0f921"
            ]
           ],
           "sequentialminus": [
            [
             0,
             "#0d0887"
            ],
            [
             0.1111111111111111,
             "#46039f"
            ],
            [
             0.2222222222222222,
             "#7201a8"
            ],
            [
             0.3333333333333333,
             "#9c179e"
            ],
            [
             0.4444444444444444,
             "#bd3786"
            ],
            [
             0.5555555555555556,
             "#d8576b"
            ],
            [
             0.6666666666666666,
             "#ed7953"
            ],
            [
             0.7777777777777778,
             "#fb9f3a"
            ],
            [
             0.8888888888888888,
             "#fdca26"
            ],
            [
             1,
             "#f0f921"
            ]
           ]
          },
          "colorway": [
           "#636efa",
           "#EF553B",
           "#00cc96",
           "#ab63fa",
           "#FFA15A",
           "#19d3f3",
           "#FF6692",
           "#B6E880",
           "#FF97FF",
           "#FECB52"
          ],
          "font": {
           "color": "#2a3f5f"
          },
          "geo": {
           "bgcolor": "white",
           "lakecolor": "white",
           "landcolor": "#E5ECF6",
           "showlakes": true,
           "showland": true,
           "subunitcolor": "white"
          },
          "hoverlabel": {
           "align": "left"
          },
          "hovermode": "closest",
          "mapbox": {
           "style": "light"
          },
          "paper_bgcolor": "white",
          "plot_bgcolor": "#E5ECF6",
          "polar": {
           "angularaxis": {
            "gridcolor": "white",
            "linecolor": "white",
            "ticks": ""
           },
           "bgcolor": "#E5ECF6",
           "radialaxis": {
            "gridcolor": "white",
            "linecolor": "white",
            "ticks": ""
           }
          },
          "scene": {
           "xaxis": {
            "backgroundcolor": "#E5ECF6",
            "gridcolor": "white",
            "gridwidth": 2,
            "linecolor": "white",
            "showbackground": true,
            "ticks": "",
            "zerolinecolor": "white"
           },
           "yaxis": {
            "backgroundcolor": "#E5ECF6",
            "gridcolor": "white",
            "gridwidth": 2,
            "linecolor": "white",
            "showbackground": true,
            "ticks": "",
            "zerolinecolor": "white"
           },
           "zaxis": {
            "backgroundcolor": "#E5ECF6",
            "gridcolor": "white",
            "gridwidth": 2,
            "linecolor": "white",
            "showbackground": true,
            "ticks": "",
            "zerolinecolor": "white"
           }
          },
          "shapedefaults": {
           "line": {
            "color": "#2a3f5f"
           }
          },
          "ternary": {
           "aaxis": {
            "gridcolor": "white",
            "linecolor": "white",
            "ticks": ""
           },
           "baxis": {
            "gridcolor": "white",
            "linecolor": "white",
            "ticks": ""
           },
           "bgcolor": "#E5ECF6",
           "caxis": {
            "gridcolor": "white",
            "linecolor": "white",
            "ticks": ""
           }
          },
          "title": {
           "x": 0.05
          },
          "xaxis": {
           "automargin": true,
           "gridcolor": "white",
           "linecolor": "white",
           "ticks": "",
           "title": {
            "standoff": 15
           },
           "zerolinecolor": "white",
           "zerolinewidth": 2
          },
          "yaxis": {
           "automargin": true,
           "gridcolor": "white",
           "linecolor": "white",
           "ticks": "",
           "title": {
            "standoff": 15
           },
           "zerolinecolor": "white",
           "zerolinewidth": 2
          }
         }
        },
        "title": {
         "font": {
          "size": 25
         },
         "text": "container-0"
        },
        "xaxis": {
         "dtick": 6,
         "range": [
          -2,
          122
         ],
         "tick0": 0,
         "title": {
          "text": "Container width (x)"
         },
         "zeroline": true,
         "zerolinewidth": 1
        },
        "yaxis": {
         "dtick": 3,
         "range": [
          -2,
          62
         ],
         "scaleanchor": "x",
         "scaleratio": 1,
         "tick0": 0,
         "title": {
          "text": "Container Length (y)"
         },
         "zeroline": true,
         "zerolinewidth": 1
        }
       }
      }
     },
     "metadata": {},
     "output_type": "display_data"
    },
    {
     "name": "stdout",
     "output_type": "stream",
     "text": [
      "Final Solution:\n",
      "{'container-0': {'item-8': [0, 0, 25, 15], 'item-6': [0, 15, 25, 15], 'item-4': [0, 30, 25, 15], 'item-24': [0, 45, 25, 15], 'item-22': [25, 0, 25, 15], 'item-20': [25, 15, 25, 15], 'item-2': [25, 30, 25, 15], 'item-18': [25, 45, 25, 15], 'item-16': [50, 0, 25, 15], 'item-14': [50, 15, 25, 15], 'item-12': [50, 30, 25, 15], 'item-10': [50, 45, 25, 15], 'item-0': [75, 0, 25, 15], 'item-9': [75, 15, 15, 10], 'item-7': [75, 25, 15, 10], 'item-5': [75, 35, 15, 10], 'item-3': [75, 45, 15, 10], 'item-25': [100, 0, 15, 10], 'item-23': [100, 10, 15, 10], 'item-21': [90, 15, 10, 15], 'item-19': [90, 30, 15, 10], 'item-17': [90, 40, 15, 10], 'item-15': [90, 50, 15, 10], 'item-13': [100, 20, 15, 10], 'item-11': [105, 30, 15, 10], 'item-1': [105, 40, 15, 10]}}\n",
      "Solution saved to solution.shp\n"
     ]
    },
    {
     "name": "stderr",
     "output_type": "stream",
     "text": [
      "/Library/Frameworks/Python.framework/Versions/3.12/lib/python3.12/site-packages/pyogrio/raw.py:698: UserWarning:\n",
      "\n",
      "'crs' was not provided.  The output dataset will not have projection information defined and may not be usable in other systems.\n",
      "\n"
     ]
    }
   ],
   "source": [
    "import geopandas as gpd\n",
    "from shapely.geometry import box, Polygon\n",
    "from hyperpack import HyperPack\n",
    "import re\n",
    "\n",
    "# Función para generar ítems adicionales\n",
    "def generate_balanced_items(count, figure_1, figure_2):\n",
    "    items = {}\n",
    "    for i in range(count):\n",
    "        items[f\"item-{2*i}\"] = figure_1\n",
    "        items[f\"item-{2*i+1}\"] = figure_2\n",
    "    return items\n",
    "\n",
    "# Función para verificar y agregar ítems hasta que se llene el contenedor\n",
    "def pack_items_until_full(container, figure_1, figure_2, settings):\n",
    "    count = 1  # Empezamos con una figura de cada tipo\n",
    "    max_count = 0\n",
    "    while True:\n",
    "        items = generate_balanced_items(count, figure_1, figure_2)\n",
    "        problem_data = {\n",
    "            \"containers\": container,\n",
    "            \"items\": items,\n",
    "            \"settings\": settings\n",
    "        }\n",
    "        \n",
    "        # Crear la instancia del problema\n",
    "        problem = HyperPack(**problem_data)\n",
    "        \n",
    "        # Realizar la búsqueda\n",
    "        problem.hypersearch()\n",
    "        \n",
    "        # Obtener la solución\n",
    "        solution_log = problem.log_solution()\n",
    "        print(solution_log)\n",
    "\n",
    "        # Extraer ítems restantes del log\n",
    "        remaining_items_match = re.search(r\"Remaining items : \\[(.*)\\]\", solution_log)\n",
    "        remaining_items = remaining_items_match.group(1).split(\", \") if remaining_items_match else []\n",
    "\n",
    "        # Si hay ítems restantes, hemos terminado\n",
    "        if remaining_items and remaining_items[0] != '':\n",
    "            break\n",
    "        \n",
    "        # Si no hay ítems restantes, almacenar el máximo alcanzado\n",
    "        max_count = count\n",
    "        \n",
    "        # Aumentar el contador de figuras\n",
    "        count += 1\n",
    "    \n",
    "    # Retroceder un paso para la solución final sin residuos\n",
    "    items = generate_balanced_items(max_count, figure_1, figure_2)\n",
    "    problem_data = {\n",
    "        \"containers\": container,\n",
    "        \"items\": items,\n",
    "        \"settings\": settings\n",
    "    }\n",
    "    \n",
    "    # Crear la instancia final del problema\n",
    "    problem = HyperPack(**problem_data)\n",
    "    problem.hypersearch()\n",
    "    \n",
    "    # Mostrar la figura final de la solución\n",
    "    problem.create_figure(show=True)\n",
    "    return problem.solution\n",
    "\n",
    "# Pedir al usuario que ingrese las dimensiones del contenedor y las figuras\n",
    "def get_user_input():\n",
    "    W = int(input(\"Ingrese el ancho del contenedor: \"))\n",
    "    L = int(input(\"Ingrese el largo del contenedor: \"))\n",
    "    \n",
    "    w1 = int(input(\"Ingrese el ancho de la figura 1: \"))\n",
    "    l1 = int(input(\"Ingrese el largo de la figura 1: \"))\n",
    "    \n",
    "    w2 = int(input(\"Ingrese el ancho de la figura 2: \"))\n",
    "    l2 = int(input(\"Ingrese el largo de la figura 2: \"))\n",
    "    \n",
    "    container = {\n",
    "        \"container-0\": {\n",
    "            \"W\": W,\n",
    "            \"L\": L\n",
    "        }\n",
    "    }\n",
    "    \n",
    "    figure_1 = {\"w\": w1, \"l\": l1}\n",
    "    figure_2 = {\"w\": w2, \"l\": l2}\n",
    "    \n",
    "    return container, figure_1, figure_2\n",
    "\n",
    "# Función para guardar la solución en un archivo shapefile\n",
    "def save_solution_as_shapefile(solution, filename=\"solution.shp\"):\n",
    "    geometries = []\n",
    "    for container_id, items in solution.items():\n",
    "        for item_id, coords in items.items():\n",
    "            x, y, width, height = coords\n",
    "            rectangle = box(x, y, x + width, y + height)\n",
    "            geometries.append(rectangle)\n",
    "    \n",
    "    gdf = gpd.GeoDataFrame(geometry=geometries)\n",
    "    gdf.to_file(filename, driver=\"ESRI Shapefile\")\n",
    "    print(f\"Solution saved to {filename}\")\n",
    "\n",
    "# Definir la configuración (settings)\n",
    "settings = {\n",
    "    \"algorithm\": \"hypersearch\",\n",
    "    \"max_iterations\": 1000\n",
    "}\n",
    "\n",
    "# Obtener entradas del usuario\n",
    "container, figure_1, figure_2 = get_user_input()\n",
    "\n",
    "# Ejecutar la función para empaquetar ítems hasta que se llene el contenedor\n",
    "solution = pack_items_until_full(container, figure_1, figure_2, settings)\n",
    "print(\"Final Solution:\")\n",
    "print(solution)\n",
    "\n",
    "# Guardar la solución en un archivo shapefile\n",
    "save_solution_as_shapefile(solution)\n"
   ]
  },
  {
   "cell_type": "code",
   "execution_count": 33,
   "metadata": {},
   "outputs": [
    {
     "name": "stdout",
     "output_type": "stream",
     "text": [
      "Example shapefile created at example_half_circle.shp\n"
     ]
    },
    {
     "name": "stderr",
     "output_type": "stream",
     "text": [
      "/Library/Frameworks/Python.framework/Versions/3.12/lib/python3.12/site-packages/pyogrio/raw.py:698: UserWarning:\n",
      "\n",
      "'crs' was not provided.  The output dataset will not have projection information defined and may not be usable in other systems.\n",
      "\n"
     ]
    },
    {
     "data": {
      "image/png": "[encoded data removed]",
      "text/plain": [
       "<Figure size 640x480 with 1 Axes>"
      ]
     },
     "metadata": {},
     "output_type": "display_data"
    }
   ],
   "source": [
    "import geopandas as gpd\n",
    "import matplotlib.pyplot as plt\n",
    "from shapely.geometry import Polygon, Point\n",
    "from shapely.affinity import rotate\n",
    "import numpy as np\n",
    "\n",
    "# Crear un GeoDataFrame con un medio círculo\n",
    "def create_example_shapefile_with_half_circle(filename=\"example_half_circle.shp\"):\n",
    "    # Crear un medio círculo\n",
    "    angle_range = np.linspace(0, np.pi, 100)  # Rango de ángulos para medio círculo\n",
    "    circle_points = [(np.cos(angle), np.sin(angle)) for angle in angle_range]\n",
    "    circle_points.append((0, 0))  # Cerrar la figura\n",
    "    half_circle = Polygon(circle_points)\n",
    "    \n",
    "    # Crear un GeoDataFrame\n",
    "    gdf = gpd.GeoDataFrame(geometry=[half_circle])\n",
    "    \n",
    "    # Guardar el GeoDataFrame como un archivo Shapefile\n",
    "    gdf.to_file(filename, driver=\"ESRI Shapefile\")\n",
    "    print(f\"Example shapefile created at {filename}\")\n",
    "\n",
    "# Crear el archivo Shapefile de ejemplo con un medio círculo\n",
    "create_example_shapefile_with_half_circle()\n",
    "\n",
    "# Leer el archivo Shapefile y visualizar el medio círculo\n",
    "gdf = gpd.read_file(\"example_half_circle.shp\")\n",
    "gdf.plot(edgecolor='red', linewidth=2, facecolor='none')\n",
    "plt.title(\"Example Half Circle\")\n",
    "plt.show()\n"
   ]
  },
  {
   "cell_type": "code",
   "execution_count": null,
   "metadata": {},
   "outputs": [],
   "source": [
    "from shapely.geometry import MultiPoint\n",
    "\n",
    "# Función para calcular el rectángulo mínimo rotado y visualizarlo\n",
    "def visualize_minimum_rotated_rectangle_with_closed_figure(shapefile_path):\n",
    "    # Leer el shapefile\n",
    "    gdf = gpd.read_file(shapefile_path)\n",
    "    \n",
    "    # Extraer los puntos del polígono cerrado\n",
    "    points = []\n",
    "    for geom in gdf.geometry:\n",
    "        if geom.geom_type == 'Polygon':\n",
    "            points.extend(geom.exterior.coords)\n",
    "    \n",
    "    # Convertir los puntos en un MultiPoint y calcular el rectángulo mínimo rotado\n",
    "    multipoint = MultiPoint(points)\n",
    "    polygon = multipoint.minimum_rotated_rectangle\n",
    "    \n",
    "    # Visualizar la figura cerrada original y el rectángulo mínimo rotado\n",
    "    fig, ax = plt.subplots()\n",
    "    gdf.plot(ax=ax, edgecolor='red', linewidth=2, facecolor='none', label='Closed Figure')\n",
    "    x, y = polygon.exterior.xy\n",
    "    ax.plot(x, y, color='blue', label='Minimum Rotated Rectangle')\n",
    "    plt.title(\"Minimum Rotated Rectangle with Closed Figure\")\n",
    "    plt.legend()\n",
    "    plt.show()\n",
    "    \n",
    "    return polygon\n",
    "\n",
    "# Visualizar el rectángulo mínimo rotado junto con la figura cerrada original\n",
    "polygon = visualize_minimum_rotated_rectangle_with_closed_figure(\"example_closed_figure.shp\")\n",
    "print(f\"Minimum Rotated Rectangle: {polygon}\")\n",
    "\n",
    "# Obtener las dimensiones del rectángulo mínimo rotado\n",
    "minx, miny, maxx, maxy = polygon.bounds\n",
    "width = int(maxx - minx)\n",
    "height = int(maxy - miny)\n",
    "print(f\"Width: {width}, Height: {height}\")\n"
   ]
  },
  {
   "cell_type": "code",
   "execution_count": 36,
   "metadata": {},
   "outputs": [
    {
     "name": "stderr",
     "output_type": "stream",
     "text": [
      "/var/folders/v7/7x179_695qqc_mlsjrp0m7gm0000gn/T/ipykernel_76190/3779117551.py:24: UserWarning:\n",
      "\n",
      "Legend does not support handles for PatchCollection instances.\n",
      "See: https://matplotlib.org/stable/tutorials/intermediate/legend_guide.html#implementing-a-custom-legend-handler\n",
      "\n"
     ]
    },
    {
     "data": {
      "image/png": "[encoded data removed]",
      "text/plain": [
       "<Figure size 640x480 with 1 Axes>"
      ]
     },
     "metadata": {},
     "output_type": "display_data"
    },
    {
     "name": "stdout",
     "output_type": "stream",
     "text": [
      "Width: 2, Height: 1\n"
     ]
    }
   ],
   "source": [
    "import math\n",
    "from shapely.geometry import Polygon, MultiPoint\n",
    "\n",
    "def get_minimum_rectangle_dimensions(polygon: Polygon):\n",
    "    \"\"\"\n",
    "    Toma un objeto Polygon que representa un rectángulo mínimo rotado y devuelve su ancho y alto redondeados hacia arriba.\n",
    "    \n",
    "    :param polygon: shapely.geometry.Polygon\n",
    "    :return: (width, height)\n",
    "    \"\"\"\n",
    "    # Obtener los límites del rectángulo mínimo rotado\n",
    "    minx, miny, maxx, maxy = polygon.bounds\n",
    "    \n",
    "    # Calcular el ancho y alto y redondear hacia arriba\n",
    "    width = math.ceil(maxx - minx)\n",
    "    height = math.ceil(maxy - miny)\n",
    "    \n",
    "    return width, height\n",
    "\n",
    "# Ejemplo de uso con el rectángulo mínimo rotado obtenido anteriormente\n",
    "polygon = visualize_minimum_rotated_rectangle_with_closed_figure(\"example_closed_figure.shp\")\n",
    "width, height = get_minimum_rectangle_dimensions(polygon)\n",
    "print(f\"Width: {width}, Height: {height}\")\n"
   ]
  },
  {
   "cell_type": "code",
   "execution_count": null,
   "metadata": {},
   "outputs": [
    {
     "name": "stdout",
     "output_type": "stream",
     "text": [
      "Initial Count: 35\n"
     ]
    }
   ],
   "source": [
    "def calculate_initial_count(container_width, container_length, rect_width, rect_height):\n",
    "    \"\"\"\n",
    "    Calcula el mejor valor inicial para el número de rectángulos que caben en el contenedor.\n",
    "    \n",
    "    :param container_width: Ancho del contenedor\n",
    "    :param container_length: Largo del contenedor\n",
    "    :param rect_width: Ancho del rectángulo\n",
    "    :param rect_height: Alto del rectángulo\n",
    "    :return: Valor inicial\n",
    "    \"\"\"\n",
    "    container_area = container_width * container_length\n",
    "    rect_area = rect_width * rect_height\n",
    "    max_figures = container_area // rect_area\n",
    "    initial_count = max_figures - 1  # Comenzamos con una figura menos del máximo teórico\n",
    "    return initial_count\n",
    "\n",
    "# Calcular el valor inicial\n",
    "container_width = 120\n",
    "container_length = 60\n",
    "initial_count = calculate_initial_count(container_width, container_length, width, height)\n",
    "print(f\"Initial Count: {initial_count}\")\n"
   ]
  },
  {
   "cell_type": "code",
   "execution_count": null,
   "metadata": {},
   "outputs": [
    {
     "name": "stdout",
     "output_type": "stream",
     "text": [
      "\n",
      "Solution Log:\n",
      "Percent total items stored : 100.0000%\n",
      "Container: container-0 12x6\n",
      "\t[util%] : 97.2222%\n",
      "\n",
      "Remaining items : []\n",
      "\n",
      "Solution Log:\n",
      "Percent total items stored : 100.0000%\n",
      "Container: container-0 12x6\n",
      "\t[util%] : 100.0000%\n",
      "\n",
      "Remaining items : []\n",
      "\n",
      "Solution Log:\n",
      "Percent total items stored : 97.2973%\n",
      "Container: container-0 12x6\n",
      "\t[util%] : 100.0000%\n",
      "\n",
      "Remaining items : ['item-0']\n"
     ]
    },
    {
     "data": {
      "application/vnd.plotly.v1+json": {
       "config": {
        "plotlyServerURL": "https://plot.ly",
        "responsive": false
       },
       "data": [
        {
         "hoverinfo": "x+y",
         "showlegend": false,
         "type": "scatter",
         "x": [
          0,
          2,
          2,
          0
         ],
         "y": [
          0,
          0,
          1,
          1
         ]
        },
        {
         "hoverinfo": "x+y",
         "showlegend": false,
         "type": "scatter",
         "x": [
          0,
          2,
          2,
          0
         ],
         "y": [
          1,
          1,
          2,
          2
         ]
        },
        {
         "hoverinfo": "x+y",
         "showlegend": false,
         "type": "scatter",
         "x": [
          0,
          2,
          2,
          0
         ],
         "y": [
          2,
          2,
          3,
          3
         ]
        },
        {
         "hoverinfo": "x+y",
         "showlegend": false,
         "type": "scatter",
         "x": [
          0,
          2,
          2,
          0
         ],
         "y": [
          3,
          3,
          4,
          4
         ]
        },
        {
         "hoverinfo": "x+y",
         "showlegend": false,
         "type": "scatter",
         "x": [
          0,
          2,
          2,
          0
         ],
         "y": [
          4,
          4,
          5,
          5
         ]
        },
        {
         "hoverinfo": "x+y",
         "showlegend": false,
         "type": "scatter",
         "x": [
          0,
          2,
          2,
          0
         ],
         "y": [
          5,
          5,
          6,
          6
         ]
        },
        {
         "hoverinfo": "x+y",
         "showlegend": false,
         "type": "scatter",
         "x": [
          2,
          4,
          4,
          2
         ],
         "y": [
          0,
          0,
          1,
          1
         ]
        },
        {
         "hoverinfo": "x+y",
         "showlegend": false,
         "type": "scatter",
         "x": [
          2,
          4,
          4,
          2
         ],
         "y": [
          1,
          1,
          2,
          2
         ]
        },
        {
         "hoverinfo": "x+y",
         "showlegend": false,
         "type": "scatter",
         "x": [
          2,
          4,
          4,
          2
         ],
         "y": [
          2,
          2,
          3,
          3
         ]
        },
        {
         "hoverinfo": "x+y",
         "showlegend": false,
         "type": "scatter",
         "x": [
          2,
          4,
          4,
          2
         ],
         "y": [
          3,
          3,
          4,
          4
         ]
        },
        {
         "hoverinfo": "x+y",
         "showlegend": false,
         "type": "scatter",
         "x": [
          2,
          4,
          4,
          2
         ],
         "y": [
          4,
          4,
          5,
          5
         ]
        },
        {
         "hoverinfo": "x+y",
         "showlegend": false,
         "type": "scatter",
         "x": [
          2,
          4,
          4,
          2
         ],
         "y": [
          5,
          5,
          6,
          6
         ]
        },
        {
         "hoverinfo": "x+y",
         "showlegend": false,
         "type": "scatter",
         "x": [
          4,
          6,
          6,
          4
         ],
         "y": [
          0,
          0,
          1,
          1
         ]
        },
        {
         "hoverinfo": "x+y",
         "showlegend": false,
         "type": "scatter",
         "x": [
          4,
          6,
          6,
          4
         ],
         "y": [
          1,
          1,
          2,
          2
         ]
        },
        {
         "hoverinfo": "x+y",
         "showlegend": false,
         "type": "scatter",
         "x": [
          4,
          6,
          6,
          4
         ],
         "y": [
          2,
          2,
          3,
          3
         ]
        },
        {
         "hoverinfo": "x+y",
         "showlegend": false,
         "type": "scatter",
         "x": [
          4,
          6,
          6,
          4
         ],
         "y": [
          3,
          3,
          4,
          4
         ]
        },
        {
         "hoverinfo": "x+y",
         "showlegend": false,
         "type": "scatter",
         "x": [
          4,
          6,
          6,
          4
         ],
         "y": [
          4,
          4,
          5,
          5
         ]
        },
        {
         "hoverinfo": "x+y",
         "showlegend": false,
         "type": "scatter",
         "x": [
          4,
          6,
          6,
          4
         ],
         "y": [
          5,
          5,
          6,
          6
         ]
        },
        {
         "hoverinfo": "x+y",
         "showlegend": false,
         "type": "scatter",
         "x": [
          6,
          8,
          8,
          6
         ],
         "y": [
          0,
          0,
          1,
          1
         ]
        },
        {
         "hoverinfo": "x+y",
         "showlegend": false,
         "type": "scatter",
         "x": [
          6,
          8,
          8,
          6
         ],
         "y": [
          1,
          1,
          2,
          2
         ]
        },
        {
         "hoverinfo": "x+y",
         "showlegend": false,
         "type": "scatter",
         "x": [
          6,
          8,
          8,
          6
         ],
         "y": [
          2,
          2,
          3,
          3
         ]
        },
        {
         "hoverinfo": "x+y",
         "showlegend": false,
         "type": "scatter",
         "x": [
          6,
          8,
          8,
          6
         ],
         "y": [
          3,
          3,
          4,
          4
         ]
        },
        {
         "hoverinfo": "x+y",
         "showlegend": false,
         "type": "scatter",
         "x": [
          6,
          8,
          8,
          6
         ],
         "y": [
          4,
          4,
          5,
          5
         ]
        },
        {
         "hoverinfo": "x+y",
         "showlegend": false,
         "type": "scatter",
         "x": [
          6,
          8,
          8,
          6
         ],
         "y": [
          5,
          5,
          6,
          6
         ]
        },
        {
         "hoverinfo": "x+y",
         "showlegend": false,
         "type": "scatter",
         "x": [
          8,
          10,
          10,
          8
         ],
         "y": [
          0,
          0,
          1,
          1
         ]
        },
        {
         "hoverinfo": "x+y",
         "showlegend": false,
         "type": "scatter",
         "x": [
          8,
          10,
          10,
          8
         ],
         "y": [
          1,
          1,
          2,
          2
         ]
        },
        {
         "hoverinfo": "x+y",
         "showlegend": false,
         "type": "scatter",
         "x": [
          8,
          10,
          10,
          8
         ],
         "y": [
          2,
          2,
          3,
          3
         ]
        },
        {
         "hoverinfo": "x+y",
         "showlegend": false,
         "type": "scatter",
         "x": [
          8,
          10,
          10,
          8
         ],
         "y": [
          3,
          3,
          4,
          4
         ]
        },
        {
         "hoverinfo": "x+y",
         "showlegend": false,
         "type": "scatter",
         "x": [
          8,
          10,
          10,
          8
         ],
         "y": [
          4,
          4,
          5,
          5
         ]
        },
        {
         "hoverinfo": "x+y",
         "showlegend": false,
         "type": "scatter",
         "x": [
          8,
          10,
          10,
          8
         ],
         "y": [
          5,
          5,
          6,
          6
         ]
        },
        {
         "hoverinfo": "x+y",
         "showlegend": false,
         "type": "scatter",
         "x": [
          10,
          12,
          12,
          10
         ],
         "y": [
          0,
          0,
          1,
          1
         ]
        },
        {
         "hoverinfo": "x+y",
         "showlegend": false,
         "type": "scatter",
         "x": [
          10,
          12,
          12,
          10
         ],
         "y": [
          1,
          1,
          2,
          2
         ]
        },
        {
         "hoverinfo": "x+y",
         "showlegend": false,
         "type": "scatter",
         "x": [
          10,
          12,
          12,
          10
         ],
         "y": [
          2,
          2,
          3,
          3
         ]
        },
        {
         "hoverinfo": "x+y",
         "showlegend": false,
         "type": "scatter",
         "x": [
          10,
          12,
          12,
          10
         ],
         "y": [
          3,
          3,
          4,
          4
         ]
        },
        {
         "hoverinfo": "x+y",
         "showlegend": false,
         "type": "scatter",
         "x": [
          10,
          12,
          12,
          10
         ],
         "y": [
          4,
          4,
          5,
          5
         ]
        },
        {
         "hoverinfo": "x+y",
         "showlegend": false,
         "type": "scatter",
         "x": [
          10,
          12,
          12,
          10
         ],
         "y": [
          5,
          5,
          6,
          6
         ]
        }
       ],
       "layout": {
        "annotations": [
         {
          "font": {
           "color": "white",
           "size": 25
          },
          "showarrow": false,
          "text": "Powered by Hyperpack",
          "x": 0.5,
          "xref": "x domain",
          "y": 1,
          "yref": "y domain"
         }
        ],
        "shapes": [
         {
          "fillcolor": "#6c5ebd",
          "label": {
           "font": {
            "color": "white",
            "size": 12
           },
           "text": "item-9"
          },
          "line": {
           "color": "black"
          },
          "type": "rect",
          "x0": 0,
          "x1": 2,
          "y0": 0,
          "y1": 1
         },
         {
          "fillcolor": "#cd5836",
          "label": {
           "font": {
            "color": "white",
            "size": 12
           },
           "text": "item-8"
          },
          "line": {
           "color": "black"
          },
          "type": "rect",
          "x0": 0,
          "x1": 2,
          "y0": 1,
          "y1": 2
         },
         {
          "fillcolor": "#912b56",
          "label": {
           "font": {
            "color": "white",
            "size": 12
           },
           "text": "item-7"
          },
          "line": {
           "color": "black"
          },
          "type": "rect",
          "x0": 0,
          "x1": 2,
          "y0": 2,
          "y1": 3
         },
         {
          "fillcolor": "#18033c",
          "label": {
           "font": {
            "color": "white",
            "size": 12
           },
           "text": "item-6"
          },
          "line": {
           "color": "black"
          },
          "type": "rect",
          "x0": 0,
          "x1": 2,
          "y0": 3,
          "y1": 4
         },
         {
          "fillcolor": "#f5d647",
          "label": {
           "font": {
            "color": "white",
            "size": 12
           },
           "text": "item-5"
          },
          "line": {
           "color": "black"
          },
          "type": "rect",
          "x0": 0,
          "x1": 2,
          "y0": 4,
          "y1": 5
         },
         {
          "fillcolor": "#df6555",
          "label": {
           "font": {
            "color": "white",
            "size": 12
           },
           "text": "item-4"
          },
          "line": {
           "color": "black"
          },
          "type": "rect",
          "x0": 0,
          "x1": 2,
          "y0": 5,
          "y1": 6
         },
         {
          "fillcolor": "#d3b21a",
          "label": {
           "font": {
            "color": "white",
            "size": 12
           },
           "text": "item-35"
          },
          "line": {
           "color": "black"
          },
          "type": "rect",
          "x0": 2,
          "x1": 4,
          "y0": 0,
          "y1": 1
         },
         {
          "fillcolor": "#73432d",
          "label": {
           "font": {
            "color": "white",
            "size": 12
           },
           "text": "item-34"
          },
          "line": {
           "color": "black"
          },
          "type": "rect",
          "x0": 2,
          "x1": 4,
          "y0": 1,
          "y1": 2
         },
         {
          "fillcolor": "#cf0106",
          "label": {
           "font": {
            "color": "white",
            "size": 12
           },
           "text": "item-33"
          },
          "line": {
           "color": "black"
          },
          "type": "rect",
          "x0": 2,
          "x1": 4,
          "y0": 2,
          "y1": 3
         },
         {
          "fillcolor": "#f2a2a7",
          "label": {
           "font": {
            "color": "white",
            "size": 12
           },
           "text": "item-32"
          },
          "line": {
           "color": "black"
          },
          "type": "rect",
          "x0": 2,
          "x1": 4,
          "y0": 3,
          "y1": 4
         },
         {
          "fillcolor": "#46aaba",
          "label": {
           "font": {
            "color": "white",
            "size": 12
           },
           "text": "item-31"
          },
          "line": {
           "color": "black"
          },
          "type": "rect",
          "x0": 2,
          "x1": 4,
          "y0": 4,
          "y1": 5
         },
         {
          "fillcolor": "#96d502",
          "label": {
           "font": {
            "color": "white",
            "size": 12
           },
           "text": "item-30"
          },
          "line": {
           "color": "black"
          },
          "type": "rect",
          "x0": 2,
          "x1": 4,
          "y0": 5,
          "y1": 6
         },
         {
          "fillcolor": "#633332",
          "label": {
           "font": {
            "color": "white",
            "size": 12
           },
           "text": "item-3"
          },
          "line": {
           "color": "black"
          },
          "type": "rect",
          "x0": 4,
          "x1": 6,
          "y0": 0,
          "y1": 1
         },
         {
          "fillcolor": "#a0f268",
          "label": {
           "font": {
            "color": "white",
            "size": 12
           },
           "text": "item-29"
          },
          "line": {
           "color": "black"
          },
          "type": "rect",
          "x0": 4,
          "x1": 6,
          "y0": 1,
          "y1": 2
         },
         {
          "fillcolor": "#6f3955",
          "label": {
           "font": {
            "color": "white",
            "size": 12
           },
           "text": "item-28"
          },
          "line": {
           "color": "black"
          },
          "type": "rect",
          "x0": 4,
          "x1": 6,
          "y0": 2,
          "y1": 3
         },
         {
          "fillcolor": "#996d39",
          "label": {
           "font": {
            "color": "white",
            "size": 12
           },
           "text": "item-27"
          },
          "line": {
           "color": "black"
          },
          "type": "rect",
          "x0": 4,
          "x1": 6,
          "y0": 3,
          "y1": 4
         },
         {
          "fillcolor": "#dcc40e",
          "label": {
           "font": {
            "color": "white",
            "size": 12
           },
           "text": "item-26"
          },
          "line": {
           "color": "black"
          },
          "type": "rect",
          "x0": 4,
          "x1": 6,
          "y0": 4,
          "y1": 5
         },
         {
          "fillcolor": "#c81049",
          "label": {
           "font": {
            "color": "white",
            "size": 12
           },
           "text": "item-25"
          },
          "line": {
           "color": "black"
          },
          "type": "rect",
          "x0": 4,
          "x1": 6,
          "y0": 5,
          "y1": 6
         },
         {
          "fillcolor": "#490c2c",
          "label": {
           "font": {
            "color": "white",
            "size": 12
           },
           "text": "item-24"
          },
          "line": {
           "color": "black"
          },
          "type": "rect",
          "x0": 6,
          "x1": 8,
          "y0": 0,
          "y1": 1
         },
         {
          "fillcolor": "#c2dddb",
          "label": {
           "font": {
            "color": "white",
            "size": 12
           },
           "text": "item-23"
          },
          "line": {
           "color": "black"
          },
          "type": "rect",
          "x0": 6,
          "x1": 8,
          "y0": 1,
          "y1": 2
         },
         {
          "fillcolor": "#d61058",
          "label": {
           "font": {
            "color": "white",
            "size": 12
           },
           "text": "item-22"
          },
          "line": {
           "color": "black"
          },
          "type": "rect",
          "x0": 6,
          "x1": 8,
          "y0": 2,
          "y1": 3
         },
         {
          "fillcolor": "#312ff8",
          "label": {
           "font": {
            "color": "white",
            "size": 12
           },
           "text": "item-21"
          },
          "line": {
           "color": "black"
          },
          "type": "rect",
          "x0": 6,
          "x1": 8,
          "y0": 3,
          "y1": 4
         },
         {
          "fillcolor": "#353f7c",
          "label": {
           "font": {
            "color": "white",
            "size": 12
           },
           "text": "item-20"
          },
          "line": {
           "color": "black"
          },
          "type": "rect",
          "x0": 6,
          "x1": 8,
          "y0": 4,
          "y1": 5
         },
         {
          "fillcolor": "#b09c92",
          "label": {
           "font": {
            "color": "white",
            "size": 12
           },
           "text": "item-2"
          },
          "line": {
           "color": "black"
          },
          "type": "rect",
          "x0": 6,
          "x1": 8,
          "y0": 5,
          "y1": 6
         },
         {
          "fillcolor": "#717b36",
          "label": {
           "font": {
            "color": "white",
            "size": 12
           },
           "text": "item-19"
          },
          "line": {
           "color": "black"
          },
          "type": "rect",
          "x0": 8,
          "x1": 10,
          "y0": 0,
          "y1": 1
         },
         {
          "fillcolor": "#62555a",
          "label": {
           "font": {
            "color": "white",
            "size": 12
           },
           "text": "item-18"
          },
          "line": {
           "color": "black"
          },
          "type": "rect",
          "x0": 8,
          "x1": 10,
          "y0": 1,
          "y1": 2
         },
         {
          "fillcolor": "#10e39e",
          "label": {
           "font": {
            "color": "white",
            "size": 12
           },
           "text": "item-17"
          },
          "line": {
           "color": "black"
          },
          "type": "rect",
          "x0": 8,
          "x1": 10,
          "y0": 2,
          "y1": 3
         },
         {
          "fillcolor": "#8e8d43",
          "label": {
           "font": {
            "color": "white",
            "size": 12
           },
           "text": "item-16"
          },
          "line": {
           "color": "black"
          },
          "type": "rect",
          "x0": 8,
          "x1": 10,
          "y0": 3,
          "y1": 4
         },
         {
          "fillcolor": "#747114",
          "label": {
           "font": {
            "color": "white",
            "size": 12
           },
           "text": "item-15"
          },
          "line": {
           "color": "black"
          },
          "type": "rect",
          "x0": 8,
          "x1": 10,
          "y0": 4,
          "y1": 5
         },
         {
          "fillcolor": "#dc59fe",
          "label": {
           "font": {
            "color": "white",
            "size": 12
           },
           "text": "item-14"
          },
          "line": {
           "color": "black"
          },
          "type": "rect",
          "x0": 8,
          "x1": 10,
          "y0": 5,
          "y1": 6
         },
         {
          "fillcolor": "#775327",
          "label": {
           "font": {
            "color": "white",
            "size": 12
           },
           "text": "item-13"
          },
          "line": {
           "color": "black"
          },
          "type": "rect",
          "x0": 10,
          "x1": 12,
          "y0": 0,
          "y1": 1
         },
         {
          "fillcolor": "#ba32cd",
          "label": {
           "font": {
            "color": "white",
            "size": 12
           },
           "text": "item-12"
          },
          "line": {
           "color": "black"
          },
          "type": "rect",
          "x0": 10,
          "x1": 12,
          "y0": 1,
          "y1": 2
         },
         {
          "fillcolor": "#e1c5f7",
          "label": {
           "font": {
            "color": "white",
            "size": 12
           },
           "text": "item-11"
          },
          "line": {
           "color": "black"
          },
          "type": "rect",
          "x0": 10,
          "x1": 12,
          "y0": 2,
          "y1": 3
         },
         {
          "fillcolor": "#4ee561",
          "label": {
           "font": {
            "color": "white",
            "size": 12
           },
           "text": "item-10"
          },
          "line": {
           "color": "black"
          },
          "type": "rect",
          "x0": 10,
          "x1": 12,
          "y0": 3,
          "y1": 4
         },
         {
          "fillcolor": "#33bcb1",
          "label": {
           "font": {
            "color": "white",
            "size": 12
           },
           "text": "item-1"
          },
          "line": {
           "color": "black"
          },
          "type": "rect",
          "x0": 10,
          "x1": 12,
          "y0": 4,
          "y1": 5
         },
         {
          "fillcolor": "#698911",
          "label": {
           "font": {
            "color": "white",
            "size": 12
           },
           "text": "item-0"
          },
          "line": {
           "color": "black"
          },
          "type": "rect",
          "x0": 10,
          "x1": 12,
          "y0": 5,
          "y1": 6
         },
         {
          "line": {
           "color": "Black",
           "width": 2
          },
          "type": "rect",
          "x0": 0,
          "x1": 12,
          "y0": 0,
          "y1": 6
         }
        ],
        "template": {
         "data": {
          "bar": [
           {
            "error_x": {
             "color": "#2a3f5f"
            },
            "error_y": {
             "color": "#2a3f5f"
            },
            "marker": {
             "line": {
              "color": "#E5ECF6",
              "width": 0.5
             },
             "pattern": {
              "fillmode": "overlay",
              "size": 10,
              "solidity": 0.2
             }
            },
            "type": "bar"
           }
          ],
          "barpolar": [
           {
            "marker": {
             "line": {
              "color": "#E5ECF6",
              "width": 0.5
             },
             "pattern": {
              "fillmode": "overlay",
              "size": 10,
              "solidity": 0.2
             }
            },
            "type": "barpolar"
           }
          ],
          "carpet": [
           {
            "aaxis": {
             "endlinecolor": "#2a3f5f",
             "gridcolor": "white",
             "linecolor": "white",
             "minorgridcolor": "white",
             "startlinecolor": "#2a3f5f"
            },
            "baxis": {
             "endlinecolor": "#2a3f5f",
             "gridcolor": "white",
             "linecolor": "white",
             "minorgridcolor": "white",
             "startlinecolor": "#2a3f5f"
            },
            "type": "carpet"
           }
          ],
          "choropleth": [
           {
            "colorbar": {
             "outlinewidth": 0,
             "ticks": ""
            },
            "type": "choropleth"
           }
          ],
          "contour": [
           {
            "colorbar": {
             "outlinewidth": 0,
             "ticks": ""
            },
            "colorscale": [
             [
              0,
              "#0d0887"
             ],
             [
              0.1111111111111111,
              "#46039f"
             ],
             [
              0.2222222222222222,
              "#7201a8"
             ],
             [
              0.3333333333333333,
              "#9c179e"
             ],
             [
              0.4444444444444444,
              "#bd3786"
             ],
             [
              0.5555555555555556,
              "#d8576b"
             ],
             [
              0.6666666666666666,
              "#ed7953"
             ],
             [
              0.7777777777777778,
              "#fb9f3a"
             ],
             [
              0.8888888888888888,
              "#fdca26"
             ],
             [
              1,
              "#f0f921"
             ]
            ],
            "type": "contour"
           }
          ],
          "contourcarpet": [
           {
            "colorbar": {
             "outlinewidth": 0,
             "ticks": ""
            },
            "type": "contourcarpet"
           }
          ],
          "heatmap": [
           {
            "colorbar": {
             "outlinewidth": 0,
             "ticks": ""
            },
            "colorscale": [
             [
              0,
              "#0d0887"
             ],
             [
              0.1111111111111111,
              "#46039f"
             ],
             [
              0.2222222222222222,
              "#7201a8"
             ],
             [
              0.3333333333333333,
              "#9c179e"
             ],
             [
              0.4444444444444444,
              "#bd3786"
             ],
             [
              0.5555555555555556,
              "#d8576b"
             ],
             [
              0.6666666666666666,
              "#ed7953"
             ],
             [
              0.7777777777777778,
              "#fb9f3a"
             ],
             [
              0.8888888888888888,
              "#fdca26"
             ],
             [
              1,
              "#f0f921"
             ]
            ],
            "type": "heatmap"
           }
          ],
          "heatmapgl": [
           {
            "colorbar": {
             "outlinewidth": 0,
             "ticks": ""
            },
            "colorscale": [
             [
              0,
              "#0d0887"
             ],
             [
              0.1111111111111111,
              "#46039f"
             ],
             [
              0.2222222222222222,
              "#7201a8"
             ],
             [
              0.3333333333333333,
              "#9c179e"
             ],
             [
              0.4444444444444444,
              "#bd3786"
             ],
             [
              0.5555555555555556,
              "#d8576b"
             ],
             [
              0.6666666666666666,
              "#ed7953"
             ],
             [
              0.7777777777777778,
              "#fb9f3a"
             ],
             [
              0.8888888888888888,
              "#fdca26"
             ],
             [
              1,
              "#f0f921"
             ]
            ],
            "type": "heatmapgl"
           }
          ],
          "histogram": [
           {
            "marker": {
             "pattern": {
              "fillmode": "overlay",
              "size": 10,
              "solidity": 0.2
             }
            },
            "type": "histogram"
           }
          ],
          "histogram2d": [
           {
            "colorbar": {
             "outlinewidth": 0,
             "ticks": ""
            },
            "colorscale": [
             [
              0,
              "#0d0887"
             ],
             [
              0.1111111111111111,
              "#46039f"
             ],
             [
              0.2222222222222222,
              "#7201a8"
             ],
             [
              0.3333333333333333,
              "#9c179e"
             ],
             [
              0.4444444444444444,
              "#bd3786"
             ],
             [
              0.5555555555555556,
              "#d8576b"
             ],
             [
              0.6666666666666666,
              "#ed7953"
             ],
             [
              0.7777777777777778,
              "#fb9f3a"
             ],
             [
              0.8888888888888888,
              "#fdca26"
             ],
             [
              1,
              "#f0f921"
             ]
            ],
            "type": "histogram2d"
           }
          ],
          "histogram2dcontour": [
           {
            "colorbar": {
             "outlinewidth": 0,
             "ticks": ""
            },
            "colorscale": [
             [
              0,
              "#0d0887"
             ],
             [
              0.1111111111111111,
              "#46039f"
             ],
             [
              0.2222222222222222,
              "#7201a8"
             ],
             [
              0.3333333333333333,
              "#9c179e"
             ],
             [
              0.4444444444444444,
              "#bd3786"
             ],
             [
              0.5555555555555556,
              "#d8576b"
             ],
             [
              0.6666666666666666,
              "#ed7953"
             ],
             [
              0.7777777777777778,
              "#fb9f3a"
             ],
             [
              0.8888888888888888,
              "#fdca26"
             ],
             [
              1,
              "#f0f921"
             ]
            ],
            "type": "histogram2dcontour"
           }
          ],
          "mesh3d": [
           {
            "colorbar": {
             "outlinewidth": 0,
             "ticks": ""
            },
            "type": "mesh3d"
           }
          ],
          "parcoords": [
           {
            "line": {
             "colorbar": {
              "outlinewidth": 0,
              "ticks": ""
             }
            },
            "type": "parcoords"
           }
          ],
          "pie": [
           {
            "automargin": true,
            "type": "pie"
           }
          ],
          "scatter": [
           {
            "fillpattern": {
             "fillmode": "overlay",
             "size": 10,
             "solidity": 0.2
            },
            "type": "scatter"
           }
          ],
          "scatter3d": [
           {
            "line": {
             "colorbar": {
              "outlinewidth": 0,
              "ticks": ""
             }
            },
            "marker": {
             "colorbar": {
              "outlinewidth": 0,
              "ticks": ""
             }
            },
            "type": "scatter3d"
           }
          ],
          "scattercarpet": [
           {
            "marker": {
             "colorbar": {
              "outlinewidth": 0,
              "ticks": ""
             }
            },
            "type": "scattercarpet"
           }
          ],
          "scattergeo": [
           {
            "marker": {
             "colorbar": {
              "outlinewidth": 0,
              "ticks": ""
             }
            },
            "type": "scattergeo"
           }
          ],
          "scattergl": [
           {
            "marker": {
             "colorbar": {
              "outlinewidth": 0,
              "ticks": ""
             }
            },
            "type": "scattergl"
           }
          ],
          "scattermapbox": [
           {
            "marker": {
             "colorbar": {
              "outlinewidth": 0,
              "ticks": ""
             }
            },
            "type": "scattermapbox"
           }
          ],
          "scatterpolar": [
           {
            "marker": {
             "colorbar": {
              "outlinewidth": 0,
              "ticks": ""
             }
            },
            "type": "scatterpolar"
           }
          ],
          "scatterpolargl": [
           {
            "marker": {
             "colorbar": {
              "outlinewidth": 0,
              "ticks": ""
             }
            },
            "type": "scatterpolargl"
           }
          ],
          "scatterternary": [
           {
            "marker": {
             "colorbar": {
              "outlinewidth": 0,
              "ticks": ""
             }
            },
            "type": "scatterternary"
           }
          ],
          "surface": [
           {
            "colorbar": {
             "outlinewidth": 0,
             "ticks": ""
            },
            "colorscale": [
             [
              0,
              "#0d0887"
             ],
             [
              0.1111111111111111,
              "#46039f"
             ],
             [
              0.2222222222222222,
              "#7201a8"
             ],
             [
              0.3333333333333333,
              "#9c179e"
             ],
             [
              0.4444444444444444,
              "#bd3786"
             ],
             [
              0.5555555555555556,
              "#d8576b"
             ],
             [
              0.6666666666666666,
              "#ed7953"
             ],
             [
              0.7777777777777778,
              "#fb9f3a"
             ],
             [
              0.8888888888888888,
              "#fdca26"
             ],
             [
              1,
              "#f0f921"
             ]
            ],
            "type": "surface"
           }
          ],
          "table": [
           {
            "cells": {
             "fill": {
              "color": "#EBF0F8"
             },
             "line": {
              "color": "white"
             }
            },
            "header": {
             "fill": {
              "color": "#C8D4E3"
             },
             "line": {
              "color": "white"
             }
            },
            "type": "table"
           }
          ]
         },
         "layout": {
          "annotationdefaults": {
           "arrowcolor": "#2a3f5f",
           "arrowhead": 0,
           "arrowwidth": 1
          },
          "autotypenumbers": "strict",
          "coloraxis": {
           "colorbar": {
            "outlinewidth": 0,
            "ticks": ""
           }
          },
          "colorscale": {
           "diverging": [
            [
             0,
             "#8e0152"
            ],
            [
             0.1,
             "#c51b7d"
            ],
            [
             0.2,
             "#de77ae"
            ],
            [
             0.3,
             "#f1b6da"
            ],
            [
             0.4,
             "#fde0ef"
            ],
            [
             0.5,
             "#f7f7f7"
            ],
            [
             0.6,
             "#e6f5d0"
            ],
            [
             0.7,
             "#b8e186"
            ],
            [
             0.8,
             "#7fbc41"
            ],
            [
             0.9,
             "#4d9221"
            ],
            [
             1,
             "#276419"
            ]
           ],
           "sequential": [
            [
             0,
             "#0d0887"
            ],
            [
             0.1111111111111111,
             "#46039f"
            ],
            [
             0.2222222222222222,
             "#7201a8"
            ],
            [
             0.3333333333333333,
             "#9c179e"
            ],
            [
             0.4444444444444444,
             "#bd3786"
            ],
            [
             0.5555555555555556,
             "#d8576b"
            ],
            [
             0.6666666666666666,
             "#ed7953"
            ],
            [
             0.7777777777777778,
             "#fb9f3a"
            ],
            [
             0.8888888888888888,
             "#fdca26"
            ],
            [
             1,
             "#f0f921"
            ]
           ],
           "sequentialminus": [
            [
             0,
             "#0d0887"
            ],
            [
             0.1111111111111111,
             "#46039f"
            ],
            [
             0.2222222222222222,
             "#7201a8"
            ],
            [
             0.3333333333333333,
             "#9c179e"
            ],
            [
             0.4444444444444444,
             "#bd3786"
            ],
            [
             0.5555555555555556,
             "#d8576b"
            ],
            [
             0.6666666666666666,
             "#ed7953"
            ],
            [
             0.7777777777777778,
             "#fb9f3a"
            ],
            [
             0.8888888888888888,
             "#fdca26"
            ],
            [
             1,
             "#f0f921"
            ]
           ]
          },
          "colorway": [
           "#636efa",
           "#EF553B",
           "#00cc96",
           "#ab63fa",
           "#FFA15A",
           "#19d3f3",
           "#FF6692",
           "#B6E880",
           "#FF97FF",
           "#FECB52"
          ],
          "font": {
           "color": "#2a3f5f"
          },
          "geo": {
           "bgcolor": "white",
           "lakecolor": "white",
           "landcolor": "#E5ECF6",
           "showlakes": true,
           "showland": true,
           "subunitcolor": "white"
          },
          "hoverlabel": {
           "align": "left"
          },
          "hovermode": "closest",
          "mapbox": {
           "style": "light"
          },
          "paper_bgcolor": "white",
          "plot_bgcolor": "#E5ECF6",
          "polar": {
           "angularaxis": {
            "gridcolor": "white",
            "linecolor": "white",
            "ticks": ""
           },
           "bgcolor": "#E5ECF6",
           "radialaxis": {
            "gridcolor": "white",
            "linecolor": "white",
            "ticks": ""
           }
          },
          "scene": {
           "xaxis": {
            "backgroundcolor": "#E5ECF6",
            "gridcolor": "white",
            "gridwidth": 2,
            "linecolor": "white",
            "showbackground": true,
            "ticks": "",
            "zerolinecolor": "white"
           },
           "yaxis": {
            "backgroundcolor": "#E5ECF6",
            "gridcolor": "white",
            "gridwidth": 2,
            "linecolor": "white",
            "showbackground": true,
            "ticks": "",
            "zerolinecolor": "white"
           },
           "zaxis": {
            "backgroundcolor": "#E5ECF6",
            "gridcolor": "white",
            "gridwidth": 2,
            "linecolor": "white",
            "showbackground": true,
            "ticks": "",
            "zerolinecolor": "white"
           }
          },
          "shapedefaults": {
           "line": {
            "color": "#2a3f5f"
           }
          },
          "ternary": {
           "aaxis": {
            "gridcolor": "white",
            "linecolor": "white",
            "ticks": ""
           },
           "baxis": {
            "gridcolor": "white",
            "linecolor": "white",
            "ticks": ""
           },
           "bgcolor": "#E5ECF6",
           "caxis": {
            "gridcolor": "white",
            "linecolor": "white",
            "ticks": ""
           }
          },
          "title": {
           "x": 0.05
          },
          "xaxis": {
           "automargin": true,
           "gridcolor": "white",
           "linecolor": "white",
           "ticks": "",
           "title": {
            "standoff": 15
           },
           "zerolinecolor": "white",
           "zerolinewidth": 2
          },
          "yaxis": {
           "automargin": true,
           "gridcolor": "white",
           "linecolor": "white",
           "ticks": "",
           "title": {
            "standoff": 15
           },
           "zerolinecolor": "white",
           "zerolinewidth": 2
          }
         }
        },
        "title": {
         "font": {
          "size": 25
         },
         "text": "container-0"
        },
        "xaxis": {
         "dtick": 1,
         "range": [
          -2,
          14
         ],
         "tick0": 0,
         "title": {
          "text": "Container width (x)"
         },
         "zeroline": true,
         "zerolinewidth": 1
        },
        "yaxis": {
         "dtick": 1,
         "range": [
          -2,
          8
         ],
         "scaleanchor": "x",
         "scaleratio": 1,
         "tick0": 0,
         "title": {
          "text": "Container Length (y)"
         },
         "zeroline": true,
         "zerolinewidth": 1
        }
       }
      }
     },
     "metadata": {},
     "output_type": "display_data"
    },
    {
     "name": "stdout",
     "output_type": "stream",
     "text": [
      "Final Solution:\n",
      "{'container-0': {'item-9': [0, 0, 2, 1], 'item-8': [0, 1, 2, 1], 'item-7': [0, 2, 2, 1], 'item-6': [0, 3, 2, 1], 'item-5': [0, 4, 2, 1], 'item-4': [0, 5, 2, 1], 'item-35': [2, 0, 2, 1], 'item-34': [2, 1, 2, 1], 'item-33': [2, 2, 2, 1], 'item-32': [2, 3, 2, 1], 'item-31': [2, 4, 2, 1], 'item-30': [2, 5, 2, 1], 'item-3': [4, 0, 2, 1], 'item-29': [4, 1, 2, 1], 'item-28': [4, 2, 2, 1], 'item-27': [4, 3, 2, 1], 'item-26': [4, 4, 2, 1], 'item-25': [4, 5, 2, 1], 'item-24': [6, 0, 2, 1], 'item-23': [6, 1, 2, 1], 'item-22': [6, 2, 2, 1], 'item-21': [6, 3, 2, 1], 'item-20': [6, 4, 2, 1], 'item-2': [6, 5, 2, 1], 'item-19': [8, 0, 2, 1], 'item-18': [8, 1, 2, 1], 'item-17': [8, 2, 2, 1], 'item-16': [8, 3, 2, 1], 'item-15': [8, 4, 2, 1], 'item-14': [8, 5, 2, 1], 'item-13': [10, 0, 2, 1], 'item-12': [10, 1, 2, 1], 'item-11': [10, 2, 2, 1], 'item-10': [10, 3, 2, 1], 'item-1': [10, 4, 2, 1], 'item-0': [10, 5, 2, 1]}}\n",
      "Solution saved to solution.shp\n"
     ]
    },
    {
     "name": "stderr",
     "output_type": "stream",
     "text": [
      "/Library/Frameworks/Python.framework/Versions/3.12/lib/python3.12/site-packages/pyogrio/raw.py:698: UserWarning:\n",
      "\n",
      "'crs' was not provided.  The output dataset will not have projection information defined and may not be usable in other systems.\n",
      "\n"
     ]
    }
   ],
   "source": [
    "import geopandas as gpd\n",
    "from shapely.geometry import box\n",
    "from hyperpack import HyperPack\n",
    "import re\n",
    "\n",
    "# Función para generar ítems adicionales\n",
    "def generate_items(count, width, height):\n",
    "    items = {}\n",
    "    for i in range(count):\n",
    "        items[f\"item-{i}\"] = {\"w\": width, \"l\": height}\n",
    "    return items\n",
    "\n",
    "# Función para verificar y agregar ítems hasta que se llene el contenedor\n",
    "def pack_items_until_full(container, width, height, initial_count, settings):\n",
    "    count = initial_count  # Comenzamos con el valor inicial calculado\n",
    "    \n",
    "    max_count = 0\n",
    "    while True:\n",
    "        items = generate_items(count, width, height)\n",
    "        problem_data = {\n",
    "            \"containers\": container,\n",
    "            \"items\": items,\n",
    "            \"settings\": settings\n",
    "        }\n",
    "        \n",
    "        # Crear la instancia del problema\n",
    "        problem = HyperPack(**problem_data)\n",
    "        \n",
    "        # Realizar la búsqueda\n",
    "        problem.hypersearch()\n",
    "        \n",
    "        # Obtener la solución\n",
    "        solution_log = problem.log_solution()\n",
    "        print(solution_log)\n",
    "\n",
    "        # Extraer ítems restantes del log\n",
    "        remaining_items_match = re.search(r\"Remaining items : \\[(.*)\\]\", solution_log)\n",
    "        remaining_items = remaining_items_match.group(1).split(\", \") if remaining_items_match else []\n",
    "\n",
    "        # Si hay ítems restantes, hemos terminado\n",
    "        if remaining_items and remaining_items[0] != '':\n",
    "            break\n",
    "        \n",
    "        # Si no hay ítems restantes, almacenar el máximo alcanzado\n",
    "        max_count = count\n",
    "        \n",
    "        # Aumentar el contador de figuras\n",
    "        count += 1\n",
    "    \n",
    "    # Retroceder un paso para la solución final sin residuos\n",
    "    items = generate_items(max_count, width, height)\n",
    "    problem_data = {\n",
    "        \"containers\": container,\n",
    "        \"items\": items,\n",
    "        \"settings\": settings\n",
    "    }\n",
    "    \n",
    "    # Crear la instancia final del problema\n",
    "    problem = HyperPack(**problem_data)\n",
    "    problem.hypersearch()\n",
    "    \n",
    "    # Mostrar la figura final de la solución\n",
    "    problem.create_figure(show=True)\n",
    "    return problem.solution\n",
    "\n",
    "# Función para guardar la solución en un archivo shapefile\n",
    "def save_solution_as_shapefile(solution, filename=\"solution.shp\"):\n",
    "    geometries = []\n",
    "    for container_id, items in solution.items():\n",
    "        for item_id, coords in items.items():\n",
    "            x, y, width, height = coords\n",
    "            rectangle = box(x, y, x + width, y + height)\n",
    "            geometries.append(rectangle)\n",
    "    \n",
    "    gdf = gpd.GeoDataFrame(geometry=geometries)\n",
    "    gdf.to_file(filename, driver=\"ESRI Shapefile\")\n",
    "    print(f\"Solution saved to {filename}\")\n",
    "\n",
    "# Definir la configuración (settings)\n",
    "settings = {\n",
    "    \"algorithm\": \"hypersearch\",\n",
    "    \"max_iterations\": 1000\n",
    "}\n",
    "\n",
    "# Definir el contenedor de 120x60\n",
    "container = {\n",
    "    \"container-0\": {\n",
    "        \"W\": container_width,\n",
    "        \"L\": container_length\n",
    "    }\n",
    "}\n",
    "\n",
    "# Ejecutar la función para empaquetar ítems hasta que se llene el contenedor\n",
    "solution = pack_items_until_full(container, width, height, initial_count, settings)\n",
    "print(\"Final Solution:\")\n",
    "print(solution)\n",
    "\n",
    "# Guardar la solución en un archivo shapefile\n",
    "save_solution_as_shapefile(solution)\n"
   ]
  },
  {
   "cell_type": "code",
   "execution_count": 59,
   "metadata": {},
   "outputs": [
    {
     "name": "stdout",
     "output_type": "stream",
     "text": [
      "Example shapefile created at example_half_circle.shp\n"
     ]
    },
    {
     "name": "stderr",
     "output_type": "stream",
     "text": [
      "/Library/Frameworks/Python.framework/Versions/3.12/lib/python3.12/site-packages/pyogrio/raw.py:698: UserWarning:\n",
      "\n",
      "'crs' was not provided.  The output dataset will not have projection information defined and may not be usable in other systems.\n",
      "\n"
     ]
    },
    {
     "data": {
      "image/png": "[encoded data removed]",
      "text/plain": [
       "<Figure size 640x480 with 1 Axes>"
      ]
     },
     "metadata": {},
     "output_type": "display_data"
    },
    {
     "name": "stderr",
     "output_type": "stream",
     "text": [
      "/var/folders/v7/7x179_695qqc_mlsjrp0m7gm0000gn/T/ipykernel_76190/3596479862.py:55: UserWarning:\n",
      "\n",
      "Legend does not support handles for PatchCollection instances.\n",
      "See: https://matplotlib.org/stable/tutorials/intermediate/legend_guide.html#implementing-a-custom-legend-handler\n",
      "\n"
     ]
    },
    {
     "data": {
      "image/png": "[encoded data removed]",
      "text/plain": [
       "<Figure size 640x480 with 1 Axes>"
      ]
     },
     "metadata": {},
     "output_type": "display_data"
    },
    {
     "name": "stdout",
     "output_type": "stream",
     "text": [
      "Minimum Rotated Rectangle: POLYGON ((1.0000000000000002 0.999874127673875, -0.9999999999999999 0.9998741276738752, -1 0.0000000000000001, 1 -0.0000000000000001, 1.0000000000000002 0.999874127673875))\n",
      "Width: 2, Height: 1\n",
      "Initial Count: 3599\n",
      "\n",
      "Solution Log:\n",
      "Percent total items stored : 100.0000%\n",
      "Container: container-0 120x60\n",
      "\t[util%] : 99.9722%\n",
      "\n",
      "Remaining items : []\n",
      "\n",
      "Solution Log:\n",
      "Percent total items stored : 100.0000%\n",
      "Container: container-0 120x60\n",
      "\t[util%] : 100.0000%\n",
      "\n",
      "Remaining items : []\n",
      "\n",
      "Solution Log:\n",
      "Percent total items stored : 99.9722%\n",
      "Container: container-0 120x60\n",
      "\t[util%] : 100.0000%\n",
      "\n",
      "Remaining items : ['item-0']\n"
     ]
    },
    {
     "name": "stderr",
     "output_type": "stream",
     "text": [
      "If not showing or exporting the figure makes the operation obsolete.\n"
     ]
    },
    {
     "name": "stdout",
     "output_type": "stream",
     "text": [
      "Final Solution:\n",
      "{'container-0': {'item-999': [0, 0, 2, 1], 'item-998': [0, 1, 2, 1], 'item-997': [0, 2, 2, 1], 'item-996': [0, 3, 2, 1], 'item-995': [0, 4, 2, 1], 'item-994': [0, 5, 2, 1], 'item-993': [0, 6, 2, 1], 'item-992': [0, 7, 2, 1], 'item-991': [0, 8, 2, 1], 'item-990': [0, 9, 2, 1], 'item-99': [0, 10, 2, 1], 'item-989': [0, 11, 2, 1], 'item-988': [0, 12, 2, 1], 'item-987': [0, 13, 2, 1], 'item-986': [0, 14, 2, 1], 'item-985': [0, 15, 2, 1], 'item-984': [0, 16, 2, 1], 'item-983': [0, 17, 2, 1], 'item-982': [0, 18, 2, 1], 'item-981': [0, 19, 2, 1], 'item-980': [0, 20, 2, 1], 'item-98': [0, 21, 2, 1], 'item-979': [0, 22, 2, 1], 'item-978': [0, 23, 2, 1], 'item-977': [0, 24, 2, 1], 'item-976': [0, 25, 2, 1], 'item-975': [0, 26, 2, 1], 'item-974': [0, 27, 2, 1], 'item-973': [0, 28, 2, 1], 'item-972': [0, 29, 2, 1], 'item-971': [0, 30, 2, 1], 'item-970': [0, 31, 2, 1], 'item-97': [0, 32, 2, 1], 'item-969': [0, 33, 2, 1], 'item-968': [0, 34, 2, 1], 'item-967': [0, 35, 2, 1], 'item-966': [0, 36, 2, 1], 'item-965': [0, 37, 2, 1], 'item-964': [0, 38, 2, 1], 'item-963': [0, 39, 2, 1], 'item-962': [0, 40, 2, 1], 'item-961': [0, 41, 2, 1], 'item-960': [0, 42, 2, 1], 'item-96': [0, 43, 2, 1], 'item-959': [0, 44, 2, 1], 'item-958': [0, 45, 2, 1], 'item-957': [0, 46, 2, 1], 'item-956': [0, 47, 2, 1], 'item-955': [0, 48, 2, 1], 'item-954': [0, 49, 2, 1], 'item-953': [0, 50, 2, 1], 'item-952': [0, 51, 2, 1], 'item-951': [0, 52, 2, 1], 'item-950': [0, 53, 2, 1], 'item-95': [0, 54, 2, 1], 'item-949': [0, 55, 2, 1], 'item-948': [0, 56, 2, 1], 'item-947': [0, 57, 2, 1], 'item-946': [0, 58, 2, 1], 'item-945': [0, 59, 2, 1], 'item-944': [2, 0, 2, 1], 'item-943': [2, 1, 2, 1], 'item-942': [2, 2, 2, 1], 'item-941': [2, 3, 2, 1], 'item-940': [2, 4, 2, 1], 'item-94': [2, 5, 2, 1], 'item-939': [2, 6, 2, 1], 'item-938': [2, 7, 2, 1], 'item-937': [2, 8, 2, 1], 'item-936': [2, 9, 2, 1], 'item-935': [2, 10, 2, 1], 'item-934': [2, 11, 2, 1], 'item-933': [2, 12, 2, 1], 'item-932': [2, 13, 2, 1], 'item-931': [2, 14, 2, 1], 'item-930': [2, 15, 2, 1], 'item-93': [2, 16, 2, 1], 'item-929': [2, 17, 2, 1], 'item-928': [2, 18, 2, 1], 'item-927': [2, 19, 2, 1], 'item-926': [2, 20, 2, 1], 'item-925': [2, 21, 2, 1], 'item-924': [2, 22, 2, 1], 'item-923': [2, 23, 2, 1], 'item-922': [2, 24, 2, 1], 'item-921': [2, 25, 2, 1], 'item-920': [2, 26, 2, 1], 'item-92': [2, 27, 2, 1], 'item-919': [2, 28, 2, 1], 'item-918': [2, 29, 2, 1], 'item-917': [2, 30, 2, 1], 'item-916': [2, 31, 2, 1], 'item-915': [2, 32, 2, 1], 'item-914': [2, 33, 2, 1], 'item-913': [2, 34, 2, 1], 'item-912': [2, 35, 2, 1], 'item-911': [2, 36, 2, 1], 'item-910': [2, 37, 2, 1], 'item-91': [2, 38, 2, 1], 'item-909': [2, 39, 2, 1], 'item-908': [2, 40, 2, 1], 'item-907': [2, 41, 2, 1], 'item-906': [2, 42, 2, 1], 'item-905': [2, 43, 2, 1], 'item-904': [2, 44, 2, 1], 'item-903': [2, 45, 2, 1], 'item-902': [2, 46, 2, 1], 'item-901': [2, 47, 2, 1], 'item-900': [2, 48, 2, 1], 'item-90': [2, 49, 2, 1], 'item-9': [2, 50, 2, 1], 'item-899': [2, 51, 2, 1], 'item-898': [2, 52, 2, 1], 'item-897': [2, 53, 2, 1], 'item-896': [2, 54, 2, 1], 'item-895': [2, 55, 2, 1], 'item-894': [2, 56, 2, 1], 'item-893': [2, 57, 2, 1], 'item-892': [2, 58, 2, 1], 'item-891': [2, 59, 2, 1], 'item-890': [4, 0, 2, 1], 'item-89': [4, 1, 2, 1], 'item-889': [4, 2, 2, 1], 'item-888': [4, 3, 2, 1], 'item-887': [4, 4, 2, 1], 'item-886': [4, 5, 2, 1], 'item-885': [4, 6, 2, 1], 'item-884': [4, 7, 2, 1], 'item-883': [4, 8, 2, 1], 'item-882': [4, 9, 2, 1], 'item-881': [4, 10, 2, 1], 'item-880': [4, 11, 2, 1], 'item-88': [4, 12, 2, 1], 'item-879': [4, 13, 2, 1], 'item-878': [4, 14, 2, 1], 'item-877': [4, 15, 2, 1], 'item-876': [4, 16, 2, 1], 'item-875': [4, 17, 2, 1], 'item-874': [4, 18, 2, 1], 'item-873': [4, 19, 2, 1], 'item-872': [4, 20, 2, 1], 'item-871': [4, 21, 2, 1], 'item-870': [4, 22, 2, 1], 'item-87': [4, 23, 2, 1], 'item-869': [4, 24, 2, 1], 'item-868': [4, 25, 2, 1], 'item-867': [4, 26, 2, 1], 'item-866': [4, 27, 2, 1], 'item-865': [4, 28, 2, 1], 'item-864': [4, 29, 2, 1], 'item-863': [4, 30, 2, 1], 'item-862': [4, 31, 2, 1], 'item-861': [4, 32, 2, 1], 'item-860': [4, 33, 2, 1], 'item-86': [4, 34, 2, 1], 'item-859': [4, 35, 2, 1], 'item-858': [4, 36, 2, 1], 'item-857': [4, 37, 2, 1], 'item-856': [4, 38, 2, 1], 'item-855': [4, 39, 2, 1], 'item-854': [4, 40, 2, 1], 'item-853': [4, 41, 2, 1], 'item-852': [4, 42, 2, 1], 'item-851': [4, 43, 2, 1], 'item-850': [4, 44, 2, 1], 'item-85': [4, 45, 2, 1], 'item-849': [4, 46, 2, 1], 'item-848': [4, 47, 2, 1], 'item-847': [4, 48, 2, 1], 'item-846': [4, 49, 2, 1], 'item-845': [4, 50, 2, 1], 'item-844': [4, 51, 2, 1], 'item-843': [4, 52, 2, 1], 'item-842': [4, 53, 2, 1], 'item-841': [4, 54, 2, 1], 'item-840': [4, 55, 2, 1], 'item-84': [4, 56, 2, 1], 'item-839': [4, 57, 2, 1], 'item-838': [4, 58, 2, 1], 'item-837': [4, 59, 2, 1], 'item-836': [6, 0, 2, 1], 'item-835': [6, 1, 2, 1], 'item-834': [6, 2, 2, 1], 'item-833': [6, 3, 2, 1], 'item-832': [6, 4, 2, 1], 'item-831': [6, 5, 2, 1], 'item-830': [6, 6, 2, 1], 'item-83': [6, 7, 2, 1], 'item-829': [6, 8, 2, 1], 'item-828': [6, 9, 2, 1], 'item-827': [6, 10, 2, 1], 'item-826': [6, 11, 2, 1], 'item-825': [6, 12, 2, 1], 'item-824': [6, 13, 2, 1], 'item-823': [6, 14, 2, 1], 'item-822': [6, 15, 2, 1], 'item-821': [6, 16, 2, 1], 'item-820': [6, 17, 2, 1], 'item-82': [6, 18, 2, 1], 'item-819': [6, 19, 2, 1], 'item-818': [6, 20, 2, 1], 'item-817': [6, 21, 2, 1], 'item-816': [6, 22, 2, 1], 'item-815': [6, 23, 2, 1], 'item-814': [6, 24, 2, 1], 'item-813': [6, 25, 2, 1], 'item-812': [6, 26, 2, 1], 'item-811': [6, 27, 2, 1], 'item-810': [6, 28, 2, 1], 'item-81': [6, 29, 2, 1], 'item-809': [6, 30, 2, 1], 'item-808': [6, 31, 2, 1], 'item-807': [6, 32, 2, 1], 'item-806': [6, 33, 2, 1], 'item-805': [6, 34, 2, 1], 'item-804': [6, 35, 2, 1], 'item-803': [6, 36, 2, 1], 'item-802': [6, 37, 2, 1], 'item-801': [6, 38, 2, 1], 'item-800': [6, 39, 2, 1], 'item-80': [6, 40, 2, 1], 'item-8': [6, 41, 2, 1], 'item-799': [6, 42, 2, 1], 'item-798': [6, 43, 2, 1], 'item-797': [6, 44, 2, 1], 'item-796': [6, 45, 2, 1], 'item-795': [6, 46, 2, 1], 'item-794': [6, 47, 2, 1], 'item-793': [6, 48, 2, 1], 'item-792': [6, 49, 2, 1], 'item-791': [6, 50, 2, 1], 'item-790': [6, 51, 2, 1], 'item-79': [6, 52, 2, 1], 'item-789': [6, 53, 2, 1], 'item-788': [6, 54, 2, 1], 'item-787': [6, 55, 2, 1], 'item-786': [6, 56, 2, 1], 'item-785': [6, 57, 2, 1], 'item-784': [6, 58, 2, 1], 'item-783': [6, 59, 2, 1], 'item-782': [8, 0, 2, 1], 'item-781': [8, 1, 2, 1], 'item-780': [8, 2, 2, 1], 'item-78': [8, 3, 2, 1], 'item-779': [8, 4, 2, 1], 'item-778': [8, 5, 2, 1], 'item-777': [8, 6, 2, 1], 'item-776': [8, 7, 2, 1], 'item-775': [8, 8, 2, 1], 'item-774': [8, 9, 2, 1], 'item-773': [8, 10, 2, 1], 'item-772': [8, 11, 2, 1], 'item-771': [8, 12, 2, 1], 'item-770': [8, 13, 2, 1], 'item-77': [8, 14, 2, 1], 'item-769': [8, 15, 2, 1], 'item-768': [8, 16, 2, 1], 'item-767': [8, 17, 2, 1], 'item-766': [8, 18, 2, 1], 'item-765': [8, 19, 2, 1], 'item-764': [8, 20, 2, 1], 'item-763': [8, 21, 2, 1], 'item-762': [8, 22, 2, 1], 'item-761': [8, 23, 2, 1], 'item-760': [8, 24, 2, 1], 'item-76': [8, 25, 2, 1], 'item-759': [8, 26, 2, 1], 'item-758': [8, 27, 2, 1], 'item-757': [8, 28, 2, 1], 'item-756': [8, 29, 2, 1], 'item-755': [8, 30, 2, 1], 'item-754': [8, 31, 2, 1], 'item-753': [8, 32, 2, 1], 'item-752': [8, 33, 2, 1], 'item-751': [8, 34, 2, 1], 'item-750': [8, 35, 2, 1], 'item-75': [8, 36, 2, 1], 'item-749': [8, 37, 2, 1], 'item-748': [8, 38, 2, 1], 'item-747': [8, 39, 2, 1], 'item-746': [8, 40, 2, 1], 'item-745': [8, 41, 2, 1], 'item-744': [8, 42, 2, 1], 'item-743': [8, 43, 2, 1], 'item-742': [8, 44, 2, 1], 'item-741': [8, 45, 2, 1], 'item-740': [8, 46, 2, 1], 'item-74': [8, 47, 2, 1], 'item-739': [8, 48, 2, 1], 'item-738': [8, 49, 2, 1], 'item-737': [8, 50, 2, 1], 'item-736': [8, 51, 2, 1], 'item-735': [8, 52, 2, 1], 'item-734': [8, 53, 2, 1], 'item-733': [8, 54, 2, 1], 'item-732': [8, 55, 2, 1], 'item-731': [8, 56, 2, 1], 'item-730': [8, 57, 2, 1], 'item-73': [8, 58, 2, 1], 'item-729': [8, 59, 2, 1], 'item-728': [10, 0, 2, 1], 'item-727': [10, 1, 2, 1], 'item-726': [10, 2, 2, 1], 'item-725': [10, 3, 2, 1], 'item-724': [10, 4, 2, 1], 'item-723': [10, 5, 2, 1], 'item-722': [10, 6, 2, 1], 'item-721': [10, 7, 2, 1], 'item-720': [10, 8, 2, 1], 'item-72': [10, 9, 2, 1], 'item-719': [10, 10, 2, 1], 'item-718': [10, 11, 2, 1], 'item-717': [10, 12, 2, 1], 'item-716': [10, 13, 2, 1], 'item-715': [10, 14, 2, 1], 'item-714': [10, 15, 2, 1], 'item-713': [10, 16, 2, 1], 'item-712': [10, 17, 2, 1], 'item-711': [10, 18, 2, 1], 'item-710': [10, 19, 2, 1], 'item-71': [10, 20, 2, 1], 'item-709': [10, 21, 2, 1], 'item-708': [10, 22, 2, 1], 'item-707': [10, 23, 2, 1], 'item-706': [10, 24, 2, 1], 'item-705': [10, 25, 2, 1], 'item-704': [10, 26, 2, 1], 'item-703': [10, 27, 2, 1], 'item-702': [10, 28, 2, 1], 'item-701': [10, 29, 2, 1], 'item-700': [10, 30, 2, 1], 'item-70': [10, 31, 2, 1], 'item-7': [10, 32, 2, 1], 'item-699': [10, 33, 2, 1], 'item-698': [10, 34, 2, 1], 'item-697': [10, 35, 2, 1], 'item-696': [10, 36, 2, 1], 'item-695': [10, 37, 2, 1], 'item-694': [10, 38, 2, 1], 'item-693': [10, 39, 2, 1], 'item-692': [10, 40, 2, 1], 'item-691': [10, 41, 2, 1], 'item-690': [10, 42, 2, 1], 'item-69': [10, 43, 2, 1], 'item-689': [10, 44, 2, 1], 'item-688': [10, 45, 2, 1], 'item-687': [10, 46, 2, 1], 'item-686': [10, 47, 2, 1], 'item-685': [10, 48, 2, 1], 'item-684': [10, 49, 2, 1], 'item-683': [10, 50, 2, 1], 'item-682': [10, 51, 2, 1], 'item-681': [10, 52, 2, 1], 'item-680': [10, 53, 2, 1], 'item-68': [10, 54, 2, 1], 'item-679': [10, 55, 2, 1], 'item-678': [10, 56, 2, 1], 'item-677': [10, 57, 2, 1], 'item-676': [10, 58, 2, 1], 'item-675': [10, 59, 2, 1], 'item-674': [12, 0, 2, 1], 'item-673': [12, 1, 2, 1], 'item-672': [12, 2, 2, 1], 'item-671': [12, 3, 2, 1], 'item-670': [12, 4, 2, 1], 'item-67': [12, 5, 2, 1], 'item-669': [12, 6, 2, 1], 'item-668': [12, 7, 2, 1], 'item-667': [12, 8, 2, 1], 'item-666': [12, 9, 2, 1], 'item-665': [12, 10, 2, 1], 'item-664': [12, 11, 2, 1], 'item-663': [12, 12, 2, 1], 'item-662': [12, 13, 2, 1], 'item-661': [12, 14, 2, 1], 'item-660': [12, 15, 2, 1], 'item-66': [12, 16, 2, 1], 'item-659': [12, 17, 2, 1], 'item-658': [12, 18, 2, 1], 'item-657': [12, 19, 2, 1], 'item-656': [12, 20, 2, 1], 'item-655': [12, 21, 2, 1], 'item-654': [12, 22, 2, 1], 'item-653': [12, 23, 2, 1], 'item-652': [12, 24, 2, 1], 'item-651': [12, 25, 2, 1], 'item-650': [12, 26, 2, 1], 'item-65': [12, 27, 2, 1], 'item-649': [12, 28, 2, 1], 'item-648': [12, 29, 2, 1], 'item-647': [12, 30, 2, 1], 'item-646': [12, 31, 2, 1], 'item-645': [12, 32, 2, 1], 'item-644': [12, 33, 2, 1], 'item-643': [12, 34, 2, 1], 'item-642': [12, 35, 2, 1], 'item-641': [12, 36, 2, 1], 'item-640': [12, 37, 2, 1], 'item-64': [12, 38, 2, 1], 'item-639': [12, 39, 2, 1], 'item-638': [12, 40, 2, 1], 'item-637': [12, 41, 2, 1], 'item-636': [12, 42, 2, 1], 'item-635': [12, 43, 2, 1], 'item-634': [12, 44, 2, 1], 'item-633': [12, 45, 2, 1], 'item-632': [12, 46, 2, 1], 'item-631': [12, 47, 2, 1], 'item-630': [12, 48, 2, 1], 'item-63': [12, 49, 2, 1], 'item-629': [12, 50, 2, 1], 'item-628': [12, 51, 2, 1], 'item-627': [12, 52, 2, 1], 'item-626': [12, 53, 2, 1], 'item-625': [12, 54, 2, 1], 'item-624': [12, 55, 2, 1], 'item-623': [12, 56, 2, 1], 'item-622': [12, 57, 2, 1], 'item-621': [12, 58, 2, 1], 'item-620': [12, 59, 2, 1], 'item-62': [14, 0, 2, 1], 'item-619': [14, 1, 2, 1], 'item-618': [14, 2, 2, 1], 'item-617': [14, 3, 2, 1], 'item-616': [14, 4, 2, 1], 'item-615': [14, 5, 2, 1], 'item-614': [14, 6, 2, 1], 'item-613': [14, 7, 2, 1], 'item-612': [14, 8, 2, 1], 'item-611': [14, 9, 2, 1], 'item-610': [14, 10, 2, 1], 'item-61': [14, 11, 2, 1], 'item-609': [14, 12, 2, 1], 'item-608': [14, 13, 2, 1], 'item-607': [14, 14, 2, 1], 'item-606': [14, 15, 2, 1], 'item-605': [14, 16, 2, 1], 'item-604': [14, 17, 2, 1], 'item-603': [14, 18, 2, 1], 'item-602': [14, 19, 2, 1], 'item-601': [14, 20, 2, 1], 'item-600': [14, 21, 2, 1], 'item-60': [14, 22, 2, 1], 'item-6': [14, 23, 2, 1], 'item-599': [14, 24, 2, 1], 'item-598': [14, 25, 2, 1], 'item-597': [14, 26, 2, 1], 'item-596': [14, 27, 2, 1], 'item-595': [14, 28, 2, 1], 'item-594': [14, 29, 2, 1], 'item-593': [14, 30, 2, 1], 'item-592': [14, 31, 2, 1], 'item-591': [14, 32, 2, 1], 'item-590': [14, 33, 2, 1], 'item-59': [14, 34, 2, 1], 'item-589': [14, 35, 2, 1], 'item-588': [14, 36, 2, 1], 'item-587': [14, 37, 2, 1], 'item-586': [14, 38, 2, 1], 'item-585': [14, 39, 2, 1], 'item-584': [14, 40, 2, 1], 'item-583': [14, 41, 2, 1], 'item-582': [14, 42, 2, 1], 'item-581': [14, 43, 2, 1], 'item-580': [14, 44, 2, 1], 'item-58': [14, 45, 2, 1], 'item-579': [14, 46, 2, 1], 'item-578': [14, 47, 2, 1], 'item-577': [14, 48, 2, 1], 'item-576': [14, 49, 2, 1], 'item-575': [14, 50, 2, 1], 'item-574': [14, 51, 2, 1], 'item-573': [14, 52, 2, 1], 'item-572': [14, 53, 2, 1], 'item-571': [14, 54, 2, 1], 'item-570': [14, 55, 2, 1], 'item-57': [14, 56, 2, 1], 'item-569': [14, 57, 2, 1], 'item-568': [14, 58, 2, 1], 'item-567': [14, 59, 2, 1], 'item-566': [16, 0, 2, 1], 'item-565': [16, 1, 2, 1], 'item-564': [16, 2, 2, 1], 'item-563': [16, 3, 2, 1], 'item-562': [16, 4, 2, 1], 'item-561': [16, 5, 2, 1], 'item-560': [16, 6, 2, 1], 'item-56': [16, 7, 2, 1], 'item-559': [16, 8, 2, 1], 'item-558': [16, 9, 2, 1], 'item-557': [16, 10, 2, 1], 'item-556': [16, 11, 2, 1], 'item-555': [16, 12, 2, 1], 'item-554': [16, 13, 2, 1], 'item-553': [16, 14, 2, 1], 'item-552': [16, 15, 2, 1], 'item-551': [16, 16, 2, 1], 'item-550': [16, 17, 2, 1], 'item-55': [16, 18, 2, 1], 'item-549': [16, 19, 2, 1], 'item-548': [16, 20, 2, 1], 'item-547': [16, 21, 2, 1], 'item-546': [16, 22, 2, 1], 'item-545': [16, 23, 2, 1], 'item-544': [16, 24, 2, 1], 'item-543': [16, 25, 2, 1], 'item-542': [16, 26, 2, 1], 'item-541': [16, 27, 2, 1], 'item-540': [16, 28, 2, 1], 'item-54': [16, 29, 2, 1], 'item-539': [16, 30, 2, 1], 'item-538': [16, 31, 2, 1], 'item-537': [16, 32, 2, 1], 'item-536': [16, 33, 2, 1], 'item-535': [16, 34, 2, 1], 'item-534': [16, 35, 2, 1], 'item-533': [16, 36, 2, 1], 'item-532': [16, 37, 2, 1], 'item-531': [16, 38, 2, 1], 'item-530': [16, 39, 2, 1], 'item-53': [16, 40, 2, 1], 'item-529': [16, 41, 2, 1], 'item-528': [16, 42, 2, 1], 'item-527': [16, 43, 2, 1], 'item-526': [16, 44, 2, 1], 'item-525': [16, 45, 2, 1], 'item-524': [16, 46, 2, 1], 'item-523': [16, 47, 2, 1], 'item-522': [16, 48, 2, 1], 'item-521': [16, 49, 2, 1], 'item-520': [16, 50, 2, 1], 'item-52': [16, 51, 2, 1], 'item-519': [16, 52, 2, 1], 'item-518': [16, 53, 2, 1], 'item-517': [16, 54, 2, 1], 'item-516': [16, 55, 2, 1], 'item-515': [16, 56, 2, 1], 'item-514': [16, 57, 2, 1], 'item-513': [16, 58, 2, 1], 'item-512': [16, 59, 2, 1], 'item-511': [18, 0, 2, 1], 'item-510': [18, 1, 2, 1], 'item-51': [18, 2, 2, 1], 'item-509': [18, 3, 2, 1], 'item-508': [18, 4, 2, 1], 'item-507': [18, 5, 2, 1], 'item-506': [18, 6, 2, 1], 'item-505': [18, 7, 2, 1], 'item-504': [18, 8, 2, 1], 'item-503': [18, 9, 2, 1], 'item-502': [18, 10, 2, 1], 'item-501': [18, 11, 2, 1], 'item-500': [18, 12, 2, 1], 'item-50': [18, 13, 2, 1], 'item-5': [18, 14, 2, 1], 'item-499': [18, 15, 2, 1], 'item-498': [18, 16, 2, 1], 'item-497': [18, 17, 2, 1], 'item-496': [18, 18, 2, 1], 'item-495': [18, 19, 2, 1], 'item-494': [18, 20, 2, 1], 'item-493': [18, 21, 2, 1], 'item-492': [18, 22, 2, 1], 'item-491': [18, 23, 2, 1], 'item-490': [18, 24, 2, 1], 'item-49': [18, 25, 2, 1], 'item-489': [18, 26, 2, 1], 'item-488': [18, 27, 2, 1], 'item-487': [18, 28, 2, 1], 'item-486': [18, 29, 2, 1], 'item-485': [18, 30, 2, 1], 'item-484': [18, 31, 2, 1], 'item-483': [18, 32, 2, 1], 'item-482': [18, 33, 2, 1], 'item-481': [18, 34, 2, 1], 'item-480': [18, 35, 2, 1], 'item-48': [18, 36, 2, 1], 'item-479': [18, 37, 2, 1], 'item-478': [18, 38, 2, 1], 'item-477': [18, 39, 2, 1], 'item-476': [18, 40, 2, 1], 'item-475': [18, 41, 2, 1], 'item-474': [18, 42, 2, 1], 'item-473': [18, 43, 2, 1], 'item-472': [18, 44, 2, 1], 'item-471': [18, 45, 2, 1], 'item-470': [18, 46, 2, 1], 'item-47': [18, 47, 2, 1], 'item-469': [18, 48, 2, 1], 'item-468': [18, 49, 2, 1], 'item-467': [18, 50, 2, 1], 'item-466': [18, 51, 2, 1], 'item-465': [18, 52, 2, 1], 'item-464': [18, 53, 2, 1], 'item-463': [18, 54, 2, 1], 'item-462': [18, 55, 2, 1], 'item-461': [18, 56, 2, 1], 'item-460': [18, 57, 2, 1], 'item-46': [18, 58, 2, 1], 'item-459': [18, 59, 2, 1], 'item-458': [20, 0, 2, 1], 'item-457': [20, 1, 2, 1], 'item-456': [20, 2, 2, 1], 'item-455': [20, 3, 2, 1], 'item-454': [20, 4, 2, 1], 'item-453': [20, 5, 2, 1], 'item-452': [20, 6, 2, 1], 'item-451': [20, 7, 2, 1], 'item-450': [20, 8, 2, 1], 'item-45': [20, 9, 2, 1], 'item-449': [20, 10, 2, 1], 'item-448': [20, 11, 2, 1], 'item-447': [20, 12, 2, 1], 'item-446': [20, 13, 2, 1], 'item-445': [20, 14, 2, 1], 'item-444': [20, 15, 2, 1], 'item-443': [20, 16, 2, 1], 'item-442': [20, 17, 2, 1], 'item-441': [20, 18, 2, 1], 'item-440': [20, 19, 2, 1], 'item-44': [20, 20, 2, 1], 'item-439': [20, 21, 2, 1], 'item-438': [20, 22, 2, 1], 'item-437': [20, 23, 2, 1], 'item-436': [20, 24, 2, 1], 'item-435': [20, 25, 2, 1], 'item-434': [20, 26, 2, 1], 'item-433': [20, 27, 2, 1], 'item-432': [20, 28, 2, 1], 'item-431': [20, 29, 2, 1], 'item-430': [20, 30, 2, 1], 'item-43': [20, 31, 2, 1], 'item-429': [20, 32, 2, 1], 'item-428': [20, 33, 2, 1], 'item-427': [20, 34, 2, 1], 'item-426': [20, 35, 2, 1], 'item-425': [20, 36, 2, 1], 'item-424': [20, 37, 2, 1], 'item-423': [20, 38, 2, 1], 'item-422': [20, 39, 2, 1], 'item-421': [20, 40, 2, 1], 'item-420': [20, 41, 2, 1], 'item-42': [20, 42, 2, 1], 'item-419': [20, 43, 2, 1], 'item-418': [20, 44, 2, 1], 'item-417': [20, 45, 2, 1], 'item-416': [20, 46, 2, 1], 'item-415': [20, 47, 2, 1], 'item-414': [20, 48, 2, 1], 'item-413': [20, 49, 2, 1], 'item-412': [20, 50, 2, 1], 'item-411': [20, 51, 2, 1], 'item-410': [20, 52, 2, 1], 'item-41': [20, 53, 2, 1], 'item-409': [20, 54, 2, 1], 'item-408': [20, 55, 2, 1], 'item-407': [20, 56, 2, 1], 'item-406': [20, 57, 2, 1], 'item-405': [20, 58, 2, 1], 'item-404': [20, 59, 2, 1], 'item-403': [22, 0, 2, 1], 'item-402': [22, 1, 2, 1], 'item-401': [22, 2, 2, 1], 'item-400': [22, 3, 2, 1], 'item-40': [22, 4, 2, 1], 'item-4': [22, 5, 2, 1], 'item-399': [22, 6, 2, 1], 'item-398': [22, 7, 2, 1], 'item-397': [22, 8, 2, 1], 'item-396': [22, 9, 2, 1], 'item-395': [22, 10, 2, 1], 'item-394': [22, 11, 2, 1], 'item-393': [22, 12, 2, 1], 'item-392': [22, 13, 2, 1], 'item-391': [22, 14, 2, 1], 'item-390': [22, 15, 2, 1], 'item-39': [22, 16, 2, 1], 'item-389': [22, 17, 2, 1], 'item-388': [22, 18, 2, 1], 'item-387': [22, 19, 2, 1], 'item-386': [22, 20, 2, 1], 'item-385': [22, 21, 2, 1], 'item-384': [22, 22, 2, 1], 'item-383': [22, 23, 2, 1], 'item-382': [22, 24, 2, 1], 'item-381': [22, 25, 2, 1], 'item-380': [22, 26, 2, 1], 'item-38': [22, 27, 2, 1], 'item-379': [22, 28, 2, 1], 'item-378': [22, 29, 2, 1], 'item-377': [22, 30, 2, 1], 'item-376': [22, 31, 2, 1], 'item-375': [22, 32, 2, 1], 'item-374': [22, 33, 2, 1], 'item-373': [22, 34, 2, 1], 'item-372': [22, 35, 2, 1], 'item-371': [22, 36, 2, 1], 'item-370': [22, 37, 2, 1], 'item-37': [22, 38, 2, 1], 'item-369': [22, 39, 2, 1], 'item-368': [22, 40, 2, 1], 'item-367': [22, 41, 2, 1], 'item-366': [22, 42, 2, 1], 'item-365': [22, 43, 2, 1], 'item-364': [22, 44, 2, 1], 'item-363': [22, 45, 2, 1], 'item-362': [22, 46, 2, 1], 'item-361': [22, 47, 2, 1], 'item-360': [22, 48, 2, 1], 'item-36': [22, 49, 2, 1], 'item-3599': [22, 50, 2, 1], 'item-3598': [22, 51, 2, 1], 'item-3597': [22, 52, 2, 1], 'item-3596': [22, 53, 2, 1], 'item-3595': [22, 54, 2, 1], 'item-3594': [22, 55, 2, 1], 'item-3593': [22, 56, 2, 1], 'item-3592': [22, 57, 2, 1], 'item-3591': [22, 58, 2, 1], 'item-3590': [22, 59, 2, 1], 'item-359': [24, 0, 2, 1], 'item-3589': [24, 1, 2, 1], 'item-3588': [24, 2, 2, 1], 'item-3587': [24, 3, 2, 1], 'item-3586': [24, 4, 2, 1], 'item-3585': [24, 5, 2, 1], 'item-3584': [24, 6, 2, 1], 'item-3583': [24, 7, 2, 1], 'item-3582': [24, 8, 2, 1], 'item-3581': [24, 9, 2, 1], 'item-3580': [24, 10, 2, 1], 'item-358': [24, 11, 2, 1], 'item-3579': [24, 12, 2, 1], 'item-3578': [24, 13, 2, 1], 'item-3577': [24, 14, 2, 1], 'item-3576': [24, 15, 2, 1], 'item-3575': [24, 16, 2, 1], 'item-3574': [24, 17, 2, 1], 'item-3573': [24, 18, 2, 1], 'item-3572': [24, 19, 2, 1], 'item-3571': [24, 20, 2, 1], 'item-3570': [24, 21, 2, 1], 'item-357': [24, 22, 2, 1], 'item-3569': [24, 23, 2, 1], 'item-3568': [24, 24, 2, 1], 'item-3567': [24, 25, 2, 1], 'item-3566': [24, 26, 2, 1], 'item-3565': [24, 27, 2, 1], 'item-3564': [24, 28, 2, 1], 'item-3563': [24, 29, 2, 1], 'item-3562': [24, 30, 2, 1], 'item-3561': [24, 31, 2, 1], 'item-3560': [24, 32, 2, 1], 'item-356': [24, 33, 2, 1], 'item-3559': [24, 34, 2, 1], 'item-3558': [24, 35, 2, 1], 'item-3557': [24, 36, 2, 1], 'item-3556': [24, 37, 2, 1], 'item-3555': [24, 38, 2, 1], 'item-3554': [24, 39, 2, 1], 'item-3553': [24, 40, 2, 1], 'item-3552': [24, 41, 2, 1], 'item-3551': [24, 42, 2, 1], 'item-3550': [24, 43, 2, 1], 'item-355': [24, 44, 2, 1], 'item-3549': [24, 45, 2, 1], 'item-3548': [24, 46, 2, 1], 'item-3547': [24, 47, 2, 1], 'item-3546': [24, 48, 2, 1], 'item-3545': [24, 49, 2, 1], 'item-3544': [24, 50, 2, 1], 'item-3543': [24, 51, 2, 1], 'item-3542': [24, 52, 2, 1], 'item-3541': [24, 53, 2, 1], 'item-3540': [24, 54, 2, 1], 'item-354': [24, 55, 2, 1], 'item-3539': [24, 56, 2, 1], 'item-3538': [24, 57, 2, 1], 'item-3537': [24, 58, 2, 1], 'item-3536': [24, 59, 2, 1], 'item-3535': [26, 0, 2, 1], 'item-3534': [26, 1, 2, 1], 'item-3533': [26, 2, 2, 1], 'item-3532': [26, 3, 2, 1], 'item-3531': [26, 4, 2, 1], 'item-3530': [26, 5, 2, 1], 'item-353': [26, 6, 2, 1], 'item-3529': [26, 7, 2, 1], 'item-3528': [26, 8, 2, 1], 'item-3527': [26, 9, 2, 1], 'item-3526': [26, 10, 2, 1], 'item-3525': [26, 11, 2, 1], 'item-3524': [26, 12, 2, 1], 'item-3523': [26, 13, 2, 1], 'item-3522': [26, 14, 2, 1], 'item-3521': [26, 15, 2, 1], 'item-3520': [26, 16, 2, 1], 'item-352': [26, 17, 2, 1], 'item-3519': [26, 18, 2, 1], 'item-3518': [26, 19, 2, 1], 'item-3517': [26, 20, 2, 1], 'item-3516': [26, 21, 2, 1], 'item-3515': [26, 22, 2, 1], 'item-3514': [26, 23, 2, 1], 'item-3513': [26, 24, 2, 1], 'item-3512': [26, 25, 2, 1], 'item-3511': [26, 26, 2, 1], 'item-3510': [26, 27, 2, 1], 'item-351': [26, 28, 2, 1], 'item-3509': [26, 29, 2, 1], 'item-3508': [26, 30, 2, 1], 'item-3507': [26, 31, 2, 1], 'item-3506': [26, 32, 2, 1], 'item-3505': [26, 33, 2, 1], 'item-3504': [26, 34, 2, 1], 'item-3503': [26, 35, 2, 1], 'item-3502': [26, 36, 2, 1], 'item-3501': [26, 37, 2, 1], 'item-3500': [26, 38, 2, 1], 'item-350': [26, 39, 2, 1], 'item-35': [26, 40, 2, 1], 'item-3499': [26, 41, 2, 1], 'item-3498': [26, 42, 2, 1], 'item-3497': [26, 43, 2, 1], 'item-3496': [26, 44, 2, 1], 'item-3495': [26, 45, 2, 1], 'item-3494': [26, 46, 2, 1], 'item-3493': [26, 47, 2, 1], 'item-3492': [26, 48, 2, 1], 'item-3491': [26, 49, 2, 1], 'item-3490': [26, 50, 2, 1], 'item-349': [26, 51, 2, 1], 'item-3489': [26, 52, 2, 1], 'item-3488': [26, 53, 2, 1], 'item-3487': [26, 54, 2, 1], 'item-3486': [26, 55, 2, 1], 'item-3485': [26, 56, 2, 1], 'item-3484': [26, 57, 2, 1], 'item-3483': [26, 58, 2, 1], 'item-3482': [26, 59, 2, 1], 'item-3481': [28, 0, 2, 1], 'item-3480': [28, 1, 2, 1], 'item-348': [28, 2, 2, 1], 'item-3479': [28, 3, 2, 1], 'item-3478': [28, 4, 2, 1], 'item-3477': [28, 5, 2, 1], 'item-3476': [28, 6, 2, 1], 'item-3475': [28, 7, 2, 1], 'item-3474': [28, 8, 2, 1], 'item-3473': [28, 9, 2, 1], 'item-3472': [28, 10, 2, 1], 'item-3471': [28, 11, 2, 1], 'item-3470': [28, 12, 2, 1], 'item-347': [28, 13, 2, 1], 'item-3469': [28, 14, 2, 1], 'item-3468': [28, 15, 2, 1], 'item-3467': [28, 16, 2, 1], 'item-3466': [28, 17, 2, 1], 'item-3465': [28, 18, 2, 1], 'item-3464': [28, 19, 2, 1], 'item-3463': [28, 20, 2, 1], 'item-3462': [28, 21, 2, 1], 'item-3461': [28, 22, 2, 1], 'item-3460': [28, 23, 2, 1], 'item-346': [28, 24, 2, 1], 'item-3459': [28, 25, 2, 1], 'item-3458': [28, 26, 2, 1], 'item-3457': [28, 27, 2, 1], 'item-3456': [28, 28, 2, 1], 'item-3455': [28, 29, 2, 1], 'item-3454': [28, 30, 2, 1], 'item-3453': [28, 31, 2, 1], 'item-3452': [28, 32, 2, 1], 'item-3451': [28, 33, 2, 1], 'item-3450': [28, 34, 2, 1], 'item-345': [28, 35, 2, 1], 'item-3449': [28, 36, 2, 1], 'item-3448': [28, 37, 2, 1], 'item-3447': [28, 38, 2, 1], 'item-3446': [28, 39, 2, 1], 'item-3445': [28, 40, 2, 1], 'item-3444': [28, 41, 2, 1], 'item-3443': [28, 42, 2, 1], 'item-3442': [28, 43, 2, 1], 'item-3441': [28, 44, 2, 1], 'item-3440': [28, 45, 2, 1], 'item-344': [28, 46, 2, 1], 'item-3439': [28, 47, 2, 1], 'item-3438': [28, 48, 2, 1], 'item-3437': [28, 49, 2, 1], 'item-3436': [28, 50, 2, 1], 'item-3435': [28, 51, 2, 1], 'item-3434': [28, 52, 2, 1], 'item-3433': [28, 53, 2, 1], 'item-3432': [28, 54, 2, 1], 'item-3431': [28, 55, 2, 1], 'item-3430': [28, 56, 2, 1], 'item-343': [28, 57, 2, 1], 'item-3429': [28, 58, 2, 1], 'item-3428': [28, 59, 2, 1], 'item-3427': [30, 0, 2, 1], 'item-3426': [30, 1, 2, 1], 'item-3425': [30, 2, 2, 1], 'item-3424': [30, 3, 2, 1], 'item-3423': [30, 4, 2, 1], 'item-3422': [30, 5, 2, 1], 'item-3421': [30, 6, 2, 1], 'item-3420': [30, 7, 2, 1], 'item-342': [30, 8, 2, 1], 'item-3419': [30, 9, 2, 1], 'item-3418': [30, 10, 2, 1], 'item-3417': [30, 11, 2, 1], 'item-3416': [30, 12, 2, 1], 'item-3415': [30, 13, 2, 1], 'item-3414': [30, 14, 2, 1], 'item-3413': [30, 15, 2, 1], 'item-3412': [30, 16, 2, 1], 'item-3411': [30, 17, 2, 1], 'item-3410': [30, 18, 2, 1], 'item-341': [30, 19, 2, 1], 'item-3409': [30, 20, 2, 1], 'item-3408': [30, 21, 2, 1], 'item-3407': [30, 22, 2, 1], 'item-3406': [30, 23, 2, 1], 'item-3405': [30, 24, 2, 1], 'item-3404': [30, 25, 2, 1], 'item-3403': [30, 26, 2, 1], 'item-3402': [30, 27, 2, 1], 'item-3401': [30, 28, 2, 1], 'item-3400': [30, 29, 2, 1], 'item-340': [30, 30, 2, 1], 'item-34': [30, 31, 2, 1], 'item-3399': [30, 32, 2, 1], 'item-3398': [30, 33, 2, 1], 'item-3397': [30, 34, 2, 1], 'item-3396': [30, 35, 2, 1], 'item-3395': [30, 36, 2, 1], 'item-3394': [30, 37, 2, 1], 'item-3393': [30, 38, 2, 1], 'item-3392': [30, 39, 2, 1], 'item-3391': [30, 40, 2, 1], 'item-3390': [30, 41, 2, 1], 'item-339': [30, 42, 2, 1], 'item-3389': [30, 43, 2, 1], 'item-3388': [30, 44, 2, 1], 'item-3387': [30, 45, 2, 1], 'item-3386': [30, 46, 2, 1], 'item-3385': [30, 47, 2, 1], 'item-3384': [30, 48, 2, 1], 'item-3383': [30, 49, 2, 1], 'item-3382': [30, 50, 2, 1], 'item-3381': [30, 51, 2, 1], 'item-3380': [30, 52, 2, 1], 'item-338': [30, 53, 2, 1], 'item-3379': [30, 54, 2, 1], 'item-3378': [30, 55, 2, 1], 'item-3377': [30, 56, 2, 1], 'item-3376': [30, 57, 2, 1], 'item-3375': [30, 58, 2, 1], 'item-3374': [30, 59, 2, 1], 'item-3373': [32, 0, 2, 1], 'item-3372': [32, 1, 2, 1], 'item-3371': [32, 2, 2, 1], 'item-3370': [32, 3, 2, 1], 'item-337': [32, 4, 2, 1], 'item-3369': [32, 5, 2, 1], 'item-3368': [32, 6, 2, 1], 'item-3367': [32, 7, 2, 1], 'item-3366': [32, 8, 2, 1], 'item-3365': [32, 9, 2, 1], 'item-3364': [32, 10, 2, 1], 'item-3363': [32, 11, 2, 1], 'item-3362': [32, 12, 2, 1], 'item-3361': [32, 13, 2, 1], 'item-3360': [32, 14, 2, 1], 'item-336': [32, 15, 2, 1], 'item-3359': [32, 16, 2, 1], 'item-3358': [32, 17, 2, 1], 'item-3357': [32, 18, 2, 1], 'item-3356': [32, 19, 2, 1], 'item-3355': [32, 20, 2, 1], 'item-3354': [32, 21, 2, 1], 'item-3353': [32, 22, 2, 1], 'item-3352': [32, 23, 2, 1], 'item-3351': [32, 24, 2, 1], 'item-3350': [32, 25, 2, 1], 'item-335': [32, 26, 2, 1], 'item-3349': [32, 27, 2, 1], 'item-3348': [32, 28, 2, 1], 'item-3347': [32, 29, 2, 1], 'item-3346': [32, 30, 2, 1], 'item-3345': [32, 31, 2, 1], 'item-3344': [32, 32, 2, 1], 'item-3343': [32, 33, 2, 1], 'item-3342': [32, 34, 2, 1], 'item-3341': [32, 35, 2, 1], 'item-3340': [32, 36, 2, 1], 'item-334': [32, 37, 2, 1], 'item-3339': [32, 38, 2, 1], 'item-3338': [32, 39, 2, 1], 'item-3337': [32, 40, 2, 1], 'item-3336': [32, 41, 2, 1], 'item-3335': [32, 42, 2, 1], 'item-3334': [32, 43, 2, 1], 'item-3333': [32, 44, 2, 1], 'item-3332': [32, 45, 2, 1], 'item-3331': [32, 46, 2, 1], 'item-3330': [32, 47, 2, 1], 'item-333': [32, 48, 2, 1], 'item-3329': [32, 49, 2, 1], 'item-3328': [32, 50, 2, 1], 'item-3327': [32, 51, 2, 1], 'item-3326': [32, 52, 2, 1], 'item-3325': [32, 53, 2, 1], 'item-3324': [32, 54, 2, 1], 'item-3323': [32, 55, 2, 1], 'item-3322': [32, 56, 2, 1], 'item-3321': [32, 57, 2, 1], 'item-3320': [32, 58, 2, 1], 'item-332': [32, 59, 2, 1], 'item-3319': [34, 0, 2, 1], 'item-3318': [34, 1, 2, 1], 'item-3317': [34, 2, 2, 1], 'item-3316': [34, 3, 2, 1], 'item-3315': [34, 4, 2, 1], 'item-3314': [34, 5, 2, 1], 'item-3313': [34, 6, 2, 1], 'item-3312': [34, 7, 2, 1], 'item-3311': [34, 8, 2, 1], 'item-3310': [34, 9, 2, 1], 'item-331': [34, 10, 2, 1], 'item-3309': [34, 11, 2, 1], 'item-3308': [34, 12, 2, 1], 'item-3307': [34, 13, 2, 1], 'item-3306': [34, 14, 2, 1], 'item-3305': [34, 15, 2, 1], 'item-3304': [34, 16, 2, 1], 'item-3303': [34, 17, 2, 1], 'item-3302': [34, 18, 2, 1], 'item-3301': [34, 19, 2, 1], 'item-3300': [34, 20, 2, 1], 'item-330': [34, 21, 2, 1], 'item-33': [34, 22, 2, 1], 'item-3299': [34, 23, 2, 1], 'item-3298': [34, 24, 2, 1], 'item-3297': [34, 25, 2, 1], 'item-3296': [34, 26, 2, 1], 'item-3295': [34, 27, 2, 1], 'item-3294': [34, 28, 2, 1], 'item-3293': [34, 29, 2, 1], 'item-3292': [34, 30, 2, 1], 'item-3291': [34, 31, 2, 1], 'item-3290': [34, 32, 2, 1], 'item-329': [34, 33, 2, 1], 'item-3289': [34, 34, 2, 1], 'item-3288': [34, 35, 2, 1], 'item-3287': [34, 36, 2, 1], 'item-3286': [34, 37, 2, 1], 'item-3285': [34, 38, 2, 1], 'item-3284': [34, 39, 2, 1], 'item-3283': [34, 40, 2, 1], 'item-3282': [34, 41, 2, 1], 'item-3281': [34, 42, 2, 1], 'item-3280': [34, 43, 2, 1], 'item-328': [34, 44, 2, 1], 'item-3279': [34, 45, 2, 1], 'item-3278': [34, 46, 2, 1], 'item-3277': [34, 47, 2, 1], 'item-3276': [34, 48, 2, 1], 'item-3275': [34, 49, 2, 1], 'item-3274': [34, 50, 2, 1], 'item-3273': [34, 51, 2, 1], 'item-3272': [34, 52, 2, 1], 'item-3271': [34, 53, 2, 1], 'item-3270': [34, 54, 2, 1], 'item-327': [34, 55, 2, 1], 'item-3269': [34, 56, 2, 1], 'item-3268': [34, 57, 2, 1], 'item-3267': [34, 58, 2, 1], 'item-3266': [34, 59, 2, 1], 'item-3265': [36, 0, 2, 1], 'item-3264': [36, 1, 2, 1], 'item-3263': [36, 2, 2, 1], 'item-3262': [36, 3, 2, 1], 'item-3261': [36, 4, 2, 1], 'item-3260': [36, 5, 2, 1], 'item-326': [36, 6, 2, 1], 'item-3259': [36, 7, 2, 1], 'item-3258': [36, 8, 2, 1], 'item-3257': [36, 9, 2, 1], 'item-3256': [36, 10, 2, 1], 'item-3255': [36, 11, 2, 1], 'item-3254': [36, 12, 2, 1], 'item-3253': [36, 13, 2, 1], 'item-3252': [36, 14, 2, 1], 'item-3251': [36, 15, 2, 1], 'item-3250': [36, 16, 2, 1], 'item-325': [36, 17, 2, 1], 'item-3249': [36, 18, 2, 1], 'item-3248': [36, 19, 2, 1], 'item-3247': [36, 20, 2, 1], 'item-3246': [36, 21, 2, 1], 'item-3245': [36, 22, 2, 1], 'item-3244': [36, 23, 2, 1], 'item-3243': [36, 24, 2, 1], 'item-3242': [36, 25, 2, 1], 'item-3241': [36, 26, 2, 1], 'item-3240': [36, 27, 2, 1], 'item-324': [36, 28, 2, 1], 'item-3239': [36, 29, 2, 1], 'item-3238': [36, 30, 2, 1], 'item-3237': [36, 31, 2, 1], 'item-3236': [36, 32, 2, 1], 'item-3235': [36, 33, 2, 1], 'item-3234': [36, 34, 2, 1], 'item-3233': [36, 35, 2, 1], 'item-3232': [36, 36, 2, 1], 'item-3231': [36, 37, 2, 1], 'item-3230': [36, 38, 2, 1], 'item-323': [36, 39, 2, 1], 'item-3229': [36, 40, 2, 1], 'item-3228': [36, 41, 2, 1], 'item-3227': [36, 42, 2, 1], 'item-3226': [36, 43, 2, 1], 'item-3225': [36, 44, 2, 1], 'item-3224': [36, 45, 2, 1], 'item-3223': [36, 46, 2, 1], 'item-3222': [36, 47, 2, 1], 'item-3221': [36, 48, 2, 1], 'item-3220': [36, 49, 2, 1], 'item-322': [36, 50, 2, 1], 'item-3219': [36, 51, 2, 1], 'item-3218': [36, 52, 2, 1], 'item-3217': [36, 53, 2, 1], 'item-3216': [36, 54, 2, 1], 'item-3215': [36, 55, 2, 1], 'item-3214': [36, 56, 2, 1], 'item-3213': [36, 57, 2, 1], 'item-3212': [36, 58, 2, 1], 'item-3211': [36, 59, 2, 1], 'item-3210': [38, 0, 2, 1], 'item-321': [38, 1, 2, 1], 'item-3209': [38, 2, 2, 1], 'item-3208': [38, 3, 2, 1], 'item-3207': [38, 4, 2, 1], 'item-3206': [38, 5, 2, 1], 'item-3205': [38, 6, 2, 1], 'item-3204': [38, 7, 2, 1], 'item-3203': [38, 8, 2, 1], 'item-3202': [38, 9, 2, 1], 'item-3201': [38, 10, 2, 1], 'item-3200': [38, 11, 2, 1], 'item-320': [38, 12, 2, 1], 'item-32': [38, 13, 2, 1], 'item-3199': [38, 14, 2, 1], 'item-3198': [38, 15, 2, 1], 'item-3197': [38, 16, 2, 1], 'item-3196': [38, 17, 2, 1], 'item-3195': [38, 18, 2, 1], 'item-3194': [38, 19, 2, 1], 'item-3193': [38, 20, 2, 1], 'item-3192': [38, 21, 2, 1], 'item-3191': [38, 22, 2, 1], 'item-3190': [38, 23, 2, 1], 'item-319': [38, 24, 2, 1], 'item-3189': [38, 25, 2, 1], 'item-3188': [38, 26, 2, 1], 'item-3187': [38, 27, 2, 1], 'item-3186': [38, 28, 2, 1], 'item-3185': [38, 29, 2, 1], 'item-3184': [38, 30, 2, 1], 'item-3183': [38, 31, 2, 1], 'item-3182': [38, 32, 2, 1], 'item-3181': [38, 33, 2, 1], 'item-3180': [38, 34, 2, 1], 'item-318': [38, 35, 2, 1], 'item-3179': [38, 36, 2, 1], 'item-3178': [38, 37, 2, 1], 'item-3177': [38, 38, 2, 1], 'item-3176': [38, 39, 2, 1], 'item-3175': [38, 40, 2, 1], 'item-3174': [38, 41, 2, 1], 'item-3173': [38, 42, 2, 1], 'item-3172': [38, 43, 2, 1], 'item-3171': [38, 44, 2, 1], 'item-3170': [38, 45, 2, 1], 'item-317': [38, 46, 2, 1], 'item-3169': [38, 47, 2, 1], 'item-3168': [38, 48, 2, 1], 'item-3167': [38, 49, 2, 1], 'item-3166': [38, 50, 2, 1], 'item-3165': [38, 51, 2, 1], 'item-3164': [38, 52, 2, 1], 'item-3163': [38, 53, 2, 1], 'item-3162': [38, 54, 2, 1], 'item-3161': [38, 55, 2, 1], 'item-3160': [38, 56, 2, 1], 'item-316': [38, 57, 2, 1], 'item-3159': [38, 58, 2, 1], 'item-3158': [38, 59, 2, 1], 'item-3157': [40, 0, 2, 1], 'item-3156': [40, 1, 2, 1], 'item-3155': [40, 2, 2, 1], 'item-3154': [40, 3, 2, 1], 'item-3153': [40, 4, 2, 1], 'item-3152': [40, 5, 2, 1], 'item-3151': [40, 6, 2, 1], 'item-3150': [40, 7, 2, 1], 'item-315': [40, 8, 2, 1], 'item-3149': [40, 9, 2, 1], 'item-3148': [40, 10, 2, 1], 'item-3147': [40, 11, 2, 1], 'item-3146': [40, 12, 2, 1], 'item-3145': [40, 13, 2, 1], 'item-3144': [40, 14, 2, 1], 'item-3143': [40, 15, 2, 1], 'item-3142': [40, 16, 2, 1], 'item-3141': [40, 17, 2, 1], 'item-3140': [40, 18, 2, 1], 'item-314': [40, 19, 2, 1], 'item-3139': [40, 20, 2, 1], 'item-3138': [40, 21, 2, 1], 'item-3137': [40, 22, 2, 1], 'item-3136': [40, 23, 2, 1], 'item-3135': [40, 24, 2, 1], 'item-3134': [40, 25, 2, 1], 'item-3133': [40, 26, 2, 1], 'item-3132': [40, 27, 2, 1], 'item-3131': [40, 28, 2, 1], 'item-3130': [40, 29, 2, 1], 'item-313': [40, 30, 2, 1], 'item-3129': [40, 31, 2, 1], 'item-3128': [40, 32, 2, 1], 'item-3127': [40, 33, 2, 1], 'item-3126': [40, 34, 2, 1], 'item-3125': [40, 35, 2, 1], 'item-3124': [40, 36, 2, 1], 'item-3123': [40, 37, 2, 1], 'item-3122': [40, 38, 2, 1], 'item-3121': [40, 39, 2, 1], 'item-3120': [40, 40, 2, 1], 'item-312': [40, 41, 2, 1], 'item-3119': [40, 42, 2, 1], 'item-3118': [40, 43, 2, 1], 'item-3117': [40, 44, 2, 1], 'item-3116': [40, 45, 2, 1], 'item-3115': [40, 46, 2, 1], 'item-3114': [40, 47, 2, 1], 'item-3113': [40, 48, 2, 1], 'item-3112': [40, 49, 2, 1], 'item-3111': [40, 50, 2, 1], 'item-3110': [40, 51, 2, 1], 'item-311': [40, 52, 2, 1], 'item-3109': [40, 53, 2, 1], 'item-3108': [40, 54, 2, 1], 'item-3107': [40, 55, 2, 1], 'item-3106': [40, 56, 2, 1], 'item-3105': [40, 57, 2, 1], 'item-3104': [40, 58, 2, 1], 'item-3103': [40, 59, 2, 1], 'item-3102': [42, 0, 2, 1], 'item-3101': [42, 1, 2, 1], 'item-3100': [42, 2, 2, 1], 'item-310': [42, 3, 2, 1], 'item-31': [42, 4, 2, 1], 'item-3099': [42, 5, 2, 1], 'item-3098': [42, 6, 2, 1], 'item-3097': [42, 7, 2, 1], 'item-3096': [42, 8, 2, 1], 'item-3095': [42, 9, 2, 1], 'item-3094': [42, 10, 2, 1], 'item-3093': [42, 11, 2, 1], 'item-3092': [42, 12, 2, 1], 'item-3091': [42, 13, 2, 1], 'item-3090': [42, 14, 2, 1], 'item-309': [42, 15, 2, 1], 'item-3089': [42, 16, 2, 1], 'item-3088': [42, 17, 2, 1], 'item-3087': [42, 18, 2, 1], 'item-3086': [42, 19, 2, 1], 'item-3085': [42, 20, 2, 1], 'item-3084': [42, 21, 2, 1], 'item-3083': [42, 22, 2, 1], 'item-3082': [42, 23, 2, 1], 'item-3081': [42, 24, 2, 1], 'item-3080': [42, 25, 2, 1], 'item-308': [42, 26, 2, 1], 'item-3079': [42, 27, 2, 1], 'item-3078': [42, 28, 2, 1], 'item-3077': [42, 29, 2, 1], 'item-3076': [42, 30, 2, 1], 'item-3075': [42, 31, 2, 1], 'item-3074': [42, 32, 2, 1], 'item-3073': [42, 33, 2, 1], 'item-3072': [42, 34, 2, 1], 'item-3071': [42, 35, 2, 1], 'item-3070': [42, 36, 2, 1], 'item-307': [42, 37, 2, 1], 'item-3069': [42, 38, 2, 1], 'item-3068': [42, 39, 2, 1], 'item-3067': [42, 40, 2, 1], 'item-3066': [42, 41, 2, 1], 'item-3065': [42, 42, 2, 1], 'item-3064': [42, 43, 2, 1], 'item-3063': [42, 44, 2, 1], 'item-3062': [42, 45, 2, 1], 'item-3061': [42, 46, 2, 1], 'item-3060': [42, 47, 2, 1], 'item-306': [42, 48, 2, 1], 'item-3059': [42, 49, 2, 1], 'item-3058': [42, 50, 2, 1], 'item-3057': [42, 51, 2, 1], 'item-3056': [42, 52, 2, 1], 'item-3055': [42, 53, 2, 1], 'item-3054': [42, 54, 2, 1], 'item-3053': [42, 55, 2, 1], 'item-3052': [42, 56, 2, 1], 'item-3051': [42, 57, 2, 1], 'item-3050': [42, 58, 2, 1], 'item-305': [42, 59, 2, 1], 'item-3049': [44, 0, 2, 1], 'item-3048': [44, 1, 2, 1], 'item-3047': [44, 2, 2, 1], 'item-3046': [44, 3, 2, 1], 'item-3045': [44, 4, 2, 1], 'item-3044': [44, 5, 2, 1], 'item-3043': [44, 6, 2, 1], 'item-3042': [44, 7, 2, 1], 'item-3041': [44, 8, 2, 1], 'item-3040': [44, 9, 2, 1], 'item-304': [44, 10, 2, 1], 'item-3039': [44, 11, 2, 1], 'item-3038': [44, 12, 2, 1], 'item-3037': [44, 13, 2, 1], 'item-3036': [44, 14, 2, 1], 'item-3035': [44, 15, 2, 1], 'item-3034': [44, 16, 2, 1], 'item-3033': [44, 17, 2, 1], 'item-3032': [44, 18, 2, 1], 'item-3031': [44, 19, 2, 1], 'item-3030': [44, 20, 2, 1], 'item-303': [44, 21, 2, 1], 'item-3029': [44, 22, 2, 1], 'item-3028': [44, 23, 2, 1], 'item-3027': [44, 24, 2, 1], 'item-3026': [44, 25, 2, 1], 'item-3025': [44, 26, 2, 1], 'item-3024': [44, 27, 2, 1], 'item-3023': [44, 28, 2, 1], 'item-3022': [44, 29, 2, 1], 'item-3021': [44, 30, 2, 1], 'item-3020': [44, 31, 2, 1], 'item-302': [44, 32, 2, 1], 'item-3019': [44, 33, 2, 1], 'item-3018': [44, 34, 2, 1], 'item-3017': [44, 35, 2, 1], 'item-3016': [44, 36, 2, 1], 'item-3015': [44, 37, 2, 1], 'item-3014': [44, 38, 2, 1], 'item-3013': [44, 39, 2, 1], 'item-3012': [44, 40, 2, 1], 'item-3011': [44, 41, 2, 1], 'item-3010': [44, 42, 2, 1], 'item-301': [44, 43, 2, 1], 'item-3009': [44, 44, 2, 1], 'item-3008': [44, 45, 2, 1], 'item-3007': [44, 46, 2, 1], 'item-3006': [44, 47, 2, 1], 'item-3005': [44, 48, 2, 1], 'item-3004': [44, 49, 2, 1], 'item-3003': [44, 50, 2, 1], 'item-3002': [44, 51, 2, 1], 'item-3001': [44, 52, 2, 1], 'item-3000': [44, 53, 2, 1], 'item-300': [44, 54, 2, 1], 'item-30': [44, 55, 2, 1], 'item-3': [44, 56, 2, 1], 'item-2999': [44, 57, 2, 1], 'item-2998': [44, 58, 2, 1], 'item-2997': [44, 59, 2, 1], 'item-2996': [46, 0, 2, 1], 'item-2995': [46, 1, 2, 1], 'item-2994': [46, 2, 2, 1], 'item-2993': [46, 3, 2, 1], 'item-2992': [46, 4, 2, 1], 'item-2991': [46, 5, 2, 1], 'item-2990': [46, 6, 2, 1], 'item-299': [46, 7, 2, 1], 'item-2989': [46, 8, 2, 1], 'item-2988': [46, 9, 2, 1], 'item-2987': [46, 10, 2, 1], 'item-2986': [46, 11, 2, 1], 'item-2985': [46, 12, 2, 1], 'item-2984': [46, 13, 2, 1], 'item-2983': [46, 14, 2, 1], 'item-2982': [46, 15, 2, 1], 'item-2981': [46, 16, 2, 1], 'item-2980': [46, 17, 2, 1], 'item-298': [46, 18, 2, 1], 'item-2979': [46, 19, 2, 1], 'item-2978': [46, 20, 2, 1], 'item-2977': [46, 21, 2, 1], 'item-2976': [46, 22, 2, 1], 'item-2975': [46, 23, 2, 1], 'item-2974': [46, 24, 2, 1], 'item-2973': [46, 25, 2, 1], 'item-2972': [46, 26, 2, 1], 'item-2971': [46, 27, 2, 1], 'item-2970': [46, 28, 2, 1], 'item-297': [46, 29, 2, 1], 'item-2969': [46, 30, 2, 1], 'item-2968': [46, 31, 2, 1], 'item-2967': [46, 32, 2, 1], 'item-2966': [46, 33, 2, 1], 'item-2965': [46, 34, 2, 1], 'item-2964': [46, 35, 2, 1], 'item-2963': [46, 36, 2, 1], 'item-2962': [46, 37, 2, 1], 'item-2961': [46, 38, 2, 1], 'item-2960': [46, 39, 2, 1], 'item-296': [46, 40, 2, 1], 'item-2959': [46, 41, 2, 1], 'item-2958': [46, 42, 2, 1], 'item-2957': [46, 43, 2, 1], 'item-2956': [46, 44, 2, 1], 'item-2955': [46, 45, 2, 1], 'item-2954': [46, 46, 2, 1], 'item-2953': [46, 47, 2, 1], 'item-2952': [46, 48, 2, 1], 'item-2951': [46, 49, 2, 1], 'item-2950': [46, 50, 2, 1], 'item-295': [46, 51, 2, 1], 'item-2949': [46, 52, 2, 1], 'item-2948': [46, 53, 2, 1], 'item-2947': [46, 54, 2, 1], 'item-2946': [46, 55, 2, 1], 'item-2945': [46, 56, 2, 1], 'item-2944': [46, 57, 2, 1], 'item-2943': [46, 58, 2, 1], 'item-2942': [46, 59, 2, 1], 'item-2941': [48, 0, 2, 1], 'item-2940': [48, 1, 2, 1], 'item-294': [48, 2, 2, 1], 'item-2939': [48, 3, 2, 1], 'item-2938': [48, 4, 2, 1], 'item-2937': [48, 5, 2, 1], 'item-2936': [48, 6, 2, 1], 'item-2935': [48, 7, 2, 1], 'item-2934': [48, 8, 2, 1], 'item-2933': [48, 9, 2, 1], 'item-2932': [48, 10, 2, 1], 'item-2931': [48, 11, 2, 1], 'item-2930': [48, 12, 2, 1], 'item-293': [48, 13, 2, 1], 'item-2929': [48, 14, 2, 1], 'item-2928': [48, 15, 2, 1], 'item-2927': [48, 16, 2, 1], 'item-2926': [48, 17, 2, 1], 'item-2925': [48, 18, 2, 1], 'item-2924': [48, 19, 2, 1], 'item-2923': [48, 20, 2, 1], 'item-2922': [48, 21, 2, 1], 'item-2921': [48, 22, 2, 1], 'item-2920': [48, 23, 2, 1], 'item-292': [48, 24, 2, 1], 'item-2919': [48, 25, 2, 1], 'item-2918': [48, 26, 2, 1], 'item-2917': [48, 27, 2, 1], 'item-2916': [48, 28, 2, 1], 'item-2915': [48, 29, 2, 1], 'item-2914': [48, 30, 2, 1], 'item-2913': [48, 31, 2, 1], 'item-2912': [48, 32, 2, 1], 'item-2911': [48, 33, 2, 1], 'item-2910': [48, 34, 2, 1], 'item-291': [48, 35, 2, 1], 'item-2909': [48, 36, 2, 1], 'item-2908': [48, 37, 2, 1], 'item-2907': [48, 38, 2, 1], 'item-2906': [48, 39, 2, 1], 'item-2905': [48, 40, 2, 1], 'item-2904': [48, 41, 2, 1], 'item-2903': [48, 42, 2, 1], 'item-2902': [48, 43, 2, 1], 'item-2901': [48, 44, 2, 1], 'item-2900': [48, 45, 2, 1], 'item-290': [48, 46, 2, 1], 'item-29': [48, 47, 2, 1], 'item-2899': [48, 48, 2, 1], 'item-2898': [48, 49, 2, 1], 'item-2897': [48, 50, 2, 1], 'item-2896': [48, 51, 2, 1], 'item-2895': [48, 52, 2, 1], 'item-2894': [48, 53, 2, 1], 'item-2893': [48, 54, 2, 1], 'item-2892': [48, 55, 2, 1], 'item-2891': [48, 56, 2, 1], 'item-2890': [48, 57, 2, 1], 'item-289': [48, 58, 2, 1], 'item-2889': [48, 59, 2, 1], 'item-2888': [50, 0, 2, 1], 'item-2887': [50, 1, 2, 1], 'item-2886': [50, 2, 2, 1], 'item-2885': [50, 3, 2, 1], 'item-2884': [50, 4, 2, 1], 'item-2883': [50, 5, 2, 1], 'item-2882': [50, 6, 2, 1], 'item-2881': [50, 7, 2, 1], 'item-2880': [50, 8, 2, 1], 'item-288': [50, 9, 2, 1], 'item-2879': [50, 10, 2, 1], 'item-2878': [50, 11, 2, 1], 'item-2877': [50, 12, 2, 1], 'item-2876': [50, 13, 2, 1], 'item-2875': [50, 14, 2, 1], 'item-2874': [50, 15, 2, 1], 'item-2873': [50, 16, 2, 1], 'item-2872': [50, 17, 2, 1], 'item-2871': [50, 18, 2, 1], 'item-2870': [50, 19, 2, 1], 'item-287': [50, 20, 2, 1], 'item-2869': [50, 21, 2, 1], 'item-2868': [50, 22, 2, 1], 'item-2867': [50, 23, 2, 1], 'item-2866': [50, 24, 2, 1], 'item-2865': [50, 25, 2, 1], 'item-2864': [50, 26, 2, 1], 'item-2863': [50, 27, 2, 1], 'item-2862': [50, 28, 2, 1], 'item-2861': [50, 29, 2, 1], 'item-2860': [50, 30, 2, 1], 'item-286': [50, 31, 2, 1], 'item-2859': [50, 32, 2, 1], 'item-2858': [50, 33, 2, 1], 'item-2857': [50, 34, 2, 1], 'item-2856': [50, 35, 2, 1], 'item-2855': [50, 36, 2, 1], 'item-2854': [50, 37, 2, 1], 'item-2853': [50, 38, 2, 1], 'item-2852': [50, 39, 2, 1], 'item-2851': [50, 40, 2, 1], 'item-2850': [50, 41, 2, 1], 'item-285': [50, 42, 2, 1], 'item-2849': [50, 43, 2, 1], 'item-2848': [50, 44, 2, 1], 'item-2847': [50, 45, 2, 1], 'item-2846': [50, 46, 2, 1], 'item-2845': [50, 47, 2, 1], 'item-2844': [50, 48, 2, 1], 'item-2843': [50, 49, 2, 1], 'item-2842': [50, 50, 2, 1], 'item-2841': [50, 51, 2, 1], 'item-2840': [50, 52, 2, 1], 'item-284': [50, 53, 2, 1], 'item-2839': [50, 54, 2, 1], 'item-2838': [50, 55, 2, 1], 'item-2837': [50, 56, 2, 1], 'item-2836': [50, 57, 2, 1], 'item-2835': [50, 58, 2, 1], 'item-2834': [50, 59, 2, 1], 'item-2833': [52, 0, 2, 1], 'item-2832': [52, 1, 2, 1], 'item-2831': [52, 2, 2, 1], 'item-2830': [52, 3, 2, 1], 'item-283': [52, 4, 2, 1], 'item-2829': [52, 5, 2, 1], 'item-2828': [52, 6, 2, 1], 'item-2827': [52, 7, 2, 1], 'item-2826': [52, 8, 2, 1], 'item-2825': [52, 9, 2, 1], 'item-2824': [52, 10, 2, 1], 'item-2823': [52, 11, 2, 1], 'item-2822': [52, 12, 2, 1], 'item-2821': [52, 13, 2, 1], 'item-2820': [52, 14, 2, 1], 'item-282': [52, 15, 2, 1], 'item-2819': [52, 16, 2, 1], 'item-2818': [52, 17, 2, 1], 'item-2817': [52, 18, 2, 1], 'item-2816': [52, 19, 2, 1], 'item-2815': [52, 20, 2, 1], 'item-2814': [52, 21, 2, 1], 'item-2813': [52, 22, 2, 1], 'item-2812': [52, 23, 2, 1], 'item-2811': [52, 24, 2, 1], 'item-2810': [52, 25, 2, 1], 'item-281': [52, 26, 2, 1], 'item-2809': [52, 27, 2, 1], 'item-2808': [52, 28, 2, 1], 'item-2807': [52, 29, 2, 1], 'item-2806': [52, 30, 2, 1], 'item-2805': [52, 31, 2, 1], 'item-2804': [52, 32, 2, 1], 'item-2803': [52, 33, 2, 1], 'item-2802': [52, 34, 2, 1], 'item-2801': [52, 35, 2, 1], 'item-2800': [52, 36, 2, 1], 'item-280': [52, 37, 2, 1], 'item-28': [52, 38, 2, 1], 'item-2799': [52, 39, 2, 1], 'item-2798': [52, 40, 2, 1], 'item-2797': [52, 41, 2, 1], 'item-2796': [52, 42, 2, 1], 'item-2795': [52, 43, 2, 1], 'item-2794': [52, 44, 2, 1], 'item-2793': [52, 45, 2, 1], 'item-2792': [52, 46, 2, 1], 'item-2791': [52, 47, 2, 1], 'item-2790': [52, 48, 2, 1], 'item-279': [52, 49, 2, 1], 'item-2789': [52, 50, 2, 1], 'item-2788': [52, 51, 2, 1], 'item-2787': [52, 52, 2, 1], 'item-2786': [52, 53, 2, 1], 'item-2785': [52, 54, 2, 1], 'item-2784': [52, 55, 2, 1], 'item-2783': [52, 56, 2, 1], 'item-2782': [52, 57, 2, 1], 'item-2781': [52, 58, 2, 1], 'item-2780': [52, 59, 2, 1], 'item-278': [54, 0, 2, 1], 'item-2779': [54, 1, 2, 1], 'item-2778': [54, 2, 2, 1], 'item-2777': [54, 3, 2, 1], 'item-2776': [54, 4, 2, 1], 'item-2775': [54, 5, 2, 1], 'item-2774': [54, 6, 2, 1], 'item-2773': [54, 7, 2, 1], 'item-2772': [54, 8, 2, 1], 'item-2771': [54, 9, 2, 1], 'item-2770': [54, 10, 2, 1], 'item-277': [54, 11, 2, 1], 'item-2769': [54, 12, 2, 1], 'item-2768': [54, 13, 2, 1], 'item-2767': [54, 14, 2, 1], 'item-2766': [54, 15, 2, 1], 'item-2765': [54, 16, 2, 1], 'item-2764': [54, 17, 2, 1], 'item-2763': [54, 18, 2, 1], 'item-2762': [54, 19, 2, 1], 'item-2761': [54, 20, 2, 1], 'item-2760': [54, 21, 2, 1], 'item-276': [54, 22, 2, 1], 'item-2759': [54, 23, 2, 1], 'item-2758': [54, 24, 2, 1], 'item-2757': [54, 25, 2, 1], 'item-2756': [54, 26, 2, 1], 'item-2755': [54, 27, 2, 1], 'item-2754': [54, 28, 2, 1], 'item-2753': [54, 29, 2, 1], 'item-2752': [54, 30, 2, 1], 'item-2751': [54, 31, 2, 1], 'item-2750': [54, 32, 2, 1], 'item-275': [54, 33, 2, 1], 'item-2749': [54, 34, 2, 1], 'item-2748': [54, 35, 2, 1], 'item-2747': [54, 36, 2, 1], 'item-2746': [54, 37, 2, 1], 'item-2745': [54, 38, 2, 1], 'item-2744': [54, 39, 2, 1], 'item-2743': [54, 40, 2, 1], 'item-2742': [54, 41, 2, 1], 'item-2741': [54, 42, 2, 1], 'item-2740': [54, 43, 2, 1], 'item-274': [54, 44, 2, 1], 'item-2739': [54, 45, 2, 1], 'item-2738': [54, 46, 2, 1], 'item-2737': [54, 47, 2, 1], 'item-2736': [54, 48, 2, 1], 'item-2735': [54, 49, 2, 1], 'item-2734': [54, 50, 2, 1], 'item-2733': [54, 51, 2, 1], 'item-2732': [54, 52, 2, 1], 'item-2731': [54, 53, 2, 1], 'item-2730': [54, 54, 2, 1], 'item-273': [54, 55, 2, 1], 'item-2729': [54, 56, 2, 1], 'item-2728': [54, 57, 2, 1], 'item-2727': [54, 58, 2, 1], 'item-2726': [54, 59, 2, 1], 'item-2725': [56, 0, 2, 1], 'item-2724': [56, 1, 2, 1], 'item-2723': [56, 2, 2, 1], 'item-2722': [56, 3, 2, 1], 'item-2721': [56, 4, 2, 1], 'item-2720': [56, 5, 2, 1], 'item-272': [56, 6, 2, 1], 'item-2719': [56, 7, 2, 1], 'item-2718': [56, 8, 2, 1], 'item-2717': [56, 9, 2, 1], 'item-2716': [56, 10, 2, 1], 'item-2715': [56, 11, 2, 1], 'item-2714': [56, 12, 2, 1], 'item-2713': [56, 13, 2, 1], 'item-2712': [56, 14, 2, 1], 'item-2711': [56, 15, 2, 1], 'item-2710': [56, 16, 2, 1], 'item-271': [56, 17, 2, 1], 'item-2709': [56, 18, 2, 1], 'item-2708': [56, 19, 2, 1], 'item-2707': [56, 20, 2, 1], 'item-2706': [56, 21, 2, 1], 'item-2705': [56, 22, 2, 1], 'item-2704': [56, 23, 2, 1], 'item-2703': [56, 24, 2, 1], 'item-2702': [56, 25, 2, 1], 'item-2701': [56, 26, 2, 1], 'item-2700': [56, 27, 2, 1], 'item-270': [56, 28, 2, 1], 'item-27': [56, 29, 2, 1], 'item-2699': [56, 30, 2, 1], 'item-2698': [56, 31, 2, 1], 'item-2697': [56, 32, 2, 1], 'item-2696': [56, 33, 2, 1], 'item-2695': [56, 34, 2, 1], 'item-2694': [56, 35, 2, 1], 'item-2693': [56, 36, 2, 1], 'item-2692': [56, 37, 2, 1], 'item-2691': [56, 38, 2, 1], 'item-2690': [56, 39, 2, 1], 'item-269': [56, 40, 2, 1], 'item-2689': [56, 41, 2, 1], 'item-2688': [56, 42, 2, 1], 'item-2687': [56, 43, 2, 1], 'item-2686': [56, 44, 2, 1], 'item-2685': [56, 45, 2, 1], 'item-2684': [56, 46, 2, 1], 'item-2683': [56, 47, 2, 1], 'item-2682': [56, 48, 2, 1], 'item-2681': [56, 49, 2, 1], 'item-2680': [56, 50, 2, 1], 'item-268': [56, 51, 2, 1], 'item-2679': [56, 52, 2, 1], 'item-2678': [56, 53, 2, 1], 'item-2677': [56, 54, 2, 1], 'item-2676': [56, 55, 2, 1], 'item-2675': [56, 56, 2, 1], 'item-2674': [56, 57, 2, 1], 'item-2673': [56, 58, 2, 1], 'item-2672': [56, 59, 2, 1], 'item-2671': [58, 0, 2, 1], 'item-2670': [58, 1, 2, 1], 'item-267': [58, 2, 2, 1], 'item-2669': [58, 3, 2, 1], 'item-2668': [58, 4, 2, 1], 'item-2667': [58, 5, 2, 1], 'item-2666': [58, 6, 2, 1], 'item-2665': [58, 7, 2, 1], 'item-2664': [58, 8, 2, 1], 'item-2663': [58, 9, 2, 1], 'item-2662': [58, 10, 2, 1], 'item-2661': [58, 11, 2, 1], 'item-2660': [58, 12, 2, 1], 'item-266': [58, 13, 2, 1], 'item-2659': [58, 14, 2, 1], 'item-2658': [58, 15, 2, 1], 'item-2657': [58, 16, 2, 1], 'item-2656': [58, 17, 2, 1], 'item-2655': [58, 18, 2, 1], 'item-2654': [58, 19, 2, 1], 'item-2653': [58, 20, 2, 1], 'item-2652': [58, 21, 2, 1], 'item-2651': [58, 22, 2, 1], 'item-2650': [58, 23, 2, 1], 'item-265': [58, 24, 2, 1], 'item-2649': [58, 25, 2, 1], 'item-2648': [58, 26, 2, 1], 'item-2647': [58, 27, 2, 1], 'item-2646': [58, 28, 2, 1], 'item-2645': [58, 29, 2, 1], 'item-2644': [58, 30, 2, 1], 'item-2643': [58, 31, 2, 1], 'item-2642': [58, 32, 2, 1], 'item-2641': [58, 33, 2, 1], 'item-2640': [58, 34, 2, 1], 'item-264': [58, 35, 2, 1], 'item-2639': [58, 36, 2, 1], 'item-2638': [58, 37, 2, 1], 'item-2637': [58, 38, 2, 1], 'item-2636': [58, 39, 2, 1], 'item-2635': [58, 40, 2, 1], 'item-2634': [58, 41, 2, 1], 'item-2633': [58, 42, 2, 1], 'item-2632': [58, 43, 2, 1], 'item-2631': [58, 44, 2, 1], 'item-2630': [58, 45, 2, 1], 'item-263': [58, 46, 2, 1], 'item-2629': [58, 47, 2, 1], 'item-2628': [58, 48, 2, 1], 'item-2627': [58, 49, 2, 1], 'item-2626': [58, 50, 2, 1], 'item-2625': [58, 51, 2, 1], 'item-2624': [58, 52, 2, 1], 'item-2623': [58, 53, 2, 1], 'item-2622': [58, 54, 2, 1], 'item-2621': [58, 55, 2, 1], 'item-2620': [58, 56, 2, 1], 'item-262': [58, 57, 2, 1], 'item-2619': [58, 58, 2, 1], 'item-2618': [58, 59, 2, 1], 'item-2617': [60, 0, 2, 1], 'item-2616': [60, 1, 2, 1], 'item-2615': [60, 2, 2, 1], 'item-2614': [60, 3, 2, 1], 'item-2613': [60, 4, 2, 1], 'item-2612': [60, 5, 2, 1], 'item-2611': [60, 6, 2, 1], 'item-2610': [60, 7, 2, 1], 'item-261': [60, 8, 2, 1], 'item-2609': [60, 9, 2, 1], 'item-2608': [60, 10, 2, 1], 'item-2607': [60, 11, 2, 1], 'item-2606': [60, 12, 2, 1], 'item-2605': [60, 13, 2, 1], 'item-2604': [60, 14, 2, 1], 'item-2603': [60, 15, 2, 1], 'item-2602': [60, 16, 2, 1], 'item-2601': [60, 17, 2, 1], 'item-2600': [60, 18, 2, 1], 'item-260': [60, 19, 2, 1], 'item-26': [60, 20, 2, 1], 'item-2599': [60, 21, 2, 1], 'item-2598': [60, 22, 2, 1], 'item-2597': [60, 23, 2, 1], 'item-2596': [60, 24, 2, 1], 'item-2595': [60, 25, 2, 1], 'item-2594': [60, 26, 2, 1], 'item-2593': [60, 27, 2, 1], 'item-2592': [60, 28, 2, 1], 'item-2591': [60, 29, 2, 1], 'item-2590': [60, 30, 2, 1], 'item-259': [60, 31, 2, 1], 'item-2589': [60, 32, 2, 1], 'item-2588': [60, 33, 2, 1], 'item-2587': [60, 34, 2, 1], 'item-2586': [60, 35, 2, 1], 'item-2585': [60, 36, 2, 1], 'item-2584': [60, 37, 2, 1], 'item-2583': [60, 38, 2, 1], 'item-2582': [60, 39, 2, 1], 'item-2581': [60, 40, 2, 1], 'item-2580': [60, 41, 2, 1], 'item-258': [60, 42, 2, 1], 'item-2579': [60, 43, 2, 1], 'item-2578': [60, 44, 2, 1], 'item-2577': [60, 45, 2, 1], 'item-2576': [60, 46, 2, 1], 'item-2575': [60, 47, 2, 1], 'item-2574': [60, 48, 2, 1], 'item-2573': [60, 49, 2, 1], 'item-2572': [60, 50, 2, 1], 'item-2571': [60, 51, 2, 1], 'item-2570': [60, 52, 2, 1], 'item-257': [60, 53, 2, 1], 'item-2569': [60, 54, 2, 1], 'item-2568': [60, 55, 2, 1], 'item-2567': [60, 56, 2, 1], 'item-2566': [60, 57, 2, 1], 'item-2565': [60, 58, 2, 1], 'item-2564': [60, 59, 2, 1], 'item-2563': [62, 0, 2, 1], 'item-2562': [62, 1, 2, 1], 'item-2561': [62, 2, 2, 1], 'item-2560': [62, 3, 2, 1], 'item-256': [62, 4, 2, 1], 'item-2559': [62, 5, 2, 1], 'item-2558': [62, 6, 2, 1], 'item-2557': [62, 7, 2, 1], 'item-2556': [62, 8, 2, 1], 'item-2555': [62, 9, 2, 1], 'item-2554': [62, 10, 2, 1], 'item-2553': [62, 11, 2, 1], 'item-2552': [62, 12, 2, 1], 'item-2551': [62, 13, 2, 1], 'item-2550': [62, 14, 2, 1], 'item-255': [62, 15, 2, 1], 'item-2549': [62, 16, 2, 1], 'item-2548': [62, 17, 2, 1], 'item-2547': [62, 18, 2, 1], 'item-2546': [62, 19, 2, 1], 'item-2545': [62, 20, 2, 1], 'item-2544': [62, 21, 2, 1], 'item-2543': [62, 22, 2, 1], 'item-2542': [62, 23, 2, 1], 'item-2541': [62, 24, 2, 1], 'item-2540': [62, 25, 2, 1], 'item-254': [62, 26, 2, 1], 'item-2539': [62, 27, 2, 1], 'item-2538': [62, 28, 2, 1], 'item-2537': [62, 29, 2, 1], 'item-2536': [62, 30, 2, 1], 'item-2535': [62, 31, 2, 1], 'item-2534': [62, 32, 2, 1], 'item-2533': [62, 33, 2, 1], 'item-2532': [62, 34, 2, 1], 'item-2531': [62, 35, 2, 1], 'item-2530': [62, 36, 2, 1], 'item-253': [62, 37, 2, 1], 'item-2529': [62, 38, 2, 1], 'item-2528': [62, 39, 2, 1], 'item-2527': [62, 40, 2, 1], 'item-2526': [62, 41, 2, 1], 'item-2525': [62, 42, 2, 1], 'item-2524': [62, 43, 2, 1], 'item-2523': [62, 44, 2, 1], 'item-2522': [62, 45, 2, 1], 'item-2521': [62, 46, 2, 1], 'item-2520': [62, 47, 2, 1], 'item-252': [62, 48, 2, 1], 'item-2519': [62, 49, 2, 1], 'item-2518': [62, 50, 2, 1], 'item-2517': [62, 51, 2, 1], 'item-2516': [62, 52, 2, 1], 'item-2515': [62, 53, 2, 1], 'item-2514': [62, 54, 2, 1], 'item-2513': [62, 55, 2, 1], 'item-2512': [62, 56, 2, 1], 'item-2511': [62, 57, 2, 1], 'item-2510': [62, 58, 2, 1], 'item-251': [62, 59, 2, 1], 'item-2509': [64, 0, 2, 1], 'item-2508': [64, 1, 2, 1], 'item-2507': [64, 2, 2, 1], 'item-2506': [64, 3, 2, 1], 'item-2505': [64, 4, 2, 1], 'item-2504': [64, 5, 2, 1], 'item-2503': [64, 6, 2, 1], 'item-2502': [64, 7, 2, 1], 'item-2501': [64, 8, 2, 1], 'item-2500': [64, 9, 2, 1], 'item-250': [64, 10, 2, 1], 'item-25': [64, 11, 2, 1], 'item-2499': [64, 12, 2, 1], 'item-2498': [64, 13, 2, 1], 'item-2497': [64, 14, 2, 1], 'item-2496': [64, 15, 2, 1], 'item-2495': [64, 16, 2, 1], 'item-2494': [64, 17, 2, 1], 'item-2493': [64, 18, 2, 1], 'item-2492': [64, 19, 2, 1], 'item-2491': [64, 20, 2, 1], 'item-2490': [64, 21, 2, 1], 'item-249': [64, 22, 2, 1], 'item-2489': [64, 23, 2, 1], 'item-2488': [64, 24, 2, 1], 'item-2487': [64, 25, 2, 1], 'item-2486': [64, 26, 2, 1], 'item-2485': [64, 27, 2, 1], 'item-2484': [64, 28, 2, 1], 'item-2483': [64, 29, 2, 1], 'item-2482': [64, 30, 2, 1], 'item-2481': [64, 31, 2, 1], 'item-2480': [64, 32, 2, 1], 'item-248': [64, 33, 2, 1], 'item-2479': [64, 34, 2, 1], 'item-2478': [64, 35, 2, 1], 'item-2477': [64, 36, 2, 1], 'item-2476': [64, 37, 2, 1], 'item-2475': [64, 38, 2, 1], 'item-2474': [64, 39, 2, 1], 'item-2473': [64, 40, 2, 1], 'item-2472': [64, 41, 2, 1], 'item-2471': [64, 42, 2, 1], 'item-2470': [64, 43, 2, 1], 'item-247': [64, 44, 2, 1], 'item-2469': [64, 45, 2, 1], 'item-2468': [64, 46, 2, 1], 'item-2467': [64, 47, 2, 1], 'item-2466': [64, 48, 2, 1], 'item-2465': [64, 49, 2, 1], 'item-2464': [64, 50, 2, 1], 'item-2463': [64, 51, 2, 1], 'item-2462': [64, 52, 2, 1], 'item-2461': [64, 53, 2, 1], 'item-2460': [64, 54, 2, 1], 'item-246': [64, 55, 2, 1], 'item-2459': [64, 56, 2, 1], 'item-2458': [64, 57, 2, 1], 'item-2457': [64, 58, 2, 1], 'item-2456': [64, 59, 2, 1], 'item-2455': [66, 0, 2, 1], 'item-2454': [66, 1, 2, 1], 'item-2453': [66, 2, 2, 1], 'item-2452': [66, 3, 2, 1], 'item-2451': [66, 4, 2, 1], 'item-2450': [66, 5, 2, 1], 'item-245': [66, 6, 2, 1], 'item-2449': [66, 7, 2, 1], 'item-2448': [66, 8, 2, 1], 'item-2447': [66, 9, 2, 1], 'item-2446': [66, 10, 2, 1], 'item-2445': [66, 11, 2, 1], 'item-2444': [66, 12, 2, 1], 'item-2443': [66, 13, 2, 1], 'item-2442': [66, 14, 2, 1], 'item-2441': [66, 15, 2, 1], 'item-2440': [66, 16, 2, 1], 'item-244': [66, 17, 2, 1], 'item-2439': [66, 18, 2, 1], 'item-2438': [66, 19, 2, 1], 'item-2437': [66, 20, 2, 1], 'item-2436': [66, 21, 2, 1], 'item-2435': [66, 22, 2, 1], 'item-2434': [66, 23, 2, 1], 'item-2433': [66, 24, 2, 1], 'item-2432': [66, 25, 2, 1], 'item-2431': [66, 26, 2, 1], 'item-2430': [66, 27, 2, 1], 'item-243': [66, 28, 2, 1], 'item-2429': [66, 29, 2, 1], 'item-2428': [66, 30, 2, 1], 'item-2427': [66, 31, 2, 1], 'item-2426': [66, 32, 2, 1], 'item-2425': [66, 33, 2, 1], 'item-2424': [66, 34, 2, 1], 'item-2423': [66, 35, 2, 1], 'item-2422': [66, 36, 2, 1], 'item-2421': [66, 37, 2, 1], 'item-2420': [66, 38, 2, 1], 'item-242': [66, 39, 2, 1], 'item-2419': [66, 40, 2, 1], 'item-2418': [66, 41, 2, 1], 'item-2417': [66, 42, 2, 1], 'item-2416': [66, 43, 2, 1], 'item-2415': [66, 44, 2, 1], 'item-2414': [66, 45, 2, 1], 'item-2413': [66, 46, 2, 1], 'item-2412': [66, 47, 2, 1], 'item-2411': [66, 48, 2, 1], 'item-2410': [66, 49, 2, 1], 'item-241': [66, 50, 2, 1], 'item-2409': [66, 51, 2, 1], 'item-2408': [66, 52, 2, 1], 'item-2407': [66, 53, 2, 1], 'item-2406': [66, 54, 2, 1], 'item-2405': [66, 55, 2, 1], 'item-2404': [66, 56, 2, 1], 'item-2403': [66, 57, 2, 1], 'item-2402': [66, 58, 2, 1], 'item-2401': [66, 59, 2, 1], 'item-2400': [68, 0, 2, 1], 'item-240': [68, 1, 2, 1], 'item-24': [68, 2, 2, 1], 'item-2399': [68, 3, 2, 1], 'item-2398': [68, 4, 2, 1], 'item-2397': [68, 5, 2, 1], 'item-2396': [68, 6, 2, 1], 'item-2395': [68, 7, 2, 1], 'item-2394': [68, 8, 2, 1], 'item-2393': [68, 9, 2, 1], 'item-2392': [68, 10, 2, 1], 'item-2391': [68, 11, 2, 1], 'item-2390': [68, 12, 2, 1], 'item-239': [68, 13, 2, 1], 'item-2389': [68, 14, 2, 1], 'item-2388': [68, 15, 2, 1], 'item-2387': [68, 16, 2, 1], 'item-2386': [68, 17, 2, 1], 'item-2385': [68, 18, 2, 1], 'item-2384': [68, 19, 2, 1], 'item-2383': [68, 20, 2, 1], 'item-2382': [68, 21, 2, 1], 'item-2381': [68, 22, 2, 1], 'item-2380': [68, 23, 2, 1], 'item-238': [68, 24, 2, 1], 'item-2379': [68, 25, 2, 1], 'item-2378': [68, 26, 2, 1], 'item-2377': [68, 27, 2, 1], 'item-2376': [68, 28, 2, 1], 'item-2375': [68, 29, 2, 1], 'item-2374': [68, 30, 2, 1], 'item-2373': [68, 31, 2, 1], 'item-2372': [68, 32, 2, 1], 'item-2371': [68, 33, 2, 1], 'item-2370': [68, 34, 2, 1], 'item-237': [68, 35, 2, 1], 'item-2369': [68, 36, 2, 1], 'item-2368': [68, 37, 2, 1], 'item-2367': [68, 38, 2, 1], 'item-2366': [68, 39, 2, 1], 'item-2365': [68, 40, 2, 1], 'item-2364': [68, 41, 2, 1], 'item-2363': [68, 42, 2, 1], 'item-2362': [68, 43, 2, 1], 'item-2361': [68, 44, 2, 1], 'item-2360': [68, 45, 2, 1], 'item-236': [68, 46, 2, 1], 'item-2359': [68, 47, 2, 1], 'item-2358': [68, 48, 2, 1], 'item-2357': [68, 49, 2, 1], 'item-2356': [68, 50, 2, 1], 'item-2355': [68, 51, 2, 1], 'item-2354': [68, 52, 2, 1], 'item-2353': [68, 53, 2, 1], 'item-2352': [68, 54, 2, 1], 'item-2351': [68, 55, 2, 1], 'item-2350': [68, 56, 2, 1], 'item-235': [68, 57, 2, 1], 'item-2349': [68, 58, 2, 1], 'item-2348': [68, 59, 2, 1], 'item-2347': [70, 0, 2, 1], 'item-2346': [70, 1, 2, 1], 'item-2345': [70, 2, 2, 1], 'item-2344': [70, 3, 2, 1], 'item-2343': [70, 4, 2, 1], 'item-2342': [70, 5, 2, 1], 'item-2341': [70, 6, 2, 1], 'item-2340': [70, 7, 2, 1], 'item-234': [70, 8, 2, 1], 'item-2339': [70, 9, 2, 1], 'item-2338': [70, 10, 2, 1], 'item-2337': [70, 11, 2, 1], 'item-2336': [70, 12, 2, 1], 'item-2335': [70, 13, 2, 1], 'item-2334': [70, 14, 2, 1], 'item-2333': [70, 15, 2, 1], 'item-2332': [70, 16, 2, 1], 'item-2331': [70, 17, 2, 1], 'item-2330': [70, 18, 2, 1], 'item-233': [70, 19, 2, 1], 'item-2329': [70, 20, 2, 1], 'item-2328': [70, 21, 2, 1], 'item-2327': [70, 22, 2, 1], 'item-2326': [70, 23, 2, 1], 'item-2325': [70, 24, 2, 1], 'item-2324': [70, 25, 2, 1], 'item-2323': [70, 26, 2, 1], 'item-2322': [70, 27, 2, 1], 'item-2321': [70, 28, 2, 1], 'item-2320': [70, 29, 2, 1], 'item-232': [70, 30, 2, 1], 'item-2319': [70, 31, 2, 1], 'item-2318': [70, 32, 2, 1], 'item-2317': [70, 33, 2, 1], 'item-2316': [70, 34, 2, 1], 'item-2315': [70, 35, 2, 1], 'item-2314': [70, 36, 2, 1], 'item-2313': [70, 37, 2, 1], 'item-2312': [70, 38, 2, 1], 'item-2311': [70, 39, 2, 1], 'item-2310': [70, 40, 2, 1], 'item-231': [70, 41, 2, 1], 'item-2309': [70, 42, 2, 1], 'item-2308': [70, 43, 2, 1], 'item-2307': [70, 44, 2, 1], 'item-2306': [70, 45, 2, 1], 'item-2305': [70, 46, 2, 1], 'item-2304': [70, 47, 2, 1], 'item-2303': [70, 48, 2, 1], 'item-2302': [70, 49, 2, 1], 'item-2301': [70, 50, 2, 1], 'item-2300': [70, 51, 2, 1], 'item-230': [70, 52, 2, 1], 'item-23': [70, 53, 2, 1], 'item-2299': [70, 54, 2, 1], 'item-2298': [70, 55, 2, 1], 'item-2297': [70, 56, 2, 1], 'item-2296': [70, 57, 2, 1], 'item-2295': [70, 58, 2, 1], 'item-2294': [70, 59, 2, 1], 'item-2293': [72, 0, 2, 1], 'item-2292': [72, 1, 2, 1], 'item-2291': [72, 2, 2, 1], 'item-2290': [72, 3, 2, 1], 'item-229': [72, 4, 2, 1], 'item-2289': [72, 5, 2, 1], 'item-2288': [72, 6, 2, 1], 'item-2287': [72, 7, 2, 1], 'item-2286': [72, 8, 2, 1], 'item-2285': [72, 9, 2, 1], 'item-2284': [72, 10, 2, 1], 'item-2283': [72, 11, 2, 1], 'item-2282': [72, 12, 2, 1], 'item-2281': [72, 13, 2, 1], 'item-2280': [72, 14, 2, 1], 'item-228': [72, 15, 2, 1], 'item-2279': [72, 16, 2, 1], 'item-2278': [72, 17, 2, 1], 'item-2277': [72, 18, 2, 1], 'item-2276': [72, 19, 2, 1], 'item-2275': [72, 20, 2, 1], 'item-2274': [72, 21, 2, 1], 'item-2273': [72, 22, 2, 1], 'item-2272': [72, 23, 2, 1], 'item-2271': [72, 24, 2, 1], 'item-2270': [72, 25, 2, 1], 'item-227': [72, 26, 2, 1], 'item-2269': [72, 27, 2, 1], 'item-2268': [72, 28, 2, 1], 'item-2267': [72, 29, 2, 1], 'item-2266': [72, 30, 2, 1], 'item-2265': [72, 31, 2, 1], 'item-2264': [72, 32, 2, 1], 'item-2263': [72, 33, 2, 1], 'item-2262': [72, 34, 2, 1], 'item-2261': [72, 35, 2, 1], 'item-2260': [72, 36, 2, 1], 'item-226': [72, 37, 2, 1], 'item-2259': [72, 38, 2, 1], 'item-2258': [72, 39, 2, 1], 'item-2257': [72, 40, 2, 1], 'item-2256': [72, 41, 2, 1], 'item-2255': [72, 42, 2, 1], 'item-2254': [72, 43, 2, 1], 'item-2253': [72, 44, 2, 1], 'item-2252': [72, 45, 2, 1], 'item-2251': [72, 46, 2, 1], 'item-2250': [72, 47, 2, 1], 'item-225': [72, 48, 2, 1], 'item-2249': [72, 49, 2, 1], 'item-2248': [72, 50, 2, 1], 'item-2247': [72, 51, 2, 1], 'item-2246': [72, 52, 2, 1], 'item-2245': [72, 53, 2, 1], 'item-2244': [72, 54, 2, 1], 'item-2243': [72, 55, 2, 1], 'item-2242': [72, 56, 2, 1], 'item-2241': [72, 57, 2, 1], 'item-2240': [72, 58, 2, 1], 'item-224': [72, 59, 2, 1], 'item-2239': [74, 0, 2, 1], 'item-2238': [74, 1, 2, 1], 'item-2237': [74, 2, 2, 1], 'item-2236': [74, 3, 2, 1], 'item-2235': [74, 4, 2, 1], 'item-2234': [74, 5, 2, 1], 'item-2233': [74, 6, 2, 1], 'item-2232': [74, 7, 2, 1], 'item-2231': [74, 8, 2, 1], 'item-2230': [74, 9, 2, 1], 'item-223': [74, 10, 2, 1], 'item-2229': [74, 11, 2, 1], 'item-2228': [74, 12, 2, 1], 'item-2227': [74, 13, 2, 1], 'item-2226': [74, 14, 2, 1], 'item-2225': [74, 15, 2, 1], 'item-2224': [74, 16, 2, 1], 'item-2223': [74, 17, 2, 1], 'item-2222': [74, 18, 2, 1], 'item-2221': [74, 19, 2, 1], 'item-2220': [74, 20, 2, 1], 'item-222': [74, 21, 2, 1], 'item-2219': [74, 22, 2, 1], 'item-2218': [74, 23, 2, 1], 'item-2217': [74, 24, 2, 1], 'item-2216': [74, 25, 2, 1], 'item-2215': [74, 26, 2, 1], 'item-2214': [74, 27, 2, 1], 'item-2213': [74, 28, 2, 1], 'item-2212': [74, 29, 2, 1], 'item-2211': [74, 30, 2, 1], 'item-2210': [74, 31, 2, 1], 'item-221': [74, 32, 2, 1], 'item-2209': [74, 33, 2, 1], 'item-2208': [74, 34, 2, 1], 'item-2207': [74, 35, 2, 1], 'item-2206': [74, 36, 2, 1], 'item-2205': [74, 37, 2, 1], 'item-2204': [74, 38, 2, 1], 'item-2203': [74, 39, 2, 1], 'item-2202': [74, 40, 2, 1], 'item-2201': [74, 41, 2, 1], 'item-2200': [74, 42, 2, 1], 'item-220': [74, 43, 2, 1], 'item-22': [74, 44, 2, 1], 'item-2199': [74, 45, 2, 1], 'item-2198': [74, 46, 2, 1], 'item-2197': [74, 47, 2, 1], 'item-2196': [74, 48, 2, 1], 'item-2195': [74, 49, 2, 1], 'item-2194': [74, 50, 2, 1], 'item-2193': [74, 51, 2, 1], 'item-2192': [74, 52, 2, 1], 'item-2191': [74, 53, 2, 1], 'item-2190': [74, 54, 2, 1], 'item-219': [74, 55, 2, 1], 'item-2189': [74, 56, 2, 1], 'item-2188': [74, 57, 2, 1], 'item-2187': [74, 58, 2, 1], 'item-2186': [74, 59, 2, 1], 'item-2185': [76, 0, 2, 1], 'item-2184': [76, 1, 2, 1], 'item-2183': [76, 2, 2, 1], 'item-2182': [76, 3, 2, 1], 'item-2181': [76, 4, 2, 1], 'item-2180': [76, 5, 2, 1], 'item-218': [76, 6, 2, 1], 'item-2179': [76, 7, 2, 1], 'item-2178': [76, 8, 2, 1], 'item-2177': [76, 9, 2, 1], 'item-2176': [76, 10, 2, 1], 'item-2175': [76, 11, 2, 1], 'item-2174': [76, 12, 2, 1], 'item-2173': [76, 13, 2, 1], 'item-2172': [76, 14, 2, 1], 'item-2171': [76, 15, 2, 1], 'item-2170': [76, 16, 2, 1], 'item-217': [76, 17, 2, 1], 'item-2169': [76, 18, 2, 1], 'item-2168': [76, 19, 2, 1], 'item-2167': [76, 20, 2, 1], 'item-2166': [76, 21, 2, 1], 'item-2165': [76, 22, 2, 1], 'item-2164': [76, 23, 2, 1], 'item-2163': [76, 24, 2, 1], 'item-2162': [76, 25, 2, 1], 'item-2161': [76, 26, 2, 1], 'item-2160': [76, 27, 2, 1], 'item-216': [76, 28, 2, 1], 'item-2159': [76, 29, 2, 1], 'item-2158': [76, 30, 2, 1], 'item-2157': [76, 31, 2, 1], 'item-2156': [76, 32, 2, 1], 'item-2155': [76, 33, 2, 1], 'item-2154': [76, 34, 2, 1], 'item-2153': [76, 35, 2, 1], 'item-2152': [76, 36, 2, 1], 'item-2151': [76, 37, 2, 1], 'item-2150': [76, 38, 2, 1], 'item-215': [76, 39, 2, 1], 'item-2149': [76, 40, 2, 1], 'item-2148': [76, 41, 2, 1], 'item-2147': [76, 42, 2, 1], 'item-2146': [76, 43, 2, 1], 'item-2145': [76, 44, 2, 1], 'item-2144': [76, 45, 2, 1], 'item-2143': [76, 46, 2, 1], 'item-2142': [76, 47, 2, 1], 'item-2141': [76, 48, 2, 1], 'item-2140': [76, 49, 2, 1], 'item-214': [76, 50, 2, 1], 'item-2139': [76, 51, 2, 1], 'item-2138': [76, 52, 2, 1], 'item-2137': [76, 53, 2, 1], 'item-2136': [76, 54, 2, 1], 'item-2135': [76, 55, 2, 1], 'item-2134': [76, 56, 2, 1], 'item-2133': [76, 57, 2, 1], 'item-2132': [76, 58, 2, 1], 'item-2131': [76, 59, 2, 1], 'item-2130': [78, 0, 2, 1], 'item-213': [78, 1, 2, 1], 'item-2129': [78, 2, 2, 1], 'item-2128': [78, 3, 2, 1], 'item-2127': [78, 4, 2, 1], 'item-2126': [78, 5, 2, 1], 'item-2125': [78, 6, 2, 1], 'item-2124': [78, 7, 2, 1], 'item-2123': [78, 8, 2, 1], 'item-2122': [78, 9, 2, 1], 'item-2121': [78, 10, 2, 1], 'item-2120': [78, 11, 2, 1], 'item-212': [78, 12, 2, 1], 'item-2119': [78, 13, 2, 1], 'item-2118': [78, 14, 2, 1], 'item-2117': [78, 15, 2, 1], 'item-2116': [78, 16, 2, 1], 'item-2115': [78, 17, 2, 1], 'item-2114': [78, 18, 2, 1], 'item-2113': [78, 19, 2, 1], 'item-2112': [78, 20, 2, 1], 'item-2111': [78, 21, 2, 1], 'item-2110': [78, 22, 2, 1], 'item-211': [78, 23, 2, 1], 'item-2109': [78, 24, 2, 1], 'item-2108': [78, 25, 2, 1], 'item-2107': [78, 26, 2, 1], 'item-2106': [78, 27, 2, 1], 'item-2105': [78, 28, 2, 1], 'item-2104': [78, 29, 2, 1], 'item-2103': [78, 30, 2, 1], 'item-2102': [78, 31, 2, 1], 'item-2101': [78, 32, 2, 1], 'item-2100': [78, 33, 2, 1], 'item-210': [78, 34, 2, 1], 'item-21': [78, 35, 2, 1], 'item-2099': [78, 36, 2, 1], 'item-2098': [78, 37, 2, 1], 'item-2097': [78, 38, 2, 1], 'item-2096': [78, 39, 2, 1], 'item-2095': [78, 40, 2, 1], 'item-2094': [78, 41, 2, 1], 'item-2093': [78, 42, 2, 1], 'item-2092': [78, 43, 2, 1], 'item-2091': [78, 44, 2, 1], 'item-2090': [78, 45, 2, 1], 'item-209': [78, 46, 2, 1], 'item-2089': [78, 47, 2, 1], 'item-2088': [78, 48, 2, 1], 'item-2087': [78, 49, 2, 1], 'item-2086': [78, 50, 2, 1], 'item-2085': [78, 51, 2, 1], 'item-2084': [78, 52, 2, 1], 'item-2083': [78, 53, 2, 1], 'item-2082': [78, 54, 2, 1], 'item-2081': [78, 55, 2, 1], 'item-2080': [78, 56, 2, 1], 'item-208': [78, 57, 2, 1], 'item-2079': [78, 58, 2, 1], 'item-2078': [78, 59, 2, 1], 'item-2077': [80, 0, 2, 1], 'item-2076': [80, 1, 2, 1], 'item-2075': [80, 2, 2, 1], 'item-2074': [80, 3, 2, 1], 'item-2073': [80, 4, 2, 1], 'item-2072': [80, 5, 2, 1], 'item-2071': [80, 6, 2, 1], 'item-2070': [80, 7, 2, 1], 'item-207': [80, 8, 2, 1], 'item-2069': [80, 9, 2, 1], 'item-2068': [80, 10, 2, 1], 'item-2067': [80, 11, 2, 1], 'item-2066': [80, 12, 2, 1], 'item-2065': [80, 13, 2, 1], 'item-2064': [80, 14, 2, 1], 'item-2063': [80, 15, 2, 1], 'item-2062': [80, 16, 2, 1], 'item-2061': [80, 17, 2, 1], 'item-2060': [80, 18, 2, 1], 'item-206': [80, 19, 2, 1], 'item-2059': [80, 20, 2, 1], 'item-2058': [80, 21, 2, 1], 'item-2057': [80, 22, 2, 1], 'item-2056': [80, 23, 2, 1], 'item-2055': [80, 24, 2, 1], 'item-2054': [80, 25, 2, 1], 'item-2053': [80, 26, 2, 1], 'item-2052': [80, 27, 2, 1], 'item-2051': [80, 28, 2, 1], 'item-2050': [80, 29, 2, 1], 'item-205': [80, 30, 2, 1], 'item-2049': [80, 31, 2, 1], 'item-2048': [80, 32, 2, 1], 'item-2047': [80, 33, 2, 1], 'item-2046': [80, 34, 2, 1], 'item-2045': [80, 35, 2, 1], 'item-2044': [80, 36, 2, 1], 'item-2043': [80, 37, 2, 1], 'item-2042': [80, 38, 2, 1], 'item-2041': [80, 39, 2, 1], 'item-2040': [80, 40, 2, 1], 'item-204': [80, 41, 2, 1], 'item-2039': [80, 42, 2, 1], 'item-2038': [80, 43, 2, 1], 'item-2037': [80, 44, 2, 1], 'item-2036': [80, 45, 2, 1], 'item-2035': [80, 46, 2, 1], 'item-2034': [80, 47, 2, 1], 'item-2033': [80, 48, 2, 1], 'item-2032': [80, 49, 2, 1], 'item-2031': [80, 50, 2, 1], 'item-2030': [80, 51, 2, 1], 'item-203': [80, 52, 2, 1], 'item-2029': [80, 53, 2, 1], 'item-2028': [80, 54, 2, 1], 'item-2027': [80, 55, 2, 1], 'item-2026': [80, 56, 2, 1], 'item-2025': [80, 57, 2, 1], 'item-2024': [80, 58, 2, 1], 'item-2023': [80, 59, 2, 1], 'item-2022': [82, 0, 2, 1], 'item-2021': [82, 1, 2, 1], 'item-2020': [82, 2, 2, 1], 'item-202': [82, 3, 2, 1], 'item-2019': [82, 4, 2, 1], 'item-2018': [82, 5, 2, 1], 'item-2017': [82, 6, 2, 1], 'item-2016': [82, 7, 2, 1], 'item-2015': [82, 8, 2, 1], 'item-2014': [82, 9, 2, 1], 'item-2013': [82, 10, 2, 1], 'item-2012': [82, 11, 2, 1], 'item-2011': [82, 12, 2, 1], 'item-2010': [82, 13, 2, 1], 'item-201': [82, 14, 2, 1], 'item-2009': [82, 15, 2, 1], 'item-2008': [82, 16, 2, 1], 'item-2007': [82, 17, 2, 1], 'item-2006': [82, 18, 2, 1], 'item-2005': [82, 19, 2, 1], 'item-2004': [82, 20, 2, 1], 'item-2003': [82, 21, 2, 1], 'item-2002': [82, 22, 2, 1], 'item-2001': [82, 23, 2, 1], 'item-2000': [82, 24, 2, 1], 'item-200': [82, 25, 2, 1], 'item-20': [82, 26, 2, 1], 'item-2': [82, 27, 2, 1], 'item-1999': [82, 28, 2, 1], 'item-1998': [82, 29, 2, 1], 'item-1997': [82, 30, 2, 1], 'item-1996': [82, 31, 2, 1], 'item-1995': [82, 32, 2, 1], 'item-1994': [82, 33, 2, 1], 'item-1993': [82, 34, 2, 1], 'item-1992': [82, 35, 2, 1], 'item-1991': [82, 36, 2, 1], 'item-1990': [82, 37, 2, 1], 'item-199': [82, 38, 2, 1], 'item-1989': [82, 39, 2, 1], 'item-1988': [82, 40, 2, 1], 'item-1987': [82, 41, 2, 1], 'item-1986': [82, 42, 2, 1], 'item-1985': [82, 43, 2, 1], 'item-1984': [82, 44, 2, 1], 'item-1983': [82, 45, 2, 1], 'item-1982': [82, 46, 2, 1], 'item-1981': [82, 47, 2, 1], 'item-1980': [82, 48, 2, 1], 'item-198': [82, 49, 2, 1], 'item-1979': [82, 50, 2, 1], 'item-1978': [82, 51, 2, 1], 'item-1977': [82, 52, 2, 1], 'item-1976': [82, 53, 2, 1], 'item-1975': [82, 54, 2, 1], 'item-1974': [82, 55, 2, 1], 'item-1973': [82, 56, 2, 1], 'item-1972': [82, 57, 2, 1], 'item-1971': [82, 58, 2, 1], 'item-1970': [82, 59, 2, 1], 'item-197': [84, 0, 2, 1], 'item-1969': [84, 1, 2, 1], 'item-1968': [84, 2, 2, 1], 'item-1967': [84, 3, 2, 1], 'item-1966': [84, 4, 2, 1], 'item-1965': [84, 5, 2, 1], 'item-1964': [84, 6, 2, 1], 'item-1963': [84, 7, 2, 1], 'item-1962': [84, 8, 2, 1], 'item-1961': [84, 9, 2, 1], 'item-1960': [84, 10, 2, 1], 'item-196': [84, 11, 2, 1], 'item-1959': [84, 12, 2, 1], 'item-1958': [84, 13, 2, 1], 'item-1957': [84, 14, 2, 1], 'item-1956': [84, 15, 2, 1], 'item-1955': [84, 16, 2, 1], 'item-1954': [84, 17, 2, 1], 'item-1953': [84, 18, 2, 1], 'item-1952': [84, 19, 2, 1], 'item-1951': [84, 20, 2, 1], 'item-1950': [84, 21, 2, 1], 'item-195': [84, 22, 2, 1], 'item-1949': [84, 23, 2, 1], 'item-1948': [84, 24, 2, 1], 'item-1947': [84, 25, 2, 1], 'item-1946': [84, 26, 2, 1], 'item-1945': [84, 27, 2, 1], 'item-1944': [84, 28, 2, 1], 'item-1943': [84, 29, 2, 1], 'item-1942': [84, 30, 2, 1], 'item-1941': [84, 31, 2, 1], 'item-1940': [84, 32, 2, 1], 'item-194': [84, 33, 2, 1], 'item-1939': [84, 34, 2, 1], 'item-1938': [84, 35, 2, 1], 'item-1937': [84, 36, 2, 1], 'item-1936': [84, 37, 2, 1], 'item-1935': [84, 38, 2, 1], 'item-1934': [84, 39, 2, 1], 'item-1933': [84, 40, 2, 1], 'item-1932': [84, 41, 2, 1], 'item-1931': [84, 42, 2, 1], 'item-1930': [84, 43, 2, 1], 'item-193': [84, 44, 2, 1], 'item-1929': [84, 45, 2, 1], 'item-1928': [84, 46, 2, 1], 'item-1927': [84, 47, 2, 1], 'item-1926': [84, 48, 2, 1], 'item-1925': [84, 49, 2, 1], 'item-1924': [84, 50, 2, 1], 'item-1923': [84, 51, 2, 1], 'item-1922': [84, 52, 2, 1], 'item-1921': [84, 53, 2, 1], 'item-1920': [84, 54, 2, 1], 'item-192': [84, 55, 2, 1], 'item-1919': [84, 56, 2, 1], 'item-1918': [84, 57, 2, 1], 'item-1917': [84, 58, 2, 1], 'item-1916': [84, 59, 2, 1], 'item-1915': [86, 0, 2, 1], 'item-1914': [86, 1, 2, 1], 'item-1913': [86, 2, 2, 1], 'item-1912': [86, 3, 2, 1], 'item-1911': [86, 4, 2, 1], 'item-1910': [86, 5, 2, 1], 'item-191': [86, 6, 2, 1], 'item-1909': [86, 7, 2, 1], 'item-1908': [86, 8, 2, 1], 'item-1907': [86, 9, 2, 1], 'item-1906': [86, 10, 2, 1], 'item-1905': [86, 11, 2, 1], 'item-1904': [86, 12, 2, 1], 'item-1903': [86, 13, 2, 1], 'item-1902': [86, 14, 2, 1], 'item-1901': [86, 15, 2, 1], 'item-1900': [86, 16, 2, 1], 'item-190': [86, 17, 2, 1], 'item-19': [86, 18, 2, 1], 'item-1899': [86, 19, 2, 1], 'item-1898': [86, 20, 2, 1], 'item-1897': [86, 21, 2, 1], 'item-1896': [86, 22, 2, 1], 'item-1895': [86, 23, 2, 1], 'item-1894': [86, 24, 2, 1], 'item-1893': [86, 25, 2, 1], 'item-1892': [86, 26, 2, 1], 'item-1891': [86, 27, 2, 1], 'item-1890': [86, 28, 2, 1], 'item-189': [86, 29, 2, 1], 'item-1889': [86, 30, 2, 1], 'item-1888': [86, 31, 2, 1], 'item-1887': [86, 32, 2, 1], 'item-1886': [86, 33, 2, 1], 'item-1885': [86, 34, 2, 1], 'item-1884': [86, 35, 2, 1], 'item-1883': [86, 36, 2, 1], 'item-1882': [86, 37, 2, 1], 'item-1881': [86, 38, 2, 1], 'item-1880': [86, 39, 2, 1], 'item-188': [86, 40, 2, 1], 'item-1879': [86, 41, 2, 1], 'item-1878': [86, 42, 2, 1], 'item-1877': [86, 43, 2, 1], 'item-1876': [86, 44, 2, 1], 'item-1875': [86, 45, 2, 1], 'item-1874': [86, 46, 2, 1], 'item-1873': [86, 47, 2, 1], 'item-1872': [86, 48, 2, 1], 'item-1871': [86, 49, 2, 1], 'item-1870': [86, 50, 2, 1], 'item-187': [86, 51, 2, 1], 'item-1869': [86, 52, 2, 1], 'item-1868': [86, 53, 2, 1], 'item-1867': [86, 54, 2, 1], 'item-1866': [86, 55, 2, 1], 'item-1865': [86, 56, 2, 1], 'item-1864': [86, 57, 2, 1], 'item-1863': [86, 58, 2, 1], 'item-1862': [86, 59, 2, 1], 'item-1861': [88, 0, 2, 1], 'item-1860': [88, 1, 2, 1], 'item-186': [88, 2, 2, 1], 'item-1859': [88, 3, 2, 1], 'item-1858': [88, 4, 2, 1], 'item-1857': [88, 5, 2, 1], 'item-1856': [88, 6, 2, 1], 'item-1855': [88, 7, 2, 1], 'item-1854': [88, 8, 2, 1], 'item-1853': [88, 9, 2, 1], 'item-1852': [88, 10, 2, 1], 'item-1851': [88, 11, 2, 1], 'item-1850': [88, 12, 2, 1], 'item-185': [88, 13, 2, 1], 'item-1849': [88, 14, 2, 1], 'item-1848': [88, 15, 2, 1], 'item-1847': [88, 16, 2, 1], 'item-1846': [88, 17, 2, 1], 'item-1845': [88, 18, 2, 1], 'item-1844': [88, 19, 2, 1], 'item-1843': [88, 20, 2, 1], 'item-1842': [88, 21, 2, 1], 'item-1841': [88, 22, 2, 1], 'item-1840': [88, 23, 2, 1], 'item-184': [88, 24, 2, 1], 'item-1839': [88, 25, 2, 1], 'item-1838': [88, 26, 2, 1], 'item-1837': [88, 27, 2, 1], 'item-1836': [88, 28, 2, 1], 'item-1835': [88, 29, 2, 1], 'item-1834': [88, 30, 2, 1], 'item-1833': [88, 31, 2, 1], 'item-1832': [88, 32, 2, 1], 'item-1831': [88, 33, 2, 1], 'item-1830': [88, 34, 2, 1], 'item-183': [88, 35, 2, 1], 'item-1829': [88, 36, 2, 1], 'item-1828': [88, 37, 2, 1], 'item-1827': [88, 38, 2, 1], 'item-1826': [88, 39, 2, 1], 'item-1825': [88, 40, 2, 1], 'item-1824': [88, 41, 2, 1], 'item-1823': [88, 42, 2, 1], 'item-1822': [88, 43, 2, 1], 'item-1821': [88, 44, 2, 1], 'item-1820': [88, 45, 2, 1], 'item-182': [88, 46, 2, 1], 'item-1819': [88, 47, 2, 1], 'item-1818': [88, 48, 2, 1], 'item-1817': [88, 49, 2, 1], 'item-1816': [88, 50, 2, 1], 'item-1815': [88, 51, 2, 1], 'item-1814': [88, 52, 2, 1], 'item-1813': [88, 53, 2, 1], 'item-1812': [88, 54, 2, 1], 'item-1811': [88, 55, 2, 1], 'item-1810': [88, 56, 2, 1], 'item-181': [88, 57, 2, 1], 'item-1809': [88, 58, 2, 1], 'item-1808': [88, 59, 2, 1], 'item-1807': [90, 0, 2, 1], 'item-1806': [90, 1, 2, 1], 'item-1805': [90, 2, 2, 1], 'item-1804': [90, 3, 2, 1], 'item-1803': [90, 4, 2, 1], 'item-1802': [90, 5, 2, 1], 'item-1801': [90, 6, 2, 1], 'item-1800': [90, 7, 2, 1], 'item-180': [90, 8, 2, 1], 'item-18': [90, 9, 2, 1], 'item-1799': [90, 10, 2, 1], 'item-1798': [90, 11, 2, 1], 'item-1797': [90, 12, 2, 1], 'item-1796': [90, 13, 2, 1], 'item-1795': [90, 14, 2, 1], 'item-1794': [90, 15, 2, 1], 'item-1793': [90, 16, 2, 1], 'item-1792': [90, 17, 2, 1], 'item-1791': [90, 18, 2, 1], 'item-1790': [90, 19, 2, 1], 'item-179': [90, 20, 2, 1], 'item-1789': [90, 21, 2, 1], 'item-1788': [90, 22, 2, 1], 'item-1787': [90, 23, 2, 1], 'item-1786': [90, 24, 2, 1], 'item-1785': [90, 25, 2, 1], 'item-1784': [90, 26, 2, 1], 'item-1783': [90, 27, 2, 1], 'item-1782': [90, 28, 2, 1], 'item-1781': [90, 29, 2, 1], 'item-1780': [90, 30, 2, 1], 'item-178': [90, 31, 2, 1], 'item-1779': [90, 32, 2, 1], 'item-1778': [90, 33, 2, 1], 'item-1777': [90, 34, 2, 1], 'item-1776': [90, 35, 2, 1], 'item-1775': [90, 36, 2, 1], 'item-1774': [90, 37, 2, 1], 'item-1773': [90, 38, 2, 1], 'item-1772': [90, 39, 2, 1], 'item-1771': [90, 40, 2, 1], 'item-1770': [90, 41, 2, 1], 'item-177': [90, 42, 2, 1], 'item-1769': [90, 43, 2, 1], 'item-1768': [90, 44, 2, 1], 'item-1767': [90, 45, 2, 1], 'item-1766': [90, 46, 2, 1], 'item-1765': [90, 47, 2, 1], 'item-1764': [90, 48, 2, 1], 'item-1763': [90, 49, 2, 1], 'item-1762': [90, 50, 2, 1], 'item-1761': [90, 51, 2, 1], 'item-1760': [90, 52, 2, 1], 'item-176': [90, 53, 2, 1], 'item-1759': [90, 54, 2, 1], 'item-1758': [90, 55, 2, 1], 'item-1757': [90, 56, 2, 1], 'item-1756': [90, 57, 2, 1], 'item-1755': [90, 58, 2, 1], 'item-1754': [90, 59, 2, 1], 'item-1753': [92, 0, 2, 1], 'item-1752': [92, 1, 2, 1], 'item-1751': [92, 2, 2, 1], 'item-1750': [92, 3, 2, 1], 'item-175': [92, 4, 2, 1], 'item-1749': [92, 5, 2, 1], 'item-1748': [92, 6, 2, 1], 'item-1747': [92, 7, 2, 1], 'item-1746': [92, 8, 2, 1], 'item-1745': [92, 9, 2, 1], 'item-1744': [92, 10, 2, 1], 'item-1743': [92, 11, 2, 1], 'item-1742': [92, 12, 2, 1], 'item-1741': [92, 13, 2, 1], 'item-1740': [92, 14, 2, 1], 'item-174': [92, 15, 2, 1], 'item-1739': [92, 16, 2, 1], 'item-1738': [92, 17, 2, 1], 'item-1737': [92, 18, 2, 1], 'item-1736': [92, 19, 2, 1], 'item-1735': [92, 20, 2, 1], 'item-1734': [92, 21, 2, 1], 'item-1733': [92, 22, 2, 1], 'item-1732': [92, 23, 2, 1], 'item-1731': [92, 24, 2, 1], 'item-1730': [92, 25, 2, 1], 'item-173': [92, 26, 2, 1], 'item-1729': [92, 27, 2, 1], 'item-1728': [92, 28, 2, 1], 'item-1727': [92, 29, 2, 1], 'item-1726': [92, 30, 2, 1], 'item-1725': [92, 31, 2, 1], 'item-1724': [92, 32, 2, 1], 'item-1723': [92, 33, 2, 1], 'item-1722': [92, 34, 2, 1], 'item-1721': [92, 35, 2, 1], 'item-1720': [92, 36, 2, 1], 'item-172': [92, 37, 2, 1], 'item-1719': [92, 38, 2, 1], 'item-1718': [92, 39, 2, 1], 'item-1717': [92, 40, 2, 1], 'item-1716': [92, 41, 2, 1], 'item-1715': [92, 42, 2, 1], 'item-1714': [92, 43, 2, 1], 'item-1713': [92, 44, 2, 1], 'item-1712': [92, 45, 2, 1], 'item-1711': [92, 46, 2, 1], 'item-1710': [92, 47, 2, 1], 'item-171': [92, 48, 2, 1], 'item-1709': [92, 49, 2, 1], 'item-1708': [92, 50, 2, 1], 'item-1707': [92, 51, 2, 1], 'item-1706': [92, 52, 2, 1], 'item-1705': [92, 53, 2, 1], 'item-1704': [92, 54, 2, 1], 'item-1703': [92, 55, 2, 1], 'item-1702': [92, 56, 2, 1], 'item-1701': [92, 57, 2, 1], 'item-1700': [92, 58, 2, 1], 'item-170': [92, 59, 2, 1], 'item-17': [94, 0, 2, 1], 'item-1699': [94, 1, 2, 1], 'item-1698': [94, 2, 2, 1], 'item-1697': [94, 3, 2, 1], 'item-1696': [94, 4, 2, 1], 'item-1695': [94, 5, 2, 1], 'item-1694': [94, 6, 2, 1], 'item-1693': [94, 7, 2, 1], 'item-1692': [94, 8, 2, 1], 'item-1691': [94, 9, 2, 1], 'item-1690': [94, 10, 2, 1], 'item-169': [94, 11, 2, 1], 'item-1689': [94, 12, 2, 1], 'item-1688': [94, 13, 2, 1], 'item-1687': [94, 14, 2, 1], 'item-1686': [94, 15, 2, 1], 'item-1685': [94, 16, 2, 1], 'item-1684': [94, 17, 2, 1], 'item-1683': [94, 18, 2, 1], 'item-1682': [94, 19, 2, 1], 'item-1681': [94, 20, 2, 1], 'item-1680': [94, 21, 2, 1], 'item-168': [94, 22, 2, 1], 'item-1679': [94, 23, 2, 1], 'item-1678': [94, 24, 2, 1], 'item-1677': [94, 25, 2, 1], 'item-1676': [94, 26, 2, 1], 'item-1675': [94, 27, 2, 1], 'item-1674': [94, 28, 2, 1], 'item-1673': [94, 29, 2, 1], 'item-1672': [94, 30, 2, 1], 'item-1671': [94, 31, 2, 1], 'item-1670': [94, 32, 2, 1], 'item-167': [94, 33, 2, 1], 'item-1669': [94, 34, 2, 1], 'item-1668': [94, 35, 2, 1], 'item-1667': [94, 36, 2, 1], 'item-1666': [94, 37, 2, 1], 'item-1665': [94, 38, 2, 1], 'item-1664': [94, 39, 2, 1], 'item-1663': [94, 40, 2, 1], 'item-1662': [94, 41, 2, 1], 'item-1661': [94, 42, 2, 1], 'item-1660': [94, 43, 2, 1], 'item-166': [94, 44, 2, 1], 'item-1659': [94, 45, 2, 1], 'item-1658': [94, 46, 2, 1], 'item-1657': [94, 47, 2, 1], 'item-1656': [94, 48, 2, 1], 'item-1655': [94, 49, 2, 1], 'item-1654': [94, 50, 2, 1], 'item-1653': [94, 51, 2, 1], 'item-1652': [94, 52, 2, 1], 'item-1651': [94, 53, 2, 1], 'item-1650': [94, 54, 2, 1], 'item-165': [94, 55, 2, 1], 'item-1649': [94, 56, 2, 1], 'item-1648': [94, 57, 2, 1], 'item-1647': [94, 58, 2, 1], 'item-1646': [94, 59, 2, 1], 'item-1645': [96, 0, 2, 1], 'item-1644': [96, 1, 2, 1], 'item-1643': [96, 2, 2, 1], 'item-1642': [96, 3, 2, 1], 'item-1641': [96, 4, 2, 1], 'item-1640': [96, 5, 2, 1], 'item-164': [96, 6, 2, 1], 'item-1639': [96, 7, 2, 1], 'item-1638': [96, 8, 2, 1], 'item-1637': [96, 9, 2, 1], 'item-1636': [96, 10, 2, 1], 'item-1635': [96, 11, 2, 1], 'item-1634': [96, 12, 2, 1], 'item-1633': [96, 13, 2, 1], 'item-1632': [96, 14, 2, 1], 'item-1631': [96, 15, 2, 1], 'item-1630': [96, 16, 2, 1], 'item-163': [96, 17, 2, 1], 'item-1629': [96, 18, 2, 1], 'item-1628': [96, 19, 2, 1], 'item-1627': [96, 20, 2, 1], 'item-1626': [96, 21, 2, 1], 'item-1625': [96, 22, 2, 1], 'item-1624': [96, 23, 2, 1], 'item-1623': [96, 24, 2, 1], 'item-1622': [96, 25, 2, 1], 'item-1621': [96, 26, 2, 1], 'item-1620': [96, 27, 2, 1], 'item-162': [96, 28, 2, 1], 'item-1619': [96, 29, 2, 1], 'item-1618': [96, 30, 2, 1], 'item-1617': [96, 31, 2, 1], 'item-1616': [96, 32, 2, 1], 'item-1615': [96, 33, 2, 1], 'item-1614': [96, 34, 2, 1], 'item-1613': [96, 35, 2, 1], 'item-1612': [96, 36, 2, 1], 'item-1611': [96, 37, 2, 1], 'item-1610': [96, 38, 2, 1], 'item-161': [96, 39, 2, 1], 'item-1609': [96, 40, 2, 1], 'item-1608': [96, 41, 2, 1], 'item-1607': [96, 42, 2, 1], 'item-1606': [96, 43, 2, 1], 'item-1605': [96, 44, 2, 1], 'item-1604': [96, 45, 2, 1], 'item-1603': [96, 46, 2, 1], 'item-1602': [96, 47, 2, 1], 'item-1601': [96, 48, 2, 1], 'item-1600': [96, 49, 2, 1], 'item-160': [96, 50, 2, 1], 'item-16': [96, 51, 2, 1], 'item-1599': [96, 52, 2, 1], 'item-1598': [96, 53, 2, 1], 'item-1597': [96, 54, 2, 1], 'item-1596': [96, 55, 2, 1], 'item-1595': [96, 56, 2, 1], 'item-1594': [96, 57, 2, 1], 'item-1593': [96, 58, 2, 1], 'item-1592': [96, 59, 2, 1], 'item-1591': [98, 0, 2, 1], 'item-1590': [98, 1, 2, 1], 'item-159': [98, 2, 2, 1], 'item-1589': [98, 3, 2, 1], 'item-1588': [98, 4, 2, 1], 'item-1587': [98, 5, 2, 1], 'item-1586': [98, 6, 2, 1], 'item-1585': [98, 7, 2, 1], 'item-1584': [98, 8, 2, 1], 'item-1583': [98, 9, 2, 1], 'item-1582': [98, 10, 2, 1], 'item-1581': [98, 11, 2, 1], 'item-1580': [98, 12, 2, 1], 'item-158': [98, 13, 2, 1], 'item-1579': [98, 14, 2, 1], 'item-1578': [98, 15, 2, 1], 'item-1577': [98, 16, 2, 1], 'item-1576': [98, 17, 2, 1], 'item-1575': [98, 18, 2, 1], 'item-1574': [98, 19, 2, 1], 'item-1573': [98, 20, 2, 1], 'item-1572': [98, 21, 2, 1], 'item-1571': [98, 22, 2, 1], 'item-1570': [98, 23, 2, 1], 'item-157': [98, 24, 2, 1], 'item-1569': [98, 25, 2, 1], 'item-1568': [98, 26, 2, 1], 'item-1567': [98, 27, 2, 1], 'item-1566': [98, 28, 2, 1], 'item-1565': [98, 29, 2, 1], 'item-1564': [98, 30, 2, 1], 'item-1563': [98, 31, 2, 1], 'item-1562': [98, 32, 2, 1], 'item-1561': [98, 33, 2, 1], 'item-1560': [98, 34, 2, 1], 'item-156': [98, 35, 2, 1], 'item-1559': [98, 36, 2, 1], 'item-1558': [98, 37, 2, 1], 'item-1557': [98, 38, 2, 1], 'item-1556': [98, 39, 2, 1], 'item-1555': [98, 40, 2, 1], 'item-1554': [98, 41, 2, 1], 'item-1553': [98, 42, 2, 1], 'item-1552': [98, 43, 2, 1], 'item-1551': [98, 44, 2, 1], 'item-1550': [98, 45, 2, 1], 'item-155': [98, 46, 2, 1], 'item-1549': [98, 47, 2, 1], 'item-1548': [98, 48, 2, 1], 'item-1547': [98, 49, 2, 1], 'item-1546': [98, 50, 2, 1], 'item-1545': [98, 51, 2, 1], 'item-1544': [98, 52, 2, 1], 'item-1543': [98, 53, 2, 1], 'item-1542': [98, 54, 2, 1], 'item-1541': [98, 55, 2, 1], 'item-1540': [98, 56, 2, 1], 'item-154': [98, 57, 2, 1], 'item-1539': [98, 58, 2, 1], 'item-1538': [98, 59, 2, 1], 'item-1537': [100, 0, 2, 1], 'item-1536': [100, 1, 2, 1], 'item-1535': [100, 2, 2, 1], 'item-1534': [100, 3, 2, 1], 'item-1533': [100, 4, 2, 1], 'item-1532': [100, 5, 2, 1], 'item-1531': [100, 6, 2, 1], 'item-1530': [100, 7, 2, 1], 'item-153': [100, 8, 2, 1], 'item-1529': [100, 9, 2, 1], 'item-1528': [100, 10, 2, 1], 'item-1527': [100, 11, 2, 1], 'item-1526': [100, 12, 2, 1], 'item-1525': [100, 13, 2, 1], 'item-1524': [100, 14, 2, 1], 'item-1523': [100, 15, 2, 1], 'item-1522': [100, 16, 2, 1], 'item-1521': [100, 17, 2, 1], 'item-1520': [100, 18, 2, 1], 'item-152': [100, 19, 2, 1], 'item-1519': [100, 20, 2, 1], 'item-1518': [100, 21, 2, 1], 'item-1517': [100, 22, 2, 1], 'item-1516': [100, 23, 2, 1], 'item-1515': [100, 24, 2, 1], 'item-1514': [100, 25, 2, 1], 'item-1513': [100, 26, 2, 1], 'item-1512': [100, 27, 2, 1], 'item-1511': [100, 28, 2, 1], 'item-1510': [100, 29, 2, 1], 'item-151': [100, 30, 2, 1], 'item-1509': [100, 31, 2, 1], 'item-1508': [100, 32, 2, 1], 'item-1507': [100, 33, 2, 1], 'item-1506': [100, 34, 2, 1], 'item-1505': [100, 35, 2, 1], 'item-1504': [100, 36, 2, 1], 'item-1503': [100, 37, 2, 1], 'item-1502': [100, 38, 2, 1], 'item-1501': [100, 39, 2, 1], 'item-1500': [100, 40, 2, 1], 'item-150': [100, 41, 2, 1], 'item-15': [100, 42, 2, 1], 'item-1499': [100, 43, 2, 1], 'item-1498': [100, 44, 2, 1], 'item-1497': [100, 45, 2, 1], 'item-1496': [100, 46, 2, 1], 'item-1495': [100, 47, 2, 1], 'item-1494': [100, 48, 2, 1], 'item-1493': [100, 49, 2, 1], 'item-1492': [100, 50, 2, 1], 'item-1491': [100, 51, 2, 1], 'item-1490': [100, 52, 2, 1], 'item-149': [100, 53, 2, 1], 'item-1489': [100, 54, 2, 1], 'item-1488': [100, 55, 2, 1], 'item-1487': [100, 56, 2, 1], 'item-1486': [100, 57, 2, 1], 'item-1485': [100, 58, 2, 1], 'item-1484': [100, 59, 2, 1], 'item-1483': [102, 0, 2, 1], 'item-1482': [102, 1, 2, 1], 'item-1481': [102, 2, 2, 1], 'item-1480': [102, 3, 2, 1], 'item-148': [102, 4, 2, 1], 'item-1479': [102, 5, 2, 1], 'item-1478': [102, 6, 2, 1], 'item-1477': [102, 7, 2, 1], 'item-1476': [102, 8, 2, 1], 'item-1475': [102, 9, 2, 1], 'item-1474': [102, 10, 2, 1], 'item-1473': [102, 11, 2, 1], 'item-1472': [102, 12, 2, 1], 'item-1471': [102, 13, 2, 1], 'item-1470': [102, 14, 2, 1], 'item-147': [102, 15, 2, 1], 'item-1469': [102, 16, 2, 1], 'item-1468': [102, 17, 2, 1], 'item-1467': [102, 18, 2, 1], 'item-1466': [102, 19, 2, 1], 'item-1465': [102, 20, 2, 1], 'item-1464': [102, 21, 2, 1], 'item-1463': [102, 22, 2, 1], 'item-1462': [102, 23, 2, 1], 'item-1461': [102, 24, 2, 1], 'item-1460': [102, 25, 2, 1], 'item-146': [102, 26, 2, 1], 'item-1459': [102, 27, 2, 1], 'item-1458': [102, 28, 2, 1], 'item-1457': [102, 29, 2, 1], 'item-1456': [102, 30, 2, 1], 'item-1455': [102, 31, 2, 1], 'item-1454': [102, 32, 2, 1], 'item-1453': [102, 33, 2, 1], 'item-1452': [102, 34, 2, 1], 'item-1451': [102, 35, 2, 1], 'item-1450': [102, 36, 2, 1], 'item-145': [102, 37, 2, 1], 'item-1449': [102, 38, 2, 1], 'item-1448': [102, 39, 2, 1], 'item-1447': [102, 40, 2, 1], 'item-1446': [102, 41, 2, 1], 'item-1445': [102, 42, 2, 1], 'item-1444': [102, 43, 2, 1], 'item-1443': [102, 44, 2, 1], 'item-1442': [102, 45, 2, 1], 'item-1441': [102, 46, 2, 1], 'item-1440': [102, 47, 2, 1], 'item-144': [102, 48, 2, 1], 'item-1439': [102, 49, 2, 1], 'item-1438': [102, 50, 2, 1], 'item-1437': [102, 51, 2, 1], 'item-1436': [102, 52, 2, 1], 'item-1435': [102, 53, 2, 1], 'item-1434': [102, 54, 2, 1], 'item-1433': [102, 55, 2, 1], 'item-1432': [102, 56, 2, 1], 'item-1431': [102, 57, 2, 1], 'item-1430': [102, 58, 2, 1], 'item-143': [102, 59, 2, 1], 'item-1429': [104, 0, 2, 1], 'item-1428': [104, 1, 2, 1], 'item-1427': [104, 2, 2, 1], 'item-1426': [104, 3, 2, 1], 'item-1425': [104, 4, 2, 1], 'item-1424': [104, 5, 2, 1], 'item-1423': [104, 6, 2, 1], 'item-1422': [104, 7, 2, 1], 'item-1421': [104, 8, 2, 1], 'item-1420': [104, 9, 2, 1], 'item-142': [104, 10, 2, 1], 'item-1419': [104, 11, 2, 1], 'item-1418': [104, 12, 2, 1], 'item-1417': [104, 13, 2, 1], 'item-1416': [104, 14, 2, 1], 'item-1415': [104, 15, 2, 1], 'item-1414': [104, 16, 2, 1], 'item-1413': [104, 17, 2, 1], 'item-1412': [104, 18, 2, 1], 'item-1411': [104, 19, 2, 1], 'item-1410': [104, 20, 2, 1], 'item-141': [104, 21, 2, 1], 'item-1409': [104, 22, 2, 1], 'item-1408': [104, 23, 2, 1], 'item-1407': [104, 24, 2, 1], 'item-1406': [104, 25, 2, 1], 'item-1405': [104, 26, 2, 1], 'item-1404': [104, 27, 2, 1], 'item-1403': [104, 28, 2, 1], 'item-1402': [104, 29, 2, 1], 'item-1401': [104, 30, 2, 1], 'item-1400': [104, 31, 2, 1], 'item-140': [104, 32, 2, 1], 'item-14': [104, 33, 2, 1], 'item-1399': [104, 34, 2, 1], 'item-1398': [104, 35, 2, 1], 'item-1397': [104, 36, 2, 1], 'item-1396': [104, 37, 2, 1], 'item-1395': [104, 38, 2, 1], 'item-1394': [104, 39, 2, 1], 'item-1393': [104, 40, 2, 1], 'item-1392': [104, 41, 2, 1], 'item-1391': [104, 42, 2, 1], 'item-1390': [104, 43, 2, 1], 'item-139': [104, 44, 2, 1], 'item-1389': [104, 45, 2, 1], 'item-1388': [104, 46, 2, 1], 'item-1387': [104, 47, 2, 1], 'item-1386': [104, 48, 2, 1], 'item-1385': [104, 49, 2, 1], 'item-1384': [104, 50, 2, 1], 'item-1383': [104, 51, 2, 1], 'item-1382': [104, 52, 2, 1], 'item-1381': [104, 53, 2, 1], 'item-1380': [104, 54, 2, 1], 'item-138': [104, 55, 2, 1], 'item-1379': [104, 56, 2, 1], 'item-1378': [104, 57, 2, 1], 'item-1377': [104, 58, 2, 1], 'item-1376': [104, 59, 2, 1], 'item-1375': [106, 0, 2, 1], 'item-1374': [106, 1, 2, 1], 'item-1373': [106, 2, 2, 1], 'item-1372': [106, 3, 2, 1], 'item-1371': [106, 4, 2, 1], 'item-1370': [106, 5, 2, 1], 'item-137': [106, 6, 2, 1], 'item-1369': [106, 7, 2, 1], 'item-1368': [106, 8, 2, 1], 'item-1367': [106, 9, 2, 1], 'item-1366': [106, 10, 2, 1], 'item-1365': [106, 11, 2, 1], 'item-1364': [106, 12, 2, 1], 'item-1363': [106, 13, 2, 1], 'item-1362': [106, 14, 2, 1], 'item-1361': [106, 15, 2, 1], 'item-1360': [106, 16, 2, 1], 'item-136': [106, 17, 2, 1], 'item-1359': [106, 18, 2, 1], 'item-1358': [106, 19, 2, 1], 'item-1357': [106, 20, 2, 1], 'item-1356': [106, 21, 2, 1], 'item-1355': [106, 22, 2, 1], 'item-1354': [106, 23, 2, 1], 'item-1353': [106, 24, 2, 1], 'item-1352': [106, 25, 2, 1], 'item-1351': [106, 26, 2, 1], 'item-1350': [106, 27, 2, 1], 'item-135': [106, 28, 2, 1], 'item-1349': [106, 29, 2, 1], 'item-1348': [106, 30, 2, 1], 'item-1347': [106, 31, 2, 1], 'item-1346': [106, 32, 2, 1], 'item-1345': [106, 33, 2, 1], 'item-1344': [106, 34, 2, 1], 'item-1343': [106, 35, 2, 1], 'item-1342': [106, 36, 2, 1], 'item-1341': [106, 37, 2, 1], 'item-1340': [106, 38, 2, 1], 'item-134': [106, 39, 2, 1], 'item-1339': [106, 40, 2, 1], 'item-1338': [106, 41, 2, 1], 'item-1337': [106, 42, 2, 1], 'item-1336': [106, 43, 2, 1], 'item-1335': [106, 44, 2, 1], 'item-1334': [106, 45, 2, 1], 'item-1333': [106, 46, 2, 1], 'item-1332': [106, 47, 2, 1], 'item-1331': [106, 48, 2, 1], 'item-1330': [106, 49, 2, 1], 'item-133': [106, 50, 2, 1], 'item-1329': [106, 51, 2, 1], 'item-1328': [106, 52, 2, 1], 'item-1327': [106, 53, 2, 1], 'item-1326': [106, 54, 2, 1], 'item-1325': [106, 55, 2, 1], 'item-1324': [106, 56, 2, 1], 'item-1323': [106, 57, 2, 1], 'item-1322': [106, 58, 2, 1], 'item-1321': [106, 59, 2, 1], 'item-1320': [108, 0, 2, 1], 'item-132': [108, 1, 2, 1], 'item-1319': [108, 2, 2, 1], 'item-1318': [108, 3, 2, 1], 'item-1317': [108, 4, 2, 1], 'item-1316': [108, 5, 2, 1], 'item-1315': [108, 6, 2, 1], 'item-1314': [108, 7, 2, 1], 'item-1313': [108, 8, 2, 1], 'item-1312': [108, 9, 2, 1], 'item-1311': [108, 10, 2, 1], 'item-1310': [108, 11, 2, 1], 'item-131': [108, 12, 2, 1], 'item-1309': [108, 13, 2, 1], 'item-1308': [108, 14, 2, 1], 'item-1307': [108, 15, 2, 1], 'item-1306': [108, 16, 2, 1], 'item-1305': [108, 17, 2, 1], 'item-1304': [108, 18, 2, 1], 'item-1303': [108, 19, 2, 1], 'item-1302': [108, 20, 2, 1], 'item-1301': [108, 21, 2, 1], 'item-1300': [108, 22, 2, 1], 'item-130': [108, 23, 2, 1], 'item-13': [108, 24, 2, 1], 'item-1299': [108, 25, 2, 1], 'item-1298': [108, 26, 2, 1], 'item-1297': [108, 27, 2, 1], 'item-1296': [108, 28, 2, 1], 'item-1295': [108, 29, 2, 1], 'item-1294': [108, 30, 2, 1], 'item-1293': [108, 31, 2, 1], 'item-1292': [108, 32, 2, 1], 'item-1291': [108, 33, 2, 1], 'item-1290': [108, 34, 2, 1], 'item-129': [108, 35, 2, 1], 'item-1289': [108, 36, 2, 1], 'item-1288': [108, 37, 2, 1], 'item-1287': [108, 38, 2, 1], 'item-1286': [108, 39, 2, 1], 'item-1285': [108, 40, 2, 1], 'item-1284': [108, 41, 2, 1], 'item-1283': [108, 42, 2, 1], 'item-1282': [108, 43, 2, 1], 'item-1281': [108, 44, 2, 1], 'item-1280': [108, 45, 2, 1], 'item-128': [108, 46, 2, 1], 'item-1279': [108, 47, 2, 1], 'item-1278': [108, 48, 2, 1], 'item-1277': [108, 49, 2, 1], 'item-1276': [108, 50, 2, 1], 'item-1275': [108, 51, 2, 1], 'item-1274': [108, 52, 2, 1], 'item-1273': [108, 53, 2, 1], 'item-1272': [108, 54, 2, 1], 'item-1271': [108, 55, 2, 1], 'item-1270': [108, 56, 2, 1], 'item-127': [108, 57, 2, 1], 'item-1269': [108, 58, 2, 1], 'item-1268': [108, 59, 2, 1], 'item-1267': [110, 0, 2, 1], 'item-1266': [110, 1, 2, 1], 'item-1265': [110, 2, 2, 1], 'item-1264': [110, 3, 2, 1], 'item-1263': [110, 4, 2, 1], 'item-1262': [110, 5, 2, 1], 'item-1261': [110, 6, 2, 1], 'item-1260': [110, 7, 2, 1], 'item-126': [110, 8, 2, 1], 'item-1259': [110, 9, 2, 1], 'item-1258': [110, 10, 2, 1], 'item-1257': [110, 11, 2, 1], 'item-1256': [110, 12, 2, 1], 'item-1255': [110, 13, 2, 1], 'item-1254': [110, 14, 2, 1], 'item-1253': [110, 15, 2, 1], 'item-1252': [110, 16, 2, 1], 'item-1251': [110, 17, 2, 1], 'item-1250': [110, 18, 2, 1], 'item-125': [110, 19, 2, 1], 'item-1249': [110, 20, 2, 1], 'item-1248': [110, 21, 2, 1], 'item-1247': [110, 22, 2, 1], 'item-1246': [110, 23, 2, 1], 'item-1245': [110, 24, 2, 1], 'item-1244': [110, 25, 2, 1], 'item-1243': [110, 26, 2, 1], 'item-1242': [110, 27, 2, 1], 'item-1241': [110, 28, 2, 1], 'item-1240': [110, 29, 2, 1], 'item-124': [110, 30, 2, 1], 'item-1239': [110, 31, 2, 1], 'item-1238': [110, 32, 2, 1], 'item-1237': [110, 33, 2, 1], 'item-1236': [110, 34, 2, 1], 'item-1235': [110, 35, 2, 1], 'item-1234': [110, 36, 2, 1], 'item-1233': [110, 37, 2, 1], 'item-1232': [110, 38, 2, 1], 'item-1231': [110, 39, 2, 1], 'item-1230': [110, 40, 2, 1], 'item-123': [110, 41, 2, 1], 'item-1229': [110, 42, 2, 1], 'item-1228': [110, 43, 2, 1], 'item-1227': [110, 44, 2, 1], 'item-1226': [110, 45, 2, 1], 'item-1225': [110, 46, 2, 1], 'item-1224': [110, 47, 2, 1], 'item-1223': [110, 48, 2, 1], 'item-1222': [110, 49, 2, 1], 'item-1221': [110, 50, 2, 1], 'item-1220': [110, 51, 2, 1], 'item-122': [110, 52, 2, 1], 'item-1219': [110, 53, 2, 1], 'item-1218': [110, 54, 2, 1], 'item-1217': [110, 55, 2, 1], 'item-1216': [110, 56, 2, 1], 'item-1215': [110, 57, 2, 1], 'item-1214': [110, 58, 2, 1], 'item-1213': [110, 59, 2, 1], 'item-1212': [112, 0, 2, 1], 'item-1211': [112, 1, 2, 1], 'item-1210': [112, 2, 2, 1], 'item-121': [112, 3, 2, 1], 'item-1209': [112, 4, 2, 1], 'item-1208': [112, 5, 2, 1], 'item-1207': [112, 6, 2, 1], 'item-1206': [112, 7, 2, 1], 'item-1205': [112, 8, 2, 1], 'item-1204': [112, 9, 2, 1], 'item-1203': [112, 10, 2, 1], 'item-1202': [112, 11, 2, 1], 'item-1201': [112, 12, 2, 1], 'item-1200': [112, 13, 2, 1], 'item-120': [112, 14, 2, 1], 'item-12': [112, 15, 2, 1], 'item-1199': [112, 16, 2, 1], 'item-1198': [112, 17, 2, 1], 'item-1197': [112, 18, 2, 1], 'item-1196': [112, 19, 2, 1], 'item-1195': [112, 20, 2, 1], 'item-1194': [112, 21, 2, 1], 'item-1193': [112, 22, 2, 1], 'item-1192': [112, 23, 2, 1], 'item-1191': [112, 24, 2, 1], 'item-1190': [112, 25, 2, 1], 'item-119': [112, 26, 2, 1], 'item-1189': [112, 27, 2, 1], 'item-1188': [112, 28, 2, 1], 'item-1187': [112, 29, 2, 1], 'item-1186': [112, 30, 2, 1], 'item-1185': [112, 31, 2, 1], 'item-1184': [112, 32, 2, 1], 'item-1183': [112, 33, 2, 1], 'item-1182': [112, 34, 2, 1], 'item-1181': [112, 35, 2, 1], 'item-1180': [112, 36, 2, 1], 'item-118': [112, 37, 2, 1], 'item-1179': [112, 38, 2, 1], 'item-1178': [112, 39, 2, 1], 'item-1177': [112, 40, 2, 1], 'item-1176': [112, 41, 2, 1], 'item-1175': [112, 42, 2, 1], 'item-1174': [112, 43, 2, 1], 'item-1173': [112, 44, 2, 1], 'item-1172': [112, 45, 2, 1], 'item-1171': [112, 46, 2, 1], 'item-1170': [112, 47, 2, 1], 'item-117': [112, 48, 2, 1], 'item-1169': [112, 49, 2, 1], 'item-1168': [112, 50, 2, 1], 'item-1167': [112, 51, 2, 1], 'item-1166': [112, 52, 2, 1], 'item-1165': [112, 53, 2, 1], 'item-1164': [112, 54, 2, 1], 'item-1163': [112, 55, 2, 1], 'item-1162': [112, 56, 2, 1], 'item-1161': [112, 57, 2, 1], 'item-1160': [112, 58, 2, 1], 'item-116': [112, 59, 2, 1], 'item-1159': [114, 0, 2, 1], 'item-1158': [114, 1, 2, 1], 'item-1157': [114, 2, 2, 1], 'item-1156': [114, 3, 2, 1], 'item-1155': [114, 4, 2, 1], 'item-1154': [114, 5, 2, 1], 'item-1153': [114, 6, 2, 1], 'item-1152': [114, 7, 2, 1], 'item-1151': [114, 8, 2, 1], 'item-1150': [114, 9, 2, 1], 'item-115': [114, 10, 2, 1], 'item-1149': [114, 11, 2, 1], 'item-1148': [114, 12, 2, 1], 'item-1147': [114, 13, 2, 1], 'item-1146': [114, 14, 2, 1], 'item-1145': [114, 15, 2, 1], 'item-1144': [114, 16, 2, 1], 'item-1143': [114, 17, 2, 1], 'item-1142': [114, 18, 2, 1], 'item-1141': [114, 19, 2, 1], 'item-1140': [114, 20, 2, 1], 'item-114': [114, 21, 2, 1], 'item-1139': [114, 22, 2, 1], 'item-1138': [114, 23, 2, 1], 'item-1137': [114, 24, 2, 1], 'item-1136': [114, 25, 2, 1], 'item-1135': [114, 26, 2, 1], 'item-1134': [114, 27, 2, 1], 'item-1133': [114, 28, 2, 1], 'item-1132': [114, 29, 2, 1], 'item-1131': [114, 30, 2, 1], 'item-1130': [114, 31, 2, 1], 'item-113': [114, 32, 2, 1], 'item-1129': [114, 33, 2, 1], 'item-1128': [114, 34, 2, 1], 'item-1127': [114, 35, 2, 1], 'item-1126': [114, 36, 2, 1], 'item-1125': [114, 37, 2, 1], 'item-1124': [114, 38, 2, 1], 'item-1123': [114, 39, 2, 1], 'item-1122': [114, 40, 2, 1], 'item-1121': [114, 41, 2, 1], 'item-1120': [114, 42, 2, 1], 'item-112': [114, 43, 2, 1], 'item-1119': [114, 44, 2, 1], 'item-1118': [114, 45, 2, 1], 'item-1117': [114, 46, 2, 1], 'item-1116': [114, 47, 2, 1], 'item-1115': [114, 48, 2, 1], 'item-1114': [114, 49, 2, 1], 'item-1113': [114, 50, 2, 1], 'item-1112': [114, 51, 2, 1], 'item-1111': [114, 52, 2, 1], 'item-1110': [114, 53, 2, 1], 'item-111': [114, 54, 2, 1], 'item-1109': [114, 55, 2, 1], 'item-1108': [114, 56, 2, 1], 'item-1107': [114, 57, 2, 1], 'item-1106': [114, 58, 2, 1], 'item-1105': [114, 59, 2, 1], 'item-1104': [116, 0, 2, 1], 'item-1103': [116, 1, 2, 1], 'item-1102': [116, 2, 2, 1], 'item-1101': [116, 3, 2, 1], 'item-1100': [116, 4, 2, 1], 'item-110': [116, 5, 2, 1], 'item-11': [116, 6, 2, 1], 'item-1099': [116, 7, 2, 1], 'item-1098': [116, 8, 2, 1], 'item-1097': [116, 9, 2, 1], 'item-1096': [116, 10, 2, 1], 'item-1095': [116, 11, 2, 1], 'item-1094': [116, 12, 2, 1], 'item-1093': [116, 13, 2, 1], 'item-1092': [116, 14, 2, 1], 'item-1091': [116, 15, 2, 1], 'item-1090': [116, 16, 2, 1], 'item-109': [116, 17, 2, 1], 'item-1089': [116, 18, 2, 1], 'item-1088': [116, 19, 2, 1], 'item-1087': [116, 20, 2, 1], 'item-1086': [116, 21, 2, 1], 'item-1085': [116, 22, 2, 1], 'item-1084': [116, 23, 2, 1], 'item-1083': [116, 24, 2, 1], 'item-1082': [116, 25, 2, 1], 'item-1081': [116, 26, 2, 1], 'item-1080': [116, 27, 2, 1], 'item-108': [116, 28, 2, 1], 'item-1079': [116, 29, 2, 1], 'item-1078': [116, 30, 2, 1], 'item-1077': [116, 31, 2, 1], 'item-1076': [116, 32, 2, 1], 'item-1075': [116, 33, 2, 1], 'item-1074': [116, 34, 2, 1], 'item-1073': [116, 35, 2, 1], 'item-1072': [116, 36, 2, 1], 'item-1071': [116, 37, 2, 1], 'item-1070': [116, 38, 2, 1], 'item-107': [116, 39, 2, 1], 'item-1069': [116, 40, 2, 1], 'item-1068': [116, 41, 2, 1], 'item-1067': [116, 42, 2, 1], 'item-1066': [116, 43, 2, 1], 'item-1065': [116, 44, 2, 1], 'item-1064': [116, 45, 2, 1], 'item-1063': [116, 46, 2, 1], 'item-1062': [116, 47, 2, 1], 'item-1061': [116, 48, 2, 1], 'item-1060': [116, 49, 2, 1], 'item-106': [116, 50, 2, 1], 'item-1059': [116, 51, 2, 1], 'item-1058': [116, 52, 2, 1], 'item-1057': [116, 53, 2, 1], 'item-1056': [116, 54, 2, 1], 'item-1055': [116, 55, 2, 1], 'item-1054': [116, 56, 2, 1], 'item-1053': [116, 57, 2, 1], 'item-1052': [116, 58, 2, 1], 'item-1051': [116, 59, 2, 1], 'item-1050': [118, 0, 2, 1], 'item-105': [118, 1, 2, 1], 'item-1049': [118, 2, 2, 1], 'item-1048': [118, 3, 2, 1], 'item-1047': [118, 4, 2, 1], 'item-1046': [118, 5, 2, 1], 'item-1045': [118, 6, 2, 1], 'item-1044': [118, 7, 2, 1], 'item-1043': [118, 8, 2, 1], 'item-1042': [118, 9, 2, 1], 'item-1041': [118, 10, 2, 1], 'item-1040': [118, 11, 2, 1], 'item-104': [118, 12, 2, 1], 'item-1039': [118, 13, 2, 1], 'item-1038': [118, 14, 2, 1], 'item-1037': [118, 15, 2, 1], 'item-1036': [118, 16, 2, 1], 'item-1035': [118, 17, 2, 1], 'item-1034': [118, 18, 2, 1], 'item-1033': [118, 19, 2, 1], 'item-1032': [118, 20, 2, 1], 'item-1031': [118, 21, 2, 1], 'item-1030': [118, 22, 2, 1], 'item-103': [118, 23, 2, 1], 'item-1029': [118, 24, 2, 1], 'item-1028': [118, 25, 2, 1], 'item-1027': [118, 26, 2, 1], 'item-1026': [118, 27, 2, 1], 'item-1025': [118, 28, 2, 1], 'item-1024': [118, 29, 2, 1], 'item-1023': [118, 30, 2, 1], 'item-1022': [118, 31, 2, 1], 'item-1021': [118, 32, 2, 1], 'item-1020': [118, 33, 2, 1], 'item-102': [118, 34, 2, 1], 'item-1019': [118, 35, 2, 1], 'item-1018': [118, 36, 2, 1], 'item-1017': [118, 37, 2, 1], 'item-1016': [118, 38, 2, 1], 'item-1015': [118, 39, 2, 1], 'item-1014': [118, 40, 2, 1], 'item-1013': [118, 41, 2, 1], 'item-1012': [118, 42, 2, 1], 'item-1011': [118, 43, 2, 1], 'item-1010': [118, 44, 2, 1], 'item-101': [118, 45, 2, 1], 'item-1009': [118, 46, 2, 1], 'item-1008': [118, 47, 2, 1], 'item-1007': [118, 48, 2, 1], 'item-1006': [118, 49, 2, 1], 'item-1005': [118, 50, 2, 1], 'item-1004': [118, 51, 2, 1], 'item-1003': [118, 52, 2, 1], 'item-1002': [118, 53, 2, 1], 'item-1001': [118, 54, 2, 1], 'item-1000': [118, 55, 2, 1], 'item-100': [118, 56, 2, 1], 'item-10': [118, 57, 2, 1], 'item-1': [118, 58, 2, 1], 'item-0': [118, 59, 2, 1]}}\n",
      "Solution saved to solution.shp\n"
     ]
    },
    {
     "name": "stderr",
     "output_type": "stream",
     "text": [
      "/Library/Frameworks/Python.framework/Versions/3.12/lib/python3.12/site-packages/pyogrio/raw.py:698: UserWarning:\n",
      "\n",
      "'crs' was not provided.  The output dataset will not have projection information defined and may not be usable in other systems.\n",
      "\n"
     ]
    }
   ],
   "source": [
    "import geopandas as gpd\n",
    "import matplotlib.pyplot as plt\n",
    "from shapely.geometry import Polygon, Point, MultiPoint, box\n",
    "from shapely.affinity import rotate\n",
    "import numpy as np\n",
    "import math\n",
    "from hyperpack import HyperPack\n",
    "import re\n",
    "\n",
    "# Crear un GeoDataFrame con un medio círculo\n",
    "def create_example_shapefile_with_half_circle(filename=\"example_half_circle.shp\"):\n",
    "    # Crear un medio círculo\n",
    "    angle_range = np.linspace(0, np.pi, 100)  # Rango de ángulos para medio círculo\n",
    "    circle_points = [(np.cos(angle), np.sin(angle)) for angle in angle_range]\n",
    "    circle_points.append((0, 0))  # Cerrar la figura\n",
    "    half_circle = Polygon(circle_points)\n",
    "    \n",
    "    # Crear un GeoDataFrame\n",
    "    gdf = gpd.GeoDataFrame(geometry=[half_circle])\n",
    "    \n",
    "    # Guardar el GeoDataFrame como un archivo Shapefile\n",
    "    gdf.to_file(filename, driver=\"ESRI Shapefile\")\n",
    "    print(f\"Example shapefile created at {filename}\")\n",
    "\n",
    "# Crear el archivo Shapefile de ejemplo con un medio círculo\n",
    "create_example_shapefile_with_half_circle()\n",
    "\n",
    "# Leer el archivo Shapefile y visualizar el medio círculo\n",
    "gdf = gpd.read_file(\"example_half_circle.shp\")\n",
    "gdf.plot(edgecolor='red', linewidth=2, facecolor='none')\n",
    "plt.title(\"Example Half Circle\")\n",
    "plt.show()\n",
    "\n",
    "# Función para calcular el rectángulo mínimo rotado y visualizarlo\n",
    "def visualize_minimum_rotated_rectangle_with_closed_figure(shapefile_path):\n",
    "    # Leer el shapefile\n",
    "    gdf = gpd.read_file(shapefile_path)\n",
    "    \n",
    "    # Extraer los puntos del polígono cerrado\n",
    "    points = []\n",
    "    for geom in gdf.geometry:\n",
    "        if geom.geom_type == 'Polygon':\n",
    "            points.extend(geom.exterior.coords)\n",
    "    \n",
    "    # Convertir los puntos en un MultiPoint y calcular el rectángulo mínimo rotado\n",
    "    multipoint = MultiPoint(points)\n",
    "    polygon = multipoint.minimum_rotated_rectangle\n",
    "    \n",
    "    # Visualizar la figura cerrada original y el rectángulo mínimo rotado\n",
    "    fig, ax = plt.subplots()\n",
    "    gdf.plot(ax=ax, edgecolor='red', linewidth=2, facecolor='none', label='Closed Figure')\n",
    "    x, y = polygon.exterior.xy\n",
    "    ax.plot(x, y, color='blue', label='Minimum Rotated Rectangle')\n",
    "    plt.title(\"Minimum Rotated Rectangle with Closed Figure\")\n",
    "    plt.legend()\n",
    "    plt.show()\n",
    "    \n",
    "    return polygon\n",
    "\n",
    "# Visualizar el rectángulo mínimo rotado junto con la figura cerrada original\n",
    "polygon = visualize_minimum_rotated_rectangle_with_closed_figure(\"example_half_circle.shp\")\n",
    "print(f\"Minimum Rotated Rectangle: {polygon}\")\n",
    "\n",
    "# Obtener las dimensiones del rectángulo mínimo rotado\n",
    "def get_minimum_rectangle_dimensions(polygon: Polygon):\n",
    "    \"\"\"\n",
    "    Toma un objeto Polygon que representa un rectángulo mínimo rotado y devuelve su ancho y alto redondeados hacia arriba.\n",
    "    \n",
    "    :param polygon: shapely.geometry.Polygon\n",
    "    :return: (width, height)\n",
    "    \"\"\"\n",
    "    # Obtener los límites del rectángulo mínimo rotado\n",
    "    minx, miny, maxx, maxy = polygon.bounds\n",
    "    \n",
    "    # Calcular el ancho y alto y redondear hacia arriba\n",
    "    width = math.ceil(maxx - minx)\n",
    "    height = math.ceil(maxy - miny)\n",
    "    \n",
    "    return width, height\n",
    "\n",
    "# Ejemplo de uso con el rectángulo mínimo rotado obtenido anteriormente\n",
    "width, height = get_minimum_rectangle_dimensions(polygon)\n",
    "print(f\"Width: {width}, Height: {height}\")\n",
    "\n",
    "def calculate_initial_count(container_width, container_length, rect_width, rect_height):\n",
    "    \"\"\"\n",
    "    Calcula el mejor valor inicial para el número de rectángulos que caben en el contenedor.\n",
    "    \n",
    "    :param container_width: Ancho del contenedor\n",
    "    :param container_length: Largo del contenedor\n",
    "    :param rect_width: Ancho del rectángulo\n",
    "    :param rect_height: Alto del rectángulo\n",
    "    :return: Valor inicial\n",
    "    \"\"\"\n",
    "    container_area = container_width * container_length\n",
    "    rect_area = rect_width * rect_height\n",
    "    max_figures = container_area // rect_area\n",
    "    initial_count = max_figures - 1  # Comenzamos con una figura menos del máximo teórico\n",
    "    return initial_count\n",
    "\n",
    "# Calcular el valor inicial\n",
    "container_width = 120\n",
    "container_length = 60\n",
    "initial_count = calculate_initial_count(container_width, container_length, width, height)\n",
    "print(f\"Initial Count: {initial_count}\")\n",
    "\n",
    "# Función para generar ítems adicionales\n",
    "def generate_items(count, width, height):\n",
    "    items = {}\n",
    "    for i in range(count):\n",
    "        items[f\"item-{i}\"] = {\"w\": width, \"l\": height}\n",
    "    return items\n",
    "\n",
    "# Función para verificar y agregar ítems hasta que se llene el contenedor\n",
    "def pack_items_until_full(container, width, height, initial_count, settings):\n",
    "    count = initial_count  # Comenzamos con el valor inicial calculado\n",
    "    \n",
    "    max_count = 0\n",
    "    while True:\n",
    "        items = generate_items(count, width, height)\n",
    "        problem_data = {\n",
    "            \"containers\": container,\n",
    "            \"items\": items,\n",
    "            \"settings\": settings\n",
    "        }\n",
    "        \n",
    "        # Crear la instancia del problema\n",
    "        problem = HyperPack(**problem_data)\n",
    "        \n",
    "        # Realizar la búsqueda\n",
    "        problem.hypersearch()\n",
    "        \n",
    "        # Obtener la solución\n",
    "        solution_log = problem.log_solution()\n",
    "        print(solution_log)\n",
    "\n",
    "        # Extraer ítems restantes del log\n",
    "        remaining_items_match = re.search(r\"Remaining items : \\[(.*)\\]\", solution_log)\n",
    "        remaining_items = remaining_items_match.group(1).split(\", \") if remaining_items_match else []\n",
    "\n",
    "        # Si hay ítems restantes, hemos terminado\n",
    "        if remaining_items and remaining_items[0] != '':\n",
    "            break\n",
    "        \n",
    "        # Si no hay ítems restantes, almacenar el máximo alcanzado\n",
    "        max_count = count\n",
    "        \n",
    "        # Aumentar el contador de figuras\n",
    "        count += 1\n",
    "    \n",
    "    # Retroceder un paso para la solución final sin residuos\n",
    "    items = generate_items(max_count, width, height)\n",
    "    problem_data = {\n",
    "        \"containers\": container,\n",
    "        \"items\": items,\n",
    "        \"settings\": settings\n",
    "    }\n",
    "    \n",
    "    # Crear la instancia final del problema\n",
    "    problem = HyperPack(**problem_data)\n",
    "    problem.hypersearch()\n",
    "    \n",
    "    # Mostrar la figura final de la solución\n",
    "    problem.create_figure(show=False)  # Cambiado a False para evitar el error de visualización\n",
    "    return problem.solution\n",
    "\n",
    "# Función para guardar la solución en un archivo shapefile\n",
    "def save_solution_as_shapefile(solution, original_geometry, filename=\"solution.shp\"):\n",
    "    geometries = []\n",
    "    for container_id, items in solution.items():\n",
    "        for item_id, coords in items.items():\n",
    "            x, y, width, height = coords\n",
    "            rectangle = box(x, y, x + width, y + height)\n",
    "            geometries.append(rectangle)\n",
    "    \n",
    "    # Añadir la geometría original\n",
    "    geometries.append(original_geometry)\n",
    "    \n",
    "    gdf = gpd.GeoDataFrame(geometry=geometries)\n",
    "    gdf.to_file(filename, driver=\"ESRI Shapefile\")\n",
    "    print(f\"Solution saved to {filename}\")\n",
    "\n",
    "# Definir la configuración (settings)\n",
    "settings = {\n",
    "    \"algorithm\": \"hypersearch\",\n",
    "    \"max_iterations\": 1000\n",
    "}\n",
    "\n",
    "# Definir el contenedor de 120x60\n",
    "container = {\n",
    "    \"container-0\": {\n",
    "        \"W\": container_width,\n",
    "        \"L\": container_length\n",
    "    }\n",
    "}\n",
    "\n",
    "# Ejecutar la función para empaquetar ítems hasta que se llene el contenedor\n",
    "solution = pack_items_until_full(container, width, height, initial_count, settings)\n",
    "print(\"Final Solution:\")\n",
    "print(solution)\n",
    "\n",
    "# Guardar la solución en un archivo shapefile, incluyendo la figura original\n",
    "original_geometry = gdf.geometry[0]\n",
    "save_solution_as_shapefile(solution, original_geometry)\n"
   ]
  },
  {
   "cell_type": "code",
   "execution_count": 61,
   "metadata": {},
   "outputs": [
    {
     "name": "stdout",
     "output_type": "stream",
     "text": [
      "Example shapefile created at example_half_circle.shp\n"
     ]
    },
    {
     "name": "stderr",
     "output_type": "stream",
     "text": [
      "/Library/Frameworks/Python.framework/Versions/3.12/lib/python3.12/site-packages/pyogrio/raw.py:698: UserWarning:\n",
      "\n",
      "'crs' was not provided.  The output dataset will not have projection information defined and may not be usable in other systems.\n",
      "\n"
     ]
    },
    {
     "data": {
      "image/png": "[encoded data removed]",
      "text/plain": [
       "<Figure size 640x480 with 1 Axes>"
      ]
     },
     "metadata": {},
     "output_type": "display_data"
    },
    {
     "name": "stderr",
     "output_type": "stream",
     "text": [
      "/var/folders/v7/7x179_695qqc_mlsjrp0m7gm0000gn/T/ipykernel_76190/233657397.py:47: UserWarning:\n",
      "\n",
      "Legend does not support handles for PatchCollection instances.\n",
      "See: https://matplotlib.org/stable/tutorials/intermediate/legend_guide.html#implementing-a-custom-legend-handler\n",
      "\n"
     ]
    },
    {
     "data": {
      "image/png": "[encoded data removed]",
      "text/plain": [
       "<Figure size 640x480 with 1 Axes>"
      ]
     },
     "metadata": {},
     "output_type": "display_data"
    },
    {
     "name": "stdout",
     "output_type": "stream",
     "text": [
      "Minimum Rotated Rectangle: POLYGON ((1.0000000000000002 0.999874127673875, -0.9999999999999999 0.9998741276738752, -1 0.0000000000000001, 1 -0.0000000000000001, 1.0000000000000002 0.999874127673875))\n",
      "Width: 2, Height: 1\n",
      "Initial Count: 3599\n",
      "\n",
      "Solution Log:\n",
      "Percent total items stored : 100.0000%\n",
      "Container: container-0 120x60\n",
      "\t[util%] : 99.9722%\n",
      "\n",
      "Remaining items : []\n",
      "\n",
      "Solution Log:\n",
      "Percent total items stored : 100.0000%\n",
      "Container: container-0 120x60\n",
      "\t[util%] : 100.0000%\n",
      "\n",
      "Remaining items : []\n",
      "\n",
      "Solution Log:\n",
      "Percent total items stored : 99.9722%\n",
      "Container: container-0 120x60\n",
      "\t[util%] : 100.0000%\n",
      "\n",
      "Remaining items : ['item-0']\n"
     ]
    },
    {
     "name": "stderr",
     "output_type": "stream",
     "text": [
      "If not showing or exporting the figure makes the operation obsolete.\n"
     ]
    },
    {
     "name": "stdout",
     "output_type": "stream",
     "text": [
      "Final Solution:\n",
      "{'container-0': {'item-999': [0, 0, 2, 1], 'item-998': [0, 1, 2, 1], 'item-997': [0, 2, 2, 1], 'item-996': [0, 3, 2, 1], 'item-995': [0, 4, 2, 1], 'item-994': [0, 5, 2, 1], 'item-993': [0, 6, 2, 1], 'item-992': [0, 7, 2, 1], 'item-991': [0, 8, 2, 1], 'item-990': [0, 9, 2, 1], 'item-99': [0, 10, 2, 1], 'item-989': [0, 11, 2, 1], 'item-988': [0, 12, 2, 1], 'item-987': [0, 13, 2, 1], 'item-986': [0, 14, 2, 1], 'item-985': [0, 15, 2, 1], 'item-984': [0, 16, 2, 1], 'item-983': [0, 17, 2, 1], 'item-982': [0, 18, 2, 1], 'item-981': [0, 19, 2, 1], 'item-980': [0, 20, 2, 1], 'item-98': [0, 21, 2, 1], 'item-979': [0, 22, 2, 1], 'item-978': [0, 23, 2, 1], 'item-977': [0, 24, 2, 1], 'item-976': [0, 25, 2, 1], 'item-975': [0, 26, 2, 1], 'item-974': [0, 27, 2, 1], 'item-973': [0, 28, 2, 1], 'item-972': [0, 29, 2, 1], 'item-971': [0, 30, 2, 1], 'item-970': [0, 31, 2, 1], 'item-97': [0, 32, 2, 1], 'item-969': [0, 33, 2, 1], 'item-968': [0, 34, 2, 1], 'item-967': [0, 35, 2, 1], 'item-966': [0, 36, 2, 1], 'item-965': [0, 37, 2, 1], 'item-964': [0, 38, 2, 1], 'item-963': [0, 39, 2, 1], 'item-962': [0, 40, 2, 1], 'item-961': [0, 41, 2, 1], 'item-960': [0, 42, 2, 1], 'item-96': [0, 43, 2, 1], 'item-959': [0, 44, 2, 1], 'item-958': [0, 45, 2, 1], 'item-957': [0, 46, 2, 1], 'item-956': [0, 47, 2, 1], 'item-955': [0, 48, 2, 1], 'item-954': [0, 49, 2, 1], 'item-953': [0, 50, 2, 1], 'item-952': [0, 51, 2, 1], 'item-951': [0, 52, 2, 1], 'item-950': [0, 53, 2, 1], 'item-95': [0, 54, 2, 1], 'item-949': [0, 55, 2, 1], 'item-948': [0, 56, 2, 1], 'item-947': [0, 57, 2, 1], 'item-946': [0, 58, 2, 1], 'item-945': [0, 59, 2, 1], 'item-944': [2, 0, 2, 1], 'item-943': [2, 1, 2, 1], 'item-942': [2, 2, 2, 1], 'item-941': [2, 3, 2, 1], 'item-940': [2, 4, 2, 1], 'item-94': [2, 5, 2, 1], 'item-939': [2, 6, 2, 1], 'item-938': [2, 7, 2, 1], 'item-937': [2, 8, 2, 1], 'item-936': [2, 9, 2, 1], 'item-935': [2, 10, 2, 1], 'item-934': [2, 11, 2, 1], 'item-933': [2, 12, 2, 1], 'item-932': [2, 13, 2, 1], 'item-931': [2, 14, 2, 1], 'item-930': [2, 15, 2, 1], 'item-93': [2, 16, 2, 1], 'item-929': [2, 17, 2, 1], 'item-928': [2, 18, 2, 1], 'item-927': [2, 19, 2, 1], 'item-926': [2, 20, 2, 1], 'item-925': [2, 21, 2, 1], 'item-924': [2, 22, 2, 1], 'item-923': [2, 23, 2, 1], 'item-922': [2, 24, 2, 1], 'item-921': [2, 25, 2, 1], 'item-920': [2, 26, 2, 1], 'item-92': [2, 27, 2, 1], 'item-919': [2, 28, 2, 1], 'item-918': [2, 29, 2, 1], 'item-917': [2, 30, 2, 1], 'item-916': [2, 31, 2, 1], 'item-915': [2, 32, 2, 1], 'item-914': [2, 33, 2, 1], 'item-913': [2, 34, 2, 1], 'item-912': [2, 35, 2, 1], 'item-911': [2, 36, 2, 1], 'item-910': [2, 37, 2, 1], 'item-91': [2, 38, 2, 1], 'item-909': [2, 39, 2, 1], 'item-908': [2, 40, 2, 1], 'item-907': [2, 41, 2, 1], 'item-906': [2, 42, 2, 1], 'item-905': [2, 43, 2, 1], 'item-904': [2, 44, 2, 1], 'item-903': [2, 45, 2, 1], 'item-902': [2, 46, 2, 1], 'item-901': [2, 47, 2, 1], 'item-900': [2, 48, 2, 1], 'item-90': [2, 49, 2, 1], 'item-9': [2, 50, 2, 1], 'item-899': [2, 51, 2, 1], 'item-898': [2, 52, 2, 1], 'item-897': [2, 53, 2, 1], 'item-896': [2, 54, 2, 1], 'item-895': [2, 55, 2, 1], 'item-894': [2, 56, 2, 1], 'item-893': [2, 57, 2, 1], 'item-892': [2, 58, 2, 1], 'item-891': [2, 59, 2, 1], 'item-890': [4, 0, 2, 1], 'item-89': [4, 1, 2, 1], 'item-889': [4, 2, 2, 1], 'item-888': [4, 3, 2, 1], 'item-887': [4, 4, 2, 1], 'item-886': [4, 5, 2, 1], 'item-885': [4, 6, 2, 1], 'item-884': [4, 7, 2, 1], 'item-883': [4, 8, 2, 1], 'item-882': [4, 9, 2, 1], 'item-881': [4, 10, 2, 1], 'item-880': [4, 11, 2, 1], 'item-88': [4, 12, 2, 1], 'item-879': [4, 13, 2, 1], 'item-878': [4, 14, 2, 1], 'item-877': [4, 15, 2, 1], 'item-876': [4, 16, 2, 1], 'item-875': [4, 17, 2, 1], 'item-874': [4, 18, 2, 1], 'item-873': [4, 19, 2, 1], 'item-872': [4, 20, 2, 1], 'item-871': [4, 21, 2, 1], 'item-870': [4, 22, 2, 1], 'item-87': [4, 23, 2, 1], 'item-869': [4, 24, 2, 1], 'item-868': [4, 25, 2, 1], 'item-867': [4, 26, 2, 1], 'item-866': [4, 27, 2, 1], 'item-865': [4, 28, 2, 1], 'item-864': [4, 29, 2, 1], 'item-863': [4, 30, 2, 1], 'item-862': [4, 31, 2, 1], 'item-861': [4, 32, 2, 1], 'item-860': [4, 33, 2, 1], 'item-86': [4, 34, 2, 1], 'item-859': [4, 35, 2, 1], 'item-858': [4, 36, 2, 1], 'item-857': [4, 37, 2, 1], 'item-856': [4, 38, 2, 1], 'item-855': [4, 39, 2, 1], 'item-854': [4, 40, 2, 1], 'item-853': [4, 41, 2, 1], 'item-852': [4, 42, 2, 1], 'item-851': [4, 43, 2, 1], 'item-850': [4, 44, 2, 1], 'item-85': [4, 45, 2, 1], 'item-849': [4, 46, 2, 1], 'item-848': [4, 47, 2, 1], 'item-847': [4, 48, 2, 1], 'item-846': [4, 49, 2, 1], 'item-845': [4, 50, 2, 1], 'item-844': [4, 51, 2, 1], 'item-843': [4, 52, 2, 1], 'item-842': [4, 53, 2, 1], 'item-841': [4, 54, 2, 1], 'item-840': [4, 55, 2, 1], 'item-84': [4, 56, 2, 1], 'item-839': [4, 57, 2, 1], 'item-838': [4, 58, 2, 1], 'item-837': [4, 59, 2, 1], 'item-836': [6, 0, 2, 1], 'item-835': [6, 1, 2, 1], 'item-834': [6, 2, 2, 1], 'item-833': [6, 3, 2, 1], 'item-832': [6, 4, 2, 1], 'item-831': [6, 5, 2, 1], 'item-830': [6, 6, 2, 1], 'item-83': [6, 7, 2, 1], 'item-829': [6, 8, 2, 1], 'item-828': [6, 9, 2, 1], 'item-827': [6, 10, 2, 1], 'item-826': [6, 11, 2, 1], 'item-825': [6, 12, 2, 1], 'item-824': [6, 13, 2, 1], 'item-823': [6, 14, 2, 1], 'item-822': [6, 15, 2, 1], 'item-821': [6, 16, 2, 1], 'item-820': [6, 17, 2, 1], 'item-82': [6, 18, 2, 1], 'item-819': [6, 19, 2, 1], 'item-818': [6, 20, 2, 1], 'item-817': [6, 21, 2, 1], 'item-816': [6, 22, 2, 1], 'item-815': [6, 23, 2, 1], 'item-814': [6, 24, 2, 1], 'item-813': [6, 25, 2, 1], 'item-812': [6, 26, 2, 1], 'item-811': [6, 27, 2, 1], 'item-810': [6, 28, 2, 1], 'item-81': [6, 29, 2, 1], 'item-809': [6, 30, 2, 1], 'item-808': [6, 31, 2, 1], 'item-807': [6, 32, 2, 1], 'item-806': [6, 33, 2, 1], 'item-805': [6, 34, 2, 1], 'item-804': [6, 35, 2, 1], 'item-803': [6, 36, 2, 1], 'item-802': [6, 37, 2, 1], 'item-801': [6, 38, 2, 1], 'item-800': [6, 39, 2, 1], 'item-80': [6, 40, 2, 1], 'item-8': [6, 41, 2, 1], 'item-799': [6, 42, 2, 1], 'item-798': [6, 43, 2, 1], 'item-797': [6, 44, 2, 1], 'item-796': [6, 45, 2, 1], 'item-795': [6, 46, 2, 1], 'item-794': [6, 47, 2, 1], 'item-793': [6, 48, 2, 1], 'item-792': [6, 49, 2, 1], 'item-791': [6, 50, 2, 1], 'item-790': [6, 51, 2, 1], 'item-79': [6, 52, 2, 1], 'item-789': [6, 53, 2, 1], 'item-788': [6, 54, 2, 1], 'item-787': [6, 55, 2, 1], 'item-786': [6, 56, 2, 1], 'item-785': [6, 57, 2, 1], 'item-784': [6, 58, 2, 1], 'item-783': [6, 59, 2, 1], 'item-782': [8, 0, 2, 1], 'item-781': [8, 1, 2, 1], 'item-780': [8, 2, 2, 1], 'item-78': [8, 3, 2, 1], 'item-779': [8, 4, 2, 1], 'item-778': [8, 5, 2, 1], 'item-777': [8, 6, 2, 1], 'item-776': [8, 7, 2, 1], 'item-775': [8, 8, 2, 1], 'item-774': [8, 9, 2, 1], 'item-773': [8, 10, 2, 1], 'item-772': [8, 11, 2, 1], 'item-771': [8, 12, 2, 1], 'item-770': [8, 13, 2, 1], 'item-77': [8, 14, 2, 1], 'item-769': [8, 15, 2, 1], 'item-768': [8, 16, 2, 1], 'item-767': [8, 17, 2, 1], 'item-766': [8, 18, 2, 1], 'item-765': [8, 19, 2, 1], 'item-764': [8, 20, 2, 1], 'item-763': [8, 21, 2, 1], 'item-762': [8, 22, 2, 1], 'item-761': [8, 23, 2, 1], 'item-760': [8, 24, 2, 1], 'item-76': [8, 25, 2, 1], 'item-759': [8, 26, 2, 1], 'item-758': [8, 27, 2, 1], 'item-757': [8, 28, 2, 1], 'item-756': [8, 29, 2, 1], 'item-755': [8, 30, 2, 1], 'item-754': [8, 31, 2, 1], 'item-753': [8, 32, 2, 1], 'item-752': [8, 33, 2, 1], 'item-751': [8, 34, 2, 1], 'item-750': [8, 35, 2, 1], 'item-75': [8, 36, 2, 1], 'item-749': [8, 37, 2, 1], 'item-748': [8, 38, 2, 1], 'item-747': [8, 39, 2, 1], 'item-746': [8, 40, 2, 1], 'item-745': [8, 41, 2, 1], 'item-744': [8, 42, 2, 1], 'item-743': [8, 43, 2, 1], 'item-742': [8, 44, 2, 1], 'item-741': [8, 45, 2, 1], 'item-740': [8, 46, 2, 1], 'item-74': [8, 47, 2, 1], 'item-739': [8, 48, 2, 1], 'item-738': [8, 49, 2, 1], 'item-737': [8, 50, 2, 1], 'item-736': [8, 51, 2, 1], 'item-735': [8, 52, 2, 1], 'item-734': [8, 53, 2, 1], 'item-733': [8, 54, 2, 1], 'item-732': [8, 55, 2, 1], 'item-731': [8, 56, 2, 1], 'item-730': [8, 57, 2, 1], 'item-73': [8, 58, 2, 1], 'item-729': [8, 59, 2, 1], 'item-728': [10, 0, 2, 1], 'item-727': [10, 1, 2, 1], 'item-726': [10, 2, 2, 1], 'item-725': [10, 3, 2, 1], 'item-724': [10, 4, 2, 1], 'item-723': [10, 5, 2, 1], 'item-722': [10, 6, 2, 1], 'item-721': [10, 7, 2, 1], 'item-720': [10, 8, 2, 1], 'item-72': [10, 9, 2, 1], 'item-719': [10, 10, 2, 1], 'item-718': [10, 11, 2, 1], 'item-717': [10, 12, 2, 1], 'item-716': [10, 13, 2, 1], 'item-715': [10, 14, 2, 1], 'item-714': [10, 15, 2, 1], 'item-713': [10, 16, 2, 1], 'item-712': [10, 17, 2, 1], 'item-711': [10, 18, 2, 1], 'item-710': [10, 19, 2, 1], 'item-71': [10, 20, 2, 1], 'item-709': [10, 21, 2, 1], 'item-708': [10, 22, 2, 1], 'item-707': [10, 23, 2, 1], 'item-706': [10, 24, 2, 1], 'item-705': [10, 25, 2, 1], 'item-704': [10, 26, 2, 1], 'item-703': [10, 27, 2, 1], 'item-702': [10, 28, 2, 1], 'item-701': [10, 29, 2, 1], 'item-700': [10, 30, 2, 1], 'item-70': [10, 31, 2, 1], 'item-7': [10, 32, 2, 1], 'item-699': [10, 33, 2, 1], 'item-698': [10, 34, 2, 1], 'item-697': [10, 35, 2, 1], 'item-696': [10, 36, 2, 1], 'item-695': [10, 37, 2, 1], 'item-694': [10, 38, 2, 1], 'item-693': [10, 39, 2, 1], 'item-692': [10, 40, 2, 1], 'item-691': [10, 41, 2, 1], 'item-690': [10, 42, 2, 1], 'item-69': [10, 43, 2, 1], 'item-689': [10, 44, 2, 1], 'item-688': [10, 45, 2, 1], 'item-687': [10, 46, 2, 1], 'item-686': [10, 47, 2, 1], 'item-685': [10, 48, 2, 1], 'item-684': [10, 49, 2, 1], 'item-683': [10, 50, 2, 1], 'item-682': [10, 51, 2, 1], 'item-681': [10, 52, 2, 1], 'item-680': [10, 53, 2, 1], 'item-68': [10, 54, 2, 1], 'item-679': [10, 55, 2, 1], 'item-678': [10, 56, 2, 1], 'item-677': [10, 57, 2, 1], 'item-676': [10, 58, 2, 1], 'item-675': [10, 59, 2, 1], 'item-674': [12, 0, 2, 1], 'item-673': [12, 1, 2, 1], 'item-672': [12, 2, 2, 1], 'item-671': [12, 3, 2, 1], 'item-670': [12, 4, 2, 1], 'item-67': [12, 5, 2, 1], 'item-669': [12, 6, 2, 1], 'item-668': [12, 7, 2, 1], 'item-667': [12, 8, 2, 1], 'item-666': [12, 9, 2, 1], 'item-665': [12, 10, 2, 1], 'item-664': [12, 11, 2, 1], 'item-663': [12, 12, 2, 1], 'item-662': [12, 13, 2, 1], 'item-661': [12, 14, 2, 1], 'item-660': [12, 15, 2, 1], 'item-66': [12, 16, 2, 1], 'item-659': [12, 17, 2, 1], 'item-658': [12, 18, 2, 1], 'item-657': [12, 19, 2, 1], 'item-656': [12, 20, 2, 1], 'item-655': [12, 21, 2, 1], 'item-654': [12, 22, 2, 1], 'item-653': [12, 23, 2, 1], 'item-652': [12, 24, 2, 1], 'item-651': [12, 25, 2, 1], 'item-650': [12, 26, 2, 1], 'item-65': [12, 27, 2, 1], 'item-649': [12, 28, 2, 1], 'item-648': [12, 29, 2, 1], 'item-647': [12, 30, 2, 1], 'item-646': [12, 31, 2, 1], 'item-645': [12, 32, 2, 1], 'item-644': [12, 33, 2, 1], 'item-643': [12, 34, 2, 1], 'item-642': [12, 35, 2, 1], 'item-641': [12, 36, 2, 1], 'item-640': [12, 37, 2, 1], 'item-64': [12, 38, 2, 1], 'item-639': [12, 39, 2, 1], 'item-638': [12, 40, 2, 1], 'item-637': [12, 41, 2, 1], 'item-636': [12, 42, 2, 1], 'item-635': [12, 43, 2, 1], 'item-634': [12, 44, 2, 1], 'item-633': [12, 45, 2, 1], 'item-632': [12, 46, 2, 1], 'item-631': [12, 47, 2, 1], 'item-630': [12, 48, 2, 1], 'item-63': [12, 49, 2, 1], 'item-629': [12, 50, 2, 1], 'item-628': [12, 51, 2, 1], 'item-627': [12, 52, 2, 1], 'item-626': [12, 53, 2, 1], 'item-625': [12, 54, 2, 1], 'item-624': [12, 55, 2, 1], 'item-623': [12, 56, 2, 1], 'item-622': [12, 57, 2, 1], 'item-621': [12, 58, 2, 1], 'item-620': [12, 59, 2, 1], 'item-62': [14, 0, 2, 1], 'item-619': [14, 1, 2, 1], 'item-618': [14, 2, 2, 1], 'item-617': [14, 3, 2, 1], 'item-616': [14, 4, 2, 1], 'item-615': [14, 5, 2, 1], 'item-614': [14, 6, 2, 1], 'item-613': [14, 7, 2, 1], 'item-612': [14, 8, 2, 1], 'item-611': [14, 9, 2, 1], 'item-610': [14, 10, 2, 1], 'item-61': [14, 11, 2, 1], 'item-609': [14, 12, 2, 1], 'item-608': [14, 13, 2, 1], 'item-607': [14, 14, 2, 1], 'item-606': [14, 15, 2, 1], 'item-605': [14, 16, 2, 1], 'item-604': [14, 17, 2, 1], 'item-603': [14, 18, 2, 1], 'item-602': [14, 19, 2, 1], 'item-601': [14, 20, 2, 1], 'item-600': [14, 21, 2, 1], 'item-60': [14, 22, 2, 1], 'item-6': [14, 23, 2, 1], 'item-599': [14, 24, 2, 1], 'item-598': [14, 25, 2, 1], 'item-597': [14, 26, 2, 1], 'item-596': [14, 27, 2, 1], 'item-595': [14, 28, 2, 1], 'item-594': [14, 29, 2, 1], 'item-593': [14, 30, 2, 1], 'item-592': [14, 31, 2, 1], 'item-591': [14, 32, 2, 1], 'item-590': [14, 33, 2, 1], 'item-59': [14, 34, 2, 1], 'item-589': [14, 35, 2, 1], 'item-588': [14, 36, 2, 1], 'item-587': [14, 37, 2, 1], 'item-586': [14, 38, 2, 1], 'item-585': [14, 39, 2, 1], 'item-584': [14, 40, 2, 1], 'item-583': [14, 41, 2, 1], 'item-582': [14, 42, 2, 1], 'item-581': [14, 43, 2, 1], 'item-580': [14, 44, 2, 1], 'item-58': [14, 45, 2, 1], 'item-579': [14, 46, 2, 1], 'item-578': [14, 47, 2, 1], 'item-577': [14, 48, 2, 1], 'item-576': [14, 49, 2, 1], 'item-575': [14, 50, 2, 1], 'item-574': [14, 51, 2, 1], 'item-573': [14, 52, 2, 1], 'item-572': [14, 53, 2, 1], 'item-571': [14, 54, 2, 1], 'item-570': [14, 55, 2, 1], 'item-57': [14, 56, 2, 1], 'item-569': [14, 57, 2, 1], 'item-568': [14, 58, 2, 1], 'item-567': [14, 59, 2, 1], 'item-566': [16, 0, 2, 1], 'item-565': [16, 1, 2, 1], 'item-564': [16, 2, 2, 1], 'item-563': [16, 3, 2, 1], 'item-562': [16, 4, 2, 1], 'item-561': [16, 5, 2, 1], 'item-560': [16, 6, 2, 1], 'item-56': [16, 7, 2, 1], 'item-559': [16, 8, 2, 1], 'item-558': [16, 9, 2, 1], 'item-557': [16, 10, 2, 1], 'item-556': [16, 11, 2, 1], 'item-555': [16, 12, 2, 1], 'item-554': [16, 13, 2, 1], 'item-553': [16, 14, 2, 1], 'item-552': [16, 15, 2, 1], 'item-551': [16, 16, 2, 1], 'item-550': [16, 17, 2, 1], 'item-55': [16, 18, 2, 1], 'item-549': [16, 19, 2, 1], 'item-548': [16, 20, 2, 1], 'item-547': [16, 21, 2, 1], 'item-546': [16, 22, 2, 1], 'item-545': [16, 23, 2, 1], 'item-544': [16, 24, 2, 1], 'item-543': [16, 25, 2, 1], 'item-542': [16, 26, 2, 1], 'item-541': [16, 27, 2, 1], 'item-540': [16, 28, 2, 1], 'item-54': [16, 29, 2, 1], 'item-539': [16, 30, 2, 1], 'item-538': [16, 31, 2, 1], 'item-537': [16, 32, 2, 1], 'item-536': [16, 33, 2, 1], 'item-535': [16, 34, 2, 1], 'item-534': [16, 35, 2, 1], 'item-533': [16, 36, 2, 1], 'item-532': [16, 37, 2, 1], 'item-531': [16, 38, 2, 1], 'item-530': [16, 39, 2, 1], 'item-53': [16, 40, 2, 1], 'item-529': [16, 41, 2, 1], 'item-528': [16, 42, 2, 1], 'item-527': [16, 43, 2, 1], 'item-526': [16, 44, 2, 1], 'item-525': [16, 45, 2, 1], 'item-524': [16, 46, 2, 1], 'item-523': [16, 47, 2, 1], 'item-522': [16, 48, 2, 1], 'item-521': [16, 49, 2, 1], 'item-520': [16, 50, 2, 1], 'item-52': [16, 51, 2, 1], 'item-519': [16, 52, 2, 1], 'item-518': [16, 53, 2, 1], 'item-517': [16, 54, 2, 1], 'item-516': [16, 55, 2, 1], 'item-515': [16, 56, 2, 1], 'item-514': [16, 57, 2, 1], 'item-513': [16, 58, 2, 1], 'item-512': [16, 59, 2, 1], 'item-511': [18, 0, 2, 1], 'item-510': [18, 1, 2, 1], 'item-51': [18, 2, 2, 1], 'item-509': [18, 3, 2, 1], 'item-508': [18, 4, 2, 1], 'item-507': [18, 5, 2, 1], 'item-506': [18, 6, 2, 1], 'item-505': [18, 7, 2, 1], 'item-504': [18, 8, 2, 1], 'item-503': [18, 9, 2, 1], 'item-502': [18, 10, 2, 1], 'item-501': [18, 11, 2, 1], 'item-500': [18, 12, 2, 1], 'item-50': [18, 13, 2, 1], 'item-5': [18, 14, 2, 1], 'item-499': [18, 15, 2, 1], 'item-498': [18, 16, 2, 1], 'item-497': [18, 17, 2, 1], 'item-496': [18, 18, 2, 1], 'item-495': [18, 19, 2, 1], 'item-494': [18, 20, 2, 1], 'item-493': [18, 21, 2, 1], 'item-492': [18, 22, 2, 1], 'item-491': [18, 23, 2, 1], 'item-490': [18, 24, 2, 1], 'item-49': [18, 25, 2, 1], 'item-489': [18, 26, 2, 1], 'item-488': [18, 27, 2, 1], 'item-487': [18, 28, 2, 1], 'item-486': [18, 29, 2, 1], 'item-485': [18, 30, 2, 1], 'item-484': [18, 31, 2, 1], 'item-483': [18, 32, 2, 1], 'item-482': [18, 33, 2, 1], 'item-481': [18, 34, 2, 1], 'item-480': [18, 35, 2, 1], 'item-48': [18, 36, 2, 1], 'item-479': [18, 37, 2, 1], 'item-478': [18, 38, 2, 1], 'item-477': [18, 39, 2, 1], 'item-476': [18, 40, 2, 1], 'item-475': [18, 41, 2, 1], 'item-474': [18, 42, 2, 1], 'item-473': [18, 43, 2, 1], 'item-472': [18, 44, 2, 1], 'item-471': [18, 45, 2, 1], 'item-470': [18, 46, 2, 1], 'item-47': [18, 47, 2, 1], 'item-469': [18, 48, 2, 1], 'item-468': [18, 49, 2, 1], 'item-467': [18, 50, 2, 1], 'item-466': [18, 51, 2, 1], 'item-465': [18, 52, 2, 1], 'item-464': [18, 53, 2, 1], 'item-463': [18, 54, 2, 1], 'item-462': [18, 55, 2, 1], 'item-461': [18, 56, 2, 1], 'item-460': [18, 57, 2, 1], 'item-46': [18, 58, 2, 1], 'item-459': [18, 59, 2, 1], 'item-458': [20, 0, 2, 1], 'item-457': [20, 1, 2, 1], 'item-456': [20, 2, 2, 1], 'item-455': [20, 3, 2, 1], 'item-454': [20, 4, 2, 1], 'item-453': [20, 5, 2, 1], 'item-452': [20, 6, 2, 1], 'item-451': [20, 7, 2, 1], 'item-450': [20, 8, 2, 1], 'item-45': [20, 9, 2, 1], 'item-449': [20, 10, 2, 1], 'item-448': [20, 11, 2, 1], 'item-447': [20, 12, 2, 1], 'item-446': [20, 13, 2, 1], 'item-445': [20, 14, 2, 1], 'item-444': [20, 15, 2, 1], 'item-443': [20, 16, 2, 1], 'item-442': [20, 17, 2, 1], 'item-441': [20, 18, 2, 1], 'item-440': [20, 19, 2, 1], 'item-44': [20, 20, 2, 1], 'item-439': [20, 21, 2, 1], 'item-438': [20, 22, 2, 1], 'item-437': [20, 23, 2, 1], 'item-436': [20, 24, 2, 1], 'item-435': [20, 25, 2, 1], 'item-434': [20, 26, 2, 1], 'item-433': [20, 27, 2, 1], 'item-432': [20, 28, 2, 1], 'item-431': [20, 29, 2, 1], 'item-430': [20, 30, 2, 1], 'item-43': [20, 31, 2, 1], 'item-429': [20, 32, 2, 1], 'item-428': [20, 33, 2, 1], 'item-427': [20, 34, 2, 1], 'item-426': [20, 35, 2, 1], 'item-425': [20, 36, 2, 1], 'item-424': [20, 37, 2, 1], 'item-423': [20, 38, 2, 1], 'item-422': [20, 39, 2, 1], 'item-421': [20, 40, 2, 1], 'item-420': [20, 41, 2, 1], 'item-42': [20, 42, 2, 1], 'item-419': [20, 43, 2, 1], 'item-418': [20, 44, 2, 1], 'item-417': [20, 45, 2, 1], 'item-416': [20, 46, 2, 1], 'item-415': [20, 47, 2, 1], 'item-414': [20, 48, 2, 1], 'item-413': [20, 49, 2, 1], 'item-412': [20, 50, 2, 1], 'item-411': [20, 51, 2, 1], 'item-410': [20, 52, 2, 1], 'item-41': [20, 53, 2, 1], 'item-409': [20, 54, 2, 1], 'item-408': [20, 55, 2, 1], 'item-407': [20, 56, 2, 1], 'item-406': [20, 57, 2, 1], 'item-405': [20, 58, 2, 1], 'item-404': [20, 59, 2, 1], 'item-403': [22, 0, 2, 1], 'item-402': [22, 1, 2, 1], 'item-401': [22, 2, 2, 1], 'item-400': [22, 3, 2, 1], 'item-40': [22, 4, 2, 1], 'item-4': [22, 5, 2, 1], 'item-399': [22, 6, 2, 1], 'item-398': [22, 7, 2, 1], 'item-397': [22, 8, 2, 1], 'item-396': [22, 9, 2, 1], 'item-395': [22, 10, 2, 1], 'item-394': [22, 11, 2, 1], 'item-393': [22, 12, 2, 1], 'item-392': [22, 13, 2, 1], 'item-391': [22, 14, 2, 1], 'item-390': [22, 15, 2, 1], 'item-39': [22, 16, 2, 1], 'item-389': [22, 17, 2, 1], 'item-388': [22, 18, 2, 1], 'item-387': [22, 19, 2, 1], 'item-386': [22, 20, 2, 1], 'item-385': [22, 21, 2, 1], 'item-384': [22, 22, 2, 1], 'item-383': [22, 23, 2, 1], 'item-382': [22, 24, 2, 1], 'item-381': [22, 25, 2, 1], 'item-380': [22, 26, 2, 1], 'item-38': [22, 27, 2, 1], 'item-379': [22, 28, 2, 1], 'item-378': [22, 29, 2, 1], 'item-377': [22, 30, 2, 1], 'item-376': [22, 31, 2, 1], 'item-375': [22, 32, 2, 1], 'item-374': [22, 33, 2, 1], 'item-373': [22, 34, 2, 1], 'item-372': [22, 35, 2, 1], 'item-371': [22, 36, 2, 1], 'item-370': [22, 37, 2, 1], 'item-37': [22, 38, 2, 1], 'item-369': [22, 39, 2, 1], 'item-368': [22, 40, 2, 1], 'item-367': [22, 41, 2, 1], 'item-366': [22, 42, 2, 1], 'item-365': [22, 43, 2, 1], 'item-364': [22, 44, 2, 1], 'item-363': [22, 45, 2, 1], 'item-362': [22, 46, 2, 1], 'item-361': [22, 47, 2, 1], 'item-360': [22, 48, 2, 1], 'item-36': [22, 49, 2, 1], 'item-3599': [22, 50, 2, 1], 'item-3598': [22, 51, 2, 1], 'item-3597': [22, 52, 2, 1], 'item-3596': [22, 53, 2, 1], 'item-3595': [22, 54, 2, 1], 'item-3594': [22, 55, 2, 1], 'item-3593': [22, 56, 2, 1], 'item-3592': [22, 57, 2, 1], 'item-3591': [22, 58, 2, 1], 'item-3590': [22, 59, 2, 1], 'item-359': [24, 0, 2, 1], 'item-3589': [24, 1, 2, 1], 'item-3588': [24, 2, 2, 1], 'item-3587': [24, 3, 2, 1], 'item-3586': [24, 4, 2, 1], 'item-3585': [24, 5, 2, 1], 'item-3584': [24, 6, 2, 1], 'item-3583': [24, 7, 2, 1], 'item-3582': [24, 8, 2, 1], 'item-3581': [24, 9, 2, 1], 'item-3580': [24, 10, 2, 1], 'item-358': [24, 11, 2, 1], 'item-3579': [24, 12, 2, 1], 'item-3578': [24, 13, 2, 1], 'item-3577': [24, 14, 2, 1], 'item-3576': [24, 15, 2, 1], 'item-3575': [24, 16, 2, 1], 'item-3574': [24, 17, 2, 1], 'item-3573': [24, 18, 2, 1], 'item-3572': [24, 19, 2, 1], 'item-3571': [24, 20, 2, 1], 'item-3570': [24, 21, 2, 1], 'item-357': [24, 22, 2, 1], 'item-3569': [24, 23, 2, 1], 'item-3568': [24, 24, 2, 1], 'item-3567': [24, 25, 2, 1], 'item-3566': [24, 26, 2, 1], 'item-3565': [24, 27, 2, 1], 'item-3564': [24, 28, 2, 1], 'item-3563': [24, 29, 2, 1], 'item-3562': [24, 30, 2, 1], 'item-3561': [24, 31, 2, 1], 'item-3560': [24, 32, 2, 1], 'item-356': [24, 33, 2, 1], 'item-3559': [24, 34, 2, 1], 'item-3558': [24, 35, 2, 1], 'item-3557': [24, 36, 2, 1], 'item-3556': [24, 37, 2, 1], 'item-3555': [24, 38, 2, 1], 'item-3554': [24, 39, 2, 1], 'item-3553': [24, 40, 2, 1], 'item-3552': [24, 41, 2, 1], 'item-3551': [24, 42, 2, 1], 'item-3550': [24, 43, 2, 1], 'item-355': [24, 44, 2, 1], 'item-3549': [24, 45, 2, 1], 'item-3548': [24, 46, 2, 1], 'item-3547': [24, 47, 2, 1], 'item-3546': [24, 48, 2, 1], 'item-3545': [24, 49, 2, 1], 'item-3544': [24, 50, 2, 1], 'item-3543': [24, 51, 2, 1], 'item-3542': [24, 52, 2, 1], 'item-3541': [24, 53, 2, 1], 'item-3540': [24, 54, 2, 1], 'item-354': [24, 55, 2, 1], 'item-3539': [24, 56, 2, 1], 'item-3538': [24, 57, 2, 1], 'item-3537': [24, 58, 2, 1], 'item-3536': [24, 59, 2, 1], 'item-3535': [26, 0, 2, 1], 'item-3534': [26, 1, 2, 1], 'item-3533': [26, 2, 2, 1], 'item-3532': [26, 3, 2, 1], 'item-3531': [26, 4, 2, 1], 'item-3530': [26, 5, 2, 1], 'item-353': [26, 6, 2, 1], 'item-3529': [26, 7, 2, 1], 'item-3528': [26, 8, 2, 1], 'item-3527': [26, 9, 2, 1], 'item-3526': [26, 10, 2, 1], 'item-3525': [26, 11, 2, 1], 'item-3524': [26, 12, 2, 1], 'item-3523': [26, 13, 2, 1], 'item-3522': [26, 14, 2, 1], 'item-3521': [26, 15, 2, 1], 'item-3520': [26, 16, 2, 1], 'item-352': [26, 17, 2, 1], 'item-3519': [26, 18, 2, 1], 'item-3518': [26, 19, 2, 1], 'item-3517': [26, 20, 2, 1], 'item-3516': [26, 21, 2, 1], 'item-3515': [26, 22, 2, 1], 'item-3514': [26, 23, 2, 1], 'item-3513': [26, 24, 2, 1], 'item-3512': [26, 25, 2, 1], 'item-3511': [26, 26, 2, 1], 'item-3510': [26, 27, 2, 1], 'item-351': [26, 28, 2, 1], 'item-3509': [26, 29, 2, 1], 'item-3508': [26, 30, 2, 1], 'item-3507': [26, 31, 2, 1], 'item-3506': [26, 32, 2, 1], 'item-3505': [26, 33, 2, 1], 'item-3504': [26, 34, 2, 1], 'item-3503': [26, 35, 2, 1], 'item-3502': [26, 36, 2, 1], 'item-3501': [26, 37, 2, 1], 'item-3500': [26, 38, 2, 1], 'item-350': [26, 39, 2, 1], 'item-35': [26, 40, 2, 1], 'item-3499': [26, 41, 2, 1], 'item-3498': [26, 42, 2, 1], 'item-3497': [26, 43, 2, 1], 'item-3496': [26, 44, 2, 1], 'item-3495': [26, 45, 2, 1], 'item-3494': [26, 46, 2, 1], 'item-3493': [26, 47, 2, 1], 'item-3492': [26, 48, 2, 1], 'item-3491': [26, 49, 2, 1], 'item-3490': [26, 50, 2, 1], 'item-349': [26, 51, 2, 1], 'item-3489': [26, 52, 2, 1], 'item-3488': [26, 53, 2, 1], 'item-3487': [26, 54, 2, 1], 'item-3486': [26, 55, 2, 1], 'item-3485': [26, 56, 2, 1], 'item-3484': [26, 57, 2, 1], 'item-3483': [26, 58, 2, 1], 'item-3482': [26, 59, 2, 1], 'item-3481': [28, 0, 2, 1], 'item-3480': [28, 1, 2, 1], 'item-348': [28, 2, 2, 1], 'item-3479': [28, 3, 2, 1], 'item-3478': [28, 4, 2, 1], 'item-3477': [28, 5, 2, 1], 'item-3476': [28, 6, 2, 1], 'item-3475': [28, 7, 2, 1], 'item-3474': [28, 8, 2, 1], 'item-3473': [28, 9, 2, 1], 'item-3472': [28, 10, 2, 1], 'item-3471': [28, 11, 2, 1], 'item-3470': [28, 12, 2, 1], 'item-347': [28, 13, 2, 1], 'item-3469': [28, 14, 2, 1], 'item-3468': [28, 15, 2, 1], 'item-3467': [28, 16, 2, 1], 'item-3466': [28, 17, 2, 1], 'item-3465': [28, 18, 2, 1], 'item-3464': [28, 19, 2, 1], 'item-3463': [28, 20, 2, 1], 'item-3462': [28, 21, 2, 1], 'item-3461': [28, 22, 2, 1], 'item-3460': [28, 23, 2, 1], 'item-346': [28, 24, 2, 1], 'item-3459': [28, 25, 2, 1], 'item-3458': [28, 26, 2, 1], 'item-3457': [28, 27, 2, 1], 'item-3456': [28, 28, 2, 1], 'item-3455': [28, 29, 2, 1], 'item-3454': [28, 30, 2, 1], 'item-3453': [28, 31, 2, 1], 'item-3452': [28, 32, 2, 1], 'item-3451': [28, 33, 2, 1], 'item-3450': [28, 34, 2, 1], 'item-345': [28, 35, 2, 1], 'item-3449': [28, 36, 2, 1], 'item-3448': [28, 37, 2, 1], 'item-3447': [28, 38, 2, 1], 'item-3446': [28, 39, 2, 1], 'item-3445': [28, 40, 2, 1], 'item-3444': [28, 41, 2, 1], 'item-3443': [28, 42, 2, 1], 'item-3442': [28, 43, 2, 1], 'item-3441': [28, 44, 2, 1], 'item-3440': [28, 45, 2, 1], 'item-344': [28, 46, 2, 1], 'item-3439': [28, 47, 2, 1], 'item-3438': [28, 48, 2, 1], 'item-3437': [28, 49, 2, 1], 'item-3436': [28, 50, 2, 1], 'item-3435': [28, 51, 2, 1], 'item-3434': [28, 52, 2, 1], 'item-3433': [28, 53, 2, 1], 'item-3432': [28, 54, 2, 1], 'item-3431': [28, 55, 2, 1], 'item-3430': [28, 56, 2, 1], 'item-343': [28, 57, 2, 1], 'item-3429': [28, 58, 2, 1], 'item-3428': [28, 59, 2, 1], 'item-3427': [30, 0, 2, 1], 'item-3426': [30, 1, 2, 1], 'item-3425': [30, 2, 2, 1], 'item-3424': [30, 3, 2, 1], 'item-3423': [30, 4, 2, 1], 'item-3422': [30, 5, 2, 1], 'item-3421': [30, 6, 2, 1], 'item-3420': [30, 7, 2, 1], 'item-342': [30, 8, 2, 1], 'item-3419': [30, 9, 2, 1], 'item-3418': [30, 10, 2, 1], 'item-3417': [30, 11, 2, 1], 'item-3416': [30, 12, 2, 1], 'item-3415': [30, 13, 2, 1], 'item-3414': [30, 14, 2, 1], 'item-3413': [30, 15, 2, 1], 'item-3412': [30, 16, 2, 1], 'item-3411': [30, 17, 2, 1], 'item-3410': [30, 18, 2, 1], 'item-341': [30, 19, 2, 1], 'item-3409': [30, 20, 2, 1], 'item-3408': [30, 21, 2, 1], 'item-3407': [30, 22, 2, 1], 'item-3406': [30, 23, 2, 1], 'item-3405': [30, 24, 2, 1], 'item-3404': [30, 25, 2, 1], 'item-3403': [30, 26, 2, 1], 'item-3402': [30, 27, 2, 1], 'item-3401': [30, 28, 2, 1], 'item-3400': [30, 29, 2, 1], 'item-340': [30, 30, 2, 1], 'item-34': [30, 31, 2, 1], 'item-3399': [30, 32, 2, 1], 'item-3398': [30, 33, 2, 1], 'item-3397': [30, 34, 2, 1], 'item-3396': [30, 35, 2, 1], 'item-3395': [30, 36, 2, 1], 'item-3394': [30, 37, 2, 1], 'item-3393': [30, 38, 2, 1], 'item-3392': [30, 39, 2, 1], 'item-3391': [30, 40, 2, 1], 'item-3390': [30, 41, 2, 1], 'item-339': [30, 42, 2, 1], 'item-3389': [30, 43, 2, 1], 'item-3388': [30, 44, 2, 1], 'item-3387': [30, 45, 2, 1], 'item-3386': [30, 46, 2, 1], 'item-3385': [30, 47, 2, 1], 'item-3384': [30, 48, 2, 1], 'item-3383': [30, 49, 2, 1], 'item-3382': [30, 50, 2, 1], 'item-3381': [30, 51, 2, 1], 'item-3380': [30, 52, 2, 1], 'item-338': [30, 53, 2, 1], 'item-3379': [30, 54, 2, 1], 'item-3378': [30, 55, 2, 1], 'item-3377': [30, 56, 2, 1], 'item-3376': [30, 57, 2, 1], 'item-3375': [30, 58, 2, 1], 'item-3374': [30, 59, 2, 1], 'item-3373': [32, 0, 2, 1], 'item-3372': [32, 1, 2, 1], 'item-3371': [32, 2, 2, 1], 'item-3370': [32, 3, 2, 1], 'item-337': [32, 4, 2, 1], 'item-3369': [32, 5, 2, 1], 'item-3368': [32, 6, 2, 1], 'item-3367': [32, 7, 2, 1], 'item-3366': [32, 8, 2, 1], 'item-3365': [32, 9, 2, 1], 'item-3364': [32, 10, 2, 1], 'item-3363': [32, 11, 2, 1], 'item-3362': [32, 12, 2, 1], 'item-3361': [32, 13, 2, 1], 'item-3360': [32, 14, 2, 1], 'item-336': [32, 15, 2, 1], 'item-3359': [32, 16, 2, 1], 'item-3358': [32, 17, 2, 1], 'item-3357': [32, 18, 2, 1], 'item-3356': [32, 19, 2, 1], 'item-3355': [32, 20, 2, 1], 'item-3354': [32, 21, 2, 1], 'item-3353': [32, 22, 2, 1], 'item-3352': [32, 23, 2, 1], 'item-3351': [32, 24, 2, 1], 'item-3350': [32, 25, 2, 1], 'item-335': [32, 26, 2, 1], 'item-3349': [32, 27, 2, 1], 'item-3348': [32, 28, 2, 1], 'item-3347': [32, 29, 2, 1], 'item-3346': [32, 30, 2, 1], 'item-3345': [32, 31, 2, 1], 'item-3344': [32, 32, 2, 1], 'item-3343': [32, 33, 2, 1], 'item-3342': [32, 34, 2, 1], 'item-3341': [32, 35, 2, 1], 'item-3340': [32, 36, 2, 1], 'item-334': [32, 37, 2, 1], 'item-3339': [32, 38, 2, 1], 'item-3338': [32, 39, 2, 1], 'item-3337': [32, 40, 2, 1], 'item-3336': [32, 41, 2, 1], 'item-3335': [32, 42, 2, 1], 'item-3334': [32, 43, 2, 1], 'item-3333': [32, 44, 2, 1], 'item-3332': [32, 45, 2, 1], 'item-3331': [32, 46, 2, 1], 'item-3330': [32, 47, 2, 1], 'item-333': [32, 48, 2, 1], 'item-3329': [32, 49, 2, 1], 'item-3328': [32, 50, 2, 1], 'item-3327': [32, 51, 2, 1], 'item-3326': [32, 52, 2, 1], 'item-3325': [32, 53, 2, 1], 'item-3324': [32, 54, 2, 1], 'item-3323': [32, 55, 2, 1], 'item-3322': [32, 56, 2, 1], 'item-3321': [32, 57, 2, 1], 'item-3320': [32, 58, 2, 1], 'item-332': [32, 59, 2, 1], 'item-3319': [34, 0, 2, 1], 'item-3318': [34, 1, 2, 1], 'item-3317': [34, 2, 2, 1], 'item-3316': [34, 3, 2, 1], 'item-3315': [34, 4, 2, 1], 'item-3314': [34, 5, 2, 1], 'item-3313': [34, 6, 2, 1], 'item-3312': [34, 7, 2, 1], 'item-3311': [34, 8, 2, 1], 'item-3310': [34, 9, 2, 1], 'item-331': [34, 10, 2, 1], 'item-3309': [34, 11, 2, 1], 'item-3308': [34, 12, 2, 1], 'item-3307': [34, 13, 2, 1], 'item-3306': [34, 14, 2, 1], 'item-3305': [34, 15, 2, 1], 'item-3304': [34, 16, 2, 1], 'item-3303': [34, 17, 2, 1], 'item-3302': [34, 18, 2, 1], 'item-3301': [34, 19, 2, 1], 'item-3300': [34, 20, 2, 1], 'item-330': [34, 21, 2, 1], 'item-33': [34, 22, 2, 1], 'item-3299': [34, 23, 2, 1], 'item-3298': [34, 24, 2, 1], 'item-3297': [34, 25, 2, 1], 'item-3296': [34, 26, 2, 1], 'item-3295': [34, 27, 2, 1], 'item-3294': [34, 28, 2, 1], 'item-3293': [34, 29, 2, 1], 'item-3292': [34, 30, 2, 1], 'item-3291': [34, 31, 2, 1], 'item-3290': [34, 32, 2, 1], 'item-329': [34, 33, 2, 1], 'item-3289': [34, 34, 2, 1], 'item-3288': [34, 35, 2, 1], 'item-3287': [34, 36, 2, 1], 'item-3286': [34, 37, 2, 1], 'item-3285': [34, 38, 2, 1], 'item-3284': [34, 39, 2, 1], 'item-3283': [34, 40, 2, 1], 'item-3282': [34, 41, 2, 1], 'item-3281': [34, 42, 2, 1], 'item-3280': [34, 43, 2, 1], 'item-328': [34, 44, 2, 1], 'item-3279': [34, 45, 2, 1], 'item-3278': [34, 46, 2, 1], 'item-3277': [34, 47, 2, 1], 'item-3276': [34, 48, 2, 1], 'item-3275': [34, 49, 2, 1], 'item-3274': [34, 50, 2, 1], 'item-3273': [34, 51, 2, 1], 'item-3272': [34, 52, 2, 1], 'item-3271': [34, 53, 2, 1], 'item-3270': [34, 54, 2, 1], 'item-327': [34, 55, 2, 1], 'item-3269': [34, 56, 2, 1], 'item-3268': [34, 57, 2, 1], 'item-3267': [34, 58, 2, 1], 'item-3266': [34, 59, 2, 1], 'item-3265': [36, 0, 2, 1], 'item-3264': [36, 1, 2, 1], 'item-3263': [36, 2, 2, 1], 'item-3262': [36, 3, 2, 1], 'item-3261': [36, 4, 2, 1], 'item-3260': [36, 5, 2, 1], 'item-326': [36, 6, 2, 1], 'item-3259': [36, 7, 2, 1], 'item-3258': [36, 8, 2, 1], 'item-3257': [36, 9, 2, 1], 'item-3256': [36, 10, 2, 1], 'item-3255': [36, 11, 2, 1], 'item-3254': [36, 12, 2, 1], 'item-3253': [36, 13, 2, 1], 'item-3252': [36, 14, 2, 1], 'item-3251': [36, 15, 2, 1], 'item-3250': [36, 16, 2, 1], 'item-325': [36, 17, 2, 1], 'item-3249': [36, 18, 2, 1], 'item-3248': [36, 19, 2, 1], 'item-3247': [36, 20, 2, 1], 'item-3246': [36, 21, 2, 1], 'item-3245': [36, 22, 2, 1], 'item-3244': [36, 23, 2, 1], 'item-3243': [36, 24, 2, 1], 'item-3242': [36, 25, 2, 1], 'item-3241': [36, 26, 2, 1], 'item-3240': [36, 27, 2, 1], 'item-324': [36, 28, 2, 1], 'item-3239': [36, 29, 2, 1], 'item-3238': [36, 30, 2, 1], 'item-3237': [36, 31, 2, 1], 'item-3236': [36, 32, 2, 1], 'item-3235': [36, 33, 2, 1], 'item-3234': [36, 34, 2, 1], 'item-3233': [36, 35, 2, 1], 'item-3232': [36, 36, 2, 1], 'item-3231': [36, 37, 2, 1], 'item-3230': [36, 38, 2, 1], 'item-323': [36, 39, 2, 1], 'item-3229': [36, 40, 2, 1], 'item-3228': [36, 41, 2, 1], 'item-3227': [36, 42, 2, 1], 'item-3226': [36, 43, 2, 1], 'item-3225': [36, 44, 2, 1], 'item-3224': [36, 45, 2, 1], 'item-3223': [36, 46, 2, 1], 'item-3222': [36, 47, 2, 1], 'item-3221': [36, 48, 2, 1], 'item-3220': [36, 49, 2, 1], 'item-322': [36, 50, 2, 1], 'item-3219': [36, 51, 2, 1], 'item-3218': [36, 52, 2, 1], 'item-3217': [36, 53, 2, 1], 'item-3216': [36, 54, 2, 1], 'item-3215': [36, 55, 2, 1], 'item-3214': [36, 56, 2, 1], 'item-3213': [36, 57, 2, 1], 'item-3212': [36, 58, 2, 1], 'item-3211': [36, 59, 2, 1], 'item-3210': [38, 0, 2, 1], 'item-321': [38, 1, 2, 1], 'item-3209': [38, 2, 2, 1], 'item-3208': [38, 3, 2, 1], 'item-3207': [38, 4, 2, 1], 'item-3206': [38, 5, 2, 1], 'item-3205': [38, 6, 2, 1], 'item-3204': [38, 7, 2, 1], 'item-3203': [38, 8, 2, 1], 'item-3202': [38, 9, 2, 1], 'item-3201': [38, 10, 2, 1], 'item-3200': [38, 11, 2, 1], 'item-320': [38, 12, 2, 1], 'item-32': [38, 13, 2, 1], 'item-3199': [38, 14, 2, 1], 'item-3198': [38, 15, 2, 1], 'item-3197': [38, 16, 2, 1], 'item-3196': [38, 17, 2, 1], 'item-3195': [38, 18, 2, 1], 'item-3194': [38, 19, 2, 1], 'item-3193': [38, 20, 2, 1], 'item-3192': [38, 21, 2, 1], 'item-3191': [38, 22, 2, 1], 'item-3190': [38, 23, 2, 1], 'item-319': [38, 24, 2, 1], 'item-3189': [38, 25, 2, 1], 'item-3188': [38, 26, 2, 1], 'item-3187': [38, 27, 2, 1], 'item-3186': [38, 28, 2, 1], 'item-3185': [38, 29, 2, 1], 'item-3184': [38, 30, 2, 1], 'item-3183': [38, 31, 2, 1], 'item-3182': [38, 32, 2, 1], 'item-3181': [38, 33, 2, 1], 'item-3180': [38, 34, 2, 1], 'item-318': [38, 35, 2, 1], 'item-3179': [38, 36, 2, 1], 'item-3178': [38, 37, 2, 1], 'item-3177': [38, 38, 2, 1], 'item-3176': [38, 39, 2, 1], 'item-3175': [38, 40, 2, 1], 'item-3174': [38, 41, 2, 1], 'item-3173': [38, 42, 2, 1], 'item-3172': [38, 43, 2, 1], 'item-3171': [38, 44, 2, 1], 'item-3170': [38, 45, 2, 1], 'item-317': [38, 46, 2, 1], 'item-3169': [38, 47, 2, 1], 'item-3168': [38, 48, 2, 1], 'item-3167': [38, 49, 2, 1], 'item-3166': [38, 50, 2, 1], 'item-3165': [38, 51, 2, 1], 'item-3164': [38, 52, 2, 1], 'item-3163': [38, 53, 2, 1], 'item-3162': [38, 54, 2, 1], 'item-3161': [38, 55, 2, 1], 'item-3160': [38, 56, 2, 1], 'item-316': [38, 57, 2, 1], 'item-3159': [38, 58, 2, 1], 'item-3158': [38, 59, 2, 1], 'item-3157': [40, 0, 2, 1], 'item-3156': [40, 1, 2, 1], 'item-3155': [40, 2, 2, 1], 'item-3154': [40, 3, 2, 1], 'item-3153': [40, 4, 2, 1], 'item-3152': [40, 5, 2, 1], 'item-3151': [40, 6, 2, 1], 'item-3150': [40, 7, 2, 1], 'item-315': [40, 8, 2, 1], 'item-3149': [40, 9, 2, 1], 'item-3148': [40, 10, 2, 1], 'item-3147': [40, 11, 2, 1], 'item-3146': [40, 12, 2, 1], 'item-3145': [40, 13, 2, 1], 'item-3144': [40, 14, 2, 1], 'item-3143': [40, 15, 2, 1], 'item-3142': [40, 16, 2, 1], 'item-3141': [40, 17, 2, 1], 'item-3140': [40, 18, 2, 1], 'item-314': [40, 19, 2, 1], 'item-3139': [40, 20, 2, 1], 'item-3138': [40, 21, 2, 1], 'item-3137': [40, 22, 2, 1], 'item-3136': [40, 23, 2, 1], 'item-3135': [40, 24, 2, 1], 'item-3134': [40, 25, 2, 1], 'item-3133': [40, 26, 2, 1], 'item-3132': [40, 27, 2, 1], 'item-3131': [40, 28, 2, 1], 'item-3130': [40, 29, 2, 1], 'item-313': [40, 30, 2, 1], 'item-3129': [40, 31, 2, 1], 'item-3128': [40, 32, 2, 1], 'item-3127': [40, 33, 2, 1], 'item-3126': [40, 34, 2, 1], 'item-3125': [40, 35, 2, 1], 'item-3124': [40, 36, 2, 1], 'item-3123': [40, 37, 2, 1], 'item-3122': [40, 38, 2, 1], 'item-3121': [40, 39, 2, 1], 'item-3120': [40, 40, 2, 1], 'item-312': [40, 41, 2, 1], 'item-3119': [40, 42, 2, 1], 'item-3118': [40, 43, 2, 1], 'item-3117': [40, 44, 2, 1], 'item-3116': [40, 45, 2, 1], 'item-3115': [40, 46, 2, 1], 'item-3114': [40, 47, 2, 1], 'item-3113': [40, 48, 2, 1], 'item-3112': [40, 49, 2, 1], 'item-3111': [40, 50, 2, 1], 'item-3110': [40, 51, 2, 1], 'item-311': [40, 52, 2, 1], 'item-3109': [40, 53, 2, 1], 'item-3108': [40, 54, 2, 1], 'item-3107': [40, 55, 2, 1], 'item-3106': [40, 56, 2, 1], 'item-3105': [40, 57, 2, 1], 'item-3104': [40, 58, 2, 1], 'item-3103': [40, 59, 2, 1], 'item-3102': [42, 0, 2, 1], 'item-3101': [42, 1, 2, 1], 'item-3100': [42, 2, 2, 1], 'item-310': [42, 3, 2, 1], 'item-31': [42, 4, 2, 1], 'item-3099': [42, 5, 2, 1], 'item-3098': [42, 6, 2, 1], 'item-3097': [42, 7, 2, 1], 'item-3096': [42, 8, 2, 1], 'item-3095': [42, 9, 2, 1], 'item-3094': [42, 10, 2, 1], 'item-3093': [42, 11, 2, 1], 'item-3092': [42, 12, 2, 1], 'item-3091': [42, 13, 2, 1], 'item-3090': [42, 14, 2, 1], 'item-309': [42, 15, 2, 1], 'item-3089': [42, 16, 2, 1], 'item-3088': [42, 17, 2, 1], 'item-3087': [42, 18, 2, 1], 'item-3086': [42, 19, 2, 1], 'item-3085': [42, 20, 2, 1], 'item-3084': [42, 21, 2, 1], 'item-3083': [42, 22, 2, 1], 'item-3082': [42, 23, 2, 1], 'item-3081': [42, 24, 2, 1], 'item-3080': [42, 25, 2, 1], 'item-308': [42, 26, 2, 1], 'item-3079': [42, 27, 2, 1], 'item-3078': [42, 28, 2, 1], 'item-3077': [42, 29, 2, 1], 'item-3076': [42, 30, 2, 1], 'item-3075': [42, 31, 2, 1], 'item-3074': [42, 32, 2, 1], 'item-3073': [42, 33, 2, 1], 'item-3072': [42, 34, 2, 1], 'item-3071': [42, 35, 2, 1], 'item-3070': [42, 36, 2, 1], 'item-307': [42, 37, 2, 1], 'item-3069': [42, 38, 2, 1], 'item-3068': [42, 39, 2, 1], 'item-3067': [42, 40, 2, 1], 'item-3066': [42, 41, 2, 1], 'item-3065': [42, 42, 2, 1], 'item-3064': [42, 43, 2, 1], 'item-3063': [42, 44, 2, 1], 'item-3062': [42, 45, 2, 1], 'item-3061': [42, 46, 2, 1], 'item-3060': [42, 47, 2, 1], 'item-306': [42, 48, 2, 1], 'item-3059': [42, 49, 2, 1], 'item-3058': [42, 50, 2, 1], 'item-3057': [42, 51, 2, 1], 'item-3056': [42, 52, 2, 1], 'item-3055': [42, 53, 2, 1], 'item-3054': [42, 54, 2, 1], 'item-3053': [42, 55, 2, 1], 'item-3052': [42, 56, 2, 1], 'item-3051': [42, 57, 2, 1], 'item-3050': [42, 58, 2, 1], 'item-305': [42, 59, 2, 1], 'item-3049': [44, 0, 2, 1], 'item-3048': [44, 1, 2, 1], 'item-3047': [44, 2, 2, 1], 'item-3046': [44, 3, 2, 1], 'item-3045': [44, 4, 2, 1], 'item-3044': [44, 5, 2, 1], 'item-3043': [44, 6, 2, 1], 'item-3042': [44, 7, 2, 1], 'item-3041': [44, 8, 2, 1], 'item-3040': [44, 9, 2, 1], 'item-304': [44, 10, 2, 1], 'item-3039': [44, 11, 2, 1], 'item-3038': [44, 12, 2, 1], 'item-3037': [44, 13, 2, 1], 'item-3036': [44, 14, 2, 1], 'item-3035': [44, 15, 2, 1], 'item-3034': [44, 16, 2, 1], 'item-3033': [44, 17, 2, 1], 'item-3032': [44, 18, 2, 1], 'item-3031': [44, 19, 2, 1], 'item-3030': [44, 20, 2, 1], 'item-303': [44, 21, 2, 1], 'item-3029': [44, 22, 2, 1], 'item-3028': [44, 23, 2, 1], 'item-3027': [44, 24, 2, 1], 'item-3026': [44, 25, 2, 1], 'item-3025': [44, 26, 2, 1], 'item-3024': [44, 27, 2, 1], 'item-3023': [44, 28, 2, 1], 'item-3022': [44, 29, 2, 1], 'item-3021': [44, 30, 2, 1], 'item-3020': [44, 31, 2, 1], 'item-302': [44, 32, 2, 1], 'item-3019': [44, 33, 2, 1], 'item-3018': [44, 34, 2, 1], 'item-3017': [44, 35, 2, 1], 'item-3016': [44, 36, 2, 1], 'item-3015': [44, 37, 2, 1], 'item-3014': [44, 38, 2, 1], 'item-3013': [44, 39, 2, 1], 'item-3012': [44, 40, 2, 1], 'item-3011': [44, 41, 2, 1], 'item-3010': [44, 42, 2, 1], 'item-301': [44, 43, 2, 1], 'item-3009': [44, 44, 2, 1], 'item-3008': [44, 45, 2, 1], 'item-3007': [44, 46, 2, 1], 'item-3006': [44, 47, 2, 1], 'item-3005': [44, 48, 2, 1], 'item-3004': [44, 49, 2, 1], 'item-3003': [44, 50, 2, 1], 'item-3002': [44, 51, 2, 1], 'item-3001': [44, 52, 2, 1], 'item-3000': [44, 53, 2, 1], 'item-300': [44, 54, 2, 1], 'item-30': [44, 55, 2, 1], 'item-3': [44, 56, 2, 1], 'item-2999': [44, 57, 2, 1], 'item-2998': [44, 58, 2, 1], 'item-2997': [44, 59, 2, 1], 'item-2996': [46, 0, 2, 1], 'item-2995': [46, 1, 2, 1], 'item-2994': [46, 2, 2, 1], 'item-2993': [46, 3, 2, 1], 'item-2992': [46, 4, 2, 1], 'item-2991': [46, 5, 2, 1], 'item-2990': [46, 6, 2, 1], 'item-299': [46, 7, 2, 1], 'item-2989': [46, 8, 2, 1], 'item-2988': [46, 9, 2, 1], 'item-2987': [46, 10, 2, 1], 'item-2986': [46, 11, 2, 1], 'item-2985': [46, 12, 2, 1], 'item-2984': [46, 13, 2, 1], 'item-2983': [46, 14, 2, 1], 'item-2982': [46, 15, 2, 1], 'item-2981': [46, 16, 2, 1], 'item-2980': [46, 17, 2, 1], 'item-298': [46, 18, 2, 1], 'item-2979': [46, 19, 2, 1], 'item-2978': [46, 20, 2, 1], 'item-2977': [46, 21, 2, 1], 'item-2976': [46, 22, 2, 1], 'item-2975': [46, 23, 2, 1], 'item-2974': [46, 24, 2, 1], 'item-2973': [46, 25, 2, 1], 'item-2972': [46, 26, 2, 1], 'item-2971': [46, 27, 2, 1], 'item-2970': [46, 28, 2, 1], 'item-297': [46, 29, 2, 1], 'item-2969': [46, 30, 2, 1], 'item-2968': [46, 31, 2, 1], 'item-2967': [46, 32, 2, 1], 'item-2966': [46, 33, 2, 1], 'item-2965': [46, 34, 2, 1], 'item-2964': [46, 35, 2, 1], 'item-2963': [46, 36, 2, 1], 'item-2962': [46, 37, 2, 1], 'item-2961': [46, 38, 2, 1], 'item-2960': [46, 39, 2, 1], 'item-296': [46, 40, 2, 1], 'item-2959': [46, 41, 2, 1], 'item-2958': [46, 42, 2, 1], 'item-2957': [46, 43, 2, 1], 'item-2956': [46, 44, 2, 1], 'item-2955': [46, 45, 2, 1], 'item-2954': [46, 46, 2, 1], 'item-2953': [46, 47, 2, 1], 'item-2952': [46, 48, 2, 1], 'item-2951': [46, 49, 2, 1], 'item-2950': [46, 50, 2, 1], 'item-295': [46, 51, 2, 1], 'item-2949': [46, 52, 2, 1], 'item-2948': [46, 53, 2, 1], 'item-2947': [46, 54, 2, 1], 'item-2946': [46, 55, 2, 1], 'item-2945': [46, 56, 2, 1], 'item-2944': [46, 57, 2, 1], 'item-2943': [46, 58, 2, 1], 'item-2942': [46, 59, 2, 1], 'item-2941': [48, 0, 2, 1], 'item-2940': [48, 1, 2, 1], 'item-294': [48, 2, 2, 1], 'item-2939': [48, 3, 2, 1], 'item-2938': [48, 4, 2, 1], 'item-2937': [48, 5, 2, 1], 'item-2936': [48, 6, 2, 1], 'item-2935': [48, 7, 2, 1], 'item-2934': [48, 8, 2, 1], 'item-2933': [48, 9, 2, 1], 'item-2932': [48, 10, 2, 1], 'item-2931': [48, 11, 2, 1], 'item-2930': [48, 12, 2, 1], 'item-293': [48, 13, 2, 1], 'item-2929': [48, 14, 2, 1], 'item-2928': [48, 15, 2, 1], 'item-2927': [48, 16, 2, 1], 'item-2926': [48, 17, 2, 1], 'item-2925': [48, 18, 2, 1], 'item-2924': [48, 19, 2, 1], 'item-2923': [48, 20, 2, 1], 'item-2922': [48, 21, 2, 1], 'item-2921': [48, 22, 2, 1], 'item-2920': [48, 23, 2, 1], 'item-292': [48, 24, 2, 1], 'item-2919': [48, 25, 2, 1], 'item-2918': [48, 26, 2, 1], 'item-2917': [48, 27, 2, 1], 'item-2916': [48, 28, 2, 1], 'item-2915': [48, 29, 2, 1], 'item-2914': [48, 30, 2, 1], 'item-2913': [48, 31, 2, 1], 'item-2912': [48, 32, 2, 1], 'item-2911': [48, 33, 2, 1], 'item-2910': [48, 34, 2, 1], 'item-291': [48, 35, 2, 1], 'item-2909': [48, 36, 2, 1], 'item-2908': [48, 37, 2, 1], 'item-2907': [48, 38, 2, 1], 'item-2906': [48, 39, 2, 1], 'item-2905': [48, 40, 2, 1], 'item-2904': [48, 41, 2, 1], 'item-2903': [48, 42, 2, 1], 'item-2902': [48, 43, 2, 1], 'item-2901': [48, 44, 2, 1], 'item-2900': [48, 45, 2, 1], 'item-290': [48, 46, 2, 1], 'item-29': [48, 47, 2, 1], 'item-2899': [48, 48, 2, 1], 'item-2898': [48, 49, 2, 1], 'item-2897': [48, 50, 2, 1], 'item-2896': [48, 51, 2, 1], 'item-2895': [48, 52, 2, 1], 'item-2894': [48, 53, 2, 1], 'item-2893': [48, 54, 2, 1], 'item-2892': [48, 55, 2, 1], 'item-2891': [48, 56, 2, 1], 'item-2890': [48, 57, 2, 1], 'item-289': [48, 58, 2, 1], 'item-2889': [48, 59, 2, 1], 'item-2888': [50, 0, 2, 1], 'item-2887': [50, 1, 2, 1], 'item-2886': [50, 2, 2, 1], 'item-2885': [50, 3, 2, 1], 'item-2884': [50, 4, 2, 1], 'item-2883': [50, 5, 2, 1], 'item-2882': [50, 6, 2, 1], 'item-2881': [50, 7, 2, 1], 'item-2880': [50, 8, 2, 1], 'item-288': [50, 9, 2, 1], 'item-2879': [50, 10, 2, 1], 'item-2878': [50, 11, 2, 1], 'item-2877': [50, 12, 2, 1], 'item-2876': [50, 13, 2, 1], 'item-2875': [50, 14, 2, 1], 'item-2874': [50, 15, 2, 1], 'item-2873': [50, 16, 2, 1], 'item-2872': [50, 17, 2, 1], 'item-2871': [50, 18, 2, 1], 'item-2870': [50, 19, 2, 1], 'item-287': [50, 20, 2, 1], 'item-2869': [50, 21, 2, 1], 'item-2868': [50, 22, 2, 1], 'item-2867': [50, 23, 2, 1], 'item-2866': [50, 24, 2, 1], 'item-2865': [50, 25, 2, 1], 'item-2864': [50, 26, 2, 1], 'item-2863': [50, 27, 2, 1], 'item-2862': [50, 28, 2, 1], 'item-2861': [50, 29, 2, 1], 'item-2860': [50, 30, 2, 1], 'item-286': [50, 31, 2, 1], 'item-2859': [50, 32, 2, 1], 'item-2858': [50, 33, 2, 1], 'item-2857': [50, 34, 2, 1], 'item-2856': [50, 35, 2, 1], 'item-2855': [50, 36, 2, 1], 'item-2854': [50, 37, 2, 1], 'item-2853': [50, 38, 2, 1], 'item-2852': [50, 39, 2, 1], 'item-2851': [50, 40, 2, 1], 'item-2850': [50, 41, 2, 1], 'item-285': [50, 42, 2, 1], 'item-2849': [50, 43, 2, 1], 'item-2848': [50, 44, 2, 1], 'item-2847': [50, 45, 2, 1], 'item-2846': [50, 46, 2, 1], 'item-2845': [50, 47, 2, 1], 'item-2844': [50, 48, 2, 1], 'item-2843': [50, 49, 2, 1], 'item-2842': [50, 50, 2, 1], 'item-2841': [50, 51, 2, 1], 'item-2840': [50, 52, 2, 1], 'item-284': [50, 53, 2, 1], 'item-2839': [50, 54, 2, 1], 'item-2838': [50, 55, 2, 1], 'item-2837': [50, 56, 2, 1], 'item-2836': [50, 57, 2, 1], 'item-2835': [50, 58, 2, 1], 'item-2834': [50, 59, 2, 1], 'item-2833': [52, 0, 2, 1], 'item-2832': [52, 1, 2, 1], 'item-2831': [52, 2, 2, 1], 'item-2830': [52, 3, 2, 1], 'item-283': [52, 4, 2, 1], 'item-2829': [52, 5, 2, 1], 'item-2828': [52, 6, 2, 1], 'item-2827': [52, 7, 2, 1], 'item-2826': [52, 8, 2, 1], 'item-2825': [52, 9, 2, 1], 'item-2824': [52, 10, 2, 1], 'item-2823': [52, 11, 2, 1], 'item-2822': [52, 12, 2, 1], 'item-2821': [52, 13, 2, 1], 'item-2820': [52, 14, 2, 1], 'item-282': [52, 15, 2, 1], 'item-2819': [52, 16, 2, 1], 'item-2818': [52, 17, 2, 1], 'item-2817': [52, 18, 2, 1], 'item-2816': [52, 19, 2, 1], 'item-2815': [52, 20, 2, 1], 'item-2814': [52, 21, 2, 1], 'item-2813': [52, 22, 2, 1], 'item-2812': [52, 23, 2, 1], 'item-2811': [52, 24, 2, 1], 'item-2810': [52, 25, 2, 1], 'item-281': [52, 26, 2, 1], 'item-2809': [52, 27, 2, 1], 'item-2808': [52, 28, 2, 1], 'item-2807': [52, 29, 2, 1], 'item-2806': [52, 30, 2, 1], 'item-2805': [52, 31, 2, 1], 'item-2804': [52, 32, 2, 1], 'item-2803': [52, 33, 2, 1], 'item-2802': [52, 34, 2, 1], 'item-2801': [52, 35, 2, 1], 'item-2800': [52, 36, 2, 1], 'item-280': [52, 37, 2, 1], 'item-28': [52, 38, 2, 1], 'item-2799': [52, 39, 2, 1], 'item-2798': [52, 40, 2, 1], 'item-2797': [52, 41, 2, 1], 'item-2796': [52, 42, 2, 1], 'item-2795': [52, 43, 2, 1], 'item-2794': [52, 44, 2, 1], 'item-2793': [52, 45, 2, 1], 'item-2792': [52, 46, 2, 1], 'item-2791': [52, 47, 2, 1], 'item-2790': [52, 48, 2, 1], 'item-279': [52, 49, 2, 1], 'item-2789': [52, 50, 2, 1], 'item-2788': [52, 51, 2, 1], 'item-2787': [52, 52, 2, 1], 'item-2786': [52, 53, 2, 1], 'item-2785': [52, 54, 2, 1], 'item-2784': [52, 55, 2, 1], 'item-2783': [52, 56, 2, 1], 'item-2782': [52, 57, 2, 1], 'item-2781': [52, 58, 2, 1], 'item-2780': [52, 59, 2, 1], 'item-278': [54, 0, 2, 1], 'item-2779': [54, 1, 2, 1], 'item-2778': [54, 2, 2, 1], 'item-2777': [54, 3, 2, 1], 'item-2776': [54, 4, 2, 1], 'item-2775': [54, 5, 2, 1], 'item-2774': [54, 6, 2, 1], 'item-2773': [54, 7, 2, 1], 'item-2772': [54, 8, 2, 1], 'item-2771': [54, 9, 2, 1], 'item-2770': [54, 10, 2, 1], 'item-277': [54, 11, 2, 1], 'item-2769': [54, 12, 2, 1], 'item-2768': [54, 13, 2, 1], 'item-2767': [54, 14, 2, 1], 'item-2766': [54, 15, 2, 1], 'item-2765': [54, 16, 2, 1], 'item-2764': [54, 17, 2, 1], 'item-2763': [54, 18, 2, 1], 'item-2762': [54, 19, 2, 1], 'item-2761': [54, 20, 2, 1], 'item-2760': [54, 21, 2, 1], 'item-276': [54, 22, 2, 1], 'item-2759': [54, 23, 2, 1], 'item-2758': [54, 24, 2, 1], 'item-2757': [54, 25, 2, 1], 'item-2756': [54, 26, 2, 1], 'item-2755': [54, 27, 2, 1], 'item-2754': [54, 28, 2, 1], 'item-2753': [54, 29, 2, 1], 'item-2752': [54, 30, 2, 1], 'item-2751': [54, 31, 2, 1], 'item-2750': [54, 32, 2, 1], 'item-275': [54, 33, 2, 1], 'item-2749': [54, 34, 2, 1], 'item-2748': [54, 35, 2, 1], 'item-2747': [54, 36, 2, 1], 'item-2746': [54, 37, 2, 1], 'item-2745': [54, 38, 2, 1], 'item-2744': [54, 39, 2, 1], 'item-2743': [54, 40, 2, 1], 'item-2742': [54, 41, 2, 1], 'item-2741': [54, 42, 2, 1], 'item-2740': [54, 43, 2, 1], 'item-274': [54, 44, 2, 1], 'item-2739': [54, 45, 2, 1], 'item-2738': [54, 46, 2, 1], 'item-2737': [54, 47, 2, 1], 'item-2736': [54, 48, 2, 1], 'item-2735': [54, 49, 2, 1], 'item-2734': [54, 50, 2, 1], 'item-2733': [54, 51, 2, 1], 'item-2732': [54, 52, 2, 1], 'item-2731': [54, 53, 2, 1], 'item-2730': [54, 54, 2, 1], 'item-273': [54, 55, 2, 1], 'item-2729': [54, 56, 2, 1], 'item-2728': [54, 57, 2, 1], 'item-2727': [54, 58, 2, 1], 'item-2726': [54, 59, 2, 1], 'item-2725': [56, 0, 2, 1], 'item-2724': [56, 1, 2, 1], 'item-2723': [56, 2, 2, 1], 'item-2722': [56, 3, 2, 1], 'item-2721': [56, 4, 2, 1], 'item-2720': [56, 5, 2, 1], 'item-272': [56, 6, 2, 1], 'item-2719': [56, 7, 2, 1], 'item-2718': [56, 8, 2, 1], 'item-2717': [56, 9, 2, 1], 'item-2716': [56, 10, 2, 1], 'item-2715': [56, 11, 2, 1], 'item-2714': [56, 12, 2, 1], 'item-2713': [56, 13, 2, 1], 'item-2712': [56, 14, 2, 1], 'item-2711': [56, 15, 2, 1], 'item-2710': [56, 16, 2, 1], 'item-271': [56, 17, 2, 1], 'item-2709': [56, 18, 2, 1], 'item-2708': [56, 19, 2, 1], 'item-2707': [56, 20, 2, 1], 'item-2706': [56, 21, 2, 1], 'item-2705': [56, 22, 2, 1], 'item-2704': [56, 23, 2, 1], 'item-2703': [56, 24, 2, 1], 'item-2702': [56, 25, 2, 1], 'item-2701': [56, 26, 2, 1], 'item-2700': [56, 27, 2, 1], 'item-270': [56, 28, 2, 1], 'item-27': [56, 29, 2, 1], 'item-2699': [56, 30, 2, 1], 'item-2698': [56, 31, 2, 1], 'item-2697': [56, 32, 2, 1], 'item-2696': [56, 33, 2, 1], 'item-2695': [56, 34, 2, 1], 'item-2694': [56, 35, 2, 1], 'item-2693': [56, 36, 2, 1], 'item-2692': [56, 37, 2, 1], 'item-2691': [56, 38, 2, 1], 'item-2690': [56, 39, 2, 1], 'item-269': [56, 40, 2, 1], 'item-2689': [56, 41, 2, 1], 'item-2688': [56, 42, 2, 1], 'item-2687': [56, 43, 2, 1], 'item-2686': [56, 44, 2, 1], 'item-2685': [56, 45, 2, 1], 'item-2684': [56, 46, 2, 1], 'item-2683': [56, 47, 2, 1], 'item-2682': [56, 48, 2, 1], 'item-2681': [56, 49, 2, 1], 'item-2680': [56, 50, 2, 1], 'item-268': [56, 51, 2, 1], 'item-2679': [56, 52, 2, 1], 'item-2678': [56, 53, 2, 1], 'item-2677': [56, 54, 2, 1], 'item-2676': [56, 55, 2, 1], 'item-2675': [56, 56, 2, 1], 'item-2674': [56, 57, 2, 1], 'item-2673': [56, 58, 2, 1], 'item-2672': [56, 59, 2, 1], 'item-2671': [58, 0, 2, 1], 'item-2670': [58, 1, 2, 1], 'item-267': [58, 2, 2, 1], 'item-2669': [58, 3, 2, 1], 'item-2668': [58, 4, 2, 1], 'item-2667': [58, 5, 2, 1], 'item-2666': [58, 6, 2, 1], 'item-2665': [58, 7, 2, 1], 'item-2664': [58, 8, 2, 1], 'item-2663': [58, 9, 2, 1], 'item-2662': [58, 10, 2, 1], 'item-2661': [58, 11, 2, 1], 'item-2660': [58, 12, 2, 1], 'item-266': [58, 13, 2, 1], 'item-2659': [58, 14, 2, 1], 'item-2658': [58, 15, 2, 1], 'item-2657': [58, 16, 2, 1], 'item-2656': [58, 17, 2, 1], 'item-2655': [58, 18, 2, 1], 'item-2654': [58, 19, 2, 1], 'item-2653': [58, 20, 2, 1], 'item-2652': [58, 21, 2, 1], 'item-2651': [58, 22, 2, 1], 'item-2650': [58, 23, 2, 1], 'item-265': [58, 24, 2, 1], 'item-2649': [58, 25, 2, 1], 'item-2648': [58, 26, 2, 1], 'item-2647': [58, 27, 2, 1], 'item-2646': [58, 28, 2, 1], 'item-2645': [58, 29, 2, 1], 'item-2644': [58, 30, 2, 1], 'item-2643': [58, 31, 2, 1], 'item-2642': [58, 32, 2, 1], 'item-2641': [58, 33, 2, 1], 'item-2640': [58, 34, 2, 1], 'item-264': [58, 35, 2, 1], 'item-2639': [58, 36, 2, 1], 'item-2638': [58, 37, 2, 1], 'item-2637': [58, 38, 2, 1], 'item-2636': [58, 39, 2, 1], 'item-2635': [58, 40, 2, 1], 'item-2634': [58, 41, 2, 1], 'item-2633': [58, 42, 2, 1], 'item-2632': [58, 43, 2, 1], 'item-2631': [58, 44, 2, 1], 'item-2630': [58, 45, 2, 1], 'item-263': [58, 46, 2, 1], 'item-2629': [58, 47, 2, 1], 'item-2628': [58, 48, 2, 1], 'item-2627': [58, 49, 2, 1], 'item-2626': [58, 50, 2, 1], 'item-2625': [58, 51, 2, 1], 'item-2624': [58, 52, 2, 1], 'item-2623': [58, 53, 2, 1], 'item-2622': [58, 54, 2, 1], 'item-2621': [58, 55, 2, 1], 'item-2620': [58, 56, 2, 1], 'item-262': [58, 57, 2, 1], 'item-2619': [58, 58, 2, 1], 'item-2618': [58, 59, 2, 1], 'item-2617': [60, 0, 2, 1], 'item-2616': [60, 1, 2, 1], 'item-2615': [60, 2, 2, 1], 'item-2614': [60, 3, 2, 1], 'item-2613': [60, 4, 2, 1], 'item-2612': [60, 5, 2, 1], 'item-2611': [60, 6, 2, 1], 'item-2610': [60, 7, 2, 1], 'item-261': [60, 8, 2, 1], 'item-2609': [60, 9, 2, 1], 'item-2608': [60, 10, 2, 1], 'item-2607': [60, 11, 2, 1], 'item-2606': [60, 12, 2, 1], 'item-2605': [60, 13, 2, 1], 'item-2604': [60, 14, 2, 1], 'item-2603': [60, 15, 2, 1], 'item-2602': [60, 16, 2, 1], 'item-2601': [60, 17, 2, 1], 'item-2600': [60, 18, 2, 1], 'item-260': [60, 19, 2, 1], 'item-26': [60, 20, 2, 1], 'item-2599': [60, 21, 2, 1], 'item-2598': [60, 22, 2, 1], 'item-2597': [60, 23, 2, 1], 'item-2596': [60, 24, 2, 1], 'item-2595': [60, 25, 2, 1], 'item-2594': [60, 26, 2, 1], 'item-2593': [60, 27, 2, 1], 'item-2592': [60, 28, 2, 1], 'item-2591': [60, 29, 2, 1], 'item-2590': [60, 30, 2, 1], 'item-259': [60, 31, 2, 1], 'item-2589': [60, 32, 2, 1], 'item-2588': [60, 33, 2, 1], 'item-2587': [60, 34, 2, 1], 'item-2586': [60, 35, 2, 1], 'item-2585': [60, 36, 2, 1], 'item-2584': [60, 37, 2, 1], 'item-2583': [60, 38, 2, 1], 'item-2582': [60, 39, 2, 1], 'item-2581': [60, 40, 2, 1], 'item-2580': [60, 41, 2, 1], 'item-258': [60, 42, 2, 1], 'item-2579': [60, 43, 2, 1], 'item-2578': [60, 44, 2, 1], 'item-2577': [60, 45, 2, 1], 'item-2576': [60, 46, 2, 1], 'item-2575': [60, 47, 2, 1], 'item-2574': [60, 48, 2, 1], 'item-2573': [60, 49, 2, 1], 'item-2572': [60, 50, 2, 1], 'item-2571': [60, 51, 2, 1], 'item-2570': [60, 52, 2, 1], 'item-257': [60, 53, 2, 1], 'item-2569': [60, 54, 2, 1], 'item-2568': [60, 55, 2, 1], 'item-2567': [60, 56, 2, 1], 'item-2566': [60, 57, 2, 1], 'item-2565': [60, 58, 2, 1], 'item-2564': [60, 59, 2, 1], 'item-2563': [62, 0, 2, 1], 'item-2562': [62, 1, 2, 1], 'item-2561': [62, 2, 2, 1], 'item-2560': [62, 3, 2, 1], 'item-256': [62, 4, 2, 1], 'item-2559': [62, 5, 2, 1], 'item-2558': [62, 6, 2, 1], 'item-2557': [62, 7, 2, 1], 'item-2556': [62, 8, 2, 1], 'item-2555': [62, 9, 2, 1], 'item-2554': [62, 10, 2, 1], 'item-2553': [62, 11, 2, 1], 'item-2552': [62, 12, 2, 1], 'item-2551': [62, 13, 2, 1], 'item-2550': [62, 14, 2, 1], 'item-255': [62, 15, 2, 1], 'item-2549': [62, 16, 2, 1], 'item-2548': [62, 17, 2, 1], 'item-2547': [62, 18, 2, 1], 'item-2546': [62, 19, 2, 1], 'item-2545': [62, 20, 2, 1], 'item-2544': [62, 21, 2, 1], 'item-2543': [62, 22, 2, 1], 'item-2542': [62, 23, 2, 1], 'item-2541': [62, 24, 2, 1], 'item-2540': [62, 25, 2, 1], 'item-254': [62, 26, 2, 1], 'item-2539': [62, 27, 2, 1], 'item-2538': [62, 28, 2, 1], 'item-2537': [62, 29, 2, 1], 'item-2536': [62, 30, 2, 1], 'item-2535': [62, 31, 2, 1], 'item-2534': [62, 32, 2, 1], 'item-2533': [62, 33, 2, 1], 'item-2532': [62, 34, 2, 1], 'item-2531': [62, 35, 2, 1], 'item-2530': [62, 36, 2, 1], 'item-253': [62, 37, 2, 1], 'item-2529': [62, 38, 2, 1], 'item-2528': [62, 39, 2, 1], 'item-2527': [62, 40, 2, 1], 'item-2526': [62, 41, 2, 1], 'item-2525': [62, 42, 2, 1], 'item-2524': [62, 43, 2, 1], 'item-2523': [62, 44, 2, 1], 'item-2522': [62, 45, 2, 1], 'item-2521': [62, 46, 2, 1], 'item-2520': [62, 47, 2, 1], 'item-252': [62, 48, 2, 1], 'item-2519': [62, 49, 2, 1], 'item-2518': [62, 50, 2, 1], 'item-2517': [62, 51, 2, 1], 'item-2516': [62, 52, 2, 1], 'item-2515': [62, 53, 2, 1], 'item-2514': [62, 54, 2, 1], 'item-2513': [62, 55, 2, 1], 'item-2512': [62, 56, 2, 1], 'item-2511': [62, 57, 2, 1], 'item-2510': [62, 58, 2, 1], 'item-251': [62, 59, 2, 1], 'item-2509': [64, 0, 2, 1], 'item-2508': [64, 1, 2, 1], 'item-2507': [64, 2, 2, 1], 'item-2506': [64, 3, 2, 1], 'item-2505': [64, 4, 2, 1], 'item-2504': [64, 5, 2, 1], 'item-2503': [64, 6, 2, 1], 'item-2502': [64, 7, 2, 1], 'item-2501': [64, 8, 2, 1], 'item-2500': [64, 9, 2, 1], 'item-250': [64, 10, 2, 1], 'item-25': [64, 11, 2, 1], 'item-2499': [64, 12, 2, 1], 'item-2498': [64, 13, 2, 1], 'item-2497': [64, 14, 2, 1], 'item-2496': [64, 15, 2, 1], 'item-2495': [64, 16, 2, 1], 'item-2494': [64, 17, 2, 1], 'item-2493': [64, 18, 2, 1], 'item-2492': [64, 19, 2, 1], 'item-2491': [64, 20, 2, 1], 'item-2490': [64, 21, 2, 1], 'item-249': [64, 22, 2, 1], 'item-2489': [64, 23, 2, 1], 'item-2488': [64, 24, 2, 1], 'item-2487': [64, 25, 2, 1], 'item-2486': [64, 26, 2, 1], 'item-2485': [64, 27, 2, 1], 'item-2484': [64, 28, 2, 1], 'item-2483': [64, 29, 2, 1], 'item-2482': [64, 30, 2, 1], 'item-2481': [64, 31, 2, 1], 'item-2480': [64, 32, 2, 1], 'item-248': [64, 33, 2, 1], 'item-2479': [64, 34, 2, 1], 'item-2478': [64, 35, 2, 1], 'item-2477': [64, 36, 2, 1], 'item-2476': [64, 37, 2, 1], 'item-2475': [64, 38, 2, 1], 'item-2474': [64, 39, 2, 1], 'item-2473': [64, 40, 2, 1], 'item-2472': [64, 41, 2, 1], 'item-2471': [64, 42, 2, 1], 'item-2470': [64, 43, 2, 1], 'item-247': [64, 44, 2, 1], 'item-2469': [64, 45, 2, 1], 'item-2468': [64, 46, 2, 1], 'item-2467': [64, 47, 2, 1], 'item-2466': [64, 48, 2, 1], 'item-2465': [64, 49, 2, 1], 'item-2464': [64, 50, 2, 1], 'item-2463': [64, 51, 2, 1], 'item-2462': [64, 52, 2, 1], 'item-2461': [64, 53, 2, 1], 'item-2460': [64, 54, 2, 1], 'item-246': [64, 55, 2, 1], 'item-2459': [64, 56, 2, 1], 'item-2458': [64, 57, 2, 1], 'item-2457': [64, 58, 2, 1], 'item-2456': [64, 59, 2, 1], 'item-2455': [66, 0, 2, 1], 'item-2454': [66, 1, 2, 1], 'item-2453': [66, 2, 2, 1], 'item-2452': [66, 3, 2, 1], 'item-2451': [66, 4, 2, 1], 'item-2450': [66, 5, 2, 1], 'item-245': [66, 6, 2, 1], 'item-2449': [66, 7, 2, 1], 'item-2448': [66, 8, 2, 1], 'item-2447': [66, 9, 2, 1], 'item-2446': [66, 10, 2, 1], 'item-2445': [66, 11, 2, 1], 'item-2444': [66, 12, 2, 1], 'item-2443': [66, 13, 2, 1], 'item-2442': [66, 14, 2, 1], 'item-2441': [66, 15, 2, 1], 'item-2440': [66, 16, 2, 1], 'item-244': [66, 17, 2, 1], 'item-2439': [66, 18, 2, 1], 'item-2438': [66, 19, 2, 1], 'item-2437': [66, 20, 2, 1], 'item-2436': [66, 21, 2, 1], 'item-2435': [66, 22, 2, 1], 'item-2434': [66, 23, 2, 1], 'item-2433': [66, 24, 2, 1], 'item-2432': [66, 25, 2, 1], 'item-2431': [66, 26, 2, 1], 'item-2430': [66, 27, 2, 1], 'item-243': [66, 28, 2, 1], 'item-2429': [66, 29, 2, 1], 'item-2428': [66, 30, 2, 1], 'item-2427': [66, 31, 2, 1], 'item-2426': [66, 32, 2, 1], 'item-2425': [66, 33, 2, 1], 'item-2424': [66, 34, 2, 1], 'item-2423': [66, 35, 2, 1], 'item-2422': [66, 36, 2, 1], 'item-2421': [66, 37, 2, 1], 'item-2420': [66, 38, 2, 1], 'item-242': [66, 39, 2, 1], 'item-2419': [66, 40, 2, 1], 'item-2418': [66, 41, 2, 1], 'item-2417': [66, 42, 2, 1], 'item-2416': [66, 43, 2, 1], 'item-2415': [66, 44, 2, 1], 'item-2414': [66, 45, 2, 1], 'item-2413': [66, 46, 2, 1], 'item-2412': [66, 47, 2, 1], 'item-2411': [66, 48, 2, 1], 'item-2410': [66, 49, 2, 1], 'item-241': [66, 50, 2, 1], 'item-2409': [66, 51, 2, 1], 'item-2408': [66, 52, 2, 1], 'item-2407': [66, 53, 2, 1], 'item-2406': [66, 54, 2, 1], 'item-2405': [66, 55, 2, 1], 'item-2404': [66, 56, 2, 1], 'item-2403': [66, 57, 2, 1], 'item-2402': [66, 58, 2, 1], 'item-2401': [66, 59, 2, 1], 'item-2400': [68, 0, 2, 1], 'item-240': [68, 1, 2, 1], 'item-24': [68, 2, 2, 1], 'item-2399': [68, 3, 2, 1], 'item-2398': [68, 4, 2, 1], 'item-2397': [68, 5, 2, 1], 'item-2396': [68, 6, 2, 1], 'item-2395': [68, 7, 2, 1], 'item-2394': [68, 8, 2, 1], 'item-2393': [68, 9, 2, 1], 'item-2392': [68, 10, 2, 1], 'item-2391': [68, 11, 2, 1], 'item-2390': [68, 12, 2, 1], 'item-239': [68, 13, 2, 1], 'item-2389': [68, 14, 2, 1], 'item-2388': [68, 15, 2, 1], 'item-2387': [68, 16, 2, 1], 'item-2386': [68, 17, 2, 1], 'item-2385': [68, 18, 2, 1], 'item-2384': [68, 19, 2, 1], 'item-2383': [68, 20, 2, 1], 'item-2382': [68, 21, 2, 1], 'item-2381': [68, 22, 2, 1], 'item-2380': [68, 23, 2, 1], 'item-238': [68, 24, 2, 1], 'item-2379': [68, 25, 2, 1], 'item-2378': [68, 26, 2, 1], 'item-2377': [68, 27, 2, 1], 'item-2376': [68, 28, 2, 1], 'item-2375': [68, 29, 2, 1], 'item-2374': [68, 30, 2, 1], 'item-2373': [68, 31, 2, 1], 'item-2372': [68, 32, 2, 1], 'item-2371': [68, 33, 2, 1], 'item-2370': [68, 34, 2, 1], 'item-237': [68, 35, 2, 1], 'item-2369': [68, 36, 2, 1], 'item-2368': [68, 37, 2, 1], 'item-2367': [68, 38, 2, 1], 'item-2366': [68, 39, 2, 1], 'item-2365': [68, 40, 2, 1], 'item-2364': [68, 41, 2, 1], 'item-2363': [68, 42, 2, 1], 'item-2362': [68, 43, 2, 1], 'item-2361': [68, 44, 2, 1], 'item-2360': [68, 45, 2, 1], 'item-236': [68, 46, 2, 1], 'item-2359': [68, 47, 2, 1], 'item-2358': [68, 48, 2, 1], 'item-2357': [68, 49, 2, 1], 'item-2356': [68, 50, 2, 1], 'item-2355': [68, 51, 2, 1], 'item-2354': [68, 52, 2, 1], 'item-2353': [68, 53, 2, 1], 'item-2352': [68, 54, 2, 1], 'item-2351': [68, 55, 2, 1], 'item-2350': [68, 56, 2, 1], 'item-235': [68, 57, 2, 1], 'item-2349': [68, 58, 2, 1], 'item-2348': [68, 59, 2, 1], 'item-2347': [70, 0, 2, 1], 'item-2346': [70, 1, 2, 1], 'item-2345': [70, 2, 2, 1], 'item-2344': [70, 3, 2, 1], 'item-2343': [70, 4, 2, 1], 'item-2342': [70, 5, 2, 1], 'item-2341': [70, 6, 2, 1], 'item-2340': [70, 7, 2, 1], 'item-234': [70, 8, 2, 1], 'item-2339': [70, 9, 2, 1], 'item-2338': [70, 10, 2, 1], 'item-2337': [70, 11, 2, 1], 'item-2336': [70, 12, 2, 1], 'item-2335': [70, 13, 2, 1], 'item-2334': [70, 14, 2, 1], 'item-2333': [70, 15, 2, 1], 'item-2332': [70, 16, 2, 1], 'item-2331': [70, 17, 2, 1], 'item-2330': [70, 18, 2, 1], 'item-233': [70, 19, 2, 1], 'item-2329': [70, 20, 2, 1], 'item-2328': [70, 21, 2, 1], 'item-2327': [70, 22, 2, 1], 'item-2326': [70, 23, 2, 1], 'item-2325': [70, 24, 2, 1], 'item-2324': [70, 25, 2, 1], 'item-2323': [70, 26, 2, 1], 'item-2322': [70, 27, 2, 1], 'item-2321': [70, 28, 2, 1], 'item-2320': [70, 29, 2, 1], 'item-232': [70, 30, 2, 1], 'item-2319': [70, 31, 2, 1], 'item-2318': [70, 32, 2, 1], 'item-2317': [70, 33, 2, 1], 'item-2316': [70, 34, 2, 1], 'item-2315': [70, 35, 2, 1], 'item-2314': [70, 36, 2, 1], 'item-2313': [70, 37, 2, 1], 'item-2312': [70, 38, 2, 1], 'item-2311': [70, 39, 2, 1], 'item-2310': [70, 40, 2, 1], 'item-231': [70, 41, 2, 1], 'item-2309': [70, 42, 2, 1], 'item-2308': [70, 43, 2, 1], 'item-2307': [70, 44, 2, 1], 'item-2306': [70, 45, 2, 1], 'item-2305': [70, 46, 2, 1], 'item-2304': [70, 47, 2, 1], 'item-2303': [70, 48, 2, 1], 'item-2302': [70, 49, 2, 1], 'item-2301': [70, 50, 2, 1], 'item-2300': [70, 51, 2, 1], 'item-230': [70, 52, 2, 1], 'item-23': [70, 53, 2, 1], 'item-2299': [70, 54, 2, 1], 'item-2298': [70, 55, 2, 1], 'item-2297': [70, 56, 2, 1], 'item-2296': [70, 57, 2, 1], 'item-2295': [70, 58, 2, 1], 'item-2294': [70, 59, 2, 1], 'item-2293': [72, 0, 2, 1], 'item-2292': [72, 1, 2, 1], 'item-2291': [72, 2, 2, 1], 'item-2290': [72, 3, 2, 1], 'item-229': [72, 4, 2, 1], 'item-2289': [72, 5, 2, 1], 'item-2288': [72, 6, 2, 1], 'item-2287': [72, 7, 2, 1], 'item-2286': [72, 8, 2, 1], 'item-2285': [72, 9, 2, 1], 'item-2284': [72, 10, 2, 1], 'item-2283': [72, 11, 2, 1], 'item-2282': [72, 12, 2, 1], 'item-2281': [72, 13, 2, 1], 'item-2280': [72, 14, 2, 1], 'item-228': [72, 15, 2, 1], 'item-2279': [72, 16, 2, 1], 'item-2278': [72, 17, 2, 1], 'item-2277': [72, 18, 2, 1], 'item-2276': [72, 19, 2, 1], 'item-2275': [72, 20, 2, 1], 'item-2274': [72, 21, 2, 1], 'item-2273': [72, 22, 2, 1], 'item-2272': [72, 23, 2, 1], 'item-2271': [72, 24, 2, 1], 'item-2270': [72, 25, 2, 1], 'item-227': [72, 26, 2, 1], 'item-2269': [72, 27, 2, 1], 'item-2268': [72, 28, 2, 1], 'item-2267': [72, 29, 2, 1], 'item-2266': [72, 30, 2, 1], 'item-2265': [72, 31, 2, 1], 'item-2264': [72, 32, 2, 1], 'item-2263': [72, 33, 2, 1], 'item-2262': [72, 34, 2, 1], 'item-2261': [72, 35, 2, 1], 'item-2260': [72, 36, 2, 1], 'item-226': [72, 37, 2, 1], 'item-2259': [72, 38, 2, 1], 'item-2258': [72, 39, 2, 1], 'item-2257': [72, 40, 2, 1], 'item-2256': [72, 41, 2, 1], 'item-2255': [72, 42, 2, 1], 'item-2254': [72, 43, 2, 1], 'item-2253': [72, 44, 2, 1], 'item-2252': [72, 45, 2, 1], 'item-2251': [72, 46, 2, 1], 'item-2250': [72, 47, 2, 1], 'item-225': [72, 48, 2, 1], 'item-2249': [72, 49, 2, 1], 'item-2248': [72, 50, 2, 1], 'item-2247': [72, 51, 2, 1], 'item-2246': [72, 52, 2, 1], 'item-2245': [72, 53, 2, 1], 'item-2244': [72, 54, 2, 1], 'item-2243': [72, 55, 2, 1], 'item-2242': [72, 56, 2, 1], 'item-2241': [72, 57, 2, 1], 'item-2240': [72, 58, 2, 1], 'item-224': [72, 59, 2, 1], 'item-2239': [74, 0, 2, 1], 'item-2238': [74, 1, 2, 1], 'item-2237': [74, 2, 2, 1], 'item-2236': [74, 3, 2, 1], 'item-2235': [74, 4, 2, 1], 'item-2234': [74, 5, 2, 1], 'item-2233': [74, 6, 2, 1], 'item-2232': [74, 7, 2, 1], 'item-2231': [74, 8, 2, 1], 'item-2230': [74, 9, 2, 1], 'item-223': [74, 10, 2, 1], 'item-2229': [74, 11, 2, 1], 'item-2228': [74, 12, 2, 1], 'item-2227': [74, 13, 2, 1], 'item-2226': [74, 14, 2, 1], 'item-2225': [74, 15, 2, 1], 'item-2224': [74, 16, 2, 1], 'item-2223': [74, 17, 2, 1], 'item-2222': [74, 18, 2, 1], 'item-2221': [74, 19, 2, 1], 'item-2220': [74, 20, 2, 1], 'item-222': [74, 21, 2, 1], 'item-2219': [74, 22, 2, 1], 'item-2218': [74, 23, 2, 1], 'item-2217': [74, 24, 2, 1], 'item-2216': [74, 25, 2, 1], 'item-2215': [74, 26, 2, 1], 'item-2214': [74, 27, 2, 1], 'item-2213': [74, 28, 2, 1], 'item-2212': [74, 29, 2, 1], 'item-2211': [74, 30, 2, 1], 'item-2210': [74, 31, 2, 1], 'item-221': [74, 32, 2, 1], 'item-2209': [74, 33, 2, 1], 'item-2208': [74, 34, 2, 1], 'item-2207': [74, 35, 2, 1], 'item-2206': [74, 36, 2, 1], 'item-2205': [74, 37, 2, 1], 'item-2204': [74, 38, 2, 1], 'item-2203': [74, 39, 2, 1], 'item-2202': [74, 40, 2, 1], 'item-2201': [74, 41, 2, 1], 'item-2200': [74, 42, 2, 1], 'item-220': [74, 43, 2, 1], 'item-22': [74, 44, 2, 1], 'item-2199': [74, 45, 2, 1], 'item-2198': [74, 46, 2, 1], 'item-2197': [74, 47, 2, 1], 'item-2196': [74, 48, 2, 1], 'item-2195': [74, 49, 2, 1], 'item-2194': [74, 50, 2, 1], 'item-2193': [74, 51, 2, 1], 'item-2192': [74, 52, 2, 1], 'item-2191': [74, 53, 2, 1], 'item-2190': [74, 54, 2, 1], 'item-219': [74, 55, 2, 1], 'item-2189': [74, 56, 2, 1], 'item-2188': [74, 57, 2, 1], 'item-2187': [74, 58, 2, 1], 'item-2186': [74, 59, 2, 1], 'item-2185': [76, 0, 2, 1], 'item-2184': [76, 1, 2, 1], 'item-2183': [76, 2, 2, 1], 'item-2182': [76, 3, 2, 1], 'item-2181': [76, 4, 2, 1], 'item-2180': [76, 5, 2, 1], 'item-218': [76, 6, 2, 1], 'item-2179': [76, 7, 2, 1], 'item-2178': [76, 8, 2, 1], 'item-2177': [76, 9, 2, 1], 'item-2176': [76, 10, 2, 1], 'item-2175': [76, 11, 2, 1], 'item-2174': [76, 12, 2, 1], 'item-2173': [76, 13, 2, 1], 'item-2172': [76, 14, 2, 1], 'item-2171': [76, 15, 2, 1], 'item-2170': [76, 16, 2, 1], 'item-217': [76, 17, 2, 1], 'item-2169': [76, 18, 2, 1], 'item-2168': [76, 19, 2, 1], 'item-2167': [76, 20, 2, 1], 'item-2166': [76, 21, 2, 1], 'item-2165': [76, 22, 2, 1], 'item-2164': [76, 23, 2, 1], 'item-2163': [76, 24, 2, 1], 'item-2162': [76, 25, 2, 1], 'item-2161': [76, 26, 2, 1], 'item-2160': [76, 27, 2, 1], 'item-216': [76, 28, 2, 1], 'item-2159': [76, 29, 2, 1], 'item-2158': [76, 30, 2, 1], 'item-2157': [76, 31, 2, 1], 'item-2156': [76, 32, 2, 1], 'item-2155': [76, 33, 2, 1], 'item-2154': [76, 34, 2, 1], 'item-2153': [76, 35, 2, 1], 'item-2152': [76, 36, 2, 1], 'item-2151': [76, 37, 2, 1], 'item-2150': [76, 38, 2, 1], 'item-215': [76, 39, 2, 1], 'item-2149': [76, 40, 2, 1], 'item-2148': [76, 41, 2, 1], 'item-2147': [76, 42, 2, 1], 'item-2146': [76, 43, 2, 1], 'item-2145': [76, 44, 2, 1], 'item-2144': [76, 45, 2, 1], 'item-2143': [76, 46, 2, 1], 'item-2142': [76, 47, 2, 1], 'item-2141': [76, 48, 2, 1], 'item-2140': [76, 49, 2, 1], 'item-214': [76, 50, 2, 1], 'item-2139': [76, 51, 2, 1], 'item-2138': [76, 52, 2, 1], 'item-2137': [76, 53, 2, 1], 'item-2136': [76, 54, 2, 1], 'item-2135': [76, 55, 2, 1], 'item-2134': [76, 56, 2, 1], 'item-2133': [76, 57, 2, 1], 'item-2132': [76, 58, 2, 1], 'item-2131': [76, 59, 2, 1], 'item-2130': [78, 0, 2, 1], 'item-213': [78, 1, 2, 1], 'item-2129': [78, 2, 2, 1], 'item-2128': [78, 3, 2, 1], 'item-2127': [78, 4, 2, 1], 'item-2126': [78, 5, 2, 1], 'item-2125': [78, 6, 2, 1], 'item-2124': [78, 7, 2, 1], 'item-2123': [78, 8, 2, 1], 'item-2122': [78, 9, 2, 1], 'item-2121': [78, 10, 2, 1], 'item-2120': [78, 11, 2, 1], 'item-212': [78, 12, 2, 1], 'item-2119': [78, 13, 2, 1], 'item-2118': [78, 14, 2, 1], 'item-2117': [78, 15, 2, 1], 'item-2116': [78, 16, 2, 1], 'item-2115': [78, 17, 2, 1], 'item-2114': [78, 18, 2, 1], 'item-2113': [78, 19, 2, 1], 'item-2112': [78, 20, 2, 1], 'item-2111': [78, 21, 2, 1], 'item-2110': [78, 22, 2, 1], 'item-211': [78, 23, 2, 1], 'item-2109': [78, 24, 2, 1], 'item-2108': [78, 25, 2, 1], 'item-2107': [78, 26, 2, 1], 'item-2106': [78, 27, 2, 1], 'item-2105': [78, 28, 2, 1], 'item-2104': [78, 29, 2, 1], 'item-2103': [78, 30, 2, 1], 'item-2102': [78, 31, 2, 1], 'item-2101': [78, 32, 2, 1], 'item-2100': [78, 33, 2, 1], 'item-210': [78, 34, 2, 1], 'item-21': [78, 35, 2, 1], 'item-2099': [78, 36, 2, 1], 'item-2098': [78, 37, 2, 1], 'item-2097': [78, 38, 2, 1], 'item-2096': [78, 39, 2, 1], 'item-2095': [78, 40, 2, 1], 'item-2094': [78, 41, 2, 1], 'item-2093': [78, 42, 2, 1], 'item-2092': [78, 43, 2, 1], 'item-2091': [78, 44, 2, 1], 'item-2090': [78, 45, 2, 1], 'item-209': [78, 46, 2, 1], 'item-2089': [78, 47, 2, 1], 'item-2088': [78, 48, 2, 1], 'item-2087': [78, 49, 2, 1], 'item-2086': [78, 50, 2, 1], 'item-2085': [78, 51, 2, 1], 'item-2084': [78, 52, 2, 1], 'item-2083': [78, 53, 2, 1], 'item-2082': [78, 54, 2, 1], 'item-2081': [78, 55, 2, 1], 'item-2080': [78, 56, 2, 1], 'item-208': [78, 57, 2, 1], 'item-2079': [78, 58, 2, 1], 'item-2078': [78, 59, 2, 1], 'item-2077': [80, 0, 2, 1], 'item-2076': [80, 1, 2, 1], 'item-2075': [80, 2, 2, 1], 'item-2074': [80, 3, 2, 1], 'item-2073': [80, 4, 2, 1], 'item-2072': [80, 5, 2, 1], 'item-2071': [80, 6, 2, 1], 'item-2070': [80, 7, 2, 1], 'item-207': [80, 8, 2, 1], 'item-2069': [80, 9, 2, 1], 'item-2068': [80, 10, 2, 1], 'item-2067': [80, 11, 2, 1], 'item-2066': [80, 12, 2, 1], 'item-2065': [80, 13, 2, 1], 'item-2064': [80, 14, 2, 1], 'item-2063': [80, 15, 2, 1], 'item-2062': [80, 16, 2, 1], 'item-2061': [80, 17, 2, 1], 'item-2060': [80, 18, 2, 1], 'item-206': [80, 19, 2, 1], 'item-2059': [80, 20, 2, 1], 'item-2058': [80, 21, 2, 1], 'item-2057': [80, 22, 2, 1], 'item-2056': [80, 23, 2, 1], 'item-2055': [80, 24, 2, 1], 'item-2054': [80, 25, 2, 1], 'item-2053': [80, 26, 2, 1], 'item-2052': [80, 27, 2, 1], 'item-2051': [80, 28, 2, 1], 'item-2050': [80, 29, 2, 1], 'item-205': [80, 30, 2, 1], 'item-2049': [80, 31, 2, 1], 'item-2048': [80, 32, 2, 1], 'item-2047': [80, 33, 2, 1], 'item-2046': [80, 34, 2, 1], 'item-2045': [80, 35, 2, 1], 'item-2044': [80, 36, 2, 1], 'item-2043': [80, 37, 2, 1], 'item-2042': [80, 38, 2, 1], 'item-2041': [80, 39, 2, 1], 'item-2040': [80, 40, 2, 1], 'item-204': [80, 41, 2, 1], 'item-2039': [80, 42, 2, 1], 'item-2038': [80, 43, 2, 1], 'item-2037': [80, 44, 2, 1], 'item-2036': [80, 45, 2, 1], 'item-2035': [80, 46, 2, 1], 'item-2034': [80, 47, 2, 1], 'item-2033': [80, 48, 2, 1], 'item-2032': [80, 49, 2, 1], 'item-2031': [80, 50, 2, 1], 'item-2030': [80, 51, 2, 1], 'item-203': [80, 52, 2, 1], 'item-2029': [80, 53, 2, 1], 'item-2028': [80, 54, 2, 1], 'item-2027': [80, 55, 2, 1], 'item-2026': [80, 56, 2, 1], 'item-2025': [80, 57, 2, 1], 'item-2024': [80, 58, 2, 1], 'item-2023': [80, 59, 2, 1], 'item-2022': [82, 0, 2, 1], 'item-2021': [82, 1, 2, 1], 'item-2020': [82, 2, 2, 1], 'item-202': [82, 3, 2, 1], 'item-2019': [82, 4, 2, 1], 'item-2018': [82, 5, 2, 1], 'item-2017': [82, 6, 2, 1], 'item-2016': [82, 7, 2, 1], 'item-2015': [82, 8, 2, 1], 'item-2014': [82, 9, 2, 1], 'item-2013': [82, 10, 2, 1], 'item-2012': [82, 11, 2, 1], 'item-2011': [82, 12, 2, 1], 'item-2010': [82, 13, 2, 1], 'item-201': [82, 14, 2, 1], 'item-2009': [82, 15, 2, 1], 'item-2008': [82, 16, 2, 1], 'item-2007': [82, 17, 2, 1], 'item-2006': [82, 18, 2, 1], 'item-2005': [82, 19, 2, 1], 'item-2004': [82, 20, 2, 1], 'item-2003': [82, 21, 2, 1], 'item-2002': [82, 22, 2, 1], 'item-2001': [82, 23, 2, 1], 'item-2000': [82, 24, 2, 1], 'item-200': [82, 25, 2, 1], 'item-20': [82, 26, 2, 1], 'item-2': [82, 27, 2, 1], 'item-1999': [82, 28, 2, 1], 'item-1998': [82, 29, 2, 1], 'item-1997': [82, 30, 2, 1], 'item-1996': [82, 31, 2, 1], 'item-1995': [82, 32, 2, 1], 'item-1994': [82, 33, 2, 1], 'item-1993': [82, 34, 2, 1], 'item-1992': [82, 35, 2, 1], 'item-1991': [82, 36, 2, 1], 'item-1990': [82, 37, 2, 1], 'item-199': [82, 38, 2, 1], 'item-1989': [82, 39, 2, 1], 'item-1988': [82, 40, 2, 1], 'item-1987': [82, 41, 2, 1], 'item-1986': [82, 42, 2, 1], 'item-1985': [82, 43, 2, 1], 'item-1984': [82, 44, 2, 1], 'item-1983': [82, 45, 2, 1], 'item-1982': [82, 46, 2, 1], 'item-1981': [82, 47, 2, 1], 'item-1980': [82, 48, 2, 1], 'item-198': [82, 49, 2, 1], 'item-1979': [82, 50, 2, 1], 'item-1978': [82, 51, 2, 1], 'item-1977': [82, 52, 2, 1], 'item-1976': [82, 53, 2, 1], 'item-1975': [82, 54, 2, 1], 'item-1974': [82, 55, 2, 1], 'item-1973': [82, 56, 2, 1], 'item-1972': [82, 57, 2, 1], 'item-1971': [82, 58, 2, 1], 'item-1970': [82, 59, 2, 1], 'item-197': [84, 0, 2, 1], 'item-1969': [84, 1, 2, 1], 'item-1968': [84, 2, 2, 1], 'item-1967': [84, 3, 2, 1], 'item-1966': [84, 4, 2, 1], 'item-1965': [84, 5, 2, 1], 'item-1964': [84, 6, 2, 1], 'item-1963': [84, 7, 2, 1], 'item-1962': [84, 8, 2, 1], 'item-1961': [84, 9, 2, 1], 'item-1960': [84, 10, 2, 1], 'item-196': [84, 11, 2, 1], 'item-1959': [84, 12, 2, 1], 'item-1958': [84, 13, 2, 1], 'item-1957': [84, 14, 2, 1], 'item-1956': [84, 15, 2, 1], 'item-1955': [84, 16, 2, 1], 'item-1954': [84, 17, 2, 1], 'item-1953': [84, 18, 2, 1], 'item-1952': [84, 19, 2, 1], 'item-1951': [84, 20, 2, 1], 'item-1950': [84, 21, 2, 1], 'item-195': [84, 22, 2, 1], 'item-1949': [84, 23, 2, 1], 'item-1948': [84, 24, 2, 1], 'item-1947': [84, 25, 2, 1], 'item-1946': [84, 26, 2, 1], 'item-1945': [84, 27, 2, 1], 'item-1944': [84, 28, 2, 1], 'item-1943': [84, 29, 2, 1], 'item-1942': [84, 30, 2, 1], 'item-1941': [84, 31, 2, 1], 'item-1940': [84, 32, 2, 1], 'item-194': [84, 33, 2, 1], 'item-1939': [84, 34, 2, 1], 'item-1938': [84, 35, 2, 1], 'item-1937': [84, 36, 2, 1], 'item-1936': [84, 37, 2, 1], 'item-1935': [84, 38, 2, 1], 'item-1934': [84, 39, 2, 1], 'item-1933': [84, 40, 2, 1], 'item-1932': [84, 41, 2, 1], 'item-1931': [84, 42, 2, 1], 'item-1930': [84, 43, 2, 1], 'item-193': [84, 44, 2, 1], 'item-1929': [84, 45, 2, 1], 'item-1928': [84, 46, 2, 1], 'item-1927': [84, 47, 2, 1], 'item-1926': [84, 48, 2, 1], 'item-1925': [84, 49, 2, 1], 'item-1924': [84, 50, 2, 1], 'item-1923': [84, 51, 2, 1], 'item-1922': [84, 52, 2, 1], 'item-1921': [84, 53, 2, 1], 'item-1920': [84, 54, 2, 1], 'item-192': [84, 55, 2, 1], 'item-1919': [84, 56, 2, 1], 'item-1918': [84, 57, 2, 1], 'item-1917': [84, 58, 2, 1], 'item-1916': [84, 59, 2, 1], 'item-1915': [86, 0, 2, 1], 'item-1914': [86, 1, 2, 1], 'item-1913': [86, 2, 2, 1], 'item-1912': [86, 3, 2, 1], 'item-1911': [86, 4, 2, 1], 'item-1910': [86, 5, 2, 1], 'item-191': [86, 6, 2, 1], 'item-1909': [86, 7, 2, 1], 'item-1908': [86, 8, 2, 1], 'item-1907': [86, 9, 2, 1], 'item-1906': [86, 10, 2, 1], 'item-1905': [86, 11, 2, 1], 'item-1904': [86, 12, 2, 1], 'item-1903': [86, 13, 2, 1], 'item-1902': [86, 14, 2, 1], 'item-1901': [86, 15, 2, 1], 'item-1900': [86, 16, 2, 1], 'item-190': [86, 17, 2, 1], 'item-19': [86, 18, 2, 1], 'item-1899': [86, 19, 2, 1], 'item-1898': [86, 20, 2, 1], 'item-1897': [86, 21, 2, 1], 'item-1896': [86, 22, 2, 1], 'item-1895': [86, 23, 2, 1], 'item-1894': [86, 24, 2, 1], 'item-1893': [86, 25, 2, 1], 'item-1892': [86, 26, 2, 1], 'item-1891': [86, 27, 2, 1], 'item-1890': [86, 28, 2, 1], 'item-189': [86, 29, 2, 1], 'item-1889': [86, 30, 2, 1], 'item-1888': [86, 31, 2, 1], 'item-1887': [86, 32, 2, 1], 'item-1886': [86, 33, 2, 1], 'item-1885': [86, 34, 2, 1], 'item-1884': [86, 35, 2, 1], 'item-1883': [86, 36, 2, 1], 'item-1882': [86, 37, 2, 1], 'item-1881': [86, 38, 2, 1], 'item-1880': [86, 39, 2, 1], 'item-188': [86, 40, 2, 1], 'item-1879': [86, 41, 2, 1], 'item-1878': [86, 42, 2, 1], 'item-1877': [86, 43, 2, 1], 'item-1876': [86, 44, 2, 1], 'item-1875': [86, 45, 2, 1], 'item-1874': [86, 46, 2, 1], 'item-1873': [86, 47, 2, 1], 'item-1872': [86, 48, 2, 1], 'item-1871': [86, 49, 2, 1], 'item-1870': [86, 50, 2, 1], 'item-187': [86, 51, 2, 1], 'item-1869': [86, 52, 2, 1], 'item-1868': [86, 53, 2, 1], 'item-1867': [86, 54, 2, 1], 'item-1866': [86, 55, 2, 1], 'item-1865': [86, 56, 2, 1], 'item-1864': [86, 57, 2, 1], 'item-1863': [86, 58, 2, 1], 'item-1862': [86, 59, 2, 1], 'item-1861': [88, 0, 2, 1], 'item-1860': [88, 1, 2, 1], 'item-186': [88, 2, 2, 1], 'item-1859': [88, 3, 2, 1], 'item-1858': [88, 4, 2, 1], 'item-1857': [88, 5, 2, 1], 'item-1856': [88, 6, 2, 1], 'item-1855': [88, 7, 2, 1], 'item-1854': [88, 8, 2, 1], 'item-1853': [88, 9, 2, 1], 'item-1852': [88, 10, 2, 1], 'item-1851': [88, 11, 2, 1], 'item-1850': [88, 12, 2, 1], 'item-185': [88, 13, 2, 1], 'item-1849': [88, 14, 2, 1], 'item-1848': [88, 15, 2, 1], 'item-1847': [88, 16, 2, 1], 'item-1846': [88, 17, 2, 1], 'item-1845': [88, 18, 2, 1], 'item-1844': [88, 19, 2, 1], 'item-1843': [88, 20, 2, 1], 'item-1842': [88, 21, 2, 1], 'item-1841': [88, 22, 2, 1], 'item-1840': [88, 23, 2, 1], 'item-184': [88, 24, 2, 1], 'item-1839': [88, 25, 2, 1], 'item-1838': [88, 26, 2, 1], 'item-1837': [88, 27, 2, 1], 'item-1836': [88, 28, 2, 1], 'item-1835': [88, 29, 2, 1], 'item-1834': [88, 30, 2, 1], 'item-1833': [88, 31, 2, 1], 'item-1832': [88, 32, 2, 1], 'item-1831': [88, 33, 2, 1], 'item-1830': [88, 34, 2, 1], 'item-183': [88, 35, 2, 1], 'item-1829': [88, 36, 2, 1], 'item-1828': [88, 37, 2, 1], 'item-1827': [88, 38, 2, 1], 'item-1826': [88, 39, 2, 1], 'item-1825': [88, 40, 2, 1], 'item-1824': [88, 41, 2, 1], 'item-1823': [88, 42, 2, 1], 'item-1822': [88, 43, 2, 1], 'item-1821': [88, 44, 2, 1], 'item-1820': [88, 45, 2, 1], 'item-182': [88, 46, 2, 1], 'item-1819': [88, 47, 2, 1], 'item-1818': [88, 48, 2, 1], 'item-1817': [88, 49, 2, 1], 'item-1816': [88, 50, 2, 1], 'item-1815': [88, 51, 2, 1], 'item-1814': [88, 52, 2, 1], 'item-1813': [88, 53, 2, 1], 'item-1812': [88, 54, 2, 1], 'item-1811': [88, 55, 2, 1], 'item-1810': [88, 56, 2, 1], 'item-181': [88, 57, 2, 1], 'item-1809': [88, 58, 2, 1], 'item-1808': [88, 59, 2, 1], 'item-1807': [90, 0, 2, 1], 'item-1806': [90, 1, 2, 1], 'item-1805': [90, 2, 2, 1], 'item-1804': [90, 3, 2, 1], 'item-1803': [90, 4, 2, 1], 'item-1802': [90, 5, 2, 1], 'item-1801': [90, 6, 2, 1], 'item-1800': [90, 7, 2, 1], 'item-180': [90, 8, 2, 1], 'item-18': [90, 9, 2, 1], 'item-1799': [90, 10, 2, 1], 'item-1798': [90, 11, 2, 1], 'item-1797': [90, 12, 2, 1], 'item-1796': [90, 13, 2, 1], 'item-1795': [90, 14, 2, 1], 'item-1794': [90, 15, 2, 1], 'item-1793': [90, 16, 2, 1], 'item-1792': [90, 17, 2, 1], 'item-1791': [90, 18, 2, 1], 'item-1790': [90, 19, 2, 1], 'item-179': [90, 20, 2, 1], 'item-1789': [90, 21, 2, 1], 'item-1788': [90, 22, 2, 1], 'item-1787': [90, 23, 2, 1], 'item-1786': [90, 24, 2, 1], 'item-1785': [90, 25, 2, 1], 'item-1784': [90, 26, 2, 1], 'item-1783': [90, 27, 2, 1], 'item-1782': [90, 28, 2, 1], 'item-1781': [90, 29, 2, 1], 'item-1780': [90, 30, 2, 1], 'item-178': [90, 31, 2, 1], 'item-1779': [90, 32, 2, 1], 'item-1778': [90, 33, 2, 1], 'item-1777': [90, 34, 2, 1], 'item-1776': [90, 35, 2, 1], 'item-1775': [90, 36, 2, 1], 'item-1774': [90, 37, 2, 1], 'item-1773': [90, 38, 2, 1], 'item-1772': [90, 39, 2, 1], 'item-1771': [90, 40, 2, 1], 'item-1770': [90, 41, 2, 1], 'item-177': [90, 42, 2, 1], 'item-1769': [90, 43, 2, 1], 'item-1768': [90, 44, 2, 1], 'item-1767': [90, 45, 2, 1], 'item-1766': [90, 46, 2, 1], 'item-1765': [90, 47, 2, 1], 'item-1764': [90, 48, 2, 1], 'item-1763': [90, 49, 2, 1], 'item-1762': [90, 50, 2, 1], 'item-1761': [90, 51, 2, 1], 'item-1760': [90, 52, 2, 1], 'item-176': [90, 53, 2, 1], 'item-1759': [90, 54, 2, 1], 'item-1758': [90, 55, 2, 1], 'item-1757': [90, 56, 2, 1], 'item-1756': [90, 57, 2, 1], 'item-1755': [90, 58, 2, 1], 'item-1754': [90, 59, 2, 1], 'item-1753': [92, 0, 2, 1], 'item-1752': [92, 1, 2, 1], 'item-1751': [92, 2, 2, 1], 'item-1750': [92, 3, 2, 1], 'item-175': [92, 4, 2, 1], 'item-1749': [92, 5, 2, 1], 'item-1748': [92, 6, 2, 1], 'item-1747': [92, 7, 2, 1], 'item-1746': [92, 8, 2, 1], 'item-1745': [92, 9, 2, 1], 'item-1744': [92, 10, 2, 1], 'item-1743': [92, 11, 2, 1], 'item-1742': [92, 12, 2, 1], 'item-1741': [92, 13, 2, 1], 'item-1740': [92, 14, 2, 1], 'item-174': [92, 15, 2, 1], 'item-1739': [92, 16, 2, 1], 'item-1738': [92, 17, 2, 1], 'item-1737': [92, 18, 2, 1], 'item-1736': [92, 19, 2, 1], 'item-1735': [92, 20, 2, 1], 'item-1734': [92, 21, 2, 1], 'item-1733': [92, 22, 2, 1], 'item-1732': [92, 23, 2, 1], 'item-1731': [92, 24, 2, 1], 'item-1730': [92, 25, 2, 1], 'item-173': [92, 26, 2, 1], 'item-1729': [92, 27, 2, 1], 'item-1728': [92, 28, 2, 1], 'item-1727': [92, 29, 2, 1], 'item-1726': [92, 30, 2, 1], 'item-1725': [92, 31, 2, 1], 'item-1724': [92, 32, 2, 1], 'item-1723': [92, 33, 2, 1], 'item-1722': [92, 34, 2, 1], 'item-1721': [92, 35, 2, 1], 'item-1720': [92, 36, 2, 1], 'item-172': [92, 37, 2, 1], 'item-1719': [92, 38, 2, 1], 'item-1718': [92, 39, 2, 1], 'item-1717': [92, 40, 2, 1], 'item-1716': [92, 41, 2, 1], 'item-1715': [92, 42, 2, 1], 'item-1714': [92, 43, 2, 1], 'item-1713': [92, 44, 2, 1], 'item-1712': [92, 45, 2, 1], 'item-1711': [92, 46, 2, 1], 'item-1710': [92, 47, 2, 1], 'item-171': [92, 48, 2, 1], 'item-1709': [92, 49, 2, 1], 'item-1708': [92, 50, 2, 1], 'item-1707': [92, 51, 2, 1], 'item-1706': [92, 52, 2, 1], 'item-1705': [92, 53, 2, 1], 'item-1704': [92, 54, 2, 1], 'item-1703': [92, 55, 2, 1], 'item-1702': [92, 56, 2, 1], 'item-1701': [92, 57, 2, 1], 'item-1700': [92, 58, 2, 1], 'item-170': [92, 59, 2, 1], 'item-17': [94, 0, 2, 1], 'item-1699': [94, 1, 2, 1], 'item-1698': [94, 2, 2, 1], 'item-1697': [94, 3, 2, 1], 'item-1696': [94, 4, 2, 1], 'item-1695': [94, 5, 2, 1], 'item-1694': [94, 6, 2, 1], 'item-1693': [94, 7, 2, 1], 'item-1692': [94, 8, 2, 1], 'item-1691': [94, 9, 2, 1], 'item-1690': [94, 10, 2, 1], 'item-169': [94, 11, 2, 1], 'item-1689': [94, 12, 2, 1], 'item-1688': [94, 13, 2, 1], 'item-1687': [94, 14, 2, 1], 'item-1686': [94, 15, 2, 1], 'item-1685': [94, 16, 2, 1], 'item-1684': [94, 17, 2, 1], 'item-1683': [94, 18, 2, 1], 'item-1682': [94, 19, 2, 1], 'item-1681': [94, 20, 2, 1], 'item-1680': [94, 21, 2, 1], 'item-168': [94, 22, 2, 1], 'item-1679': [94, 23, 2, 1], 'item-1678': [94, 24, 2, 1], 'item-1677': [94, 25, 2, 1], 'item-1676': [94, 26, 2, 1], 'item-1675': [94, 27, 2, 1], 'item-1674': [94, 28, 2, 1], 'item-1673': [94, 29, 2, 1], 'item-1672': [94, 30, 2, 1], 'item-1671': [94, 31, 2, 1], 'item-1670': [94, 32, 2, 1], 'item-167': [94, 33, 2, 1], 'item-1669': [94, 34, 2, 1], 'item-1668': [94, 35, 2, 1], 'item-1667': [94, 36, 2, 1], 'item-1666': [94, 37, 2, 1], 'item-1665': [94, 38, 2, 1], 'item-1664': [94, 39, 2, 1], 'item-1663': [94, 40, 2, 1], 'item-1662': [94, 41, 2, 1], 'item-1661': [94, 42, 2, 1], 'item-1660': [94, 43, 2, 1], 'item-166': [94, 44, 2, 1], 'item-1659': [94, 45, 2, 1], 'item-1658': [94, 46, 2, 1], 'item-1657': [94, 47, 2, 1], 'item-1656': [94, 48, 2, 1], 'item-1655': [94, 49, 2, 1], 'item-1654': [94, 50, 2, 1], 'item-1653': [94, 51, 2, 1], 'item-1652': [94, 52, 2, 1], 'item-1651': [94, 53, 2, 1], 'item-1650': [94, 54, 2, 1], 'item-165': [94, 55, 2, 1], 'item-1649': [94, 56, 2, 1], 'item-1648': [94, 57, 2, 1], 'item-1647': [94, 58, 2, 1], 'item-1646': [94, 59, 2, 1], 'item-1645': [96, 0, 2, 1], 'item-1644': [96, 1, 2, 1], 'item-1643': [96, 2, 2, 1], 'item-1642': [96, 3, 2, 1], 'item-1641': [96, 4, 2, 1], 'item-1640': [96, 5, 2, 1], 'item-164': [96, 6, 2, 1], 'item-1639': [96, 7, 2, 1], 'item-1638': [96, 8, 2, 1], 'item-1637': [96, 9, 2, 1], 'item-1636': [96, 10, 2, 1], 'item-1635': [96, 11, 2, 1], 'item-1634': [96, 12, 2, 1], 'item-1633': [96, 13, 2, 1], 'item-1632': [96, 14, 2, 1], 'item-1631': [96, 15, 2, 1], 'item-1630': [96, 16, 2, 1], 'item-163': [96, 17, 2, 1], 'item-1629': [96, 18, 2, 1], 'item-1628': [96, 19, 2, 1], 'item-1627': [96, 20, 2, 1], 'item-1626': [96, 21, 2, 1], 'item-1625': [96, 22, 2, 1], 'item-1624': [96, 23, 2, 1], 'item-1623': [96, 24, 2, 1], 'item-1622': [96, 25, 2, 1], 'item-1621': [96, 26, 2, 1], 'item-1620': [96, 27, 2, 1], 'item-162': [96, 28, 2, 1], 'item-1619': [96, 29, 2, 1], 'item-1618': [96, 30, 2, 1], 'item-1617': [96, 31, 2, 1], 'item-1616': [96, 32, 2, 1], 'item-1615': [96, 33, 2, 1], 'item-1614': [96, 34, 2, 1], 'item-1613': [96, 35, 2, 1], 'item-1612': [96, 36, 2, 1], 'item-1611': [96, 37, 2, 1], 'item-1610': [96, 38, 2, 1], 'item-161': [96, 39, 2, 1], 'item-1609': [96, 40, 2, 1], 'item-1608': [96, 41, 2, 1], 'item-1607': [96, 42, 2, 1], 'item-1606': [96, 43, 2, 1], 'item-1605': [96, 44, 2, 1], 'item-1604': [96, 45, 2, 1], 'item-1603': [96, 46, 2, 1], 'item-1602': [96, 47, 2, 1], 'item-1601': [96, 48, 2, 1], 'item-1600': [96, 49, 2, 1], 'item-160': [96, 50, 2, 1], 'item-16': [96, 51, 2, 1], 'item-1599': [96, 52, 2, 1], 'item-1598': [96, 53, 2, 1], 'item-1597': [96, 54, 2, 1], 'item-1596': [96, 55, 2, 1], 'item-1595': [96, 56, 2, 1], 'item-1594': [96, 57, 2, 1], 'item-1593': [96, 58, 2, 1], 'item-1592': [96, 59, 2, 1], 'item-1591': [98, 0, 2, 1], 'item-1590': [98, 1, 2, 1], 'item-159': [98, 2, 2, 1], 'item-1589': [98, 3, 2, 1], 'item-1588': [98, 4, 2, 1], 'item-1587': [98, 5, 2, 1], 'item-1586': [98, 6, 2, 1], 'item-1585': [98, 7, 2, 1], 'item-1584': [98, 8, 2, 1], 'item-1583': [98, 9, 2, 1], 'item-1582': [98, 10, 2, 1], 'item-1581': [98, 11, 2, 1], 'item-1580': [98, 12, 2, 1], 'item-158': [98, 13, 2, 1], 'item-1579': [98, 14, 2, 1], 'item-1578': [98, 15, 2, 1], 'item-1577': [98, 16, 2, 1], 'item-1576': [98, 17, 2, 1], 'item-1575': [98, 18, 2, 1], 'item-1574': [98, 19, 2, 1], 'item-1573': [98, 20, 2, 1], 'item-1572': [98, 21, 2, 1], 'item-1571': [98, 22, 2, 1], 'item-1570': [98, 23, 2, 1], 'item-157': [98, 24, 2, 1], 'item-1569': [98, 25, 2, 1], 'item-1568': [98, 26, 2, 1], 'item-1567': [98, 27, 2, 1], 'item-1566': [98, 28, 2, 1], 'item-1565': [98, 29, 2, 1], 'item-1564': [98, 30, 2, 1], 'item-1563': [98, 31, 2, 1], 'item-1562': [98, 32, 2, 1], 'item-1561': [98, 33, 2, 1], 'item-1560': [98, 34, 2, 1], 'item-156': [98, 35, 2, 1], 'item-1559': [98, 36, 2, 1], 'item-1558': [98, 37, 2, 1], 'item-1557': [98, 38, 2, 1], 'item-1556': [98, 39, 2, 1], 'item-1555': [98, 40, 2, 1], 'item-1554': [98, 41, 2, 1], 'item-1553': [98, 42, 2, 1], 'item-1552': [98, 43, 2, 1], 'item-1551': [98, 44, 2, 1], 'item-1550': [98, 45, 2, 1], 'item-155': [98, 46, 2, 1], 'item-1549': [98, 47, 2, 1], 'item-1548': [98, 48, 2, 1], 'item-1547': [98, 49, 2, 1], 'item-1546': [98, 50, 2, 1], 'item-1545': [98, 51, 2, 1], 'item-1544': [98, 52, 2, 1], 'item-1543': [98, 53, 2, 1], 'item-1542': [98, 54, 2, 1], 'item-1541': [98, 55, 2, 1], 'item-1540': [98, 56, 2, 1], 'item-154': [98, 57, 2, 1], 'item-1539': [98, 58, 2, 1], 'item-1538': [98, 59, 2, 1], 'item-1537': [100, 0, 2, 1], 'item-1536': [100, 1, 2, 1], 'item-1535': [100, 2, 2, 1], 'item-1534': [100, 3, 2, 1], 'item-1533': [100, 4, 2, 1], 'item-1532': [100, 5, 2, 1], 'item-1531': [100, 6, 2, 1], 'item-1530': [100, 7, 2, 1], 'item-153': [100, 8, 2, 1], 'item-1529': [100, 9, 2, 1], 'item-1528': [100, 10, 2, 1], 'item-1527': [100, 11, 2, 1], 'item-1526': [100, 12, 2, 1], 'item-1525': [100, 13, 2, 1], 'item-1524': [100, 14, 2, 1], 'item-1523': [100, 15, 2, 1], 'item-1522': [100, 16, 2, 1], 'item-1521': [100, 17, 2, 1], 'item-1520': [100, 18, 2, 1], 'item-152': [100, 19, 2, 1], 'item-1519': [100, 20, 2, 1], 'item-1518': [100, 21, 2, 1], 'item-1517': [100, 22, 2, 1], 'item-1516': [100, 23, 2, 1], 'item-1515': [100, 24, 2, 1], 'item-1514': [100, 25, 2, 1], 'item-1513': [100, 26, 2, 1], 'item-1512': [100, 27, 2, 1], 'item-1511': [100, 28, 2, 1], 'item-1510': [100, 29, 2, 1], 'item-151': [100, 30, 2, 1], 'item-1509': [100, 31, 2, 1], 'item-1508': [100, 32, 2, 1], 'item-1507': [100, 33, 2, 1], 'item-1506': [100, 34, 2, 1], 'item-1505': [100, 35, 2, 1], 'item-1504': [100, 36, 2, 1], 'item-1503': [100, 37, 2, 1], 'item-1502': [100, 38, 2, 1], 'item-1501': [100, 39, 2, 1], 'item-1500': [100, 40, 2, 1], 'item-150': [100, 41, 2, 1], 'item-15': [100, 42, 2, 1], 'item-1499': [100, 43, 2, 1], 'item-1498': [100, 44, 2, 1], 'item-1497': [100, 45, 2, 1], 'item-1496': [100, 46, 2, 1], 'item-1495': [100, 47, 2, 1], 'item-1494': [100, 48, 2, 1], 'item-1493': [100, 49, 2, 1], 'item-1492': [100, 50, 2, 1], 'item-1491': [100, 51, 2, 1], 'item-1490': [100, 52, 2, 1], 'item-149': [100, 53, 2, 1], 'item-1489': [100, 54, 2, 1], 'item-1488': [100, 55, 2, 1], 'item-1487': [100, 56, 2, 1], 'item-1486': [100, 57, 2, 1], 'item-1485': [100, 58, 2, 1], 'item-1484': [100, 59, 2, 1], 'item-1483': [102, 0, 2, 1], 'item-1482': [102, 1, 2, 1], 'item-1481': [102, 2, 2, 1], 'item-1480': [102, 3, 2, 1], 'item-148': [102, 4, 2, 1], 'item-1479': [102, 5, 2, 1], 'item-1478': [102, 6, 2, 1], 'item-1477': [102, 7, 2, 1], 'item-1476': [102, 8, 2, 1], 'item-1475': [102, 9, 2, 1], 'item-1474': [102, 10, 2, 1], 'item-1473': [102, 11, 2, 1], 'item-1472': [102, 12, 2, 1], 'item-1471': [102, 13, 2, 1], 'item-1470': [102, 14, 2, 1], 'item-147': [102, 15, 2, 1], 'item-1469': [102, 16, 2, 1], 'item-1468': [102, 17, 2, 1], 'item-1467': [102, 18, 2, 1], 'item-1466': [102, 19, 2, 1], 'item-1465': [102, 20, 2, 1], 'item-1464': [102, 21, 2, 1], 'item-1463': [102, 22, 2, 1], 'item-1462': [102, 23, 2, 1], 'item-1461': [102, 24, 2, 1], 'item-1460': [102, 25, 2, 1], 'item-146': [102, 26, 2, 1], 'item-1459': [102, 27, 2, 1], 'item-1458': [102, 28, 2, 1], 'item-1457': [102, 29, 2, 1], 'item-1456': [102, 30, 2, 1], 'item-1455': [102, 31, 2, 1], 'item-1454': [102, 32, 2, 1], 'item-1453': [102, 33, 2, 1], 'item-1452': [102, 34, 2, 1], 'item-1451': [102, 35, 2, 1], 'item-1450': [102, 36, 2, 1], 'item-145': [102, 37, 2, 1], 'item-1449': [102, 38, 2, 1], 'item-1448': [102, 39, 2, 1], 'item-1447': [102, 40, 2, 1], 'item-1446': [102, 41, 2, 1], 'item-1445': [102, 42, 2, 1], 'item-1444': [102, 43, 2, 1], 'item-1443': [102, 44, 2, 1], 'item-1442': [102, 45, 2, 1], 'item-1441': [102, 46, 2, 1], 'item-1440': [102, 47, 2, 1], 'item-144': [102, 48, 2, 1], 'item-1439': [102, 49, 2, 1], 'item-1438': [102, 50, 2, 1], 'item-1437': [102, 51, 2, 1], 'item-1436': [102, 52, 2, 1], 'item-1435': [102, 53, 2, 1], 'item-1434': [102, 54, 2, 1], 'item-1433': [102, 55, 2, 1], 'item-1432': [102, 56, 2, 1], 'item-1431': [102, 57, 2, 1], 'item-1430': [102, 58, 2, 1], 'item-143': [102, 59, 2, 1], 'item-1429': [104, 0, 2, 1], 'item-1428': [104, 1, 2, 1], 'item-1427': [104, 2, 2, 1], 'item-1426': [104, 3, 2, 1], 'item-1425': [104, 4, 2, 1], 'item-1424': [104, 5, 2, 1], 'item-1423': [104, 6, 2, 1], 'item-1422': [104, 7, 2, 1], 'item-1421': [104, 8, 2, 1], 'item-1420': [104, 9, 2, 1], 'item-142': [104, 10, 2, 1], 'item-1419': [104, 11, 2, 1], 'item-1418': [104, 12, 2, 1], 'item-1417': [104, 13, 2, 1], 'item-1416': [104, 14, 2, 1], 'item-1415': [104, 15, 2, 1], 'item-1414': [104, 16, 2, 1], 'item-1413': [104, 17, 2, 1], 'item-1412': [104, 18, 2, 1], 'item-1411': [104, 19, 2, 1], 'item-1410': [104, 20, 2, 1], 'item-141': [104, 21, 2, 1], 'item-1409': [104, 22, 2, 1], 'item-1408': [104, 23, 2, 1], 'item-1407': [104, 24, 2, 1], 'item-1406': [104, 25, 2, 1], 'item-1405': [104, 26, 2, 1], 'item-1404': [104, 27, 2, 1], 'item-1403': [104, 28, 2, 1], 'item-1402': [104, 29, 2, 1], 'item-1401': [104, 30, 2, 1], 'item-1400': [104, 31, 2, 1], 'item-140': [104, 32, 2, 1], 'item-14': [104, 33, 2, 1], 'item-1399': [104, 34, 2, 1], 'item-1398': [104, 35, 2, 1], 'item-1397': [104, 36, 2, 1], 'item-1396': [104, 37, 2, 1], 'item-1395': [104, 38, 2, 1], 'item-1394': [104, 39, 2, 1], 'item-1393': [104, 40, 2, 1], 'item-1392': [104, 41, 2, 1], 'item-1391': [104, 42, 2, 1], 'item-1390': [104, 43, 2, 1], 'item-139': [104, 44, 2, 1], 'item-1389': [104, 45, 2, 1], 'item-1388': [104, 46, 2, 1], 'item-1387': [104, 47, 2, 1], 'item-1386': [104, 48, 2, 1], 'item-1385': [104, 49, 2, 1], 'item-1384': [104, 50, 2, 1], 'item-1383': [104, 51, 2, 1], 'item-1382': [104, 52, 2, 1], 'item-1381': [104, 53, 2, 1], 'item-1380': [104, 54, 2, 1], 'item-138': [104, 55, 2, 1], 'item-1379': [104, 56, 2, 1], 'item-1378': [104, 57, 2, 1], 'item-1377': [104, 58, 2, 1], 'item-1376': [104, 59, 2, 1], 'item-1375': [106, 0, 2, 1], 'item-1374': [106, 1, 2, 1], 'item-1373': [106, 2, 2, 1], 'item-1372': [106, 3, 2, 1], 'item-1371': [106, 4, 2, 1], 'item-1370': [106, 5, 2, 1], 'item-137': [106, 6, 2, 1], 'item-1369': [106, 7, 2, 1], 'item-1368': [106, 8, 2, 1], 'item-1367': [106, 9, 2, 1], 'item-1366': [106, 10, 2, 1], 'item-1365': [106, 11, 2, 1], 'item-1364': [106, 12, 2, 1], 'item-1363': [106, 13, 2, 1], 'item-1362': [106, 14, 2, 1], 'item-1361': [106, 15, 2, 1], 'item-1360': [106, 16, 2, 1], 'item-136': [106, 17, 2, 1], 'item-1359': [106, 18, 2, 1], 'item-1358': [106, 19, 2, 1], 'item-1357': [106, 20, 2, 1], 'item-1356': [106, 21, 2, 1], 'item-1355': [106, 22, 2, 1], 'item-1354': [106, 23, 2, 1], 'item-1353': [106, 24, 2, 1], 'item-1352': [106, 25, 2, 1], 'item-1351': [106, 26, 2, 1], 'item-1350': [106, 27, 2, 1], 'item-135': [106, 28, 2, 1], 'item-1349': [106, 29, 2, 1], 'item-1348': [106, 30, 2, 1], 'item-1347': [106, 31, 2, 1], 'item-1346': [106, 32, 2, 1], 'item-1345': [106, 33, 2, 1], 'item-1344': [106, 34, 2, 1], 'item-1343': [106, 35, 2, 1], 'item-1342': [106, 36, 2, 1], 'item-1341': [106, 37, 2, 1], 'item-1340': [106, 38, 2, 1], 'item-134': [106, 39, 2, 1], 'item-1339': [106, 40, 2, 1], 'item-1338': [106, 41, 2, 1], 'item-1337': [106, 42, 2, 1], 'item-1336': [106, 43, 2, 1], 'item-1335': [106, 44, 2, 1], 'item-1334': [106, 45, 2, 1], 'item-1333': [106, 46, 2, 1], 'item-1332': [106, 47, 2, 1], 'item-1331': [106, 48, 2, 1], 'item-1330': [106, 49, 2, 1], 'item-133': [106, 50, 2, 1], 'item-1329': [106, 51, 2, 1], 'item-1328': [106, 52, 2, 1], 'item-1327': [106, 53, 2, 1], 'item-1326': [106, 54, 2, 1], 'item-1325': [106, 55, 2, 1], 'item-1324': [106, 56, 2, 1], 'item-1323': [106, 57, 2, 1], 'item-1322': [106, 58, 2, 1], 'item-1321': [106, 59, 2, 1], 'item-1320': [108, 0, 2, 1], 'item-132': [108, 1, 2, 1], 'item-1319': [108, 2, 2, 1], 'item-1318': [108, 3, 2, 1], 'item-1317': [108, 4, 2, 1], 'item-1316': [108, 5, 2, 1], 'item-1315': [108, 6, 2, 1], 'item-1314': [108, 7, 2, 1], 'item-1313': [108, 8, 2, 1], 'item-1312': [108, 9, 2, 1], 'item-1311': [108, 10, 2, 1], 'item-1310': [108, 11, 2, 1], 'item-131': [108, 12, 2, 1], 'item-1309': [108, 13, 2, 1], 'item-1308': [108, 14, 2, 1], 'item-1307': [108, 15, 2, 1], 'item-1306': [108, 16, 2, 1], 'item-1305': [108, 17, 2, 1], 'item-1304': [108, 18, 2, 1], 'item-1303': [108, 19, 2, 1], 'item-1302': [108, 20, 2, 1], 'item-1301': [108, 21, 2, 1], 'item-1300': [108, 22, 2, 1], 'item-130': [108, 23, 2, 1], 'item-13': [108, 24, 2, 1], 'item-1299': [108, 25, 2, 1], 'item-1298': [108, 26, 2, 1], 'item-1297': [108, 27, 2, 1], 'item-1296': [108, 28, 2, 1], 'item-1295': [108, 29, 2, 1], 'item-1294': [108, 30, 2, 1], 'item-1293': [108, 31, 2, 1], 'item-1292': [108, 32, 2, 1], 'item-1291': [108, 33, 2, 1], 'item-1290': [108, 34, 2, 1], 'item-129': [108, 35, 2, 1], 'item-1289': [108, 36, 2, 1], 'item-1288': [108, 37, 2, 1], 'item-1287': [108, 38, 2, 1], 'item-1286': [108, 39, 2, 1], 'item-1285': [108, 40, 2, 1], 'item-1284': [108, 41, 2, 1], 'item-1283': [108, 42, 2, 1], 'item-1282': [108, 43, 2, 1], 'item-1281': [108, 44, 2, 1], 'item-1280': [108, 45, 2, 1], 'item-128': [108, 46, 2, 1], 'item-1279': [108, 47, 2, 1], 'item-1278': [108, 48, 2, 1], 'item-1277': [108, 49, 2, 1], 'item-1276': [108, 50, 2, 1], 'item-1275': [108, 51, 2, 1], 'item-1274': [108, 52, 2, 1], 'item-1273': [108, 53, 2, 1], 'item-1272': [108, 54, 2, 1], 'item-1271': [108, 55, 2, 1], 'item-1270': [108, 56, 2, 1], 'item-127': [108, 57, 2, 1], 'item-1269': [108, 58, 2, 1], 'item-1268': [108, 59, 2, 1], 'item-1267': [110, 0, 2, 1], 'item-1266': [110, 1, 2, 1], 'item-1265': [110, 2, 2, 1], 'item-1264': [110, 3, 2, 1], 'item-1263': [110, 4, 2, 1], 'item-1262': [110, 5, 2, 1], 'item-1261': [110, 6, 2, 1], 'item-1260': [110, 7, 2, 1], 'item-126': [110, 8, 2, 1], 'item-1259': [110, 9, 2, 1], 'item-1258': [110, 10, 2, 1], 'item-1257': [110, 11, 2, 1], 'item-1256': [110, 12, 2, 1], 'item-1255': [110, 13, 2, 1], 'item-1254': [110, 14, 2, 1], 'item-1253': [110, 15, 2, 1], 'item-1252': [110, 16, 2, 1], 'item-1251': [110, 17, 2, 1], 'item-1250': [110, 18, 2, 1], 'item-125': [110, 19, 2, 1], 'item-1249': [110, 20, 2, 1], 'item-1248': [110, 21, 2, 1], 'item-1247': [110, 22, 2, 1], 'item-1246': [110, 23, 2, 1], 'item-1245': [110, 24, 2, 1], 'item-1244': [110, 25, 2, 1], 'item-1243': [110, 26, 2, 1], 'item-1242': [110, 27, 2, 1], 'item-1241': [110, 28, 2, 1], 'item-1240': [110, 29, 2, 1], 'item-124': [110, 30, 2, 1], 'item-1239': [110, 31, 2, 1], 'item-1238': [110, 32, 2, 1], 'item-1237': [110, 33, 2, 1], 'item-1236': [110, 34, 2, 1], 'item-1235': [110, 35, 2, 1], 'item-1234': [110, 36, 2, 1], 'item-1233': [110, 37, 2, 1], 'item-1232': [110, 38, 2, 1], 'item-1231': [110, 39, 2, 1], 'item-1230': [110, 40, 2, 1], 'item-123': [110, 41, 2, 1], 'item-1229': [110, 42, 2, 1], 'item-1228': [110, 43, 2, 1], 'item-1227': [110, 44, 2, 1], 'item-1226': [110, 45, 2, 1], 'item-1225': [110, 46, 2, 1], 'item-1224': [110, 47, 2, 1], 'item-1223': [110, 48, 2, 1], 'item-1222': [110, 49, 2, 1], 'item-1221': [110, 50, 2, 1], 'item-1220': [110, 51, 2, 1], 'item-122': [110, 52, 2, 1], 'item-1219': [110, 53, 2, 1], 'item-1218': [110, 54, 2, 1], 'item-1217': [110, 55, 2, 1], 'item-1216': [110, 56, 2, 1], 'item-1215': [110, 57, 2, 1], 'item-1214': [110, 58, 2, 1], 'item-1213': [110, 59, 2, 1], 'item-1212': [112, 0, 2, 1], 'item-1211': [112, 1, 2, 1], 'item-1210': [112, 2, 2, 1], 'item-121': [112, 3, 2, 1], 'item-1209': [112, 4, 2, 1], 'item-1208': [112, 5, 2, 1], 'item-1207': [112, 6, 2, 1], 'item-1206': [112, 7, 2, 1], 'item-1205': [112, 8, 2, 1], 'item-1204': [112, 9, 2, 1], 'item-1203': [112, 10, 2, 1], 'item-1202': [112, 11, 2, 1], 'item-1201': [112, 12, 2, 1], 'item-1200': [112, 13, 2, 1], 'item-120': [112, 14, 2, 1], 'item-12': [112, 15, 2, 1], 'item-1199': [112, 16, 2, 1], 'item-1198': [112, 17, 2, 1], 'item-1197': [112, 18, 2, 1], 'item-1196': [112, 19, 2, 1], 'item-1195': [112, 20, 2, 1], 'item-1194': [112, 21, 2, 1], 'item-1193': [112, 22, 2, 1], 'item-1192': [112, 23, 2, 1], 'item-1191': [112, 24, 2, 1], 'item-1190': [112, 25, 2, 1], 'item-119': [112, 26, 2, 1], 'item-1189': [112, 27, 2, 1], 'item-1188': [112, 28, 2, 1], 'item-1187': [112, 29, 2, 1], 'item-1186': [112, 30, 2, 1], 'item-1185': [112, 31, 2, 1], 'item-1184': [112, 32, 2, 1], 'item-1183': [112, 33, 2, 1], 'item-1182': [112, 34, 2, 1], 'item-1181': [112, 35, 2, 1], 'item-1180': [112, 36, 2, 1], 'item-118': [112, 37, 2, 1], 'item-1179': [112, 38, 2, 1], 'item-1178': [112, 39, 2, 1], 'item-1177': [112, 40, 2, 1], 'item-1176': [112, 41, 2, 1], 'item-1175': [112, 42, 2, 1], 'item-1174': [112, 43, 2, 1], 'item-1173': [112, 44, 2, 1], 'item-1172': [112, 45, 2, 1], 'item-1171': [112, 46, 2, 1], 'item-1170': [112, 47, 2, 1], 'item-117': [112, 48, 2, 1], 'item-1169': [112, 49, 2, 1], 'item-1168': [112, 50, 2, 1], 'item-1167': [112, 51, 2, 1], 'item-1166': [112, 52, 2, 1], 'item-1165': [112, 53, 2, 1], 'item-1164': [112, 54, 2, 1], 'item-1163': [112, 55, 2, 1], 'item-1162': [112, 56, 2, 1], 'item-1161': [112, 57, 2, 1], 'item-1160': [112, 58, 2, 1], 'item-116': [112, 59, 2, 1], 'item-1159': [114, 0, 2, 1], 'item-1158': [114, 1, 2, 1], 'item-1157': [114, 2, 2, 1], 'item-1156': [114, 3, 2, 1], 'item-1155': [114, 4, 2, 1], 'item-1154': [114, 5, 2, 1], 'item-1153': [114, 6, 2, 1], 'item-1152': [114, 7, 2, 1], 'item-1151': [114, 8, 2, 1], 'item-1150': [114, 9, 2, 1], 'item-115': [114, 10, 2, 1], 'item-1149': [114, 11, 2, 1], 'item-1148': [114, 12, 2, 1], 'item-1147': [114, 13, 2, 1], 'item-1146': [114, 14, 2, 1], 'item-1145': [114, 15, 2, 1], 'item-1144': [114, 16, 2, 1], 'item-1143': [114, 17, 2, 1], 'item-1142': [114, 18, 2, 1], 'item-1141': [114, 19, 2, 1], 'item-1140': [114, 20, 2, 1], 'item-114': [114, 21, 2, 1], 'item-1139': [114, 22, 2, 1], 'item-1138': [114, 23, 2, 1], 'item-1137': [114, 24, 2, 1], 'item-1136': [114, 25, 2, 1], 'item-1135': [114, 26, 2, 1], 'item-1134': [114, 27, 2, 1], 'item-1133': [114, 28, 2, 1], 'item-1132': [114, 29, 2, 1], 'item-1131': [114, 30, 2, 1], 'item-1130': [114, 31, 2, 1], 'item-113': [114, 32, 2, 1], 'item-1129': [114, 33, 2, 1], 'item-1128': [114, 34, 2, 1], 'item-1127': [114, 35, 2, 1], 'item-1126': [114, 36, 2, 1], 'item-1125': [114, 37, 2, 1], 'item-1124': [114, 38, 2, 1], 'item-1123': [114, 39, 2, 1], 'item-1122': [114, 40, 2, 1], 'item-1121': [114, 41, 2, 1], 'item-1120': [114, 42, 2, 1], 'item-112': [114, 43, 2, 1], 'item-1119': [114, 44, 2, 1], 'item-1118': [114, 45, 2, 1], 'item-1117': [114, 46, 2, 1], 'item-1116': [114, 47, 2, 1], 'item-1115': [114, 48, 2, 1], 'item-1114': [114, 49, 2, 1], 'item-1113': [114, 50, 2, 1], 'item-1112': [114, 51, 2, 1], 'item-1111': [114, 52, 2, 1], 'item-1110': [114, 53, 2, 1], 'item-111': [114, 54, 2, 1], 'item-1109': [114, 55, 2, 1], 'item-1108': [114, 56, 2, 1], 'item-1107': [114, 57, 2, 1], 'item-1106': [114, 58, 2, 1], 'item-1105': [114, 59, 2, 1], 'item-1104': [116, 0, 2, 1], 'item-1103': [116, 1, 2, 1], 'item-1102': [116, 2, 2, 1], 'item-1101': [116, 3, 2, 1], 'item-1100': [116, 4, 2, 1], 'item-110': [116, 5, 2, 1], 'item-11': [116, 6, 2, 1], 'item-1099': [116, 7, 2, 1], 'item-1098': [116, 8, 2, 1], 'item-1097': [116, 9, 2, 1], 'item-1096': [116, 10, 2, 1], 'item-1095': [116, 11, 2, 1], 'item-1094': [116, 12, 2, 1], 'item-1093': [116, 13, 2, 1], 'item-1092': [116, 14, 2, 1], 'item-1091': [116, 15, 2, 1], 'item-1090': [116, 16, 2, 1], 'item-109': [116, 17, 2, 1], 'item-1089': [116, 18, 2, 1], 'item-1088': [116, 19, 2, 1], 'item-1087': [116, 20, 2, 1], 'item-1086': [116, 21, 2, 1], 'item-1085': [116, 22, 2, 1], 'item-1084': [116, 23, 2, 1], 'item-1083': [116, 24, 2, 1], 'item-1082': [116, 25, 2, 1], 'item-1081': [116, 26, 2, 1], 'item-1080': [116, 27, 2, 1], 'item-108': [116, 28, 2, 1], 'item-1079': [116, 29, 2, 1], 'item-1078': [116, 30, 2, 1], 'item-1077': [116, 31, 2, 1], 'item-1076': [116, 32, 2, 1], 'item-1075': [116, 33, 2, 1], 'item-1074': [116, 34, 2, 1], 'item-1073': [116, 35, 2, 1], 'item-1072': [116, 36, 2, 1], 'item-1071': [116, 37, 2, 1], 'item-1070': [116, 38, 2, 1], 'item-107': [116, 39, 2, 1], 'item-1069': [116, 40, 2, 1], 'item-1068': [116, 41, 2, 1], 'item-1067': [116, 42, 2, 1], 'item-1066': [116, 43, 2, 1], 'item-1065': [116, 44, 2, 1], 'item-1064': [116, 45, 2, 1], 'item-1063': [116, 46, 2, 1], 'item-1062': [116, 47, 2, 1], 'item-1061': [116, 48, 2, 1], 'item-1060': [116, 49, 2, 1], 'item-106': [116, 50, 2, 1], 'item-1059': [116, 51, 2, 1], 'item-1058': [116, 52, 2, 1], 'item-1057': [116, 53, 2, 1], 'item-1056': [116, 54, 2, 1], 'item-1055': [116, 55, 2, 1], 'item-1054': [116, 56, 2, 1], 'item-1053': [116, 57, 2, 1], 'item-1052': [116, 58, 2, 1], 'item-1051': [116, 59, 2, 1], 'item-1050': [118, 0, 2, 1], 'item-105': [118, 1, 2, 1], 'item-1049': [118, 2, 2, 1], 'item-1048': [118, 3, 2, 1], 'item-1047': [118, 4, 2, 1], 'item-1046': [118, 5, 2, 1], 'item-1045': [118, 6, 2, 1], 'item-1044': [118, 7, 2, 1], 'item-1043': [118, 8, 2, 1], 'item-1042': [118, 9, 2, 1], 'item-1041': [118, 10, 2, 1], 'item-1040': [118, 11, 2, 1], 'item-104': [118, 12, 2, 1], 'item-1039': [118, 13, 2, 1], 'item-1038': [118, 14, 2, 1], 'item-1037': [118, 15, 2, 1], 'item-1036': [118, 16, 2, 1], 'item-1035': [118, 17, 2, 1], 'item-1034': [118, 18, 2, 1], 'item-1033': [118, 19, 2, 1], 'item-1032': [118, 20, 2, 1], 'item-1031': [118, 21, 2, 1], 'item-1030': [118, 22, 2, 1], 'item-103': [118, 23, 2, 1], 'item-1029': [118, 24, 2, 1], 'item-1028': [118, 25, 2, 1], 'item-1027': [118, 26, 2, 1], 'item-1026': [118, 27, 2, 1], 'item-1025': [118, 28, 2, 1], 'item-1024': [118, 29, 2, 1], 'item-1023': [118, 30, 2, 1], 'item-1022': [118, 31, 2, 1], 'item-1021': [118, 32, 2, 1], 'item-1020': [118, 33, 2, 1], 'item-102': [118, 34, 2, 1], 'item-1019': [118, 35, 2, 1], 'item-1018': [118, 36, 2, 1], 'item-1017': [118, 37, 2, 1], 'item-1016': [118, 38, 2, 1], 'item-1015': [118, 39, 2, 1], 'item-1014': [118, 40, 2, 1], 'item-1013': [118, 41, 2, 1], 'item-1012': [118, 42, 2, 1], 'item-1011': [118, 43, 2, 1], 'item-1010': [118, 44, 2, 1], 'item-101': [118, 45, 2, 1], 'item-1009': [118, 46, 2, 1], 'item-1008': [118, 47, 2, 1], 'item-1007': [118, 48, 2, 1], 'item-1006': [118, 49, 2, 1], 'item-1005': [118, 50, 2, 1], 'item-1004': [118, 51, 2, 1], 'item-1003': [118, 52, 2, 1], 'item-1002': [118, 53, 2, 1], 'item-1001': [118, 54, 2, 1], 'item-1000': [118, 55, 2, 1], 'item-100': [118, 56, 2, 1], 'item-10': [118, 57, 2, 1], 'item-1': [118, 58, 2, 1], 'item-0': [118, 59, 2, 1]}}\n",
      "Solution saved to solution.shp\n"
     ]
    },
    {
     "name": "stderr",
     "output_type": "stream",
     "text": [
      "/Library/Frameworks/Python.framework/Versions/3.12/lib/python3.12/site-packages/pyogrio/raw.py:698: UserWarning:\n",
      "\n",
      "'crs' was not provided.  The output dataset will not have projection information defined and may not be usable in other systems.\n",
      "\n"
     ]
    }
   ],
   "source": [
    "import geopandas as gpd\n",
    "import matplotlib.pyplot as plt\n",
    "from shapely.geometry import Polygon, MultiPoint, box\n",
    "from shapely.affinity import translate\n",
    "import numpy as np\n",
    "import math\n",
    "from hyperpack import HyperPack\n",
    "import re\n",
    "\n",
    "# Crear un GeoDataFrame con un medio círculo\n",
    "def create_example_shapefile_with_half_circle(filename=\"example_half_circle.shp\"):\n",
    "    angle_range = np.linspace(0, np.pi, 100)  # Rango de ángulos para medio círculo\n",
    "    circle_points = [(np.cos(angle), np.sin(angle)) for angle in angle_range]\n",
    "    circle_points.append((0, 0))  # Cerrar la figura\n",
    "    half_circle = Polygon(circle_points)\n",
    "    \n",
    "    gdf = gpd.GeoDataFrame(geometry=[half_circle])\n",
    "    gdf.to_file(filename, driver=\"ESRI Shapefile\")\n",
    "    print(f\"Example shapefile created at {filename}\")\n",
    "\n",
    "# Crear el archivo Shapefile de ejemplo con un medio círculo\n",
    "create_example_shapefile_with_half_circle()\n",
    "\n",
    "# Leer el archivo Shapefile y visualizar el medio círculo\n",
    "gdf = gpd.read_file(\"example_half_circle.shp\")\n",
    "gdf.plot(edgecolor='red', linewidth=2, facecolor='none')\n",
    "plt.title(\"Example Half Circle\")\n",
    "plt.show()\n",
    "\n",
    "# Función para calcular el rectángulo mínimo rotado y visualizarlo\n",
    "def visualize_minimum_rotated_rectangle_with_closed_figure(shapefile_path):\n",
    "    gdf = gpd.read_file(shapefile_path)\n",
    "    \n",
    "    points = []\n",
    "    for geom in gdf.geometry:\n",
    "        if geom.geom_type == 'Polygon':\n",
    "            points.extend(geom.exterior.coords)\n",
    "    \n",
    "    multipoint = MultiPoint(points)\n",
    "    polygon = multipoint.minimum_rotated_rectangle\n",
    "    \n",
    "    fig, ax = plt.subplots()\n",
    "    gdf.plot(ax=ax, edgecolor='red', linewidth=2, facecolor='none', label='Closed Figure')\n",
    "    x, y = polygon.exterior.xy\n",
    "    ax.plot(x, y, color='blue', label='Minimum Rotated Rectangle')\n",
    "    plt.title(\"Minimum Rotated Rectangle with Closed Figure\")\n",
    "    plt.legend()\n",
    "    plt.show()\n",
    "    \n",
    "    return polygon\n",
    "\n",
    "polygon = visualize_minimum_rotated_rectangle_with_closed_figure(\"example_half_circle.shp\")\n",
    "print(f\"Minimum Rotated Rectangle: {polygon}\")\n",
    "\n",
    "def get_minimum_rectangle_dimensions(polygon: Polygon):\n",
    "    minx, miny, maxx, maxy = polygon.bounds\n",
    "    width = math.ceil(maxx - minx)\n",
    "    height = math.ceil(maxy - miny)\n",
    "    return width, height\n",
    "\n",
    "width, height = get_minimum_rectangle_dimensions(polygon)\n",
    "print(f\"Width: {width}, Height: {height}\")\n",
    "\n",
    "def calculate_initial_count(container_width, container_length, rect_width, rect_height):\n",
    "    container_area = container_width * container_length\n",
    "    rect_area = rect_width * rect_height\n",
    "    max_figures = container_area // rect_area\n",
    "    initial_count = max_figures - 1\n",
    "    return initial_count\n",
    "\n",
    "container_width = 120\n",
    "container_length = 60\n",
    "initial_count = calculate_initial_count(container_width, container_length, width, height)\n",
    "print(f\"Initial Count: {initial_count}\")\n",
    "\n",
    "def generate_items(count, width, height):\n",
    "    items = {}\n",
    "    for i in range(count):\n",
    "        items[f\"item-{i}\"] = {\"w\": width, \"l\": height}\n",
    "    return items\n",
    "\n",
    "def pack_items_until_full(container, width, height, initial_count, settings):\n",
    "    count = initial_count\n",
    "    max_count = 0\n",
    "    while True:\n",
    "        items = generate_items(count, width, height)\n",
    "        problem_data = {\n",
    "            \"containers\": container,\n",
    "            \"items\": items,\n",
    "            \"settings\": settings\n",
    "        }\n",
    "        \n",
    "        problem = HyperPack(**problem_data)\n",
    "        problem.hypersearch()\n",
    "        solution_log = problem.log_solution()\n",
    "        print(solution_log)\n",
    "\n",
    "        remaining_items_match = re.search(r\"Remaining items : \\[(.*)\\]\", solution_log)\n",
    "        remaining_items = remaining_items_match.group(1).split(\", \") if remaining_items_match else []\n",
    "\n",
    "        if remaining_items and remaining_items[0] != '':\n",
    "            break\n",
    "        \n",
    "        max_count = count\n",
    "        count += 1\n",
    "    \n",
    "    items = generate_items(max_count, width, height)\n",
    "    problem_data = {\n",
    "        \"containers\": container,\n",
    "        \"items\": items,\n",
    "        \"settings\": settings\n",
    "    }\n",
    "    \n",
    "    problem = HyperPack(**problem_data)\n",
    "    problem.hypersearch()\n",
    "    problem.create_figure(show=False)\n",
    "    return problem.solution\n",
    "\n",
    "def save_solution_as_shapefile(solution, original_shape, filename=\"solution.shp\"):\n",
    "    geometries = []\n",
    "    for container_id, items in solution.items():\n",
    "        for item_id, coords in items.items():\n",
    "            x, y, width, height = coords\n",
    "            \n",
    "            # Mover la figura original al rectángulo\n",
    "            moved_shape = translate(original_shape, xoff=x, yoff=y)\n",
    "            geometries.append(moved_shape)\n",
    "    \n",
    "    gdf = gpd.GeoDataFrame(geometry=geometries)\n",
    "    gdf.to_file(filename, driver=\"ESRI Shapefile\")\n",
    "    print(f\"Solution saved to {filename}\")\n",
    "\n",
    "settings = {\n",
    "    \"algorithm\": \"hypersearch\",\n",
    "    \"max_iterations\": 1000\n",
    "}\n",
    "\n",
    "container = {\n",
    "    \"container-0\": {\n",
    "        \"W\": container_width,\n",
    "        \"L\": container_length\n",
    "    }\n",
    "}\n",
    "\n",
    "solution = pack_items_until_full(container, width, height, initial_count, settings)\n",
    "print(\"Final Solution:\")\n",
    "print(solution)\n",
    "\n",
    "gdf_original = gpd.read_file(\"example_half_circle.shp\")\n",
    "original_shape = gdf_original.geometry[0]\n",
    "\n",
    "save_solution_as_shapefile(solution, original_shape)\n"
   ]
  },
  {
   "cell_type": "code",
   "execution_count": null,
   "metadata": {},
   "outputs": [],
   "source": [
    "agregar mapeo para recorrer un punto decimal y poder usar decimales"
   ]
  },
  {
   "cell_type": "code",
   "execution_count": null,
   "metadata": {},
   "outputs": [],
   "source": [
    "guarda la anterior para que no tengas que calcular de nuevo "
   ]
  }
 ],
 "metadata": {
  "kernelspec": {
   "display_name": "Python 3",
   "language": "python",
   "name": "python3"
  },
  "language_info": {
   "codemirror_mode": {
    "name": "ipython",
    "version": 3
   },
   "file_extension": ".py",
   "mimetype": "text/x-python",
   "name": "python",
   "nbconvert_exporter": "python",
   "pygments_lexer": "ipython3",
   "version": "3.12.4"
  }
 },
 "nbformat": 4,
 "nbformat_minor": 2
}
